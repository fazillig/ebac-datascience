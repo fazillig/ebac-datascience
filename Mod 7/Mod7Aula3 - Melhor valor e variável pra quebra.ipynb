{
 "cells": [
  {
   "cell_type": "markdown",
   "metadata": {},
   "source": [
    "# 0. Índice <a name=\"Contents\"></a>\n",
    "1. [Importando bibliotecas](#import)\n",
    "2. [Carregando o dataframe](#read)\n",
    "5. [Dados duplicados](#duplicados)\n",
    "3. [Identificando e Tratando dados ausentes/missing](#identificando)\n",
    "6. [Dados categorizados](#categorizados)\n",
    "6. [Separando as variáveis explicativas da target](#separando)\n",
    "6. [Árvore de classificação com uma variável flag](#1_flag)\n",
    "6. [Árvore de classificação com 2 variáveis flag](#2_flag)\n"
   ]
  },
  {
   "cell_type": "markdown",
   "metadata": {},
   "source": [
    "# 1. Importando bibliotecas <a name=\"import\"></a>\n",
    "\n",
    "<div style=\"text-align: right\"\n",
    "     \n",
    "[Voltar ao índice](#Contents)"
   ]
  },
  {
   "cell_type": "code",
   "execution_count": 1,
   "metadata": {
    "ExecuteTime": {
     "end_time": "2021-06-06T21:12:37.298706Z",
     "start_time": "2021-06-06T21:12:36.656481Z"
    }
   },
   "outputs": [],
   "source": [
    "import numpy as np\n",
    "import pandas as pd\n",
    "import seaborn as sns\n",
    "\n",
    "from sklearn.tree import plot_tree\n",
    "from sklearn.tree import DecisionTreeClassifier"
   ]
  },
  {
   "cell_type": "markdown",
   "metadata": {
    "heading_collapsed": true
   },
   "source": [
    "# 2. Carregando o dataframe <a name=\"read\"></a>\n",
    "<div style=\"text-align: right\"\n",
    "     \n",
    "[Voltar ao índice](#Contents)"
   ]
  },
  {
   "cell_type": "code",
   "execution_count": 2,
   "metadata": {
    "ExecuteTime": {
     "end_time": "2021-06-06T21:12:37.762376Z",
     "start_time": "2021-06-06T21:12:37.728383Z"
    },
    "hidden": true
   },
   "outputs": [
    {
     "data": {
      "text/html": [
       "<div>\n",
       "<style scoped>\n",
       "    .dataframe tbody tr th:only-of-type {\n",
       "        vertical-align: middle;\n",
       "    }\n",
       "\n",
       "    .dataframe tbody tr th {\n",
       "        vertical-align: top;\n",
       "    }\n",
       "\n",
       "    .dataframe thead th {\n",
       "        text-align: right;\n",
       "    }\n",
       "</style>\n",
       "<table border=\"1\" class=\"dataframe\">\n",
       "  <thead>\n",
       "    <tr style=\"text-align: right;\">\n",
       "      <th></th>\n",
       "      <th>survived</th>\n",
       "      <th>pclass</th>\n",
       "      <th>sex</th>\n",
       "      <th>age</th>\n",
       "      <th>sibsp</th>\n",
       "      <th>parch</th>\n",
       "      <th>fare</th>\n",
       "      <th>embarked</th>\n",
       "      <th>class</th>\n",
       "      <th>who</th>\n",
       "      <th>adult_male</th>\n",
       "      <th>deck</th>\n",
       "      <th>embark_town</th>\n",
       "      <th>alive</th>\n",
       "      <th>alone</th>\n",
       "    </tr>\n",
       "  </thead>\n",
       "  <tbody>\n",
       "    <tr>\n",
       "      <th>0</th>\n",
       "      <td>0</td>\n",
       "      <td>3</td>\n",
       "      <td>male</td>\n",
       "      <td>22.0</td>\n",
       "      <td>1</td>\n",
       "      <td>0</td>\n",
       "      <td>7.2500</td>\n",
       "      <td>S</td>\n",
       "      <td>Third</td>\n",
       "      <td>man</td>\n",
       "      <td>True</td>\n",
       "      <td>NaN</td>\n",
       "      <td>Southampton</td>\n",
       "      <td>no</td>\n",
       "      <td>False</td>\n",
       "    </tr>\n",
       "    <tr>\n",
       "      <th>1</th>\n",
       "      <td>1</td>\n",
       "      <td>1</td>\n",
       "      <td>female</td>\n",
       "      <td>38.0</td>\n",
       "      <td>1</td>\n",
       "      <td>0</td>\n",
       "      <td>71.2833</td>\n",
       "      <td>C</td>\n",
       "      <td>First</td>\n",
       "      <td>woman</td>\n",
       "      <td>False</td>\n",
       "      <td>C</td>\n",
       "      <td>Cherbourg</td>\n",
       "      <td>yes</td>\n",
       "      <td>False</td>\n",
       "    </tr>\n",
       "    <tr>\n",
       "      <th>2</th>\n",
       "      <td>1</td>\n",
       "      <td>3</td>\n",
       "      <td>female</td>\n",
       "      <td>26.0</td>\n",
       "      <td>0</td>\n",
       "      <td>0</td>\n",
       "      <td>7.9250</td>\n",
       "      <td>S</td>\n",
       "      <td>Third</td>\n",
       "      <td>woman</td>\n",
       "      <td>False</td>\n",
       "      <td>NaN</td>\n",
       "      <td>Southampton</td>\n",
       "      <td>yes</td>\n",
       "      <td>True</td>\n",
       "    </tr>\n",
       "    <tr>\n",
       "      <th>3</th>\n",
       "      <td>1</td>\n",
       "      <td>1</td>\n",
       "      <td>female</td>\n",
       "      <td>35.0</td>\n",
       "      <td>1</td>\n",
       "      <td>0</td>\n",
       "      <td>53.1000</td>\n",
       "      <td>S</td>\n",
       "      <td>First</td>\n",
       "      <td>woman</td>\n",
       "      <td>False</td>\n",
       "      <td>C</td>\n",
       "      <td>Southampton</td>\n",
       "      <td>yes</td>\n",
       "      <td>False</td>\n",
       "    </tr>\n",
       "    <tr>\n",
       "      <th>4</th>\n",
       "      <td>0</td>\n",
       "      <td>3</td>\n",
       "      <td>male</td>\n",
       "      <td>35.0</td>\n",
       "      <td>0</td>\n",
       "      <td>0</td>\n",
       "      <td>8.0500</td>\n",
       "      <td>S</td>\n",
       "      <td>Third</td>\n",
       "      <td>man</td>\n",
       "      <td>True</td>\n",
       "      <td>NaN</td>\n",
       "      <td>Southampton</td>\n",
       "      <td>no</td>\n",
       "      <td>True</td>\n",
       "    </tr>\n",
       "  </tbody>\n",
       "</table>\n",
       "</div>"
      ],
      "text/plain": [
       "   survived  pclass     sex   age  sibsp  parch     fare embarked  class  \\\n",
       "0         0       3    male  22.0      1      0   7.2500        S  Third   \n",
       "1         1       1  female  38.0      1      0  71.2833        C  First   \n",
       "2         1       3  female  26.0      0      0   7.9250        S  Third   \n",
       "3         1       1  female  35.0      1      0  53.1000        S  First   \n",
       "4         0       3    male  35.0      0      0   8.0500        S  Third   \n",
       "\n",
       "     who  adult_male deck  embark_town alive  alone  \n",
       "0    man        True  NaN  Southampton    no  False  \n",
       "1  woman       False    C    Cherbourg   yes  False  \n",
       "2  woman       False  NaN  Southampton   yes   True  \n",
       "3  woman       False    C  Southampton   yes  False  \n",
       "4    man        True  NaN  Southampton    no   True  "
      ]
     },
     "execution_count": 2,
     "metadata": {},
     "output_type": "execute_result"
    }
   ],
   "source": [
    "titanic = sns.load_dataset('titanic')\n",
    "titanic.head()"
   ]
  },
  {
   "cell_type": "code",
   "execution_count": 3,
   "metadata": {
    "hidden": true
   },
   "outputs": [
    {
     "name": "stdout",
     "output_type": "stream",
     "text": [
      "<class 'pandas.core.frame.DataFrame'>\n",
      "RangeIndex: 891 entries, 0 to 890\n",
      "Data columns (total 15 columns):\n",
      " #   Column       Non-Null Count  Dtype   \n",
      "---  ------       --------------  -----   \n",
      " 0   survived     891 non-null    int64   \n",
      " 1   pclass       891 non-null    int64   \n",
      " 2   sex          891 non-null    object  \n",
      " 3   age          714 non-null    float64 \n",
      " 4   sibsp        891 non-null    int64   \n",
      " 5   parch        891 non-null    int64   \n",
      " 6   fare         891 non-null    float64 \n",
      " 7   embarked     889 non-null    object  \n",
      " 8   class        891 non-null    category\n",
      " 9   who          891 non-null    object  \n",
      " 10  adult_male   891 non-null    bool    \n",
      " 11  deck         203 non-null    category\n",
      " 12  embark_town  889 non-null    object  \n",
      " 13  alive        891 non-null    object  \n",
      " 14  alone        891 non-null    bool    \n",
      "dtypes: bool(2), category(2), float64(2), int64(4), object(5)\n",
      "memory usage: 80.7+ KB\n"
     ]
    }
   ],
   "source": [
    "titanic.info()"
   ]
  },
  {
   "cell_type": "code",
   "execution_count": 4,
   "metadata": {
    "ExecuteTime": {
     "end_time": "2021-06-06T21:12:37.905357Z",
     "start_time": "2021-06-06T21:12:37.898346Z"
    },
    "hidden": true,
    "scrolled": true
   },
   "outputs": [
    {
     "data": {
      "text/plain": [
       "survived          int64\n",
       "pclass            int64\n",
       "sex              object\n",
       "age             float64\n",
       "sibsp             int64\n",
       "parch             int64\n",
       "fare            float64\n",
       "embarked         object\n",
       "class          category\n",
       "who              object\n",
       "adult_male         bool\n",
       "deck           category\n",
       "embark_town      object\n",
       "alive            object\n",
       "alone              bool\n",
       "dtype: object"
      ]
     },
     "execution_count": 4,
     "metadata": {},
     "output_type": "execute_result"
    }
   ],
   "source": [
    "titanic.dtypes"
   ]
  },
  {
   "cell_type": "markdown",
   "metadata": {
    "heading_collapsed": true
   },
   "source": [
    "# 3. Dados duplicados <a name=\"duplicados\"></a>\n",
    "<div style=\"text-align: right\"\n",
    "     \n",
    "[Voltar ao índice](#Contents)"
   ]
  },
  {
   "cell_type": "code",
   "execution_count": 5,
   "metadata": {
    "ExecuteTime": {
     "end_time": "2021-05-29T13:30:40.658624Z",
     "start_time": "2021-05-29T13:30:40.642623Z"
    },
    "hidden": true,
    "scrolled": false
   },
   "outputs": [
    {
     "data": {
      "text/html": [
       "<div>\n",
       "<style scoped>\n",
       "    .dataframe tbody tr th:only-of-type {\n",
       "        vertical-align: middle;\n",
       "    }\n",
       "\n",
       "    .dataframe tbody tr th {\n",
       "        vertical-align: top;\n",
       "    }\n",
       "\n",
       "    .dataframe thead th {\n",
       "        text-align: right;\n",
       "    }\n",
       "</style>\n",
       "<table border=\"1\" class=\"dataframe\">\n",
       "  <thead>\n",
       "    <tr style=\"text-align: right;\">\n",
       "      <th></th>\n",
       "      <th>survived</th>\n",
       "      <th>pclass</th>\n",
       "      <th>sex</th>\n",
       "      <th>age</th>\n",
       "      <th>sibsp</th>\n",
       "      <th>parch</th>\n",
       "      <th>fare</th>\n",
       "      <th>embarked</th>\n",
       "      <th>class</th>\n",
       "      <th>who</th>\n",
       "      <th>adult_male</th>\n",
       "      <th>deck</th>\n",
       "      <th>embark_town</th>\n",
       "      <th>alive</th>\n",
       "      <th>alone</th>\n",
       "    </tr>\n",
       "  </thead>\n",
       "  <tbody>\n",
       "    <tr>\n",
       "      <th>0</th>\n",
       "      <td>0</td>\n",
       "      <td>3</td>\n",
       "      <td>male</td>\n",
       "      <td>22.0</td>\n",
       "      <td>1</td>\n",
       "      <td>0</td>\n",
       "      <td>7.2500</td>\n",
       "      <td>S</td>\n",
       "      <td>Third</td>\n",
       "      <td>man</td>\n",
       "      <td>True</td>\n",
       "      <td>NaN</td>\n",
       "      <td>Southampton</td>\n",
       "      <td>no</td>\n",
       "      <td>False</td>\n",
       "    </tr>\n",
       "    <tr>\n",
       "      <th>1</th>\n",
       "      <td>1</td>\n",
       "      <td>1</td>\n",
       "      <td>female</td>\n",
       "      <td>38.0</td>\n",
       "      <td>1</td>\n",
       "      <td>0</td>\n",
       "      <td>71.2833</td>\n",
       "      <td>C</td>\n",
       "      <td>First</td>\n",
       "      <td>woman</td>\n",
       "      <td>False</td>\n",
       "      <td>C</td>\n",
       "      <td>Cherbourg</td>\n",
       "      <td>yes</td>\n",
       "      <td>False</td>\n",
       "    </tr>\n",
       "    <tr>\n",
       "      <th>2</th>\n",
       "      <td>1</td>\n",
       "      <td>3</td>\n",
       "      <td>female</td>\n",
       "      <td>26.0</td>\n",
       "      <td>0</td>\n",
       "      <td>0</td>\n",
       "      <td>7.9250</td>\n",
       "      <td>S</td>\n",
       "      <td>Third</td>\n",
       "      <td>woman</td>\n",
       "      <td>False</td>\n",
       "      <td>NaN</td>\n",
       "      <td>Southampton</td>\n",
       "      <td>yes</td>\n",
       "      <td>True</td>\n",
       "    </tr>\n",
       "    <tr>\n",
       "      <th>3</th>\n",
       "      <td>1</td>\n",
       "      <td>1</td>\n",
       "      <td>female</td>\n",
       "      <td>35.0</td>\n",
       "      <td>1</td>\n",
       "      <td>0</td>\n",
       "      <td>53.1000</td>\n",
       "      <td>S</td>\n",
       "      <td>First</td>\n",
       "      <td>woman</td>\n",
       "      <td>False</td>\n",
       "      <td>C</td>\n",
       "      <td>Southampton</td>\n",
       "      <td>yes</td>\n",
       "      <td>False</td>\n",
       "    </tr>\n",
       "    <tr>\n",
       "      <th>4</th>\n",
       "      <td>0</td>\n",
       "      <td>3</td>\n",
       "      <td>male</td>\n",
       "      <td>35.0</td>\n",
       "      <td>0</td>\n",
       "      <td>0</td>\n",
       "      <td>8.0500</td>\n",
       "      <td>S</td>\n",
       "      <td>Third</td>\n",
       "      <td>man</td>\n",
       "      <td>True</td>\n",
       "      <td>NaN</td>\n",
       "      <td>Southampton</td>\n",
       "      <td>no</td>\n",
       "      <td>True</td>\n",
       "    </tr>\n",
       "    <tr>\n",
       "      <th>...</th>\n",
       "      <td>...</td>\n",
       "      <td>...</td>\n",
       "      <td>...</td>\n",
       "      <td>...</td>\n",
       "      <td>...</td>\n",
       "      <td>...</td>\n",
       "      <td>...</td>\n",
       "      <td>...</td>\n",
       "      <td>...</td>\n",
       "      <td>...</td>\n",
       "      <td>...</td>\n",
       "      <td>...</td>\n",
       "      <td>...</td>\n",
       "      <td>...</td>\n",
       "      <td>...</td>\n",
       "    </tr>\n",
       "    <tr>\n",
       "      <th>885</th>\n",
       "      <td>0</td>\n",
       "      <td>3</td>\n",
       "      <td>female</td>\n",
       "      <td>39.0</td>\n",
       "      <td>0</td>\n",
       "      <td>5</td>\n",
       "      <td>29.1250</td>\n",
       "      <td>Q</td>\n",
       "      <td>Third</td>\n",
       "      <td>woman</td>\n",
       "      <td>False</td>\n",
       "      <td>NaN</td>\n",
       "      <td>Queenstown</td>\n",
       "      <td>no</td>\n",
       "      <td>False</td>\n",
       "    </tr>\n",
       "    <tr>\n",
       "      <th>887</th>\n",
       "      <td>1</td>\n",
       "      <td>1</td>\n",
       "      <td>female</td>\n",
       "      <td>19.0</td>\n",
       "      <td>0</td>\n",
       "      <td>0</td>\n",
       "      <td>30.0000</td>\n",
       "      <td>S</td>\n",
       "      <td>First</td>\n",
       "      <td>woman</td>\n",
       "      <td>False</td>\n",
       "      <td>B</td>\n",
       "      <td>Southampton</td>\n",
       "      <td>yes</td>\n",
       "      <td>True</td>\n",
       "    </tr>\n",
       "    <tr>\n",
       "      <th>888</th>\n",
       "      <td>0</td>\n",
       "      <td>3</td>\n",
       "      <td>female</td>\n",
       "      <td>NaN</td>\n",
       "      <td>1</td>\n",
       "      <td>2</td>\n",
       "      <td>23.4500</td>\n",
       "      <td>S</td>\n",
       "      <td>Third</td>\n",
       "      <td>woman</td>\n",
       "      <td>False</td>\n",
       "      <td>NaN</td>\n",
       "      <td>Southampton</td>\n",
       "      <td>no</td>\n",
       "      <td>False</td>\n",
       "    </tr>\n",
       "    <tr>\n",
       "      <th>889</th>\n",
       "      <td>1</td>\n",
       "      <td>1</td>\n",
       "      <td>male</td>\n",
       "      <td>26.0</td>\n",
       "      <td>0</td>\n",
       "      <td>0</td>\n",
       "      <td>30.0000</td>\n",
       "      <td>C</td>\n",
       "      <td>First</td>\n",
       "      <td>man</td>\n",
       "      <td>True</td>\n",
       "      <td>C</td>\n",
       "      <td>Cherbourg</td>\n",
       "      <td>yes</td>\n",
       "      <td>True</td>\n",
       "    </tr>\n",
       "    <tr>\n",
       "      <th>890</th>\n",
       "      <td>0</td>\n",
       "      <td>3</td>\n",
       "      <td>male</td>\n",
       "      <td>32.0</td>\n",
       "      <td>0</td>\n",
       "      <td>0</td>\n",
       "      <td>7.7500</td>\n",
       "      <td>Q</td>\n",
       "      <td>Third</td>\n",
       "      <td>man</td>\n",
       "      <td>True</td>\n",
       "      <td>NaN</td>\n",
       "      <td>Queenstown</td>\n",
       "      <td>no</td>\n",
       "      <td>True</td>\n",
       "    </tr>\n",
       "  </tbody>\n",
       "</table>\n",
       "<p>784 rows × 15 columns</p>\n",
       "</div>"
      ],
      "text/plain": [
       "     survived  pclass     sex   age  sibsp  parch     fare embarked  class  \\\n",
       "0           0       3    male  22.0      1      0   7.2500        S  Third   \n",
       "1           1       1  female  38.0      1      0  71.2833        C  First   \n",
       "2           1       3  female  26.0      0      0   7.9250        S  Third   \n",
       "3           1       1  female  35.0      1      0  53.1000        S  First   \n",
       "4           0       3    male  35.0      0      0   8.0500        S  Third   \n",
       "..        ...     ...     ...   ...    ...    ...      ...      ...    ...   \n",
       "885         0       3  female  39.0      0      5  29.1250        Q  Third   \n",
       "887         1       1  female  19.0      0      0  30.0000        S  First   \n",
       "888         0       3  female   NaN      1      2  23.4500        S  Third   \n",
       "889         1       1    male  26.0      0      0  30.0000        C  First   \n",
       "890         0       3    male  32.0      0      0   7.7500        Q  Third   \n",
       "\n",
       "       who  adult_male deck  embark_town alive  alone  \n",
       "0      man        True  NaN  Southampton    no  False  \n",
       "1    woman       False    C    Cherbourg   yes  False  \n",
       "2    woman       False  NaN  Southampton   yes   True  \n",
       "3    woman       False    C  Southampton   yes  False  \n",
       "4      man        True  NaN  Southampton    no   True  \n",
       "..     ...         ...  ...          ...   ...    ...  \n",
       "885  woman       False  NaN   Queenstown    no  False  \n",
       "887  woman       False    B  Southampton   yes   True  \n",
       "888  woman       False  NaN  Southampton    no  False  \n",
       "889    man        True    C    Cherbourg   yes   True  \n",
       "890    man        True  NaN   Queenstown    no   True  \n",
       "\n",
       "[784 rows x 15 columns]"
      ]
     },
     "execution_count": 5,
     "metadata": {},
     "output_type": "execute_result"
    }
   ],
   "source": [
    "titanic.drop_duplicates()"
   ]
  },
  {
   "cell_type": "code",
   "execution_count": 6,
   "metadata": {
    "hidden": true
   },
   "outputs": [
    {
     "data": {
      "text/plain": [
       "(891, 15)"
      ]
     },
     "execution_count": 6,
     "metadata": {},
     "output_type": "execute_result"
    }
   ],
   "source": [
    "titanic.shape"
   ]
  },
  {
   "cell_type": "code",
   "execution_count": 7,
   "metadata": {
    "hidden": true
   },
   "outputs": [
    {
     "data": {
      "text/plain": [
       "(784, 15)"
      ]
     },
     "execution_count": 7,
     "metadata": {},
     "output_type": "execute_result"
    }
   ],
   "source": [
    "titanic = titanic.drop_duplicates()\n",
    "titanic.shape"
   ]
  },
  {
   "cell_type": "code",
   "execution_count": 8,
   "metadata": {
    "hidden": true
   },
   "outputs": [
    {
     "data": {
      "text/html": [
       "<div>\n",
       "<style scoped>\n",
       "    .dataframe tbody tr th:only-of-type {\n",
       "        vertical-align: middle;\n",
       "    }\n",
       "\n",
       "    .dataframe tbody tr th {\n",
       "        vertical-align: top;\n",
       "    }\n",
       "\n",
       "    .dataframe thead th {\n",
       "        text-align: right;\n",
       "    }\n",
       "</style>\n",
       "<table border=\"1\" class=\"dataframe\">\n",
       "  <thead>\n",
       "    <tr style=\"text-align: right;\">\n",
       "      <th></th>\n",
       "      <th>survived</th>\n",
       "      <th>pclass</th>\n",
       "      <th>sex</th>\n",
       "      <th>age</th>\n",
       "      <th>sibsp</th>\n",
       "      <th>parch</th>\n",
       "      <th>fare</th>\n",
       "      <th>embarked</th>\n",
       "      <th>class</th>\n",
       "      <th>who</th>\n",
       "      <th>adult_male</th>\n",
       "      <th>deck</th>\n",
       "      <th>embark_town</th>\n",
       "      <th>alive</th>\n",
       "      <th>alone</th>\n",
       "    </tr>\n",
       "  </thead>\n",
       "  <tbody>\n",
       "    <tr>\n",
       "      <th>885</th>\n",
       "      <td>0</td>\n",
       "      <td>3</td>\n",
       "      <td>female</td>\n",
       "      <td>39.0</td>\n",
       "      <td>0</td>\n",
       "      <td>5</td>\n",
       "      <td>29.125</td>\n",
       "      <td>Q</td>\n",
       "      <td>Third</td>\n",
       "      <td>woman</td>\n",
       "      <td>False</td>\n",
       "      <td>NaN</td>\n",
       "      <td>Queenstown</td>\n",
       "      <td>no</td>\n",
       "      <td>False</td>\n",
       "    </tr>\n",
       "    <tr>\n",
       "      <th>887</th>\n",
       "      <td>1</td>\n",
       "      <td>1</td>\n",
       "      <td>female</td>\n",
       "      <td>19.0</td>\n",
       "      <td>0</td>\n",
       "      <td>0</td>\n",
       "      <td>30.000</td>\n",
       "      <td>S</td>\n",
       "      <td>First</td>\n",
       "      <td>woman</td>\n",
       "      <td>False</td>\n",
       "      <td>B</td>\n",
       "      <td>Southampton</td>\n",
       "      <td>yes</td>\n",
       "      <td>True</td>\n",
       "    </tr>\n",
       "    <tr>\n",
       "      <th>888</th>\n",
       "      <td>0</td>\n",
       "      <td>3</td>\n",
       "      <td>female</td>\n",
       "      <td>NaN</td>\n",
       "      <td>1</td>\n",
       "      <td>2</td>\n",
       "      <td>23.450</td>\n",
       "      <td>S</td>\n",
       "      <td>Third</td>\n",
       "      <td>woman</td>\n",
       "      <td>False</td>\n",
       "      <td>NaN</td>\n",
       "      <td>Southampton</td>\n",
       "      <td>no</td>\n",
       "      <td>False</td>\n",
       "    </tr>\n",
       "    <tr>\n",
       "      <th>889</th>\n",
       "      <td>1</td>\n",
       "      <td>1</td>\n",
       "      <td>male</td>\n",
       "      <td>26.0</td>\n",
       "      <td>0</td>\n",
       "      <td>0</td>\n",
       "      <td>30.000</td>\n",
       "      <td>C</td>\n",
       "      <td>First</td>\n",
       "      <td>man</td>\n",
       "      <td>True</td>\n",
       "      <td>C</td>\n",
       "      <td>Cherbourg</td>\n",
       "      <td>yes</td>\n",
       "      <td>True</td>\n",
       "    </tr>\n",
       "    <tr>\n",
       "      <th>890</th>\n",
       "      <td>0</td>\n",
       "      <td>3</td>\n",
       "      <td>male</td>\n",
       "      <td>32.0</td>\n",
       "      <td>0</td>\n",
       "      <td>0</td>\n",
       "      <td>7.750</td>\n",
       "      <td>Q</td>\n",
       "      <td>Third</td>\n",
       "      <td>man</td>\n",
       "      <td>True</td>\n",
       "      <td>NaN</td>\n",
       "      <td>Queenstown</td>\n",
       "      <td>no</td>\n",
       "      <td>True</td>\n",
       "    </tr>\n",
       "  </tbody>\n",
       "</table>\n",
       "</div>"
      ],
      "text/plain": [
       "     survived  pclass     sex   age  sibsp  parch    fare embarked  class  \\\n",
       "885         0       3  female  39.0      0      5  29.125        Q  Third   \n",
       "887         1       1  female  19.0      0      0  30.000        S  First   \n",
       "888         0       3  female   NaN      1      2  23.450        S  Third   \n",
       "889         1       1    male  26.0      0      0  30.000        C  First   \n",
       "890         0       3    male  32.0      0      0   7.750        Q  Third   \n",
       "\n",
       "       who  adult_male deck  embark_town alive  alone  \n",
       "885  woman       False  NaN   Queenstown    no  False  \n",
       "887  woman       False    B  Southampton   yes   True  \n",
       "888  woman       False  NaN  Southampton    no  False  \n",
       "889    man        True    C    Cherbourg   yes   True  \n",
       "890    man        True  NaN   Queenstown    no   True  "
      ]
     },
     "execution_count": 8,
     "metadata": {},
     "output_type": "execute_result"
    }
   ],
   "source": [
    "titanic.tail()"
   ]
  },
  {
   "cell_type": "code",
   "execution_count": 9,
   "metadata": {
    "hidden": true
   },
   "outputs": [],
   "source": [
    "titanic.reset_index(drop=True, inplace=True)"
   ]
  },
  {
   "cell_type": "code",
   "execution_count": 10,
   "metadata": {
    "hidden": true
   },
   "outputs": [
    {
     "data": {
      "text/html": [
       "<div>\n",
       "<style scoped>\n",
       "    .dataframe tbody tr th:only-of-type {\n",
       "        vertical-align: middle;\n",
       "    }\n",
       "\n",
       "    .dataframe tbody tr th {\n",
       "        vertical-align: top;\n",
       "    }\n",
       "\n",
       "    .dataframe thead th {\n",
       "        text-align: right;\n",
       "    }\n",
       "</style>\n",
       "<table border=\"1\" class=\"dataframe\">\n",
       "  <thead>\n",
       "    <tr style=\"text-align: right;\">\n",
       "      <th></th>\n",
       "      <th>survived</th>\n",
       "      <th>pclass</th>\n",
       "      <th>sex</th>\n",
       "      <th>age</th>\n",
       "      <th>sibsp</th>\n",
       "      <th>parch</th>\n",
       "      <th>fare</th>\n",
       "      <th>embarked</th>\n",
       "      <th>class</th>\n",
       "      <th>who</th>\n",
       "      <th>adult_male</th>\n",
       "      <th>deck</th>\n",
       "      <th>embark_town</th>\n",
       "      <th>alive</th>\n",
       "      <th>alone</th>\n",
       "    </tr>\n",
       "  </thead>\n",
       "  <tbody>\n",
       "    <tr>\n",
       "      <th>779</th>\n",
       "      <td>0</td>\n",
       "      <td>3</td>\n",
       "      <td>female</td>\n",
       "      <td>39.0</td>\n",
       "      <td>0</td>\n",
       "      <td>5</td>\n",
       "      <td>29.125</td>\n",
       "      <td>Q</td>\n",
       "      <td>Third</td>\n",
       "      <td>woman</td>\n",
       "      <td>False</td>\n",
       "      <td>NaN</td>\n",
       "      <td>Queenstown</td>\n",
       "      <td>no</td>\n",
       "      <td>False</td>\n",
       "    </tr>\n",
       "    <tr>\n",
       "      <th>780</th>\n",
       "      <td>1</td>\n",
       "      <td>1</td>\n",
       "      <td>female</td>\n",
       "      <td>19.0</td>\n",
       "      <td>0</td>\n",
       "      <td>0</td>\n",
       "      <td>30.000</td>\n",
       "      <td>S</td>\n",
       "      <td>First</td>\n",
       "      <td>woman</td>\n",
       "      <td>False</td>\n",
       "      <td>B</td>\n",
       "      <td>Southampton</td>\n",
       "      <td>yes</td>\n",
       "      <td>True</td>\n",
       "    </tr>\n",
       "    <tr>\n",
       "      <th>781</th>\n",
       "      <td>0</td>\n",
       "      <td>3</td>\n",
       "      <td>female</td>\n",
       "      <td>NaN</td>\n",
       "      <td>1</td>\n",
       "      <td>2</td>\n",
       "      <td>23.450</td>\n",
       "      <td>S</td>\n",
       "      <td>Third</td>\n",
       "      <td>woman</td>\n",
       "      <td>False</td>\n",
       "      <td>NaN</td>\n",
       "      <td>Southampton</td>\n",
       "      <td>no</td>\n",
       "      <td>False</td>\n",
       "    </tr>\n",
       "    <tr>\n",
       "      <th>782</th>\n",
       "      <td>1</td>\n",
       "      <td>1</td>\n",
       "      <td>male</td>\n",
       "      <td>26.0</td>\n",
       "      <td>0</td>\n",
       "      <td>0</td>\n",
       "      <td>30.000</td>\n",
       "      <td>C</td>\n",
       "      <td>First</td>\n",
       "      <td>man</td>\n",
       "      <td>True</td>\n",
       "      <td>C</td>\n",
       "      <td>Cherbourg</td>\n",
       "      <td>yes</td>\n",
       "      <td>True</td>\n",
       "    </tr>\n",
       "    <tr>\n",
       "      <th>783</th>\n",
       "      <td>0</td>\n",
       "      <td>3</td>\n",
       "      <td>male</td>\n",
       "      <td>32.0</td>\n",
       "      <td>0</td>\n",
       "      <td>0</td>\n",
       "      <td>7.750</td>\n",
       "      <td>Q</td>\n",
       "      <td>Third</td>\n",
       "      <td>man</td>\n",
       "      <td>True</td>\n",
       "      <td>NaN</td>\n",
       "      <td>Queenstown</td>\n",
       "      <td>no</td>\n",
       "      <td>True</td>\n",
       "    </tr>\n",
       "  </tbody>\n",
       "</table>\n",
       "</div>"
      ],
      "text/plain": [
       "     survived  pclass     sex   age  sibsp  parch    fare embarked  class  \\\n",
       "779         0       3  female  39.0      0      5  29.125        Q  Third   \n",
       "780         1       1  female  19.0      0      0  30.000        S  First   \n",
       "781         0       3  female   NaN      1      2  23.450        S  Third   \n",
       "782         1       1    male  26.0      0      0  30.000        C  First   \n",
       "783         0       3    male  32.0      0      0   7.750        Q  Third   \n",
       "\n",
       "       who  adult_male deck  embark_town alive  alone  \n",
       "779  woman       False  NaN   Queenstown    no  False  \n",
       "780  woman       False    B  Southampton   yes   True  \n",
       "781  woman       False  NaN  Southampton    no  False  \n",
       "782    man        True    C    Cherbourg   yes   True  \n",
       "783    man        True  NaN   Queenstown    no   True  "
      ]
     },
     "execution_count": 10,
     "metadata": {},
     "output_type": "execute_result"
    }
   ],
   "source": [
    "titanic.tail()"
   ]
  },
  {
   "cell_type": "markdown",
   "metadata": {
    "heading_collapsed": true
   },
   "source": [
    "# 4. Identificando e tratando dados ausentes <a name=\"identificando\"></a>\n",
    "<div style=\"text-align: right\"\n",
    "     \n",
    "[Voltar ao índice](#Contents)"
   ]
  },
  {
   "cell_type": "markdown",
   "metadata": {
    "hidden": true
   },
   "source": [
    "https://scikit-learn.org/stable/modules/tree.html#id2\n",
    "\n",
    "\n",
    "A árvore de decisão requer pouca preparação de dados. Outras técnicas geralmente requerem normalização de dados, variáveis fictícias precisam ser criadas e valores em branco precisam ser removidos. Observe, entretanto, que **este módulo não oferece suporte a valores ausentes**."
   ]
  },
  {
   "cell_type": "code",
   "execution_count": null,
   "metadata": {
    "hidden": true
   },
   "outputs": [],
   "source": []
  },
  {
   "cell_type": "code",
   "execution_count": null,
   "metadata": {
    "hidden": true
   },
   "outputs": [],
   "source": []
  },
  {
   "cell_type": "code",
   "execution_count": 11,
   "metadata": {
    "ExecuteTime": {
     "end_time": "2021-05-29T13:38:36.366884Z",
     "start_time": "2021-05-29T13:38:36.345898Z"
    },
    "hidden": true
   },
   "outputs": [
    {
     "data": {
      "text/plain": [
       "survived         0\n",
       "pclass           0\n",
       "sex              0\n",
       "age            106\n",
       "sibsp            0\n",
       "parch            0\n",
       "fare             0\n",
       "embarked         2\n",
       "class            0\n",
       "who              0\n",
       "adult_male       0\n",
       "deck           582\n",
       "embark_town      2\n",
       "alive            0\n",
       "alone            0\n",
       "dtype: int64"
      ]
     },
     "execution_count": 11,
     "metadata": {},
     "output_type": "execute_result"
    }
   ],
   "source": [
    "titanic.isna().sum()"
   ]
  },
  {
   "cell_type": "code",
   "execution_count": 12,
   "metadata": {
    "ExecuteTime": {
     "end_time": "2021-05-29T14:12:47.717668Z",
     "start_time": "2021-05-29T14:12:47.710684Z"
    },
    "hidden": true,
    "scrolled": true
   },
   "outputs": [
    {
     "data": {
      "text/plain": [
       "survived        0.000000\n",
       "pclass          0.000000\n",
       "sex             0.000000\n",
       "age            13.520408\n",
       "sibsp           0.000000\n",
       "parch           0.000000\n",
       "fare            0.000000\n",
       "embarked        0.255102\n",
       "class           0.000000\n",
       "who             0.000000\n",
       "adult_male      0.000000\n",
       "deck           74.234694\n",
       "embark_town     0.255102\n",
       "alive           0.000000\n",
       "alone           0.000000\n",
       "dtype: float64"
      ]
     },
     "execution_count": 12,
     "metadata": {},
     "output_type": "execute_result"
    }
   ],
   "source": [
    "percentage = (titanic.isnull().sum() / len(titanic)) * 100\n",
    "percentage"
   ]
  },
  {
   "cell_type": "code",
   "execution_count": 13,
   "metadata": {
    "ExecuteTime": {
     "end_time": "2021-05-29T13:24:21.334336Z",
     "start_time": "2021-05-29T13:24:21.322344Z"
    },
    "hidden": true
   },
   "outputs": [],
   "source": [
    "# dropar todas as colunas que tenha pelo menos 1 NA\n",
    "titanic_sem_na = titanic.dropna(axis=1)"
   ]
  },
  {
   "cell_type": "code",
   "execution_count": 14,
   "metadata": {
    "hidden": true
   },
   "outputs": [
    {
     "data": {
      "text/html": [
       "<div>\n",
       "<style scoped>\n",
       "    .dataframe tbody tr th:only-of-type {\n",
       "        vertical-align: middle;\n",
       "    }\n",
       "\n",
       "    .dataframe tbody tr th {\n",
       "        vertical-align: top;\n",
       "    }\n",
       "\n",
       "    .dataframe thead th {\n",
       "        text-align: right;\n",
       "    }\n",
       "</style>\n",
       "<table border=\"1\" class=\"dataframe\">\n",
       "  <thead>\n",
       "    <tr style=\"text-align: right;\">\n",
       "      <th></th>\n",
       "      <th>survived</th>\n",
       "      <th>pclass</th>\n",
       "      <th>sex</th>\n",
       "      <th>sibsp</th>\n",
       "      <th>parch</th>\n",
       "      <th>fare</th>\n",
       "      <th>class</th>\n",
       "      <th>who</th>\n",
       "      <th>adult_male</th>\n",
       "      <th>alive</th>\n",
       "      <th>alone</th>\n",
       "    </tr>\n",
       "  </thead>\n",
       "  <tbody>\n",
       "    <tr>\n",
       "      <th>0</th>\n",
       "      <td>0</td>\n",
       "      <td>3</td>\n",
       "      <td>male</td>\n",
       "      <td>1</td>\n",
       "      <td>0</td>\n",
       "      <td>7.2500</td>\n",
       "      <td>Third</td>\n",
       "      <td>man</td>\n",
       "      <td>True</td>\n",
       "      <td>no</td>\n",
       "      <td>False</td>\n",
       "    </tr>\n",
       "    <tr>\n",
       "      <th>1</th>\n",
       "      <td>1</td>\n",
       "      <td>1</td>\n",
       "      <td>female</td>\n",
       "      <td>1</td>\n",
       "      <td>0</td>\n",
       "      <td>71.2833</td>\n",
       "      <td>First</td>\n",
       "      <td>woman</td>\n",
       "      <td>False</td>\n",
       "      <td>yes</td>\n",
       "      <td>False</td>\n",
       "    </tr>\n",
       "    <tr>\n",
       "      <th>2</th>\n",
       "      <td>1</td>\n",
       "      <td>3</td>\n",
       "      <td>female</td>\n",
       "      <td>0</td>\n",
       "      <td>0</td>\n",
       "      <td>7.9250</td>\n",
       "      <td>Third</td>\n",
       "      <td>woman</td>\n",
       "      <td>False</td>\n",
       "      <td>yes</td>\n",
       "      <td>True</td>\n",
       "    </tr>\n",
       "    <tr>\n",
       "      <th>3</th>\n",
       "      <td>1</td>\n",
       "      <td>1</td>\n",
       "      <td>female</td>\n",
       "      <td>1</td>\n",
       "      <td>0</td>\n",
       "      <td>53.1000</td>\n",
       "      <td>First</td>\n",
       "      <td>woman</td>\n",
       "      <td>False</td>\n",
       "      <td>yes</td>\n",
       "      <td>False</td>\n",
       "    </tr>\n",
       "    <tr>\n",
       "      <th>4</th>\n",
       "      <td>0</td>\n",
       "      <td>3</td>\n",
       "      <td>male</td>\n",
       "      <td>0</td>\n",
       "      <td>0</td>\n",
       "      <td>8.0500</td>\n",
       "      <td>Third</td>\n",
       "      <td>man</td>\n",
       "      <td>True</td>\n",
       "      <td>no</td>\n",
       "      <td>True</td>\n",
       "    </tr>\n",
       "  </tbody>\n",
       "</table>\n",
       "</div>"
      ],
      "text/plain": [
       "   survived  pclass     sex  sibsp  parch     fare  class    who  adult_male  \\\n",
       "0         0       3    male      1      0   7.2500  Third    man        True   \n",
       "1         1       1  female      1      0  71.2833  First  woman       False   \n",
       "2         1       3  female      0      0   7.9250  Third  woman       False   \n",
       "3         1       1  female      1      0  53.1000  First  woman       False   \n",
       "4         0       3    male      0      0   8.0500  Third    man        True   \n",
       "\n",
       "  alive  alone  \n",
       "0    no  False  \n",
       "1   yes  False  \n",
       "2   yes   True  \n",
       "3   yes  False  \n",
       "4    no   True  "
      ]
     },
     "execution_count": 14,
     "metadata": {},
     "output_type": "execute_result"
    }
   ],
   "source": [
    "titanic_sem_na.head()"
   ]
  },
  {
   "cell_type": "code",
   "execution_count": 15,
   "metadata": {
    "hidden": true
   },
   "outputs": [
    {
     "data": {
      "text/plain": [
       "(784, 11)"
      ]
     },
     "execution_count": 15,
     "metadata": {},
     "output_type": "execute_result"
    }
   ],
   "source": [
    "titanic_sem_na.shape"
   ]
  },
  {
   "cell_type": "code",
   "execution_count": 16,
   "metadata": {
    "hidden": true
   },
   "outputs": [
    {
     "name": "stdout",
     "output_type": "stream",
     "text": [
      "<class 'pandas.core.frame.DataFrame'>\n",
      "RangeIndex: 784 entries, 0 to 783\n",
      "Data columns (total 11 columns):\n",
      " #   Column      Non-Null Count  Dtype   \n",
      "---  ------      --------------  -----   \n",
      " 0   survived    784 non-null    int64   \n",
      " 1   pclass      784 non-null    int64   \n",
      " 2   sex         784 non-null    object  \n",
      " 3   sibsp       784 non-null    int64   \n",
      " 4   parch       784 non-null    int64   \n",
      " 5   fare        784 non-null    float64 \n",
      " 6   class       784 non-null    category\n",
      " 7   who         784 non-null    object  \n",
      " 8   adult_male  784 non-null    bool    \n",
      " 9   alive       784 non-null    object  \n",
      " 10  alone       784 non-null    bool    \n",
      "dtypes: bool(2), category(1), float64(1), int64(4), object(3)\n",
      "memory usage: 51.6+ KB\n"
     ]
    }
   ],
   "source": [
    "titanic_sem_na.info()"
   ]
  },
  {
   "cell_type": "markdown",
   "metadata": {
    "heading_collapsed": true
   },
   "source": [
    "# 5. Dados categorizados <a name=\"categorizados\"></a>\n",
    "<div style=\"text-align: right\"\n",
    "     \n",
    "[Voltar ao índice](#Contents)"
   ]
  },
  {
   "cell_type": "markdown",
   "metadata": {
    "hidden": true
   },
   "source": [
    "https://scikit-learn.org/stable/modules/tree.html#id2\n",
    "\n",
    "CART (árvores de classificação e regressão) é muito semelhante a C4.5, mas difere porque oferece suporte a variáveis ​​de destino numéricas (regressão) e não calcula conjuntos de regras. A CART constrói árvores binárias usando o recurso e o limite que geram o maior ganho de informação em cada nó.\n",
    "\n",
    "scikit-learn usa uma versão otimizada do algoritmo CART; entretanto, a **implementação do scikit-learn não suporta variáveis categorizadas** por enquanto."
   ]
  },
  {
   "cell_type": "code",
   "execution_count": 17,
   "metadata": {
    "hidden": true,
    "scrolled": true
   },
   "outputs": [
    {
     "data": {
      "text/html": [
       "<div>\n",
       "<style scoped>\n",
       "    .dataframe tbody tr th:only-of-type {\n",
       "        vertical-align: middle;\n",
       "    }\n",
       "\n",
       "    .dataframe tbody tr th {\n",
       "        vertical-align: top;\n",
       "    }\n",
       "\n",
       "    .dataframe thead th {\n",
       "        text-align: right;\n",
       "    }\n",
       "</style>\n",
       "<table border=\"1\" class=\"dataframe\">\n",
       "  <thead>\n",
       "    <tr style=\"text-align: right;\">\n",
       "      <th></th>\n",
       "      <th>survived</th>\n",
       "      <th>pclass</th>\n",
       "      <th>sex</th>\n",
       "      <th>sibsp</th>\n",
       "      <th>parch</th>\n",
       "      <th>fare</th>\n",
       "      <th>class</th>\n",
       "      <th>who</th>\n",
       "      <th>adult_male</th>\n",
       "      <th>alive</th>\n",
       "      <th>alone</th>\n",
       "    </tr>\n",
       "  </thead>\n",
       "  <tbody>\n",
       "    <tr>\n",
       "      <th>0</th>\n",
       "      <td>0</td>\n",
       "      <td>3</td>\n",
       "      <td>male</td>\n",
       "      <td>1</td>\n",
       "      <td>0</td>\n",
       "      <td>7.2500</td>\n",
       "      <td>Third</td>\n",
       "      <td>man</td>\n",
       "      <td>True</td>\n",
       "      <td>no</td>\n",
       "      <td>False</td>\n",
       "    </tr>\n",
       "    <tr>\n",
       "      <th>1</th>\n",
       "      <td>1</td>\n",
       "      <td>1</td>\n",
       "      <td>female</td>\n",
       "      <td>1</td>\n",
       "      <td>0</td>\n",
       "      <td>71.2833</td>\n",
       "      <td>First</td>\n",
       "      <td>woman</td>\n",
       "      <td>False</td>\n",
       "      <td>yes</td>\n",
       "      <td>False</td>\n",
       "    </tr>\n",
       "  </tbody>\n",
       "</table>\n",
       "</div>"
      ],
      "text/plain": [
       "   survived  pclass     sex  sibsp  parch     fare  class    who  adult_male  \\\n",
       "0         0       3    male      1      0   7.2500  Third    man        True   \n",
       "1         1       1  female      1      0  71.2833  First  woman       False   \n",
       "\n",
       "  alive  alone  \n",
       "0    no  False  \n",
       "1   yes  False  "
      ]
     },
     "execution_count": 17,
     "metadata": {},
     "output_type": "execute_result"
    }
   ],
   "source": [
    "titanic_sem_na.head(2)"
   ]
  },
  {
   "cell_type": "markdown",
   "metadata": {
    "hidden": true
   },
   "source": [
    "- **survived** - se o passageiro sobreviveu ou não, ou seja, nossa target\n",
    "- **pclass** - classe em que o passageiro estava (primeira, segunda, terceira)\n",
    "- **sex** - genero do passageiro (masculino ou feminino)\n",
    "- **sibsp** - quantidade de irmãos/esposos/esposas no navio (0 a 8)\t\n",
    "- **parch** - quantidade de pais/filhos a bordo\n",
    "- **fare** - preço do ticket\n",
    "- **class** - igual a pclass\t\n",
    "- **who** - se é homem, mulher ou criança\n",
    "- **adult_male** - se é um homem adulto\n",
    "- **alive** - igual a survived\n",
    "- **alone** - se estava sozinho a bordo\n"
   ]
  },
  {
   "cell_type": "code",
   "execution_count": null,
   "metadata": {
    "hidden": true
   },
   "outputs": [],
   "source": []
  },
  {
   "cell_type": "markdown",
   "metadata": {
    "hidden": true
   },
   "source": [
    "## Survived e alive\n"
   ]
  },
  {
   "cell_type": "code",
   "execution_count": 18,
   "metadata": {
    "hidden": true
   },
   "outputs": [
    {
     "data": {
      "text/plain": [
       "0    461\n",
       "1    323\n",
       "Name: survived, dtype: int64"
      ]
     },
     "execution_count": 18,
     "metadata": {},
     "output_type": "execute_result"
    }
   ],
   "source": [
    "titanic_sem_na.survived.value_counts()"
   ]
  },
  {
   "cell_type": "code",
   "execution_count": 19,
   "metadata": {
    "hidden": true
   },
   "outputs": [
    {
     "data": {
      "text/plain": [
       "0    0.58801\n",
       "1    0.41199\n",
       "Name: survived, dtype: float64"
      ]
     },
     "execution_count": 19,
     "metadata": {},
     "output_type": "execute_result"
    }
   ],
   "source": [
    "titanic_sem_na.survived.value_counts(normalize=True)"
   ]
  },
  {
   "cell_type": "code",
   "execution_count": 20,
   "metadata": {
    "hidden": true
   },
   "outputs": [
    {
     "data": {
      "text/plain": [
       "no     461\n",
       "yes    323\n",
       "Name: alive, dtype: int64"
      ]
     },
     "execution_count": 20,
     "metadata": {},
     "output_type": "execute_result"
    }
   ],
   "source": [
    "titanic_sem_na.alive.value_counts()"
   ]
  },
  {
   "cell_type": "code",
   "execution_count": 21,
   "metadata": {
    "hidden": true
   },
   "outputs": [
    {
     "data": {
      "text/html": [
       "<div>\n",
       "<style scoped>\n",
       "    .dataframe tbody tr th:only-of-type {\n",
       "        vertical-align: middle;\n",
       "    }\n",
       "\n",
       "    .dataframe tbody tr th {\n",
       "        vertical-align: top;\n",
       "    }\n",
       "\n",
       "    .dataframe thead th {\n",
       "        text-align: right;\n",
       "    }\n",
       "</style>\n",
       "<table border=\"1\" class=\"dataframe\">\n",
       "  <thead>\n",
       "    <tr style=\"text-align: right;\">\n",
       "      <th></th>\n",
       "      <th></th>\n",
       "      <th>sibsp</th>\n",
       "    </tr>\n",
       "    <tr>\n",
       "      <th>alive</th>\n",
       "      <th>survived</th>\n",
       "      <th></th>\n",
       "    </tr>\n",
       "  </thead>\n",
       "  <tbody>\n",
       "    <tr>\n",
       "      <th>no</th>\n",
       "      <th>0</th>\n",
       "      <td>461</td>\n",
       "    </tr>\n",
       "    <tr>\n",
       "      <th>yes</th>\n",
       "      <th>1</th>\n",
       "      <td>323</td>\n",
       "    </tr>\n",
       "  </tbody>\n",
       "</table>\n",
       "</div>"
      ],
      "text/plain": [
       "                sibsp\n",
       "alive survived       \n",
       "no    0           461\n",
       "yes   1           323"
      ]
     },
     "execution_count": 21,
     "metadata": {},
     "output_type": "execute_result"
    }
   ],
   "source": [
    "titanic_sem_na[['alive','survived','sibsp']].groupby(['alive','survived']).count()"
   ]
  },
  {
   "cell_type": "code",
   "execution_count": 22,
   "metadata": {
    "hidden": true
   },
   "outputs": [],
   "source": [
    "titanic_sem_na = titanic_sem_na.drop('alive',axis=1)"
   ]
  },
  {
   "cell_type": "code",
   "execution_count": null,
   "metadata": {
    "hidden": true
   },
   "outputs": [],
   "source": []
  },
  {
   "cell_type": "markdown",
   "metadata": {
    "hidden": true
   },
   "source": [
    "## pclass e class"
   ]
  },
  {
   "cell_type": "code",
   "execution_count": 23,
   "metadata": {
    "hidden": true
   },
   "outputs": [
    {
     "data": {
      "text/plain": [
       "array([3, 1, 2])"
      ]
     },
     "execution_count": 23,
     "metadata": {},
     "output_type": "execute_result"
    }
   ],
   "source": [
    "titanic_sem_na['pclass'].unique()"
   ]
  },
  {
   "cell_type": "code",
   "execution_count": 24,
   "metadata": {
    "hidden": true
   },
   "outputs": [
    {
     "data": {
      "text/plain": [
       "['Third', 'First', 'Second']\n",
       "Categories (3, object): ['First', 'Second', 'Third']"
      ]
     },
     "execution_count": 24,
     "metadata": {},
     "output_type": "execute_result"
    }
   ],
   "source": [
    "titanic_sem_na['class'].unique()"
   ]
  },
  {
   "cell_type": "code",
   "execution_count": 25,
   "metadata": {
    "hidden": true
   },
   "outputs": [
    {
     "data": {
      "text/html": [
       "<div>\n",
       "<style scoped>\n",
       "    .dataframe tbody tr th:only-of-type {\n",
       "        vertical-align: middle;\n",
       "    }\n",
       "\n",
       "    .dataframe tbody tr th {\n",
       "        vertical-align: top;\n",
       "    }\n",
       "\n",
       "    .dataframe thead th {\n",
       "        text-align: right;\n",
       "    }\n",
       "</style>\n",
       "<table border=\"1\" class=\"dataframe\">\n",
       "  <thead>\n",
       "    <tr style=\"text-align: right;\">\n",
       "      <th></th>\n",
       "      <th></th>\n",
       "      <th>sibsp</th>\n",
       "    </tr>\n",
       "    <tr>\n",
       "      <th>pclass</th>\n",
       "      <th>class</th>\n",
       "      <th></th>\n",
       "    </tr>\n",
       "  </thead>\n",
       "  <tbody>\n",
       "    <tr>\n",
       "      <th rowspan=\"3\" valign=\"top\">1</th>\n",
       "      <th>First</th>\n",
       "      <td>214</td>\n",
       "    </tr>\n",
       "    <tr>\n",
       "      <th>Second</th>\n",
       "      <td>0</td>\n",
       "    </tr>\n",
       "    <tr>\n",
       "      <th>Third</th>\n",
       "      <td>0</td>\n",
       "    </tr>\n",
       "    <tr>\n",
       "      <th rowspan=\"3\" valign=\"top\">2</th>\n",
       "      <th>First</th>\n",
       "      <td>0</td>\n",
       "    </tr>\n",
       "    <tr>\n",
       "      <th>Second</th>\n",
       "      <td>165</td>\n",
       "    </tr>\n",
       "    <tr>\n",
       "      <th>Third</th>\n",
       "      <td>0</td>\n",
       "    </tr>\n",
       "    <tr>\n",
       "      <th rowspan=\"3\" valign=\"top\">3</th>\n",
       "      <th>First</th>\n",
       "      <td>0</td>\n",
       "    </tr>\n",
       "    <tr>\n",
       "      <th>Second</th>\n",
       "      <td>0</td>\n",
       "    </tr>\n",
       "    <tr>\n",
       "      <th>Third</th>\n",
       "      <td>405</td>\n",
       "    </tr>\n",
       "  </tbody>\n",
       "</table>\n",
       "</div>"
      ],
      "text/plain": [
       "               sibsp\n",
       "pclass class        \n",
       "1      First     214\n",
       "       Second      0\n",
       "       Third       0\n",
       "2      First       0\n",
       "       Second    165\n",
       "       Third       0\n",
       "3      First       0\n",
       "       Second      0\n",
       "       Third     405"
      ]
     },
     "execution_count": 25,
     "metadata": {},
     "output_type": "execute_result"
    }
   ],
   "source": [
    "titanic_sem_na[['pclass','class','sibsp']].groupby(['pclass','class']).count()"
   ]
  },
  {
   "cell_type": "code",
   "execution_count": 26,
   "metadata": {
    "hidden": true
   },
   "outputs": [],
   "source": [
    "titanic_sem_na = titanic_sem_na.drop('pclass',axis=1)"
   ]
  },
  {
   "cell_type": "markdown",
   "metadata": {
    "hidden": true
   },
   "source": [
    "## Outras variáveis"
   ]
  },
  {
   "cell_type": "code",
   "execution_count": 27,
   "metadata": {
    "hidden": true
   },
   "outputs": [
    {
     "data": {
      "text/plain": [
       "array(['male', 'female'], dtype=object)"
      ]
     },
     "execution_count": 27,
     "metadata": {},
     "output_type": "execute_result"
    }
   ],
   "source": [
    "titanic_sem_na['sex'].unique()"
   ]
  },
  {
   "cell_type": "code",
   "execution_count": 28,
   "metadata": {
    "hidden": true
   },
   "outputs": [
    {
     "data": {
      "text/plain": [
       "array([1, 0, 3, 4, 2, 5, 8])"
      ]
     },
     "execution_count": 28,
     "metadata": {},
     "output_type": "execute_result"
    }
   ],
   "source": [
    "titanic_sem_na['sibsp'].unique()"
   ]
  },
  {
   "cell_type": "code",
   "execution_count": 29,
   "metadata": {
    "hidden": true
   },
   "outputs": [
    {
     "data": {
      "text/plain": [
       "array([0, 1, 2, 5, 3, 4, 6])"
      ]
     },
     "execution_count": 29,
     "metadata": {},
     "output_type": "execute_result"
    }
   ],
   "source": [
    "titanic_sem_na['parch'].unique()"
   ]
  },
  {
   "cell_type": "code",
   "execution_count": 30,
   "metadata": {
    "hidden": true
   },
   "outputs": [
    {
     "data": {
      "text/plain": [
       "array(['man', 'woman', 'child'], dtype=object)"
      ]
     },
     "execution_count": 30,
     "metadata": {},
     "output_type": "execute_result"
    }
   ],
   "source": [
    "titanic_sem_na['who'].unique()"
   ]
  },
  {
   "cell_type": "code",
   "execution_count": 31,
   "metadata": {
    "hidden": true,
    "scrolled": true
   },
   "outputs": [
    {
     "data": {
      "text/html": [
       "<div>\n",
       "<style scoped>\n",
       "    .dataframe tbody tr th:only-of-type {\n",
       "        vertical-align: middle;\n",
       "    }\n",
       "\n",
       "    .dataframe tbody tr th {\n",
       "        vertical-align: top;\n",
       "    }\n",
       "\n",
       "    .dataframe thead th {\n",
       "        text-align: right;\n",
       "    }\n",
       "</style>\n",
       "<table border=\"1\" class=\"dataframe\">\n",
       "  <thead>\n",
       "    <tr style=\"text-align: right;\">\n",
       "      <th></th>\n",
       "      <th></th>\n",
       "      <th>sibsp</th>\n",
       "    </tr>\n",
       "    <tr>\n",
       "      <th>sex</th>\n",
       "      <th>who</th>\n",
       "      <th></th>\n",
       "    </tr>\n",
       "  </thead>\n",
       "  <tbody>\n",
       "    <tr>\n",
       "      <th rowspan=\"2\" valign=\"top\">female</th>\n",
       "      <th>child</th>\n",
       "      <td>42</td>\n",
       "    </tr>\n",
       "    <tr>\n",
       "      <th>woman</th>\n",
       "      <td>251</td>\n",
       "    </tr>\n",
       "    <tr>\n",
       "      <th rowspan=\"2\" valign=\"top\">male</th>\n",
       "      <th>child</th>\n",
       "      <td>40</td>\n",
       "    </tr>\n",
       "    <tr>\n",
       "      <th>man</th>\n",
       "      <td>451</td>\n",
       "    </tr>\n",
       "  </tbody>\n",
       "</table>\n",
       "</div>"
      ],
      "text/plain": [
       "              sibsp\n",
       "sex    who         \n",
       "female child     42\n",
       "       woman    251\n",
       "male   child     40\n",
       "       man      451"
      ]
     },
     "execution_count": 31,
     "metadata": {},
     "output_type": "execute_result"
    }
   ],
   "source": [
    "titanic_sem_na[['sex','who','sibsp']].groupby(['sex','who']).count()"
   ]
  },
  {
   "cell_type": "code",
   "execution_count": 32,
   "metadata": {
    "hidden": true
   },
   "outputs": [
    {
     "data": {
      "text/html": [
       "<div>\n",
       "<style scoped>\n",
       "    .dataframe tbody tr th:only-of-type {\n",
       "        vertical-align: middle;\n",
       "    }\n",
       "\n",
       "    .dataframe tbody tr th {\n",
       "        vertical-align: top;\n",
       "    }\n",
       "\n",
       "    .dataframe thead th {\n",
       "        text-align: right;\n",
       "    }\n",
       "</style>\n",
       "<table border=\"1\" class=\"dataframe\">\n",
       "  <thead>\n",
       "    <tr style=\"text-align: right;\">\n",
       "      <th></th>\n",
       "      <th>survived</th>\n",
       "      <th>sex</th>\n",
       "      <th>sibsp</th>\n",
       "      <th>parch</th>\n",
       "      <th>fare</th>\n",
       "      <th>class</th>\n",
       "      <th>who</th>\n",
       "      <th>adult_male</th>\n",
       "      <th>alone</th>\n",
       "    </tr>\n",
       "  </thead>\n",
       "  <tbody>\n",
       "    <tr>\n",
       "      <th>0</th>\n",
       "      <td>0</td>\n",
       "      <td>male</td>\n",
       "      <td>1</td>\n",
       "      <td>0</td>\n",
       "      <td>7.2500</td>\n",
       "      <td>Third</td>\n",
       "      <td>man</td>\n",
       "      <td>True</td>\n",
       "      <td>False</td>\n",
       "    </tr>\n",
       "    <tr>\n",
       "      <th>1</th>\n",
       "      <td>1</td>\n",
       "      <td>female</td>\n",
       "      <td>1</td>\n",
       "      <td>0</td>\n",
       "      <td>71.2833</td>\n",
       "      <td>First</td>\n",
       "      <td>woman</td>\n",
       "      <td>False</td>\n",
       "      <td>False</td>\n",
       "    </tr>\n",
       "  </tbody>\n",
       "</table>\n",
       "</div>"
      ],
      "text/plain": [
       "   survived     sex  sibsp  parch     fare  class    who  adult_male  alone\n",
       "0         0    male      1      0   7.2500  Third    man        True  False\n",
       "1         1  female      1      0  71.2833  First  woman       False  False"
      ]
     },
     "execution_count": 32,
     "metadata": {},
     "output_type": "execute_result"
    }
   ],
   "source": [
    "titanic_sem_na.head(2)"
   ]
  },
  {
   "cell_type": "markdown",
   "metadata": {
    "hidden": true
   },
   "source": [
    "## Transformando em dummie (flag)"
   ]
  },
  {
   "cell_type": "code",
   "execution_count": 51,
   "metadata": {
    "hidden": true,
    "scrolled": true
   },
   "outputs": [
    {
     "data": {
      "text/html": [
       "<div>\n",
       "<style scoped>\n",
       "    .dataframe tbody tr th:only-of-type {\n",
       "        vertical-align: middle;\n",
       "    }\n",
       "\n",
       "    .dataframe tbody tr th {\n",
       "        vertical-align: top;\n",
       "    }\n",
       "\n",
       "    .dataframe thead th {\n",
       "        text-align: right;\n",
       "    }\n",
       "</style>\n",
       "<table border=\"1\" class=\"dataframe\">\n",
       "  <thead>\n",
       "    <tr style=\"text-align: right;\">\n",
       "      <th></th>\n",
       "      <th>survived</th>\n",
       "      <th>sex</th>\n",
       "      <th>sibsp</th>\n",
       "      <th>parch</th>\n",
       "      <th>fare</th>\n",
       "      <th>adult_male</th>\n",
       "      <th>alone</th>\n",
       "      <th>class_First</th>\n",
       "      <th>class_Second</th>\n",
       "      <th>class_Third</th>\n",
       "      <th>who_child</th>\n",
       "      <th>who_man</th>\n",
       "      <th>who_woman</th>\n",
       "    </tr>\n",
       "  </thead>\n",
       "  <tbody>\n",
       "    <tr>\n",
       "      <th>0</th>\n",
       "      <td>0</td>\n",
       "      <td>male</td>\n",
       "      <td>1</td>\n",
       "      <td>0</td>\n",
       "      <td>7.2500</td>\n",
       "      <td>True</td>\n",
       "      <td>False</td>\n",
       "      <td>0</td>\n",
       "      <td>0</td>\n",
       "      <td>1</td>\n",
       "      <td>0</td>\n",
       "      <td>1</td>\n",
       "      <td>0</td>\n",
       "    </tr>\n",
       "    <tr>\n",
       "      <th>1</th>\n",
       "      <td>1</td>\n",
       "      <td>female</td>\n",
       "      <td>1</td>\n",
       "      <td>0</td>\n",
       "      <td>71.2833</td>\n",
       "      <td>False</td>\n",
       "      <td>False</td>\n",
       "      <td>1</td>\n",
       "      <td>0</td>\n",
       "      <td>0</td>\n",
       "      <td>0</td>\n",
       "      <td>0</td>\n",
       "      <td>1</td>\n",
       "    </tr>\n",
       "    <tr>\n",
       "      <th>2</th>\n",
       "      <td>1</td>\n",
       "      <td>female</td>\n",
       "      <td>0</td>\n",
       "      <td>0</td>\n",
       "      <td>7.9250</td>\n",
       "      <td>False</td>\n",
       "      <td>True</td>\n",
       "      <td>0</td>\n",
       "      <td>0</td>\n",
       "      <td>1</td>\n",
       "      <td>0</td>\n",
       "      <td>0</td>\n",
       "      <td>1</td>\n",
       "    </tr>\n",
       "    <tr>\n",
       "      <th>3</th>\n",
       "      <td>1</td>\n",
       "      <td>female</td>\n",
       "      <td>1</td>\n",
       "      <td>0</td>\n",
       "      <td>53.1000</td>\n",
       "      <td>False</td>\n",
       "      <td>False</td>\n",
       "      <td>1</td>\n",
       "      <td>0</td>\n",
       "      <td>0</td>\n",
       "      <td>0</td>\n",
       "      <td>0</td>\n",
       "      <td>1</td>\n",
       "    </tr>\n",
       "    <tr>\n",
       "      <th>4</th>\n",
       "      <td>0</td>\n",
       "      <td>male</td>\n",
       "      <td>0</td>\n",
       "      <td>0</td>\n",
       "      <td>8.0500</td>\n",
       "      <td>True</td>\n",
       "      <td>True</td>\n",
       "      <td>0</td>\n",
       "      <td>0</td>\n",
       "      <td>1</td>\n",
       "      <td>0</td>\n",
       "      <td>1</td>\n",
       "      <td>0</td>\n",
       "    </tr>\n",
       "    <tr>\n",
       "      <th>5</th>\n",
       "      <td>0</td>\n",
       "      <td>male</td>\n",
       "      <td>0</td>\n",
       "      <td>0</td>\n",
       "      <td>8.4583</td>\n",
       "      <td>True</td>\n",
       "      <td>True</td>\n",
       "      <td>0</td>\n",
       "      <td>0</td>\n",
       "      <td>1</td>\n",
       "      <td>0</td>\n",
       "      <td>1</td>\n",
       "      <td>0</td>\n",
       "    </tr>\n",
       "    <tr>\n",
       "      <th>6</th>\n",
       "      <td>0</td>\n",
       "      <td>male</td>\n",
       "      <td>0</td>\n",
       "      <td>0</td>\n",
       "      <td>51.8625</td>\n",
       "      <td>True</td>\n",
       "      <td>True</td>\n",
       "      <td>1</td>\n",
       "      <td>0</td>\n",
       "      <td>0</td>\n",
       "      <td>0</td>\n",
       "      <td>1</td>\n",
       "      <td>0</td>\n",
       "    </tr>\n",
       "    <tr>\n",
       "      <th>7</th>\n",
       "      <td>0</td>\n",
       "      <td>male</td>\n",
       "      <td>3</td>\n",
       "      <td>1</td>\n",
       "      <td>21.0750</td>\n",
       "      <td>False</td>\n",
       "      <td>False</td>\n",
       "      <td>0</td>\n",
       "      <td>0</td>\n",
       "      <td>1</td>\n",
       "      <td>1</td>\n",
       "      <td>0</td>\n",
       "      <td>0</td>\n",
       "    </tr>\n",
       "    <tr>\n",
       "      <th>8</th>\n",
       "      <td>1</td>\n",
       "      <td>female</td>\n",
       "      <td>0</td>\n",
       "      <td>2</td>\n",
       "      <td>11.1333</td>\n",
       "      <td>False</td>\n",
       "      <td>False</td>\n",
       "      <td>0</td>\n",
       "      <td>0</td>\n",
       "      <td>1</td>\n",
       "      <td>0</td>\n",
       "      <td>0</td>\n",
       "      <td>1</td>\n",
       "    </tr>\n",
       "    <tr>\n",
       "      <th>9</th>\n",
       "      <td>1</td>\n",
       "      <td>female</td>\n",
       "      <td>1</td>\n",
       "      <td>0</td>\n",
       "      <td>30.0708</td>\n",
       "      <td>False</td>\n",
       "      <td>False</td>\n",
       "      <td>0</td>\n",
       "      <td>1</td>\n",
       "      <td>0</td>\n",
       "      <td>1</td>\n",
       "      <td>0</td>\n",
       "      <td>0</td>\n",
       "    </tr>\n",
       "    <tr>\n",
       "      <th>10</th>\n",
       "      <td>1</td>\n",
       "      <td>female</td>\n",
       "      <td>1</td>\n",
       "      <td>1</td>\n",
       "      <td>16.7000</td>\n",
       "      <td>False</td>\n",
       "      <td>False</td>\n",
       "      <td>0</td>\n",
       "      <td>0</td>\n",
       "      <td>1</td>\n",
       "      <td>1</td>\n",
       "      <td>0</td>\n",
       "      <td>0</td>\n",
       "    </tr>\n",
       "    <tr>\n",
       "      <th>11</th>\n",
       "      <td>1</td>\n",
       "      <td>female</td>\n",
       "      <td>0</td>\n",
       "      <td>0</td>\n",
       "      <td>26.5500</td>\n",
       "      <td>False</td>\n",
       "      <td>True</td>\n",
       "      <td>1</td>\n",
       "      <td>0</td>\n",
       "      <td>0</td>\n",
       "      <td>0</td>\n",
       "      <td>0</td>\n",
       "      <td>1</td>\n",
       "    </tr>\n",
       "    <tr>\n",
       "      <th>12</th>\n",
       "      <td>0</td>\n",
       "      <td>male</td>\n",
       "      <td>0</td>\n",
       "      <td>0</td>\n",
       "      <td>8.0500</td>\n",
       "      <td>True</td>\n",
       "      <td>True</td>\n",
       "      <td>0</td>\n",
       "      <td>0</td>\n",
       "      <td>1</td>\n",
       "      <td>0</td>\n",
       "      <td>1</td>\n",
       "      <td>0</td>\n",
       "    </tr>\n",
       "    <tr>\n",
       "      <th>13</th>\n",
       "      <td>0</td>\n",
       "      <td>male</td>\n",
       "      <td>1</td>\n",
       "      <td>5</td>\n",
       "      <td>31.2750</td>\n",
       "      <td>True</td>\n",
       "      <td>False</td>\n",
       "      <td>0</td>\n",
       "      <td>0</td>\n",
       "      <td>1</td>\n",
       "      <td>0</td>\n",
       "      <td>1</td>\n",
       "      <td>0</td>\n",
       "    </tr>\n",
       "    <tr>\n",
       "      <th>14</th>\n",
       "      <td>0</td>\n",
       "      <td>female</td>\n",
       "      <td>0</td>\n",
       "      <td>0</td>\n",
       "      <td>7.8542</td>\n",
       "      <td>False</td>\n",
       "      <td>True</td>\n",
       "      <td>0</td>\n",
       "      <td>0</td>\n",
       "      <td>1</td>\n",
       "      <td>1</td>\n",
       "      <td>0</td>\n",
       "      <td>0</td>\n",
       "    </tr>\n",
       "    <tr>\n",
       "      <th>15</th>\n",
       "      <td>1</td>\n",
       "      <td>female</td>\n",
       "      <td>0</td>\n",
       "      <td>0</td>\n",
       "      <td>16.0000</td>\n",
       "      <td>False</td>\n",
       "      <td>True</td>\n",
       "      <td>0</td>\n",
       "      <td>1</td>\n",
       "      <td>0</td>\n",
       "      <td>0</td>\n",
       "      <td>0</td>\n",
       "      <td>1</td>\n",
       "    </tr>\n",
       "    <tr>\n",
       "      <th>16</th>\n",
       "      <td>0</td>\n",
       "      <td>male</td>\n",
       "      <td>4</td>\n",
       "      <td>1</td>\n",
       "      <td>29.1250</td>\n",
       "      <td>False</td>\n",
       "      <td>False</td>\n",
       "      <td>0</td>\n",
       "      <td>0</td>\n",
       "      <td>1</td>\n",
       "      <td>1</td>\n",
       "      <td>0</td>\n",
       "      <td>0</td>\n",
       "    </tr>\n",
       "    <tr>\n",
       "      <th>17</th>\n",
       "      <td>1</td>\n",
       "      <td>male</td>\n",
       "      <td>0</td>\n",
       "      <td>0</td>\n",
       "      <td>13.0000</td>\n",
       "      <td>True</td>\n",
       "      <td>True</td>\n",
       "      <td>0</td>\n",
       "      <td>1</td>\n",
       "      <td>0</td>\n",
       "      <td>0</td>\n",
       "      <td>1</td>\n",
       "      <td>0</td>\n",
       "    </tr>\n",
       "    <tr>\n",
       "      <th>18</th>\n",
       "      <td>0</td>\n",
       "      <td>female</td>\n",
       "      <td>1</td>\n",
       "      <td>0</td>\n",
       "      <td>18.0000</td>\n",
       "      <td>False</td>\n",
       "      <td>False</td>\n",
       "      <td>0</td>\n",
       "      <td>0</td>\n",
       "      <td>1</td>\n",
       "      <td>0</td>\n",
       "      <td>0</td>\n",
       "      <td>1</td>\n",
       "    </tr>\n",
       "    <tr>\n",
       "      <th>19</th>\n",
       "      <td>1</td>\n",
       "      <td>female</td>\n",
       "      <td>0</td>\n",
       "      <td>0</td>\n",
       "      <td>7.2250</td>\n",
       "      <td>False</td>\n",
       "      <td>True</td>\n",
       "      <td>0</td>\n",
       "      <td>0</td>\n",
       "      <td>1</td>\n",
       "      <td>0</td>\n",
       "      <td>0</td>\n",
       "      <td>1</td>\n",
       "    </tr>\n",
       "  </tbody>\n",
       "</table>\n",
       "</div>"
      ],
      "text/plain": [
       "    survived     sex  sibsp  parch     fare  adult_male  alone  class_First  \\\n",
       "0          0    male      1      0   7.2500        True  False            0   \n",
       "1          1  female      1      0  71.2833       False  False            1   \n",
       "2          1  female      0      0   7.9250       False   True            0   \n",
       "3          1  female      1      0  53.1000       False  False            1   \n",
       "4          0    male      0      0   8.0500        True   True            0   \n",
       "5          0    male      0      0   8.4583        True   True            0   \n",
       "6          0    male      0      0  51.8625        True   True            1   \n",
       "7          0    male      3      1  21.0750       False  False            0   \n",
       "8          1  female      0      2  11.1333       False  False            0   \n",
       "9          1  female      1      0  30.0708       False  False            0   \n",
       "10         1  female      1      1  16.7000       False  False            0   \n",
       "11         1  female      0      0  26.5500       False   True            1   \n",
       "12         0    male      0      0   8.0500        True   True            0   \n",
       "13         0    male      1      5  31.2750        True  False            0   \n",
       "14         0  female      0      0   7.8542       False   True            0   \n",
       "15         1  female      0      0  16.0000       False   True            0   \n",
       "16         0    male      4      1  29.1250       False  False            0   \n",
       "17         1    male      0      0  13.0000        True   True            0   \n",
       "18         0  female      1      0  18.0000       False  False            0   \n",
       "19         1  female      0      0   7.2250       False   True            0   \n",
       "\n",
       "    class_Second  class_Third  who_child  who_man  who_woman  \n",
       "0              0            1          0        1          0  \n",
       "1              0            0          0        0          1  \n",
       "2              0            1          0        0          1  \n",
       "3              0            0          0        0          1  \n",
       "4              0            1          0        1          0  \n",
       "5              0            1          0        1          0  \n",
       "6              0            0          0        1          0  \n",
       "7              0            1          1        0          0  \n",
       "8              0            1          0        0          1  \n",
       "9              1            0          1        0          0  \n",
       "10             0            1          1        0          0  \n",
       "11             0            0          0        0          1  \n",
       "12             0            1          0        1          0  \n",
       "13             0            1          0        1          0  \n",
       "14             0            1          1        0          0  \n",
       "15             1            0          0        0          1  \n",
       "16             0            1          1        0          0  \n",
       "17             1            0          0        1          0  \n",
       "18             0            1          0        0          1  \n",
       "19             0            1          0        0          1  "
      ]
     },
     "execution_count": 51,
     "metadata": {},
     "output_type": "execute_result"
    }
   ],
   "source": [
    "# titanic_encoded = titanic_sem_na.copy()\n",
    "titanic_encoded = pd.get_dummies(titanic_sem_na, columns=['class','who'])\n",
    "titanic_encoded.head(20)"
   ]
  },
  {
   "cell_type": "markdown",
   "metadata": {
    "hidden": true
   },
   "source": [
    "## Mapping"
   ]
  },
  {
   "cell_type": "code",
   "execution_count": 52,
   "metadata": {
    "hidden": true,
    "scrolled": true
   },
   "outputs": [
    {
     "data": {
      "text/plain": [
       "array(['male', 'female'], dtype=object)"
      ]
     },
     "execution_count": 52,
     "metadata": {},
     "output_type": "execute_result"
    }
   ],
   "source": [
    "titanic_encoded.sex.unique()"
   ]
  },
  {
   "cell_type": "code",
   "execution_count": 53,
   "metadata": {
    "hidden": true
   },
   "outputs": [],
   "source": [
    "titanic_encoded.sex = titanic_encoded.sex.map({'female': 1, 'male':0})"
   ]
  },
  {
   "cell_type": "code",
   "execution_count": 54,
   "metadata": {
    "hidden": true
   },
   "outputs": [
    {
     "data": {
      "text/plain": [
       "array([0, 1])"
      ]
     },
     "execution_count": 54,
     "metadata": {},
     "output_type": "execute_result"
    }
   ],
   "source": [
    "titanic_encoded.sex.unique()"
   ]
  },
  {
   "cell_type": "markdown",
   "metadata": {
    "hidden": true
   },
   "source": [
    "## Mudando alguns tipos de dados"
   ]
  },
  {
   "cell_type": "code",
   "execution_count": 55,
   "metadata": {
    "hidden": true
   },
   "outputs": [
    {
     "data": {
      "text/plain": [
       "survived          int64\n",
       "sex               int64\n",
       "sibsp             int64\n",
       "parch             int64\n",
       "fare            float64\n",
       "adult_male         bool\n",
       "alone              bool\n",
       "class_First       uint8\n",
       "class_Second      uint8\n",
       "class_Third       uint8\n",
       "who_child         uint8\n",
       "who_man           uint8\n",
       "who_woman         uint8\n",
       "dtype: object"
      ]
     },
     "execution_count": 55,
     "metadata": {},
     "output_type": "execute_result"
    }
   ],
   "source": [
    "titanic_encoded.dtypes"
   ]
  },
  {
   "cell_type": "code",
   "execution_count": 56,
   "metadata": {
    "hidden": true
   },
   "outputs": [
    {
     "data": {
      "text/plain": [
       "0      1\n",
       "1      0\n",
       "2      0\n",
       "3      0\n",
       "4      1\n",
       "      ..\n",
       "779    0\n",
       "780    0\n",
       "781    0\n",
       "782    1\n",
       "783    1\n",
       "Name: adult_male, Length: 784, dtype: int64"
      ]
     },
     "execution_count": 56,
     "metadata": {},
     "output_type": "execute_result"
    }
   ],
   "source": [
    "titanic_encoded.adult_male.astype(int)"
   ]
  },
  {
   "cell_type": "code",
   "execution_count": 57,
   "metadata": {
    "hidden": true
   },
   "outputs": [],
   "source": [
    "titanic_encoded.adult_male = titanic_encoded.adult_male.astype(int)\n",
    "titanic_encoded.alone = titanic_encoded.alone.astype(int)"
   ]
  },
  {
   "cell_type": "code",
   "execution_count": 58,
   "metadata": {
    "hidden": true
   },
   "outputs": [
    {
     "data": {
      "text/plain": [
       "survived          int64\n",
       "sex               int64\n",
       "sibsp             int64\n",
       "parch             int64\n",
       "fare            float64\n",
       "adult_male        int64\n",
       "alone             int64\n",
       "class_First       uint8\n",
       "class_Second      uint8\n",
       "class_Third       uint8\n",
       "who_child         uint8\n",
       "who_man           uint8\n",
       "who_woman         uint8\n",
       "dtype: object"
      ]
     },
     "execution_count": 58,
     "metadata": {},
     "output_type": "execute_result"
    }
   ],
   "source": [
    "titanic_encoded.dtypes"
   ]
  },
  {
   "cell_type": "code",
   "execution_count": 59,
   "metadata": {
    "hidden": true
   },
   "outputs": [
    {
     "data": {
      "text/plain": [
       "Index(['survived', 'sex', 'sibsp', 'parch', 'fare', 'adult_male', 'alone',\n",
       "       'class_First', 'class_Second', 'class_Third', 'who_child', 'who_man',\n",
       "       'who_woman'],\n",
       "      dtype='object')"
      ]
     },
     "execution_count": 59,
     "metadata": {},
     "output_type": "execute_result"
    }
   ],
   "source": [
    "titanic_encoded.columns"
   ]
  },
  {
   "cell_type": "markdown",
   "metadata": {},
   "source": [
    "# 6. Separando as variáveis explicativas da target <a name=\"separando\"></a>\n",
    "<div style=\"text-align: right\"\n",
    "     \n",
    "[Voltar ao índice](#Contents)"
   ]
  },
  {
   "cell_type": "code",
   "execution_count": 60,
   "metadata": {},
   "outputs": [],
   "source": [
    "y = titanic_encoded.survived"
   ]
  },
  {
   "cell_type": "code",
   "execution_count": 61,
   "metadata": {},
   "outputs": [],
   "source": [
    "X = titanic_encoded.drop('survived',axis=1)"
   ]
  },
  {
   "cell_type": "markdown",
   "metadata": {},
   "source": [
    "# 7. Árvore de classificação com uma variável flag <a name=\"1_flag\"></a>\n",
    "<div style=\"text-align: right\"\n",
    "     \n",
    "[Voltar ao índice](#Contents)"
   ]
  },
  {
   "cell_type": "code",
   "execution_count": 69,
   "metadata": {},
   "outputs": [
    {
     "data": {
      "text/plain": [
       "DecisionTreeClassifier(random_state=100)"
      ]
     },
     "execution_count": 69,
     "metadata": {},
     "output_type": "execute_result"
    }
   ],
   "source": [
    "clf = DecisionTreeClassifier(random_state=100)\n",
    "clf"
   ]
  },
  {
   "cell_type": "code",
   "execution_count": 70,
   "metadata": {
    "scrolled": true
   },
   "outputs": [
    {
     "data": {
      "text/html": [
       "<div>\n",
       "<style scoped>\n",
       "    .dataframe tbody tr th:only-of-type {\n",
       "        vertical-align: middle;\n",
       "    }\n",
       "\n",
       "    .dataframe tbody tr th {\n",
       "        vertical-align: top;\n",
       "    }\n",
       "\n",
       "    .dataframe thead th {\n",
       "        text-align: right;\n",
       "    }\n",
       "</style>\n",
       "<table border=\"1\" class=\"dataframe\">\n",
       "  <thead>\n",
       "    <tr style=\"text-align: right;\">\n",
       "      <th></th>\n",
       "      <th>sex</th>\n",
       "      <th>sibsp</th>\n",
       "      <th>parch</th>\n",
       "      <th>fare</th>\n",
       "      <th>adult_male</th>\n",
       "      <th>alone</th>\n",
       "      <th>class_First</th>\n",
       "      <th>class_Second</th>\n",
       "      <th>class_Third</th>\n",
       "      <th>who_child</th>\n",
       "      <th>who_man</th>\n",
       "      <th>who_woman</th>\n",
       "    </tr>\n",
       "  </thead>\n",
       "  <tbody>\n",
       "    <tr>\n",
       "      <th>0</th>\n",
       "      <td>0</td>\n",
       "      <td>1</td>\n",
       "      <td>0</td>\n",
       "      <td>7.2500</td>\n",
       "      <td>1</td>\n",
       "      <td>0</td>\n",
       "      <td>0</td>\n",
       "      <td>0</td>\n",
       "      <td>1</td>\n",
       "      <td>0</td>\n",
       "      <td>1</td>\n",
       "      <td>0</td>\n",
       "    </tr>\n",
       "    <tr>\n",
       "      <th>1</th>\n",
       "      <td>1</td>\n",
       "      <td>1</td>\n",
       "      <td>0</td>\n",
       "      <td>71.2833</td>\n",
       "      <td>0</td>\n",
       "      <td>0</td>\n",
       "      <td>1</td>\n",
       "      <td>0</td>\n",
       "      <td>0</td>\n",
       "      <td>0</td>\n",
       "      <td>0</td>\n",
       "      <td>1</td>\n",
       "    </tr>\n",
       "    <tr>\n",
       "      <th>2</th>\n",
       "      <td>1</td>\n",
       "      <td>0</td>\n",
       "      <td>0</td>\n",
       "      <td>7.9250</td>\n",
       "      <td>0</td>\n",
       "      <td>1</td>\n",
       "      <td>0</td>\n",
       "      <td>0</td>\n",
       "      <td>1</td>\n",
       "      <td>0</td>\n",
       "      <td>0</td>\n",
       "      <td>1</td>\n",
       "    </tr>\n",
       "    <tr>\n",
       "      <th>3</th>\n",
       "      <td>1</td>\n",
       "      <td>1</td>\n",
       "      <td>0</td>\n",
       "      <td>53.1000</td>\n",
       "      <td>0</td>\n",
       "      <td>0</td>\n",
       "      <td>1</td>\n",
       "      <td>0</td>\n",
       "      <td>0</td>\n",
       "      <td>0</td>\n",
       "      <td>0</td>\n",
       "      <td>1</td>\n",
       "    </tr>\n",
       "    <tr>\n",
       "      <th>4</th>\n",
       "      <td>0</td>\n",
       "      <td>0</td>\n",
       "      <td>0</td>\n",
       "      <td>8.0500</td>\n",
       "      <td>1</td>\n",
       "      <td>1</td>\n",
       "      <td>0</td>\n",
       "      <td>0</td>\n",
       "      <td>1</td>\n",
       "      <td>0</td>\n",
       "      <td>1</td>\n",
       "      <td>0</td>\n",
       "    </tr>\n",
       "  </tbody>\n",
       "</table>\n",
       "</div>"
      ],
      "text/plain": [
       "   sex  sibsp  parch     fare  adult_male  alone  class_First  class_Second  \\\n",
       "0    0      1      0   7.2500           1      0            0             0   \n",
       "1    1      1      0  71.2833           0      0            1             0   \n",
       "2    1      0      0   7.9250           0      1            0             0   \n",
       "3    1      1      0  53.1000           0      0            1             0   \n",
       "4    0      0      0   8.0500           1      1            0             0   \n",
       "\n",
       "   class_Third  who_child  who_man  who_woman  \n",
       "0            1          0        1          0  \n",
       "1            0          0        0          1  \n",
       "2            1          0        0          1  \n",
       "3            0          0        0          1  \n",
       "4            1          0        1          0  "
      ]
     },
     "execution_count": 70,
     "metadata": {},
     "output_type": "execute_result"
    }
   ],
   "source": [
    "X.head()"
   ]
  },
  {
   "cell_type": "code",
   "execution_count": 64,
   "metadata": {},
   "outputs": [
    {
     "data": {
      "text/plain": [
       "0      0\n",
       "1      1\n",
       "2      1\n",
       "3      1\n",
       "4      0\n",
       "      ..\n",
       "779    0\n",
       "780    1\n",
       "781    0\n",
       "782    1\n",
       "783    0\n",
       "Name: survived, Length: 784, dtype: int64"
      ]
     },
     "execution_count": 64,
     "metadata": {},
     "output_type": "execute_result"
    }
   ],
   "source": [
    "y"
   ]
  },
  {
   "cell_type": "markdown",
   "metadata": {},
   "source": [
    "## Homem adulto"
   ]
  },
  {
   "cell_type": "code",
   "execution_count": 73,
   "metadata": {},
   "outputs": [
    {
     "data": {
      "text/html": [
       "<div>\n",
       "<style scoped>\n",
       "    .dataframe tbody tr th:only-of-type {\n",
       "        vertical-align: middle;\n",
       "    }\n",
       "\n",
       "    .dataframe tbody tr th {\n",
       "        vertical-align: top;\n",
       "    }\n",
       "\n",
       "    .dataframe thead th {\n",
       "        text-align: right;\n",
       "    }\n",
       "</style>\n",
       "<table border=\"1\" class=\"dataframe\">\n",
       "  <thead>\n",
       "    <tr style=\"text-align: right;\">\n",
       "      <th></th>\n",
       "      <th>adult_male</th>\n",
       "    </tr>\n",
       "  </thead>\n",
       "  <tbody>\n",
       "    <tr>\n",
       "      <th>0</th>\n",
       "      <td>1</td>\n",
       "    </tr>\n",
       "    <tr>\n",
       "      <th>1</th>\n",
       "      <td>0</td>\n",
       "    </tr>\n",
       "    <tr>\n",
       "      <th>2</th>\n",
       "      <td>0</td>\n",
       "    </tr>\n",
       "    <tr>\n",
       "      <th>3</th>\n",
       "      <td>0</td>\n",
       "    </tr>\n",
       "    <tr>\n",
       "      <th>4</th>\n",
       "      <td>1</td>\n",
       "    </tr>\n",
       "    <tr>\n",
       "      <th>...</th>\n",
       "      <td>...</td>\n",
       "    </tr>\n",
       "    <tr>\n",
       "      <th>779</th>\n",
       "      <td>0</td>\n",
       "    </tr>\n",
       "    <tr>\n",
       "      <th>780</th>\n",
       "      <td>0</td>\n",
       "    </tr>\n",
       "    <tr>\n",
       "      <th>781</th>\n",
       "      <td>0</td>\n",
       "    </tr>\n",
       "    <tr>\n",
       "      <th>782</th>\n",
       "      <td>1</td>\n",
       "    </tr>\n",
       "    <tr>\n",
       "      <th>783</th>\n",
       "      <td>1</td>\n",
       "    </tr>\n",
       "  </tbody>\n",
       "</table>\n",
       "<p>784 rows × 1 columns</p>\n",
       "</div>"
      ],
      "text/plain": [
       "     adult_male\n",
       "0             1\n",
       "1             0\n",
       "2             0\n",
       "3             0\n",
       "4             1\n",
       "..          ...\n",
       "779           0\n",
       "780           0\n",
       "781           0\n",
       "782           1\n",
       "783           1\n",
       "\n",
       "[784 rows x 1 columns]"
      ]
     },
     "execution_count": 73,
     "metadata": {},
     "output_type": "execute_result"
    }
   ],
   "source": [
    "X[['adult_male']]"
   ]
  },
  {
   "cell_type": "code",
   "execution_count": 74,
   "metadata": {},
   "outputs": [
    {
     "data": {
      "text/plain": [
       "DecisionTreeClassifier(random_state=100)"
      ]
     },
     "execution_count": 74,
     "metadata": {},
     "output_type": "execute_result"
    }
   ],
   "source": [
    "clf = clf.fit(X[['adult_male']], y)\n",
    "clf"
   ]
  },
  {
   "cell_type": "code",
   "execution_count": 79,
   "metadata": {},
   "outputs": [
    {
     "data": {
      "text/plain": [
       "0    461\n",
       "1    323\n",
       "Name: survived, dtype: int64"
      ]
     },
     "execution_count": 79,
     "metadata": {},
     "output_type": "execute_result"
    }
   ],
   "source": [
    "titanic_encoded.survived.value_counts()"
   ]
  },
  {
   "cell_type": "code",
   "execution_count": 78,
   "metadata": {},
   "outputs": [],
   "source": [
    "import matplotlib.pyplot as plt\n"
   ]
  },
  {
   "cell_type": "code",
   "execution_count": 77,
   "metadata": {},
   "outputs": [
    {
     "data": {
      "image/png": "[encoded data removed]",
      "image/svg+xml": "<?xml version=\"1.0\" encoding=\"utf-8\" standalone=\"no\"?>\n<!DOCTYPE svg PUBLIC \"-//W3C//DTD SVG 1.1//EN\"\n  \"http://www.w3.org/Graphics/SVG/1.1/DTD/svg11.dtd\">\n<svg xmlns:xlink=\"http://www.w3.org/1999/xlink\" width=\"851.4pt\" height=\"558pt\" viewBox=\"0 0 851.4 558\" xmlns=\"http://www.w3.org/2000/svg\" version=\"1.1\">\n <metadata>\n  <rdf:RDF xmlns:dc=\"http://purl.org/dc/elements/1.1/\" xmlns:cc=\"http://creativecommons.org/ns#\" xmlns:rdf=\"http://www.w3.org/1999/02/22-rdf-syntax-ns#\">\n   <cc:Work>\n    <dc:type rdf:resource=\"http://purl.org/dc/dcmitype/StillImage\"/>\n    <dc:date>2022-10-01T10:18:27.400872</dc:date>\n    <dc:format>image/svg+xml</dc:format>\n    <dc:creator>\n     <cc:Agent>\n      <dc:title>Matplotlib v3.5.1, https://matplotlib.org/</dc:title>\n     </cc:Agent>\n    </dc:creator>\n   </cc:Work>\n  </rdf:RDF>\n </metadata>\n <defs>\n  <style type=\"text/css\">*{stroke-linejoin: round; stroke-linecap: butt}</style>\n </defs>\n <g id=\"figure_1\">\n  <g id=\"patch_1\">\n   <path d=\"M 0 558 \nL 851.4 558 \nL 851.4 0 \nL 0 0 \nL 0 558 \nz\n\" style=\"fill: none\"/>\n  </g>\n  <g id=\"axes_1\">\n   <g id=\"patch_2\">\n    <path d=\"M 299.416752 307.132435 \nQ 361.608068 226.350596 424.481415 144.68285 \n\" style=\"fill: none; stroke: #000000; stroke-linecap: round\"/>\n    <path d=\"M 315.87007 299.163193 \nL 299.416752 307.132435 \nL 302.91335 289.188235 \n\" style=\"fill: none; stroke: #000000; stroke-linecap: round\"/>\n   </g>\n   <g id=\"text_1\">\n    <g id=\"patch_3\">\n     <path d=\"M 20.182315 519.69682 \nL 412.717685 519.69682 \nL 412.717685 310.10318 \nL 20.182315 310.10318 \nz\n\" style=\"fill: #88c4ef; stroke: #000000; stroke-linejoin: miter\"/>\n    </g>\n    <!-- gini = 0.408 -->\n    <g transform=\"translate(90.529533 357.516573)scale(0.408791 -0.408791)\">\n     <defs>\n      <path id=\"DejaVuSans-67\" d=\"M 2906 1791 \nQ 2906 2416 2648 2759 \nQ 2391 3103 1925 3103 \nQ 1463 3103 1205 2759 \nQ 947 2416 947 1791 \nQ 947 1169 1205 825 \nQ 1463 481 1925 481 \nQ 2391 481 2648 825 \nQ 2906 1169 2906 1791 \nz\nM 3481 434 \nQ 3481 -459 3084 -895 \nQ 2688 -1331 1869 -1331 \nQ 1566 -1331 1297 -1286 \nQ 1028 -1241 775 -1147 \nL 775 -588 \nQ 1028 -725 1275 -790 \nQ 1522 -856 1778 -856 \nQ 2344 -856 2625 -561 \nQ 2906 -266 2906 331 \nL 2906 616 \nQ 2728 306 2450 153 \nQ 2172 0 1784 0 \nQ 1141 0 747 490 \nQ 353 981 353 1791 \nQ 353 2603 747 3093 \nQ 1141 3584 1784 3584 \nQ 2172 3584 2450 3431 \nQ 2728 3278 2906 2969 \nL 2906 3500 \nL 3481 3500 \nL 3481 434 \nz\n\" transform=\"scale(0.015625)\"/>\n      <path id=\"DejaVuSans-69\" d=\"M 603 3500 \nL 1178 3500 \nL 1178 0 \nL 603 0 \nL 603 3500 \nz\nM 603 4863 \nL 1178 4863 \nL 1178 4134 \nL 603 4134 \nL 603 4863 \nz\n\" transform=\"scale(0.015625)\"/>\n      <path id=\"DejaVuSans-6e\" d=\"M 3513 2113 \nL 3513 0 \nL 2938 0 \nL 2938 2094 \nQ 2938 2591 2744 2837 \nQ 2550 3084 2163 3084 \nQ 1697 3084 1428 2787 \nQ 1159 2491 1159 1978 \nL 1159 0 \nL 581 0 \nL 581 3500 \nL 1159 3500 \nL 1159 2956 \nQ 1366 3272 1645 3428 \nQ 1925 3584 2291 3584 \nQ 2894 3584 3203 3211 \nQ 3513 2838 3513 2113 \nz\n\" transform=\"scale(0.015625)\"/>\n      <path id=\"DejaVuSans-20\" transform=\"scale(0.015625)\"/>\n      <path id=\"DejaVuSans-3d\" d=\"M 678 2906 \nL 4684 2906 \nL 4684 2381 \nL 678 2381 \nL 678 2906 \nz\nM 678 1631 \nL 4684 1631 \nL 4684 1100 \nL 678 1100 \nL 678 1631 \nz\n\" transform=\"scale(0.015625)\"/>\n      <path id=\"DejaVuSans-30\" d=\"M 2034 4250 \nQ 1547 4250 1301 3770 \nQ 1056 3291 1056 2328 \nQ 1056 1369 1301 889 \nQ 1547 409 2034 409 \nQ 2525 409 2770 889 \nQ 3016 1369 3016 2328 \nQ 3016 3291 2770 3770 \nQ 2525 4250 2034 4250 \nz\nM 2034 4750 \nQ 2819 4750 3233 4129 \nQ 3647 3509 3647 2328 \nQ 3647 1150 3233 529 \nQ 2819 -91 2034 -91 \nQ 1250 -91 836 529 \nQ 422 1150 422 2328 \nQ 422 3509 836 4129 \nQ 1250 4750 2034 4750 \nz\n\" transform=\"scale(0.015625)\"/>\n      <path id=\"DejaVuSans-2e\" d=\"M 684 794 \nL 1344 794 \nL 1344 0 \nL 684 0 \nL 684 794 \nz\n\" transform=\"scale(0.015625)\"/>\n      <path id=\"DejaVuSans-34\" d=\"M 2419 4116 \nL 825 1625 \nL 2419 1625 \nL 2419 4116 \nz\nM 2253 4666 \nL 3047 4666 \nL 3047 1625 \nL 3713 1625 \nL 3713 1100 \nL 3047 1100 \nL 3047 0 \nL 2419 0 \nL 2419 1100 \nL 313 1100 \nL 313 1709 \nL 2253 4666 \nz\n\" transform=\"scale(0.015625)\"/>\n      <path id=\"DejaVuSans-38\" d=\"M 2034 2216 \nQ 1584 2216 1326 1975 \nQ 1069 1734 1069 1313 \nQ 1069 891 1326 650 \nQ 1584 409 2034 409 \nQ 2484 409 2743 651 \nQ 3003 894 3003 1313 \nQ 3003 1734 2745 1975 \nQ 2488 2216 2034 2216 \nz\nM 1403 2484 \nQ 997 2584 770 2862 \nQ 544 3141 544 3541 \nQ 544 4100 942 4425 \nQ 1341 4750 2034 4750 \nQ 2731 4750 3128 4425 \nQ 3525 4100 3525 3541 \nQ 3525 3141 3298 2862 \nQ 3072 2584 2669 2484 \nQ 3125 2378 3379 2068 \nQ 3634 1759 3634 1313 \nQ 3634 634 3220 271 \nQ 2806 -91 2034 -91 \nQ 1263 -91 848 271 \nQ 434 634 434 1313 \nQ 434 1759 690 2068 \nQ 947 2378 1403 2484 \nz\nM 1172 3481 \nQ 1172 3119 1398 2916 \nQ 1625 2713 2034 2713 \nQ 2441 2713 2670 2916 \nQ 2900 3119 2900 3481 \nQ 2900 3844 2670 4047 \nQ 2441 4250 2034 4250 \nQ 1625 4250 1398 4047 \nQ 1172 3844 1172 3481 \nz\n\" transform=\"scale(0.015625)\"/>\n     </defs>\n     <use xlink:href=\"#DejaVuSans-67\"/>\n     <use xlink:href=\"#DejaVuSans-69\" x=\"63.476562\"/>\n     <use xlink:href=\"#DejaVuSans-6e\" x=\"91.259766\"/>\n     <use xlink:href=\"#DejaVuSans-69\" x=\"154.638672\"/>\n     <use xlink:href=\"#DejaVuSans-20\" x=\"182.421875\"/>\n     <use xlink:href=\"#DejaVuSans-3d\" x=\"214.208984\"/>\n     <use xlink:href=\"#DejaVuSans-20\" x=\"297.998047\"/>\n     <use xlink:href=\"#DejaVuSans-30\" x=\"329.785156\"/>\n     <use xlink:href=\"#DejaVuSans-2e\" x=\"393.408203\"/>\n     <use xlink:href=\"#DejaVuSans-34\" x=\"425.195312\"/>\n     <use xlink:href=\"#DejaVuSans-30\" x=\"488.818359\"/>\n     <use xlink:href=\"#DejaVuSans-38\" x=\"552.441406\"/>\n    </g>\n    <!-- samples = 333 -->\n    <g transform=\"translate(62.354876 403.292246)scale(0.408791 -0.408791)\">\n     <defs>\n      <path id=\"DejaVuSans-73\" d=\"M 2834 3397 \nL 2834 2853 \nQ 2591 2978 2328 3040 \nQ 2066 3103 1784 3103 \nQ 1356 3103 1142 2972 \nQ 928 2841 928 2578 \nQ 928 2378 1081 2264 \nQ 1234 2150 1697 2047 \nL 1894 2003 \nQ 2506 1872 2764 1633 \nQ 3022 1394 3022 966 \nQ 3022 478 2636 193 \nQ 2250 -91 1575 -91 \nQ 1294 -91 989 -36 \nQ 684 19 347 128 \nL 347 722 \nQ 666 556 975 473 \nQ 1284 391 1588 391 \nQ 1994 391 2212 530 \nQ 2431 669 2431 922 \nQ 2431 1156 2273 1281 \nQ 2116 1406 1581 1522 \nL 1381 1569 \nQ 847 1681 609 1914 \nQ 372 2147 372 2553 \nQ 372 3047 722 3315 \nQ 1072 3584 1716 3584 \nQ 2034 3584 2315 3537 \nQ 2597 3491 2834 3397 \nz\n\" transform=\"scale(0.015625)\"/>\n      <path id=\"DejaVuSans-61\" d=\"M 2194 1759 \nQ 1497 1759 1228 1600 \nQ 959 1441 959 1056 \nQ 959 750 1161 570 \nQ 1363 391 1709 391 \nQ 2188 391 2477 730 \nQ 2766 1069 2766 1631 \nL 2766 1759 \nL 2194 1759 \nz\nM 3341 1997 \nL 3341 0 \nL 2766 0 \nL 2766 531 \nQ 2569 213 2275 61 \nQ 1981 -91 1556 -91 \nQ 1019 -91 701 211 \nQ 384 513 384 1019 \nQ 384 1609 779 1909 \nQ 1175 2209 1959 2209 \nL 2766 2209 \nL 2766 2266 \nQ 2766 2663 2505 2880 \nQ 2244 3097 1772 3097 \nQ 1472 3097 1187 3025 \nQ 903 2953 641 2809 \nL 641 3341 \nQ 956 3463 1253 3523 \nQ 1550 3584 1831 3584 \nQ 2591 3584 2966 3190 \nQ 3341 2797 3341 1997 \nz\n\" transform=\"scale(0.015625)\"/>\n      <path id=\"DejaVuSans-6d\" d=\"M 3328 2828 \nQ 3544 3216 3844 3400 \nQ 4144 3584 4550 3584 \nQ 5097 3584 5394 3201 \nQ 5691 2819 5691 2113 \nL 5691 0 \nL 5113 0 \nL 5113 2094 \nQ 5113 2597 4934 2840 \nQ 4756 3084 4391 3084 \nQ 3944 3084 3684 2787 \nQ 3425 2491 3425 1978 \nL 3425 0 \nL 2847 0 \nL 2847 2094 \nQ 2847 2600 2669 2842 \nQ 2491 3084 2119 3084 \nQ 1678 3084 1418 2786 \nQ 1159 2488 1159 1978 \nL 1159 0 \nL 581 0 \nL 581 3500 \nL 1159 3500 \nL 1159 2956 \nQ 1356 3278 1631 3431 \nQ 1906 3584 2284 3584 \nQ 2666 3584 2933 3390 \nQ 3200 3197 3328 2828 \nz\n\" transform=\"scale(0.015625)\"/>\n      <path id=\"DejaVuSans-70\" d=\"M 1159 525 \nL 1159 -1331 \nL 581 -1331 \nL 581 3500 \nL 1159 3500 \nL 1159 2969 \nQ 1341 3281 1617 3432 \nQ 1894 3584 2278 3584 \nQ 2916 3584 3314 3078 \nQ 3713 2572 3713 1747 \nQ 3713 922 3314 415 \nQ 2916 -91 2278 -91 \nQ 1894 -91 1617 61 \nQ 1341 213 1159 525 \nz\nM 3116 1747 \nQ 3116 2381 2855 2742 \nQ 2594 3103 2138 3103 \nQ 1681 3103 1420 2742 \nQ 1159 2381 1159 1747 \nQ 1159 1113 1420 752 \nQ 1681 391 2138 391 \nQ 2594 391 2855 752 \nQ 3116 1113 3116 1747 \nz\n\" transform=\"scale(0.015625)\"/>\n      <path id=\"DejaVuSans-6c\" d=\"M 603 4863 \nL 1178 4863 \nL 1178 0 \nL 603 0 \nL 603 4863 \nz\n\" transform=\"scale(0.015625)\"/>\n      <path id=\"DejaVuSans-65\" d=\"M 3597 1894 \nL 3597 1613 \nL 953 1613 \nQ 991 1019 1311 708 \nQ 1631 397 2203 397 \nQ 2534 397 2845 478 \nQ 3156 559 3463 722 \nL 3463 178 \nQ 3153 47 2828 -22 \nQ 2503 -91 2169 -91 \nQ 1331 -91 842 396 \nQ 353 884 353 1716 \nQ 353 2575 817 3079 \nQ 1281 3584 2069 3584 \nQ 2775 3584 3186 3129 \nQ 3597 2675 3597 1894 \nz\nM 3022 2063 \nQ 3016 2534 2758 2815 \nQ 2500 3097 2075 3097 \nQ 1594 3097 1305 2825 \nQ 1016 2553 972 2059 \nL 3022 2063 \nz\n\" transform=\"scale(0.015625)\"/>\n      <path id=\"DejaVuSans-33\" d=\"M 2597 2516 \nQ 3050 2419 3304 2112 \nQ 3559 1806 3559 1356 \nQ 3559 666 3084 287 \nQ 2609 -91 1734 -91 \nQ 1441 -91 1130 -33 \nQ 819 25 488 141 \nL 488 750 \nQ 750 597 1062 519 \nQ 1375 441 1716 441 \nQ 2309 441 2620 675 \nQ 2931 909 2931 1356 \nQ 2931 1769 2642 2001 \nQ 2353 2234 1838 2234 \nL 1294 2234 \nL 1294 2753 \nL 1863 2753 \nQ 2328 2753 2575 2939 \nQ 2822 3125 2822 3475 \nQ 2822 3834 2567 4026 \nQ 2313 4219 1838 4219 \nQ 1578 4219 1281 4162 \nQ 984 4106 628 3988 \nL 628 4550 \nQ 988 4650 1302 4700 \nQ 1616 4750 1894 4750 \nQ 2613 4750 3031 4423 \nQ 3450 4097 3450 3541 \nQ 3450 3153 3228 2886 \nQ 3006 2619 2597 2516 \nz\n\" transform=\"scale(0.015625)\"/>\n     </defs>\n     <use xlink:href=\"#DejaVuSans-73\"/>\n     <use xlink:href=\"#DejaVuSans-61\" x=\"52.099609\"/>\n     <use xlink:href=\"#DejaVuSans-6d\" x=\"113.378906\"/>\n     <use xlink:href=\"#DejaVuSans-70\" x=\"210.791016\"/>\n     <use xlink:href=\"#DejaVuSans-6c\" x=\"274.267578\"/>\n     <use xlink:href=\"#DejaVuSans-65\" x=\"302.050781\"/>\n     <use xlink:href=\"#DejaVuSans-73\" x=\"363.574219\"/>\n     <use xlink:href=\"#DejaVuSans-20\" x=\"415.673828\"/>\n     <use xlink:href=\"#DejaVuSans-3d\" x=\"447.460938\"/>\n     <use xlink:href=\"#DejaVuSans-20\" x=\"531.25\"/>\n     <use xlink:href=\"#DejaVuSans-33\" x=\"563.037109\"/>\n     <use xlink:href=\"#DejaVuSans-33\" x=\"626.660156\"/>\n     <use xlink:href=\"#DejaVuSans-33\" x=\"690.283203\"/>\n    </g>\n    <!-- value = [95, 238] -->\n    <g transform=\"translate(36.533963 449.067919)scale(0.408791 -0.408791)\">\n     <defs>\n      <path id=\"DejaVuSans-76\" d=\"M 191 3500 \nL 800 3500 \nL 1894 563 \nL 2988 3500 \nL 3597 3500 \nL 2284 0 \nL 1503 0 \nL 191 3500 \nz\n\" transform=\"scale(0.015625)\"/>\n      <path id=\"DejaVuSans-75\" d=\"M 544 1381 \nL 544 3500 \nL 1119 3500 \nL 1119 1403 \nQ 1119 906 1312 657 \nQ 1506 409 1894 409 \nQ 2359 409 2629 706 \nQ 2900 1003 2900 1516 \nL 2900 3500 \nL 3475 3500 \nL 3475 0 \nL 2900 0 \nL 2900 538 \nQ 2691 219 2414 64 \nQ 2138 -91 1772 -91 \nQ 1169 -91 856 284 \nQ 544 659 544 1381 \nz\nM 1991 3584 \nL 1991 3584 \nz\n\" transform=\"scale(0.015625)\"/>\n      <path id=\"DejaVuSans-5b\" d=\"M 550 4863 \nL 1875 4863 \nL 1875 4416 \nL 1125 4416 \nL 1125 -397 \nL 1875 -397 \nL 1875 -844 \nL 550 -844 \nL 550 4863 \nz\n\" transform=\"scale(0.015625)\"/>\n      <path id=\"DejaVuSans-39\" d=\"M 703 97 \nL 703 672 \nQ 941 559 1184 500 \nQ 1428 441 1663 441 \nQ 2288 441 2617 861 \nQ 2947 1281 2994 2138 \nQ 2813 1869 2534 1725 \nQ 2256 1581 1919 1581 \nQ 1219 1581 811 2004 \nQ 403 2428 403 3163 \nQ 403 3881 828 4315 \nQ 1253 4750 1959 4750 \nQ 2769 4750 3195 4129 \nQ 3622 3509 3622 2328 \nQ 3622 1225 3098 567 \nQ 2575 -91 1691 -91 \nQ 1453 -91 1209 -44 \nQ 966 3 703 97 \nz\nM 1959 2075 \nQ 2384 2075 2632 2365 \nQ 2881 2656 2881 3163 \nQ 2881 3666 2632 3958 \nQ 2384 4250 1959 4250 \nQ 1534 4250 1286 3958 \nQ 1038 3666 1038 3163 \nQ 1038 2656 1286 2365 \nQ 1534 2075 1959 2075 \nz\n\" transform=\"scale(0.015625)\"/>\n      <path id=\"DejaVuSans-35\" d=\"M 691 4666 \nL 3169 4666 \nL 3169 4134 \nL 1269 4134 \nL 1269 2991 \nQ 1406 3038 1543 3061 \nQ 1681 3084 1819 3084 \nQ 2600 3084 3056 2656 \nQ 3513 2228 3513 1497 \nQ 3513 744 3044 326 \nQ 2575 -91 1722 -91 \nQ 1428 -91 1123 -41 \nQ 819 9 494 109 \nL 494 744 \nQ 775 591 1075 516 \nQ 1375 441 1709 441 \nQ 2250 441 2565 725 \nQ 2881 1009 2881 1497 \nQ 2881 1984 2565 2268 \nQ 2250 2553 1709 2553 \nQ 1456 2553 1204 2497 \nQ 953 2441 691 2322 \nL 691 4666 \nz\n\" transform=\"scale(0.015625)\"/>\n      <path id=\"DejaVuSans-2c\" d=\"M 750 794 \nL 1409 794 \nL 1409 256 \nL 897 -744 \nL 494 -744 \nL 750 256 \nL 750 794 \nz\n\" transform=\"scale(0.015625)\"/>\n      <path id=\"DejaVuSans-32\" d=\"M 1228 531 \nL 3431 531 \nL 3431 0 \nL 469 0 \nL 469 531 \nQ 828 903 1448 1529 \nQ 2069 2156 2228 2338 \nQ 2531 2678 2651 2914 \nQ 2772 3150 2772 3378 \nQ 2772 3750 2511 3984 \nQ 2250 4219 1831 4219 \nQ 1534 4219 1204 4116 \nQ 875 4013 500 3803 \nL 500 4441 \nQ 881 4594 1212 4672 \nQ 1544 4750 1819 4750 \nQ 2544 4750 2975 4387 \nQ 3406 4025 3406 3419 \nQ 3406 3131 3298 2873 \nQ 3191 2616 2906 2266 \nQ 2828 2175 2409 1742 \nQ 1991 1309 1228 531 \nz\n\" transform=\"scale(0.015625)\"/>\n      <path id=\"DejaVuSans-5d\" d=\"M 1947 4863 \nL 1947 -844 \nL 622 -844 \nL 622 -397 \nL 1369 -397 \nL 1369 4416 \nL 622 4416 \nL 622 4863 \nL 1947 4863 \nz\n\" transform=\"scale(0.015625)\"/>\n     </defs>\n     <use xlink:href=\"#DejaVuSans-76\"/>\n     <use xlink:href=\"#DejaVuSans-61\" x=\"59.179688\"/>\n     <use xlink:href=\"#DejaVuSans-6c\" x=\"120.458984\"/>\n     <use xlink:href=\"#DejaVuSans-75\" x=\"148.242188\"/>\n     <use xlink:href=\"#DejaVuSans-65\" x=\"211.621094\"/>\n     <use xlink:href=\"#DejaVuSans-20\" x=\"273.144531\"/>\n     <use xlink:href=\"#DejaVuSans-3d\" x=\"304.931641\"/>\n     <use xlink:href=\"#DejaVuSans-20\" x=\"388.720703\"/>\n     <use xlink:href=\"#DejaVuSans-5b\" x=\"420.507812\"/>\n     <use xlink:href=\"#DejaVuSans-39\" x=\"459.521484\"/>\n     <use xlink:href=\"#DejaVuSans-35\" x=\"523.144531\"/>\n     <use xlink:href=\"#DejaVuSans-2c\" x=\"586.767578\"/>\n     <use xlink:href=\"#DejaVuSans-20\" x=\"618.554688\"/>\n     <use xlink:href=\"#DejaVuSans-32\" x=\"650.341797\"/>\n     <use xlink:href=\"#DejaVuSans-33\" x=\"713.964844\"/>\n     <use xlink:href=\"#DejaVuSans-38\" x=\"777.587891\"/>\n     <use xlink:href=\"#DejaVuSans-5d\" x=\"841.210938\"/>\n    </g>\n    <!-- class = Survived -->\n    <g transform=\"translate(45.833963 494.843592)scale(0.408791 -0.408791)\">\n     <defs>\n      <path id=\"DejaVuSans-63\" d=\"M 3122 3366 \nL 3122 2828 \nQ 2878 2963 2633 3030 \nQ 2388 3097 2138 3097 \nQ 1578 3097 1268 2742 \nQ 959 2388 959 1747 \nQ 959 1106 1268 751 \nQ 1578 397 2138 397 \nQ 2388 397 2633 464 \nQ 2878 531 3122 666 \nL 3122 134 \nQ 2881 22 2623 -34 \nQ 2366 -91 2075 -91 \nQ 1284 -91 818 406 \nQ 353 903 353 1747 \nQ 353 2603 823 3093 \nQ 1294 3584 2113 3584 \nQ 2378 3584 2631 3529 \nQ 2884 3475 3122 3366 \nz\n\" transform=\"scale(0.015625)\"/>\n      <path id=\"DejaVuSans-53\" d=\"M 3425 4513 \nL 3425 3897 \nQ 3066 4069 2747 4153 \nQ 2428 4238 2131 4238 \nQ 1616 4238 1336 4038 \nQ 1056 3838 1056 3469 \nQ 1056 3159 1242 3001 \nQ 1428 2844 1947 2747 \nL 2328 2669 \nQ 3034 2534 3370 2195 \nQ 3706 1856 3706 1288 \nQ 3706 609 3251 259 \nQ 2797 -91 1919 -91 \nQ 1588 -91 1214 -16 \nQ 841 59 441 206 \nL 441 856 \nQ 825 641 1194 531 \nQ 1563 422 1919 422 \nQ 2459 422 2753 634 \nQ 3047 847 3047 1241 \nQ 3047 1584 2836 1778 \nQ 2625 1972 2144 2069 \nL 1759 2144 \nQ 1053 2284 737 2584 \nQ 422 2884 422 3419 \nQ 422 4038 858 4394 \nQ 1294 4750 2059 4750 \nQ 2388 4750 2728 4690 \nQ 3069 4631 3425 4513 \nz\n\" transform=\"scale(0.015625)\"/>\n      <path id=\"DejaVuSans-72\" d=\"M 2631 2963 \nQ 2534 3019 2420 3045 \nQ 2306 3072 2169 3072 \nQ 1681 3072 1420 2755 \nQ 1159 2438 1159 1844 \nL 1159 0 \nL 581 0 \nL 581 3500 \nL 1159 3500 \nL 1159 2956 \nQ 1341 3275 1631 3429 \nQ 1922 3584 2338 3584 \nQ 2397 3584 2469 3576 \nQ 2541 3569 2628 3553 \nL 2631 2963 \nz\n\" transform=\"scale(0.015625)\"/>\n      <path id=\"DejaVuSans-64\" d=\"M 2906 2969 \nL 2906 4863 \nL 3481 4863 \nL 3481 0 \nL 2906 0 \nL 2906 525 \nQ 2725 213 2448 61 \nQ 2172 -91 1784 -91 \nQ 1150 -91 751 415 \nQ 353 922 353 1747 \nQ 353 2572 751 3078 \nQ 1150 3584 1784 3584 \nQ 2172 3584 2448 3432 \nQ 2725 3281 2906 2969 \nz\nM 947 1747 \nQ 947 1113 1208 752 \nQ 1469 391 1925 391 \nQ 2381 391 2643 752 \nQ 2906 1113 2906 1747 \nQ 2906 2381 2643 2742 \nQ 2381 3103 1925 3103 \nQ 1469 3103 1208 2742 \nQ 947 2381 947 1747 \nz\n\" transform=\"scale(0.015625)\"/>\n     </defs>\n     <use xlink:href=\"#DejaVuSans-63\"/>\n     <use xlink:href=\"#DejaVuSans-6c\" x=\"54.980469\"/>\n     <use xlink:href=\"#DejaVuSans-61\" x=\"82.763672\"/>\n     <use xlink:href=\"#DejaVuSans-73\" x=\"144.042969\"/>\n     <use xlink:href=\"#DejaVuSans-73\" x=\"196.142578\"/>\n     <use xlink:href=\"#DejaVuSans-20\" x=\"248.242188\"/>\n     <use xlink:href=\"#DejaVuSans-3d\" x=\"280.029297\"/>\n     <use xlink:href=\"#DejaVuSans-20\" x=\"363.818359\"/>\n     <use xlink:href=\"#DejaVuSans-53\" x=\"395.605469\"/>\n     <use xlink:href=\"#DejaVuSans-75\" x=\"459.082031\"/>\n     <use xlink:href=\"#DejaVuSans-72\" x=\"522.460938\"/>\n     <use xlink:href=\"#DejaVuSans-76\" x=\"563.574219\"/>\n     <use xlink:href=\"#DejaVuSans-69\" x=\"622.753906\"/>\n     <use xlink:href=\"#DejaVuSans-76\" x=\"650.537109\"/>\n     <use xlink:href=\"#DejaVuSans-65\" x=\"709.716797\"/>\n     <use xlink:href=\"#DejaVuSans-64\" x=\"771.240234\"/>\n    </g>\n   </g>\n   <g id=\"patch_4\">\n    <path d=\"M 551.983248 307.132435 \nQ 489.791932 226.350596 426.918585 144.68285 \n\" style=\"fill: none; stroke: #000000; stroke-linecap: round\"/>\n    <path d=\"M 548.48665 289.188235 \nL 551.983248 307.132435 \nL 535.52993 299.163193 \n\" style=\"fill: none; stroke: #000000; stroke-linecap: round\"/>\n   </g>\n   <g id=\"text_2\">\n    <g id=\"patch_5\">\n     <path d=\"M 438.682315 519.69682 \nL 831.217685 519.69682 \nL 831.217685 310.10318 \nL 438.682315 310.10318 \nz\n\" style=\"fill: #eb9e67; stroke: #000000; stroke-linejoin: miter\"/>\n    </g>\n    <!-- gini = 0.306 -->\n    <g transform=\"translate(509.029533 357.516573)scale(0.408791 -0.408791)\">\n     <defs>\n      <path id=\"DejaVuSans-36\" d=\"M 2113 2584 \nQ 1688 2584 1439 2293 \nQ 1191 2003 1191 1497 \nQ 1191 994 1439 701 \nQ 1688 409 2113 409 \nQ 2538 409 2786 701 \nQ 3034 994 3034 1497 \nQ 3034 2003 2786 2293 \nQ 2538 2584 2113 2584 \nz\nM 3366 4563 \nL 3366 3988 \nQ 3128 4100 2886 4159 \nQ 2644 4219 2406 4219 \nQ 1781 4219 1451 3797 \nQ 1122 3375 1075 2522 \nQ 1259 2794 1537 2939 \nQ 1816 3084 2150 3084 \nQ 2853 3084 3261 2657 \nQ 3669 2231 3669 1497 \nQ 3669 778 3244 343 \nQ 2819 -91 2113 -91 \nQ 1303 -91 875 529 \nQ 447 1150 447 2328 \nQ 447 3434 972 4092 \nQ 1497 4750 2381 4750 \nQ 2619 4750 2861 4703 \nQ 3103 4656 3366 4563 \nz\n\" transform=\"scale(0.015625)\"/>\n     </defs>\n     <use xlink:href=\"#DejaVuSans-67\"/>\n     <use xlink:href=\"#DejaVuSans-69\" x=\"63.476562\"/>\n     <use xlink:href=\"#DejaVuSans-6e\" x=\"91.259766\"/>\n     <use xlink:href=\"#DejaVuSans-69\" x=\"154.638672\"/>\n     <use xlink:href=\"#DejaVuSans-20\" x=\"182.421875\"/>\n     <use xlink:href=\"#DejaVuSans-3d\" x=\"214.208984\"/>\n     <use xlink:href=\"#DejaVuSans-20\" x=\"297.998047\"/>\n     <use xlink:href=\"#DejaVuSans-30\" x=\"329.785156\"/>\n     <use xlink:href=\"#DejaVuSans-2e\" x=\"393.408203\"/>\n     <use xlink:href=\"#DejaVuSans-33\" x=\"425.195312\"/>\n     <use xlink:href=\"#DejaVuSans-30\" x=\"488.818359\"/>\n     <use xlink:href=\"#DejaVuSans-36\" x=\"552.441406\"/>\n    </g>\n    <!-- samples = 451 -->\n    <g transform=\"translate(480.854876 403.292246)scale(0.408791 -0.408791)\">\n     <defs>\n      <path id=\"DejaVuSans-31\" d=\"M 794 531 \nL 1825 531 \nL 1825 4091 \nL 703 3866 \nL 703 4441 \nL 1819 4666 \nL 2450 4666 \nL 2450 531 \nL 3481 531 \nL 3481 0 \nL 794 0 \nL 794 531 \nz\n\" transform=\"scale(0.015625)\"/>\n     </defs>\n     <use xlink:href=\"#DejaVuSans-73\"/>\n     <use xlink:href=\"#DejaVuSans-61\" x=\"52.099609\"/>\n     <use xlink:href=\"#DejaVuSans-6d\" x=\"113.378906\"/>\n     <use xlink:href=\"#DejaVuSans-70\" x=\"210.791016\"/>\n     <use xlink:href=\"#DejaVuSans-6c\" x=\"274.267578\"/>\n     <use xlink:href=\"#DejaVuSans-65\" x=\"302.050781\"/>\n     <use xlink:href=\"#DejaVuSans-73\" x=\"363.574219\"/>\n     <use xlink:href=\"#DejaVuSans-20\" x=\"415.673828\"/>\n     <use xlink:href=\"#DejaVuSans-3d\" x=\"447.460938\"/>\n     <use xlink:href=\"#DejaVuSans-20\" x=\"531.25\"/>\n     <use xlink:href=\"#DejaVuSans-34\" x=\"563.037109\"/>\n     <use xlink:href=\"#DejaVuSans-35\" x=\"626.660156\"/>\n     <use xlink:href=\"#DejaVuSans-31\" x=\"690.283203\"/>\n    </g>\n    <!-- value = [366, 85] -->\n    <g transform=\"translate(455.033963 449.067919)scale(0.408791 -0.408791)\">\n     <use xlink:href=\"#DejaVuSans-76\"/>\n     <use xlink:href=\"#DejaVuSans-61\" x=\"59.179688\"/>\n     <use xlink:href=\"#DejaVuSans-6c\" x=\"120.458984\"/>\n     <use xlink:href=\"#DejaVuSans-75\" x=\"148.242188\"/>\n     <use xlink:href=\"#DejaVuSans-65\" x=\"211.621094\"/>\n     <use xlink:href=\"#DejaVuSans-20\" x=\"273.144531\"/>\n     <use xlink:href=\"#DejaVuSans-3d\" x=\"304.931641\"/>\n     <use xlink:href=\"#DejaVuSans-20\" x=\"388.720703\"/>\n     <use xlink:href=\"#DejaVuSans-5b\" x=\"420.507812\"/>\n     <use xlink:href=\"#DejaVuSans-33\" x=\"459.521484\"/>\n     <use xlink:href=\"#DejaVuSans-36\" x=\"523.144531\"/>\n     <use xlink:href=\"#DejaVuSans-36\" x=\"586.767578\"/>\n     <use xlink:href=\"#DejaVuSans-2c\" x=\"650.390625\"/>\n     <use xlink:href=\"#DejaVuSans-20\" x=\"682.177734\"/>\n     <use xlink:href=\"#DejaVuSans-38\" x=\"713.964844\"/>\n     <use xlink:href=\"#DejaVuSans-35\" x=\"777.587891\"/>\n     <use xlink:href=\"#DejaVuSans-5d\" x=\"841.210938\"/>\n    </g>\n    <!-- class = Died -->\n    <g transform=\"translate(507.122905 494.843592)scale(0.408791 -0.408791)\">\n     <defs>\n      <path id=\"DejaVuSans-44\" d=\"M 1259 4147 \nL 1259 519 \nL 2022 519 \nQ 2988 519 3436 956 \nQ 3884 1394 3884 2338 \nQ 3884 3275 3436 3711 \nQ 2988 4147 2022 4147 \nL 1259 4147 \nz\nM 628 4666 \nL 1925 4666 \nQ 3281 4666 3915 4102 \nQ 4550 3538 4550 2338 \nQ 4550 1131 3912 565 \nQ 3275 0 1925 0 \nL 628 0 \nL 628 4666 \nz\n\" transform=\"scale(0.015625)\"/>\n     </defs>\n     <use xlink:href=\"#DejaVuSans-63\"/>\n     <use xlink:href=\"#DejaVuSans-6c\" x=\"54.980469\"/>\n     <use xlink:href=\"#DejaVuSans-61\" x=\"82.763672\"/>\n     <use xlink:href=\"#DejaVuSans-73\" x=\"144.042969\"/>\n     <use xlink:href=\"#DejaVuSans-73\" x=\"196.142578\"/>\n     <use xlink:href=\"#DejaVuSans-20\" x=\"248.242188\"/>\n     <use xlink:href=\"#DejaVuSans-3d\" x=\"280.029297\"/>\n     <use xlink:href=\"#DejaVuSans-20\" x=\"363.818359\"/>\n     <use xlink:href=\"#DejaVuSans-44\" x=\"395.605469\"/>\n     <use xlink:href=\"#DejaVuSans-69\" x=\"472.607422\"/>\n     <use xlink:href=\"#DejaVuSans-65\" x=\"500.390625\"/>\n     <use xlink:href=\"#DejaVuSans-64\" x=\"561.914062\"/>\n    </g>\n   </g>\n   <g id=\"patch_6\">\n    <path d=\"M 425.7 143.1 \nQ 425.7 143.1 425.7 143.1 \n\" style=\"fill: none; stroke: #000000; stroke-linecap: round\"/>\n   </g>\n   <g id=\"text_3\">\n    <g id=\"patch_7\">\n     <path d=\"M 216.427644 271.353132 \nL 634.972356 271.353132 \nL 634.972356 13.709918 \nL 216.427644 13.709918 \nz\n\" style=\"fill: #f7d9c4; stroke: #000000; stroke-linejoin: miter\"/>\n    </g>\n    <!-- adult_male &lt;= 0.5 -->\n    <g transform=\"translate(232.891071 62.260261)scale(0.408791 -0.408791)\">\n     <defs>\n      <path id=\"DejaVuSans-74\" d=\"M 1172 4494 \nL 1172 3500 \nL 2356 3500 \nL 2356 3053 \nL 1172 3053 \nL 1172 1153 \nQ 1172 725 1289 603 \nQ 1406 481 1766 481 \nL 2356 481 \nL 2356 0 \nL 1766 0 \nQ 1100 0 847 248 \nQ 594 497 594 1153 \nL 594 3053 \nL 172 3053 \nL 172 3500 \nL 594 3500 \nL 594 4494 \nL 1172 4494 \nz\n\" transform=\"scale(0.015625)\"/>\n      <path id=\"DejaVuSans-5f\" d=\"M 3263 -1063 \nL 3263 -1509 \nL -63 -1509 \nL -63 -1063 \nL 3263 -1063 \nz\n\" transform=\"scale(0.015625)\"/>\n      <path id=\"DejaVuSans-3c\" d=\"M 4684 3150 \nL 1459 2003 \nL 4684 863 \nL 4684 294 \nL 678 1747 \nL 678 2266 \nL 4684 3719 \nL 4684 3150 \nz\n\" transform=\"scale(0.015625)\"/>\n     </defs>\n     <use xlink:href=\"#DejaVuSans-61\"/>\n     <use xlink:href=\"#DejaVuSans-64\" x=\"61.279297\"/>\n     <use xlink:href=\"#DejaVuSans-75\" x=\"124.755859\"/>\n     <use xlink:href=\"#DejaVuSans-6c\" x=\"188.134766\"/>\n     <use xlink:href=\"#DejaVuSans-74\" x=\"215.917969\"/>\n     <use xlink:href=\"#DejaVuSans-5f\" x=\"255.126953\"/>\n     <use xlink:href=\"#DejaVuSans-6d\" x=\"305.126953\"/>\n     <use xlink:href=\"#DejaVuSans-61\" x=\"402.539062\"/>\n     <use xlink:href=\"#DejaVuSans-6c\" x=\"463.818359\"/>\n     <use xlink:href=\"#DejaVuSans-65\" x=\"491.601562\"/>\n     <use xlink:href=\"#DejaVuSans-20\" x=\"553.125\"/>\n     <use xlink:href=\"#DejaVuSans-3c\" x=\"584.912109\"/>\n     <use xlink:href=\"#DejaVuSans-3d\" x=\"668.701172\"/>\n     <use xlink:href=\"#DejaVuSans-20\" x=\"752.490234\"/>\n     <use xlink:href=\"#DejaVuSans-30\" x=\"784.277344\"/>\n     <use xlink:href=\"#DejaVuSans-2e\" x=\"847.900391\"/>\n     <use xlink:href=\"#DejaVuSans-35\" x=\"879.6875\"/>\n    </g>\n    <!-- gini = 0.485 -->\n    <g transform=\"translate(299.779533 109.172885)scale(0.408791 -0.408791)\">\n     <use xlink:href=\"#DejaVuSans-67\"/>\n     <use xlink:href=\"#DejaVuSans-69\" x=\"63.476562\"/>\n     <use xlink:href=\"#DejaVuSans-6e\" x=\"91.259766\"/>\n     <use xlink:href=\"#DejaVuSans-69\" x=\"154.638672\"/>\n     <use xlink:href=\"#DejaVuSans-20\" x=\"182.421875\"/>\n     <use xlink:href=\"#DejaVuSans-3d\" x=\"214.208984\"/>\n     <use xlink:href=\"#DejaVuSans-20\" x=\"297.998047\"/>\n     <use xlink:href=\"#DejaVuSans-30\" x=\"329.785156\"/>\n     <use xlink:href=\"#DejaVuSans-2e\" x=\"393.408203\"/>\n     <use xlink:href=\"#DejaVuSans-34\" x=\"425.195312\"/>\n     <use xlink:href=\"#DejaVuSans-38\" x=\"488.818359\"/>\n     <use xlink:href=\"#DejaVuSans-35\" x=\"552.441406\"/>\n    </g>\n    <!-- samples = 784 -->\n    <g transform=\"translate(271.604876 154.948558)scale(0.408791 -0.408791)\">\n     <defs>\n      <path id=\"DejaVuSans-37\" d=\"M 525 4666 \nL 3525 4666 \nL 3525 4397 \nL 1831 0 \nL 1172 0 \nL 2766 4134 \nL 525 4134 \nL 525 4666 \nz\n\" transform=\"scale(0.015625)\"/>\n     </defs>\n     <use xlink:href=\"#DejaVuSans-73\"/>\n     <use xlink:href=\"#DejaVuSans-61\" x=\"52.099609\"/>\n     <use xlink:href=\"#DejaVuSans-6d\" x=\"113.378906\"/>\n     <use xlink:href=\"#DejaVuSans-70\" x=\"210.791016\"/>\n     <use xlink:href=\"#DejaVuSans-6c\" x=\"274.267578\"/>\n     <use xlink:href=\"#DejaVuSans-65\" x=\"302.050781\"/>\n     <use xlink:href=\"#DejaVuSans-73\" x=\"363.574219\"/>\n     <use xlink:href=\"#DejaVuSans-20\" x=\"415.673828\"/>\n     <use xlink:href=\"#DejaVuSans-3d\" x=\"447.460938\"/>\n     <use xlink:href=\"#DejaVuSans-20\" x=\"531.25\"/>\n     <use xlink:href=\"#DejaVuSans-37\" x=\"563.037109\"/>\n     <use xlink:href=\"#DejaVuSans-38\" x=\"626.660156\"/>\n     <use xlink:href=\"#DejaVuSans-34\" x=\"690.283203\"/>\n    </g>\n    <!-- value = [461, 323] -->\n    <g transform=\"translate(232.779293 200.724231)scale(0.408791 -0.408791)\">\n     <use xlink:href=\"#DejaVuSans-76\"/>\n     <use xlink:href=\"#DejaVuSans-61\" x=\"59.179688\"/>\n     <use xlink:href=\"#DejaVuSans-6c\" x=\"120.458984\"/>\n     <use xlink:href=\"#DejaVuSans-75\" x=\"148.242188\"/>\n     <use xlink:href=\"#DejaVuSans-65\" x=\"211.621094\"/>\n     <use xlink:href=\"#DejaVuSans-20\" x=\"273.144531\"/>\n     <use xlink:href=\"#DejaVuSans-3d\" x=\"304.931641\"/>\n     <use xlink:href=\"#DejaVuSans-20\" x=\"388.720703\"/>\n     <use xlink:href=\"#DejaVuSans-5b\" x=\"420.507812\"/>\n     <use xlink:href=\"#DejaVuSans-34\" x=\"459.521484\"/>\n     <use xlink:href=\"#DejaVuSans-36\" x=\"523.144531\"/>\n     <use xlink:href=\"#DejaVuSans-31\" x=\"586.767578\"/>\n     <use xlink:href=\"#DejaVuSans-2c\" x=\"650.390625\"/>\n     <use xlink:href=\"#DejaVuSans-20\" x=\"682.177734\"/>\n     <use xlink:href=\"#DejaVuSans-33\" x=\"713.964844\"/>\n     <use xlink:href=\"#DejaVuSans-32\" x=\"777.587891\"/>\n     <use xlink:href=\"#DejaVuSans-33\" x=\"841.210938\"/>\n     <use xlink:href=\"#DejaVuSans-5d\" x=\"904.833984\"/>\n    </g>\n    <!-- class = Died -->\n    <g transform=\"translate(297.872905 246.499904)scale(0.408791 -0.408791)\">\n     <use xlink:href=\"#DejaVuSans-63\"/>\n     <use xlink:href=\"#DejaVuSans-6c\" x=\"54.980469\"/>\n     <use xlink:href=\"#DejaVuSans-61\" x=\"82.763672\"/>\n     <use xlink:href=\"#DejaVuSans-73\" x=\"144.042969\"/>\n     <use xlink:href=\"#DejaVuSans-73\" x=\"196.142578\"/>\n     <use xlink:href=\"#DejaVuSans-20\" x=\"248.242188\"/>\n     <use xlink:href=\"#DejaVuSans-3d\" x=\"280.029297\"/>\n     <use xlink:href=\"#DejaVuSans-20\" x=\"363.818359\"/>\n     <use xlink:href=\"#DejaVuSans-44\" x=\"395.605469\"/>\n     <use xlink:href=\"#DejaVuSans-69\" x=\"472.607422\"/>\n     <use xlink:href=\"#DejaVuSans-65\" x=\"500.390625\"/>\n     <use xlink:href=\"#DejaVuSans-64\" x=\"561.914062\"/>\n    </g>\n   </g>\n  </g>\n </g>\n</svg>\n",
      "text/plain": [
       "<Figure size 1080x720 with 1 Axes>"
      ]
     },
     "metadata": {
      "needs_background": "light"
     },
     "output_type": "display_data"
    }
   ],
   "source": [
    "\n",
    "plt.figure(figsize=(15, 10))\n",
    "plot_tree(clf,\n",
    "          filled=True,\n",
    "          class_names=['Died', 'Survived'],\n",
    "          feature_names=['adult_male']);"
   ]
  },
  {
   "cell_type": "markdown",
   "metadata": {},
   "source": [
    "## Fórmula para cálculo do Gini"
   ]
  },
  {
   "cell_type": "markdown",
   "metadata": {},
   "source": [
    "$$ Gini =  1 - (probabilidade \"Sim\")^{2} - (probabilidade \"Nao\")^{2} $$"
   ]
  },
  {
   "cell_type": "markdown",
   "metadata": {},
   "source": [
    "$$ Gini =  1 - (qtd Sim / total)^{2} - (qtd Não/ total)^{2} $$"
   ]
  },
  {
   "cell_type": "markdown",
   "metadata": {},
   "source": [
    "### Gini da raiz"
   ]
  },
  {
   "cell_type": "markdown",
   "metadata": {},
   "source": [
    "$$ Gini_{raiz} = 1 - \\left(\\frac{323}{461+323}\\right)^{2} - \\left(\\frac{461}{461+323}\\right)^{2} $$"
   ]
  },
  {
   "cell_type": "code",
   "execution_count": 80,
   "metadata": {},
   "outputs": [
    {
     "name": "stdout",
     "output_type": "stream",
     "text": [
      "Gini raiz é:  0.48450840795501876\n"
     ]
    }
   ],
   "source": [
    "print('Gini raiz é: ', 1 - (323/(461+323))**2 - (461/(461+323))**2)"
   ]
  },
  {
   "cell_type": "markdown",
   "metadata": {},
   "source": [
    "### Gini da folha a esquerda"
   ]
  },
  {
   "cell_type": "markdown",
   "metadata": {},
   "source": [
    "$$ Gini_{folhaesquerda} = 1 - \\left(\\frac{238}{95+238}\\right)^{2} - \\left(\\frac{95}{95+238}\\right)^{2} $$"
   ]
  },
  {
   "cell_type": "code",
   "execution_count": 81,
   "metadata": {},
   "outputs": [
    {
     "name": "stdout",
     "output_type": "stream",
     "text": [
      "Gini folha esquerda é:  0.40779518256995734\n"
     ]
    }
   ],
   "source": [
    "print('Gini folha esquerda é: ', 1 - (238/(95+238))**2 - (95/(95+238))**2)"
   ]
  },
  {
   "cell_type": "markdown",
   "metadata": {},
   "source": [
    "### Gini da folha a direita"
   ]
  },
  {
   "cell_type": "markdown",
   "metadata": {},
   "source": [
    "$$ Gini_{folhadireita} = 1 - \\left(\\frac{85}{366+85}\\right)^{2} - \\left(\\frac{366}{366+85}\\right)^{2} $$"
   ]
  },
  {
   "cell_type": "code",
   "execution_count": 82,
   "metadata": {},
   "outputs": [
    {
     "name": "stdout",
     "output_type": "stream",
     "text": [
      "Gini folha direita é:  0.30589820109045673\n"
     ]
    }
   ],
   "source": [
    "print('Gini folha direita é: ', 1 - (85/(366+85))**2 - (366/(366+85))**2)"
   ]
  },
  {
   "cell_type": "markdown",
   "metadata": {},
   "source": [
    "## 3a classe"
   ]
  },
  {
   "cell_type": "code",
   "execution_count": 83,
   "metadata": {},
   "outputs": [
    {
     "data": {
      "text/plain": [
       "DecisionTreeClassifier(random_state=100)"
      ]
     },
     "execution_count": 83,
     "metadata": {},
     "output_type": "execute_result"
    }
   ],
   "source": [
    "clf = clf.fit(X[['class_Third']],y)\n",
    "clf"
   ]
  },
  {
   "cell_type": "code",
   "execution_count": 86,
   "metadata": {
    "scrolled": false
   },
   "outputs": [
    {
     "data": {
      "image/png": "[encoded data removed]",
      "image/svg+xml": "<?xml version=\"1.0\" encoding=\"utf-8\" standalone=\"no\"?>\n<!DOCTYPE svg PUBLIC \"-//W3C//DTD SVG 1.1//EN\"\n  \"http://www.w3.org/Graphics/SVG/1.1/DTD/svg11.dtd\">\n<svg xmlns:xlink=\"http://www.w3.org/1999/xlink\" width=\"1130.4pt\" height=\"558pt\" viewBox=\"0 0 1130.4 558\" xmlns=\"http://www.w3.org/2000/svg\" version=\"1.1\">\n <metadata>\n  <rdf:RDF xmlns:dc=\"http://purl.org/dc/elements/1.1/\" xmlns:cc=\"http://creativecommons.org/ns#\" xmlns:rdf=\"http://www.w3.org/1999/02/22-rdf-syntax-ns#\">\n   <cc:Work>\n    <dc:type rdf:resource=\"http://purl.org/dc/dcmitype/StillImage\"/>\n    <dc:date>2022-10-01T10:26:03.520868</dc:date>\n    <dc:format>image/svg+xml</dc:format>\n    <dc:creator>\n     <cc:Agent>\n      <dc:title>Matplotlib v3.5.1, https://matplotlib.org/</dc:title>\n     </cc:Agent>\n    </dc:creator>\n   </cc:Work>\n  </rdf:RDF>\n </metadata>\n <defs>\n  <style type=\"text/css\">*{stroke-linejoin: round; stroke-linecap: butt}</style>\n </defs>\n <g id=\"figure_1\">\n  <g id=\"patch_1\">\n   <path d=\"M 0 558 \nL 1130.4 558 \nL 1130.4 0 \nL 0 0 \nL 0 558 \nz\n\" style=\"fill: none\"/>\n  </g>\n  <g id=\"axes_1\">\n   <g id=\"patch_2\">\n    <path d=\"M 396.969274 306.989288 \nQ 479.968487 226.131991 563.768535 144.494524 \n\" style=\"fill: none; stroke: #000000; stroke-linecap: round\"/>\n    <path d=\"M 414.459558 301.412126 \nL 396.969274 306.989288 \nL 403.001714 289.650764 \n\" style=\"fill: none; stroke: #000000; stroke-linecap: round\"/>\n   </g>\n   <g id=\"text_1\">\n    <g id=\"patch_3\">\n     <path d=\"M 76.054651 520.133987 \nL 496.345349 520.133987 \nL 496.345349 309.666013 \nL 76.054651 309.666013 \nz\n\" style=\"fill: #cae5f8; stroke: #000000; stroke-linejoin: miter\"/>\n    </g>\n    <!-- gini = 0.488 -->\n    <g transform=\"translate(159.754248 357.277194)scale(0.410497 -0.410497)\">\n     <defs>\n      <path id=\"DejaVuSans-67\" d=\"M 2906 1791 \nQ 2906 2416 2648 2759 \nQ 2391 3103 1925 3103 \nQ 1463 3103 1205 2759 \nQ 947 2416 947 1791 \nQ 947 1169 1205 825 \nQ 1463 481 1925 481 \nQ 2391 481 2648 825 \nQ 2906 1169 2906 1791 \nz\nM 3481 434 \nQ 3481 -459 3084 -895 \nQ 2688 -1331 1869 -1331 \nQ 1566 -1331 1297 -1286 \nQ 1028 -1241 775 -1147 \nL 775 -588 \nQ 1028 -725 1275 -790 \nQ 1522 -856 1778 -856 \nQ 2344 -856 2625 -561 \nQ 2906 -266 2906 331 \nL 2906 616 \nQ 2728 306 2450 153 \nQ 2172 0 1784 0 \nQ 1141 0 747 490 \nQ 353 981 353 1791 \nQ 353 2603 747 3093 \nQ 1141 3584 1784 3584 \nQ 2172 3584 2450 3431 \nQ 2728 3278 2906 2969 \nL 2906 3500 \nL 3481 3500 \nL 3481 434 \nz\n\" transform=\"scale(0.015625)\"/>\n      <path id=\"DejaVuSans-69\" d=\"M 603 3500 \nL 1178 3500 \nL 1178 0 \nL 603 0 \nL 603 3500 \nz\nM 603 4863 \nL 1178 4863 \nL 1178 4134 \nL 603 4134 \nL 603 4863 \nz\n\" transform=\"scale(0.015625)\"/>\n      <path id=\"DejaVuSans-6e\" d=\"M 3513 2113 \nL 3513 0 \nL 2938 0 \nL 2938 2094 \nQ 2938 2591 2744 2837 \nQ 2550 3084 2163 3084 \nQ 1697 3084 1428 2787 \nQ 1159 2491 1159 1978 \nL 1159 0 \nL 581 0 \nL 581 3500 \nL 1159 3500 \nL 1159 2956 \nQ 1366 3272 1645 3428 \nQ 1925 3584 2291 3584 \nQ 2894 3584 3203 3211 \nQ 3513 2838 3513 2113 \nz\n\" transform=\"scale(0.015625)\"/>\n      <path id=\"DejaVuSans-20\" transform=\"scale(0.015625)\"/>\n      <path id=\"DejaVuSans-3d\" d=\"M 678 2906 \nL 4684 2906 \nL 4684 2381 \nL 678 2381 \nL 678 2906 \nz\nM 678 1631 \nL 4684 1631 \nL 4684 1100 \nL 678 1100 \nL 678 1631 \nz\n\" transform=\"scale(0.015625)\"/>\n      <path id=\"DejaVuSans-30\" d=\"M 2034 4250 \nQ 1547 4250 1301 3770 \nQ 1056 3291 1056 2328 \nQ 1056 1369 1301 889 \nQ 1547 409 2034 409 \nQ 2525 409 2770 889 \nQ 3016 1369 3016 2328 \nQ 3016 3291 2770 3770 \nQ 2525 4250 2034 4250 \nz\nM 2034 4750 \nQ 2819 4750 3233 4129 \nQ 3647 3509 3647 2328 \nQ 3647 1150 3233 529 \nQ 2819 -91 2034 -91 \nQ 1250 -91 836 529 \nQ 422 1150 422 2328 \nQ 422 3509 836 4129 \nQ 1250 4750 2034 4750 \nz\n\" transform=\"scale(0.015625)\"/>\n      <path id=\"DejaVuSans-2e\" d=\"M 684 794 \nL 1344 794 \nL 1344 0 \nL 684 0 \nL 684 794 \nz\n\" transform=\"scale(0.015625)\"/>\n      <path id=\"DejaVuSans-34\" d=\"M 2419 4116 \nL 825 1625 \nL 2419 1625 \nL 2419 4116 \nz\nM 2253 4666 \nL 3047 4666 \nL 3047 1625 \nL 3713 1625 \nL 3713 1100 \nL 3047 1100 \nL 3047 0 \nL 2419 0 \nL 2419 1100 \nL 313 1100 \nL 313 1709 \nL 2253 4666 \nz\n\" transform=\"scale(0.015625)\"/>\n      <path id=\"DejaVuSans-38\" d=\"M 2034 2216 \nQ 1584 2216 1326 1975 \nQ 1069 1734 1069 1313 \nQ 1069 891 1326 650 \nQ 1584 409 2034 409 \nQ 2484 409 2743 651 \nQ 3003 894 3003 1313 \nQ 3003 1734 2745 1975 \nQ 2488 2216 2034 2216 \nz\nM 1403 2484 \nQ 997 2584 770 2862 \nQ 544 3141 544 3541 \nQ 544 4100 942 4425 \nQ 1341 4750 2034 4750 \nQ 2731 4750 3128 4425 \nQ 3525 4100 3525 3541 \nQ 3525 3141 3298 2862 \nQ 3072 2584 2669 2484 \nQ 3125 2378 3379 2068 \nQ 3634 1759 3634 1313 \nQ 3634 634 3220 271 \nQ 2806 -91 2034 -91 \nQ 1263 -91 848 271 \nQ 434 634 434 1313 \nQ 434 1759 690 2068 \nQ 947 2378 1403 2484 \nz\nM 1172 3481 \nQ 1172 3119 1398 2916 \nQ 1625 2713 2034 2713 \nQ 2441 2713 2670 2916 \nQ 2900 3119 2900 3481 \nQ 2900 3844 2670 4047 \nQ 2441 4250 2034 4250 \nQ 1625 4250 1398 4047 \nQ 1172 3844 1172 3481 \nz\n\" transform=\"scale(0.015625)\"/>\n     </defs>\n     <use xlink:href=\"#DejaVuSans-67\"/>\n     <use xlink:href=\"#DejaVuSans-69\" x=\"63.476562\"/>\n     <use xlink:href=\"#DejaVuSans-6e\" x=\"91.259766\"/>\n     <use xlink:href=\"#DejaVuSans-69\" x=\"154.638672\"/>\n     <use xlink:href=\"#DejaVuSans-20\" x=\"182.421875\"/>\n     <use xlink:href=\"#DejaVuSans-3d\" x=\"214.208984\"/>\n     <use xlink:href=\"#DejaVuSans-20\" x=\"297.998047\"/>\n     <use xlink:href=\"#DejaVuSans-30\" x=\"329.785156\"/>\n     <use xlink:href=\"#DejaVuSans-2e\" x=\"393.408203\"/>\n     <use xlink:href=\"#DejaVuSans-34\" x=\"425.195312\"/>\n     <use xlink:href=\"#DejaVuSans-38\" x=\"488.818359\"/>\n     <use xlink:href=\"#DejaVuSans-38\" x=\"552.441406\"/>\n    </g>\n    <!-- samples = 379 -->\n    <g transform=\"translate(131.462059 403.243823)scale(0.410497 -0.410497)\">\n     <defs>\n      <path id=\"DejaVuSans-73\" d=\"M 2834 3397 \nL 2834 2853 \nQ 2591 2978 2328 3040 \nQ 2066 3103 1784 3103 \nQ 1356 3103 1142 2972 \nQ 928 2841 928 2578 \nQ 928 2378 1081 2264 \nQ 1234 2150 1697 2047 \nL 1894 2003 \nQ 2506 1872 2764 1633 \nQ 3022 1394 3022 966 \nQ 3022 478 2636 193 \nQ 2250 -91 1575 -91 \nQ 1294 -91 989 -36 \nQ 684 19 347 128 \nL 347 722 \nQ 666 556 975 473 \nQ 1284 391 1588 391 \nQ 1994 391 2212 530 \nQ 2431 669 2431 922 \nQ 2431 1156 2273 1281 \nQ 2116 1406 1581 1522 \nL 1381 1569 \nQ 847 1681 609 1914 \nQ 372 2147 372 2553 \nQ 372 3047 722 3315 \nQ 1072 3584 1716 3584 \nQ 2034 3584 2315 3537 \nQ 2597 3491 2834 3397 \nz\n\" transform=\"scale(0.015625)\"/>\n      <path id=\"DejaVuSans-61\" d=\"M 2194 1759 \nQ 1497 1759 1228 1600 \nQ 959 1441 959 1056 \nQ 959 750 1161 570 \nQ 1363 391 1709 391 \nQ 2188 391 2477 730 \nQ 2766 1069 2766 1631 \nL 2766 1759 \nL 2194 1759 \nz\nM 3341 1997 \nL 3341 0 \nL 2766 0 \nL 2766 531 \nQ 2569 213 2275 61 \nQ 1981 -91 1556 -91 \nQ 1019 -91 701 211 \nQ 384 513 384 1019 \nQ 384 1609 779 1909 \nQ 1175 2209 1959 2209 \nL 2766 2209 \nL 2766 2266 \nQ 2766 2663 2505 2880 \nQ 2244 3097 1772 3097 \nQ 1472 3097 1187 3025 \nQ 903 2953 641 2809 \nL 641 3341 \nQ 956 3463 1253 3523 \nQ 1550 3584 1831 3584 \nQ 2591 3584 2966 3190 \nQ 3341 2797 3341 1997 \nz\n\" transform=\"scale(0.015625)\"/>\n      <path id=\"DejaVuSans-6d\" d=\"M 3328 2828 \nQ 3544 3216 3844 3400 \nQ 4144 3584 4550 3584 \nQ 5097 3584 5394 3201 \nQ 5691 2819 5691 2113 \nL 5691 0 \nL 5113 0 \nL 5113 2094 \nQ 5113 2597 4934 2840 \nQ 4756 3084 4391 3084 \nQ 3944 3084 3684 2787 \nQ 3425 2491 3425 1978 \nL 3425 0 \nL 2847 0 \nL 2847 2094 \nQ 2847 2600 2669 2842 \nQ 2491 3084 2119 3084 \nQ 1678 3084 1418 2786 \nQ 1159 2488 1159 1978 \nL 1159 0 \nL 581 0 \nL 581 3500 \nL 1159 3500 \nL 1159 2956 \nQ 1356 3278 1631 3431 \nQ 1906 3584 2284 3584 \nQ 2666 3584 2933 3390 \nQ 3200 3197 3328 2828 \nz\n\" transform=\"scale(0.015625)\"/>\n      <path id=\"DejaVuSans-70\" d=\"M 1159 525 \nL 1159 -1331 \nL 581 -1331 \nL 581 3500 \nL 1159 3500 \nL 1159 2969 \nQ 1341 3281 1617 3432 \nQ 1894 3584 2278 3584 \nQ 2916 3584 3314 3078 \nQ 3713 2572 3713 1747 \nQ 3713 922 3314 415 \nQ 2916 -91 2278 -91 \nQ 1894 -91 1617 61 \nQ 1341 213 1159 525 \nz\nM 3116 1747 \nQ 3116 2381 2855 2742 \nQ 2594 3103 2138 3103 \nQ 1681 3103 1420 2742 \nQ 1159 2381 1159 1747 \nQ 1159 1113 1420 752 \nQ 1681 391 2138 391 \nQ 2594 391 2855 752 \nQ 3116 1113 3116 1747 \nz\n\" transform=\"scale(0.015625)\"/>\n      <path id=\"DejaVuSans-6c\" d=\"M 603 4863 \nL 1178 4863 \nL 1178 0 \nL 603 0 \nL 603 4863 \nz\n\" transform=\"scale(0.015625)\"/>\n      <path id=\"DejaVuSans-65\" d=\"M 3597 1894 \nL 3597 1613 \nL 953 1613 \nQ 991 1019 1311 708 \nQ 1631 397 2203 397 \nQ 2534 397 2845 478 \nQ 3156 559 3463 722 \nL 3463 178 \nQ 3153 47 2828 -22 \nQ 2503 -91 2169 -91 \nQ 1331 -91 842 396 \nQ 353 884 353 1716 \nQ 353 2575 817 3079 \nQ 1281 3584 2069 3584 \nQ 2775 3584 3186 3129 \nQ 3597 2675 3597 1894 \nz\nM 3022 2063 \nQ 3016 2534 2758 2815 \nQ 2500 3097 2075 3097 \nQ 1594 3097 1305 2825 \nQ 1016 2553 972 2059 \nL 3022 2063 \nz\n\" transform=\"scale(0.015625)\"/>\n      <path id=\"DejaVuSans-33\" d=\"M 2597 2516 \nQ 3050 2419 3304 2112 \nQ 3559 1806 3559 1356 \nQ 3559 666 3084 287 \nQ 2609 -91 1734 -91 \nQ 1441 -91 1130 -33 \nQ 819 25 488 141 \nL 488 750 \nQ 750 597 1062 519 \nQ 1375 441 1716 441 \nQ 2309 441 2620 675 \nQ 2931 909 2931 1356 \nQ 2931 1769 2642 2001 \nQ 2353 2234 1838 2234 \nL 1294 2234 \nL 1294 2753 \nL 1863 2753 \nQ 2328 2753 2575 2939 \nQ 2822 3125 2822 3475 \nQ 2822 3834 2567 4026 \nQ 2313 4219 1838 4219 \nQ 1578 4219 1281 4162 \nQ 984 4106 628 3988 \nL 628 4550 \nQ 988 4650 1302 4700 \nQ 1616 4750 1894 4750 \nQ 2613 4750 3031 4423 \nQ 3450 4097 3450 3541 \nQ 3450 3153 3228 2886 \nQ 3006 2619 2597 2516 \nz\n\" transform=\"scale(0.015625)\"/>\n      <path id=\"DejaVuSans-37\" d=\"M 525 4666 \nL 3525 4666 \nL 3525 4397 \nL 1831 0 \nL 1172 0 \nL 2766 4134 \nL 525 4134 \nL 525 4666 \nz\n\" transform=\"scale(0.015625)\"/>\n      <path id=\"DejaVuSans-39\" d=\"M 703 97 \nL 703 672 \nQ 941 559 1184 500 \nQ 1428 441 1663 441 \nQ 2288 441 2617 861 \nQ 2947 1281 2994 2138 \nQ 2813 1869 2534 1725 \nQ 2256 1581 1919 1581 \nQ 1219 1581 811 2004 \nQ 403 2428 403 3163 \nQ 403 3881 828 4315 \nQ 1253 4750 1959 4750 \nQ 2769 4750 3195 4129 \nQ 3622 3509 3622 2328 \nQ 3622 1225 3098 567 \nQ 2575 -91 1691 -91 \nQ 1453 -91 1209 -44 \nQ 966 3 703 97 \nz\nM 1959 2075 \nQ 2384 2075 2632 2365 \nQ 2881 2656 2881 3163 \nQ 2881 3666 2632 3958 \nQ 2384 4250 1959 4250 \nQ 1534 4250 1286 3958 \nQ 1038 3666 1038 3163 \nQ 1038 2656 1286 2365 \nQ 1534 2075 1959 2075 \nz\n\" transform=\"scale(0.015625)\"/>\n     </defs>\n     <use xlink:href=\"#DejaVuSans-73\"/>\n     <use xlink:href=\"#DejaVuSans-61\" x=\"52.099609\"/>\n     <use xlink:href=\"#DejaVuSans-6d\" x=\"113.378906\"/>\n     <use xlink:href=\"#DejaVuSans-70\" x=\"210.791016\"/>\n     <use xlink:href=\"#DejaVuSans-6c\" x=\"274.267578\"/>\n     <use xlink:href=\"#DejaVuSans-65\" x=\"302.050781\"/>\n     <use xlink:href=\"#DejaVuSans-73\" x=\"363.574219\"/>\n     <use xlink:href=\"#DejaVuSans-20\" x=\"415.673828\"/>\n     <use xlink:href=\"#DejaVuSans-3d\" x=\"447.460938\"/>\n     <use xlink:href=\"#DejaVuSans-20\" x=\"531.25\"/>\n     <use xlink:href=\"#DejaVuSans-33\" x=\"563.037109\"/>\n     <use xlink:href=\"#DejaVuSans-37\" x=\"626.660156\"/>\n     <use xlink:href=\"#DejaVuSans-39\" x=\"690.283203\"/>\n    </g>\n    <!-- value = [160, 219] -->\n    <g transform=\"translate(92.474512 449.210453)scale(0.410497 -0.410497)\">\n     <defs>\n      <path id=\"DejaVuSans-76\" d=\"M 191 3500 \nL 800 3500 \nL 1894 563 \nL 2988 3500 \nL 3597 3500 \nL 2284 0 \nL 1503 0 \nL 191 3500 \nz\n\" transform=\"scale(0.015625)\"/>\n      <path id=\"DejaVuSans-75\" d=\"M 544 1381 \nL 544 3500 \nL 1119 3500 \nL 1119 1403 \nQ 1119 906 1312 657 \nQ 1506 409 1894 409 \nQ 2359 409 2629 706 \nQ 2900 1003 2900 1516 \nL 2900 3500 \nL 3475 3500 \nL 3475 0 \nL 2900 0 \nL 2900 538 \nQ 2691 219 2414 64 \nQ 2138 -91 1772 -91 \nQ 1169 -91 856 284 \nQ 544 659 544 1381 \nz\nM 1991 3584 \nL 1991 3584 \nz\n\" transform=\"scale(0.015625)\"/>\n      <path id=\"DejaVuSans-5b\" d=\"M 550 4863 \nL 1875 4863 \nL 1875 4416 \nL 1125 4416 \nL 1125 -397 \nL 1875 -397 \nL 1875 -844 \nL 550 -844 \nL 550 4863 \nz\n\" transform=\"scale(0.015625)\"/>\n      <path id=\"DejaVuSans-31\" d=\"M 794 531 \nL 1825 531 \nL 1825 4091 \nL 703 3866 \nL 703 4441 \nL 1819 4666 \nL 2450 4666 \nL 2450 531 \nL 3481 531 \nL 3481 0 \nL 794 0 \nL 794 531 \nz\n\" transform=\"scale(0.015625)\"/>\n      <path id=\"DejaVuSans-36\" d=\"M 2113 2584 \nQ 1688 2584 1439 2293 \nQ 1191 2003 1191 1497 \nQ 1191 994 1439 701 \nQ 1688 409 2113 409 \nQ 2538 409 2786 701 \nQ 3034 994 3034 1497 \nQ 3034 2003 2786 2293 \nQ 2538 2584 2113 2584 \nz\nM 3366 4563 \nL 3366 3988 \nQ 3128 4100 2886 4159 \nQ 2644 4219 2406 4219 \nQ 1781 4219 1451 3797 \nQ 1122 3375 1075 2522 \nQ 1259 2794 1537 2939 \nQ 1816 3084 2150 3084 \nQ 2853 3084 3261 2657 \nQ 3669 2231 3669 1497 \nQ 3669 778 3244 343 \nQ 2819 -91 2113 -91 \nQ 1303 -91 875 529 \nQ 447 1150 447 2328 \nQ 447 3434 972 4092 \nQ 1497 4750 2381 4750 \nQ 2619 4750 2861 4703 \nQ 3103 4656 3366 4563 \nz\n\" transform=\"scale(0.015625)\"/>\n      <path id=\"DejaVuSans-2c\" d=\"M 750 794 \nL 1409 794 \nL 1409 256 \nL 897 -744 \nL 494 -744 \nL 750 256 \nL 750 794 \nz\n\" transform=\"scale(0.015625)\"/>\n      <path id=\"DejaVuSans-32\" d=\"M 1228 531 \nL 3431 531 \nL 3431 0 \nL 469 0 \nL 469 531 \nQ 828 903 1448 1529 \nQ 2069 2156 2228 2338 \nQ 2531 2678 2651 2914 \nQ 2772 3150 2772 3378 \nQ 2772 3750 2511 3984 \nQ 2250 4219 1831 4219 \nQ 1534 4219 1204 4116 \nQ 875 4013 500 3803 \nL 500 4441 \nQ 881 4594 1212 4672 \nQ 1544 4750 1819 4750 \nQ 2544 4750 2975 4387 \nQ 3406 4025 3406 3419 \nQ 3406 3131 3298 2873 \nQ 3191 2616 2906 2266 \nQ 2828 2175 2409 1742 \nQ 1991 1309 1228 531 \nz\n\" transform=\"scale(0.015625)\"/>\n      <path id=\"DejaVuSans-5d\" d=\"M 1947 4863 \nL 1947 -844 \nL 622 -844 \nL 622 -397 \nL 1369 -397 \nL 1369 4416 \nL 622 4416 \nL 622 4863 \nL 1947 4863 \nz\n\" transform=\"scale(0.015625)\"/>\n     </defs>\n     <use xlink:href=\"#DejaVuSans-76\"/>\n     <use xlink:href=\"#DejaVuSans-61\" x=\"59.179688\"/>\n     <use xlink:href=\"#DejaVuSans-6c\" x=\"120.458984\"/>\n     <use xlink:href=\"#DejaVuSans-75\" x=\"148.242188\"/>\n     <use xlink:href=\"#DejaVuSans-65\" x=\"211.621094\"/>\n     <use xlink:href=\"#DejaVuSans-20\" x=\"273.144531\"/>\n     <use xlink:href=\"#DejaVuSans-3d\" x=\"304.931641\"/>\n     <use xlink:href=\"#DejaVuSans-20\" x=\"388.720703\"/>\n     <use xlink:href=\"#DejaVuSans-5b\" x=\"420.507812\"/>\n     <use xlink:href=\"#DejaVuSans-31\" x=\"459.521484\"/>\n     <use xlink:href=\"#DejaVuSans-36\" x=\"523.144531\"/>\n     <use xlink:href=\"#DejaVuSans-30\" x=\"586.767578\"/>\n     <use xlink:href=\"#DejaVuSans-2c\" x=\"650.390625\"/>\n     <use xlink:href=\"#DejaVuSans-20\" x=\"682.177734\"/>\n     <use xlink:href=\"#DejaVuSans-32\" x=\"713.964844\"/>\n     <use xlink:href=\"#DejaVuSans-31\" x=\"777.587891\"/>\n     <use xlink:href=\"#DejaVuSans-39\" x=\"841.210938\"/>\n     <use xlink:href=\"#DejaVuSans-5d\" x=\"904.833984\"/>\n    </g>\n    <!-- class = Survived -->\n    <g transform=\"translate(114.872227 495.177082)scale(0.410497 -0.410497)\">\n     <defs>\n      <path id=\"DejaVuSans-63\" d=\"M 3122 3366 \nL 3122 2828 \nQ 2878 2963 2633 3030 \nQ 2388 3097 2138 3097 \nQ 1578 3097 1268 2742 \nQ 959 2388 959 1747 \nQ 959 1106 1268 751 \nQ 1578 397 2138 397 \nQ 2388 397 2633 464 \nQ 2878 531 3122 666 \nL 3122 134 \nQ 2881 22 2623 -34 \nQ 2366 -91 2075 -91 \nQ 1284 -91 818 406 \nQ 353 903 353 1747 \nQ 353 2603 823 3093 \nQ 1294 3584 2113 3584 \nQ 2378 3584 2631 3529 \nQ 2884 3475 3122 3366 \nz\n\" transform=\"scale(0.015625)\"/>\n      <path id=\"DejaVuSans-53\" d=\"M 3425 4513 \nL 3425 3897 \nQ 3066 4069 2747 4153 \nQ 2428 4238 2131 4238 \nQ 1616 4238 1336 4038 \nQ 1056 3838 1056 3469 \nQ 1056 3159 1242 3001 \nQ 1428 2844 1947 2747 \nL 2328 2669 \nQ 3034 2534 3370 2195 \nQ 3706 1856 3706 1288 \nQ 3706 609 3251 259 \nQ 2797 -91 1919 -91 \nQ 1588 -91 1214 -16 \nQ 841 59 441 206 \nL 441 856 \nQ 825 641 1194 531 \nQ 1563 422 1919 422 \nQ 2459 422 2753 634 \nQ 3047 847 3047 1241 \nQ 3047 1584 2836 1778 \nQ 2625 1972 2144 2069 \nL 1759 2144 \nQ 1053 2284 737 2584 \nQ 422 2884 422 3419 \nQ 422 4038 858 4394 \nQ 1294 4750 2059 4750 \nQ 2388 4750 2728 4690 \nQ 3069 4631 3425 4513 \nz\n\" transform=\"scale(0.015625)\"/>\n      <path id=\"DejaVuSans-72\" d=\"M 2631 2963 \nQ 2534 3019 2420 3045 \nQ 2306 3072 2169 3072 \nQ 1681 3072 1420 2755 \nQ 1159 2438 1159 1844 \nL 1159 0 \nL 581 0 \nL 581 3500 \nL 1159 3500 \nL 1159 2956 \nQ 1341 3275 1631 3429 \nQ 1922 3584 2338 3584 \nQ 2397 3584 2469 3576 \nQ 2541 3569 2628 3553 \nL 2631 2963 \nz\n\" transform=\"scale(0.015625)\"/>\n      <path id=\"DejaVuSans-64\" d=\"M 2906 2969 \nL 2906 4863 \nL 3481 4863 \nL 3481 0 \nL 2906 0 \nL 2906 525 \nQ 2725 213 2448 61 \nQ 2172 -91 1784 -91 \nQ 1150 -91 751 415 \nQ 353 922 353 1747 \nQ 353 2572 751 3078 \nQ 1150 3584 1784 3584 \nQ 2172 3584 2448 3432 \nQ 2725 3281 2906 2969 \nz\nM 947 1747 \nQ 947 1113 1208 752 \nQ 1469 391 1925 391 \nQ 2381 391 2643 752 \nQ 2906 1113 2906 1747 \nQ 2906 2381 2643 2742 \nQ 2381 3103 1925 3103 \nQ 1469 3103 1208 2742 \nQ 947 2381 947 1747 \nz\n\" transform=\"scale(0.015625)\"/>\n     </defs>\n     <use xlink:href=\"#DejaVuSans-63\"/>\n     <use xlink:href=\"#DejaVuSans-6c\" x=\"54.980469\"/>\n     <use xlink:href=\"#DejaVuSans-61\" x=\"82.763672\"/>\n     <use xlink:href=\"#DejaVuSans-73\" x=\"144.042969\"/>\n     <use xlink:href=\"#DejaVuSans-73\" x=\"196.142578\"/>\n     <use xlink:href=\"#DejaVuSans-20\" x=\"248.242188\"/>\n     <use xlink:href=\"#DejaVuSans-3d\" x=\"280.029297\"/>\n     <use xlink:href=\"#DejaVuSans-20\" x=\"363.818359\"/>\n     <use xlink:href=\"#DejaVuSans-53\" x=\"395.605469\"/>\n     <use xlink:href=\"#DejaVuSans-75\" x=\"459.082031\"/>\n     <use xlink:href=\"#DejaVuSans-72\" x=\"522.460938\"/>\n     <use xlink:href=\"#DejaVuSans-76\" x=\"563.574219\"/>\n     <use xlink:href=\"#DejaVuSans-69\" x=\"622.753906\"/>\n     <use xlink:href=\"#DejaVuSans-76\" x=\"650.537109\"/>\n     <use xlink:href=\"#DejaVuSans-65\" x=\"709.716797\"/>\n     <use xlink:href=\"#DejaVuSans-64\" x=\"771.240234\"/>\n    </g>\n   </g>\n   <g id=\"patch_4\">\n    <path d=\"M 733.430726 306.989288 \nQ 650.431513 226.131991 566.631465 144.494524 \n\" style=\"fill: none; stroke: #000000; stroke-linecap: round\"/>\n    <path d=\"M 727.398286 289.650764 \nL 733.430726 306.989288 \nL 715.940442 301.412126 \n\" style=\"fill: none; stroke: #000000; stroke-linecap: round\"/>\n   </g>\n   <g id=\"text_2\">\n    <g id=\"patch_5\">\n     <path d=\"M 634.054651 520.133987 \nL 1054.345349 520.133987 \nL 1054.345349 309.666013 \nL 634.054651 309.666013 \nz\n\" style=\"fill: #eead7d; stroke: #000000; stroke-linejoin: miter\"/>\n    </g>\n    <!-- gini = 0.382 -->\n    <g transform=\"translate(717.754248 357.277194)scale(0.410497 -0.410497)\">\n     <use xlink:href=\"#DejaVuSans-67\"/>\n     <use xlink:href=\"#DejaVuSans-69\" x=\"63.476562\"/>\n     <use xlink:href=\"#DejaVuSans-6e\" x=\"91.259766\"/>\n     <use xlink:href=\"#DejaVuSans-69\" x=\"154.638672\"/>\n     <use xlink:href=\"#DejaVuSans-20\" x=\"182.421875\"/>\n     <use xlink:href=\"#DejaVuSans-3d\" x=\"214.208984\"/>\n     <use xlink:href=\"#DejaVuSans-20\" x=\"297.998047\"/>\n     <use xlink:href=\"#DejaVuSans-30\" x=\"329.785156\"/>\n     <use xlink:href=\"#DejaVuSans-2e\" x=\"393.408203\"/>\n     <use xlink:href=\"#DejaVuSans-33\" x=\"425.195312\"/>\n     <use xlink:href=\"#DejaVuSans-38\" x=\"488.818359\"/>\n     <use xlink:href=\"#DejaVuSans-32\" x=\"552.441406\"/>\n    </g>\n    <!-- samples = 405 -->\n    <g transform=\"translate(689.462059 403.243823)scale(0.410497 -0.410497)\">\n     <defs>\n      <path id=\"DejaVuSans-35\" d=\"M 691 4666 \nL 3169 4666 \nL 3169 4134 \nL 1269 4134 \nL 1269 2991 \nQ 1406 3038 1543 3061 \nQ 1681 3084 1819 3084 \nQ 2600 3084 3056 2656 \nQ 3513 2228 3513 1497 \nQ 3513 744 3044 326 \nQ 2575 -91 1722 -91 \nQ 1428 -91 1123 -41 \nQ 819 9 494 109 \nL 494 744 \nQ 775 591 1075 516 \nQ 1375 441 1709 441 \nQ 2250 441 2565 725 \nQ 2881 1009 2881 1497 \nQ 2881 1984 2565 2268 \nQ 2250 2553 1709 2553 \nQ 1456 2553 1204 2497 \nQ 953 2441 691 2322 \nL 691 4666 \nz\n\" transform=\"scale(0.015625)\"/>\n     </defs>\n     <use xlink:href=\"#DejaVuSans-73\"/>\n     <use xlink:href=\"#DejaVuSans-61\" x=\"52.099609\"/>\n     <use xlink:href=\"#DejaVuSans-6d\" x=\"113.378906\"/>\n     <use xlink:href=\"#DejaVuSans-70\" x=\"210.791016\"/>\n     <use xlink:href=\"#DejaVuSans-6c\" x=\"274.267578\"/>\n     <use xlink:href=\"#DejaVuSans-65\" x=\"302.050781\"/>\n     <use xlink:href=\"#DejaVuSans-73\" x=\"363.574219\"/>\n     <use xlink:href=\"#DejaVuSans-20\" x=\"415.673828\"/>\n     <use xlink:href=\"#DejaVuSans-3d\" x=\"447.460938\"/>\n     <use xlink:href=\"#DejaVuSans-20\" x=\"531.25\"/>\n     <use xlink:href=\"#DejaVuSans-34\" x=\"563.037109\"/>\n     <use xlink:href=\"#DejaVuSans-30\" x=\"626.660156\"/>\n     <use xlink:href=\"#DejaVuSans-35\" x=\"690.283203\"/>\n    </g>\n    <!-- value = [301, 104] -->\n    <g transform=\"translate(650.474512 449.210453)scale(0.410497 -0.410497)\">\n     <use xlink:href=\"#DejaVuSans-76\"/>\n     <use xlink:href=\"#DejaVuSans-61\" x=\"59.179688\"/>\n     <use xlink:href=\"#DejaVuSans-6c\" x=\"120.458984\"/>\n     <use xlink:href=\"#DejaVuSans-75\" x=\"148.242188\"/>\n     <use xlink:href=\"#DejaVuSans-65\" x=\"211.621094\"/>\n     <use xlink:href=\"#DejaVuSans-20\" x=\"273.144531\"/>\n     <use xlink:href=\"#DejaVuSans-3d\" x=\"304.931641\"/>\n     <use xlink:href=\"#DejaVuSans-20\" x=\"388.720703\"/>\n     <use xlink:href=\"#DejaVuSans-5b\" x=\"420.507812\"/>\n     <use xlink:href=\"#DejaVuSans-33\" x=\"459.521484\"/>\n     <use xlink:href=\"#DejaVuSans-30\" x=\"523.144531\"/>\n     <use xlink:href=\"#DejaVuSans-31\" x=\"586.767578\"/>\n     <use xlink:href=\"#DejaVuSans-2c\" x=\"650.390625\"/>\n     <use xlink:href=\"#DejaVuSans-20\" x=\"682.177734\"/>\n     <use xlink:href=\"#DejaVuSans-31\" x=\"713.964844\"/>\n     <use xlink:href=\"#DejaVuSans-30\" x=\"777.587891\"/>\n     <use xlink:href=\"#DejaVuSans-34\" x=\"841.210938\"/>\n     <use xlink:href=\"#DejaVuSans-5d\" x=\"904.833984\"/>\n    </g>\n    <!-- class = Died -->\n    <g transform=\"translate(715.839666 495.177082)scale(0.410497 -0.410497)\">\n     <defs>\n      <path id=\"DejaVuSans-44\" d=\"M 1259 4147 \nL 1259 519 \nL 2022 519 \nQ 2988 519 3436 956 \nQ 3884 1394 3884 2338 \nQ 3884 3275 3436 3711 \nQ 2988 4147 2022 4147 \nL 1259 4147 \nz\nM 628 4666 \nL 1925 4666 \nQ 3281 4666 3915 4102 \nQ 4550 3538 4550 2338 \nQ 4550 1131 3912 565 \nQ 3275 0 1925 0 \nL 628 0 \nL 628 4666 \nz\n\" transform=\"scale(0.015625)\"/>\n     </defs>\n     <use xlink:href=\"#DejaVuSans-63\"/>\n     <use xlink:href=\"#DejaVuSans-6c\" x=\"54.980469\"/>\n     <use xlink:href=\"#DejaVuSans-61\" x=\"82.763672\"/>\n     <use xlink:href=\"#DejaVuSans-73\" x=\"144.042969\"/>\n     <use xlink:href=\"#DejaVuSans-73\" x=\"196.142578\"/>\n     <use xlink:href=\"#DejaVuSans-20\" x=\"248.242188\"/>\n     <use xlink:href=\"#DejaVuSans-3d\" x=\"280.029297\"/>\n     <use xlink:href=\"#DejaVuSans-20\" x=\"363.818359\"/>\n     <use xlink:href=\"#DejaVuSans-44\" x=\"395.605469\"/>\n     <use xlink:href=\"#DejaVuSans-69\" x=\"472.607422\"/>\n     <use xlink:href=\"#DejaVuSans-65\" x=\"500.390625\"/>\n     <use xlink:href=\"#DejaVuSans-64\" x=\"561.914062\"/>\n    </g>\n   </g>\n   <g id=\"patch_6\">\n    <path d=\"M 565.2 143.1 \nQ 565.2 143.1 565.2 143.1 \n\" style=\"fill: none; stroke: #000000; stroke-linecap: round\"/>\n   </g>\n   <g id=\"text_3\">\n    <g id=\"patch_7\">\n     <path d=\"M 355.054651 271.888148 \nL 775.345349 271.888148 \nL 775.345349 13.170159 \nL 355.054651 13.170159 \nz\n\" style=\"fill: #f7d9c4; stroke: #000000; stroke-linejoin: miter\"/>\n    </g>\n    <!-- class_Third &lt;= 0.5 -->\n    <g transform=\"translate(371.548273 61.923033)scale(0.410497 -0.410497)\">\n     <defs>\n      <path id=\"DejaVuSans-5f\" d=\"M 3263 -1063 \nL 3263 -1509 \nL -63 -1509 \nL -63 -1063 \nL 3263 -1063 \nz\n\" transform=\"scale(0.015625)\"/>\n      <path id=\"DejaVuSans-54\" d=\"M -19 4666 \nL 3928 4666 \nL 3928 4134 \nL 2272 4134 \nL 2272 0 \nL 1638 0 \nL 1638 4134 \nL -19 4134 \nL -19 4666 \nz\n\" transform=\"scale(0.015625)\"/>\n      <path id=\"DejaVuSans-68\" d=\"M 3513 2113 \nL 3513 0 \nL 2938 0 \nL 2938 2094 \nQ 2938 2591 2744 2837 \nQ 2550 3084 2163 3084 \nQ 1697 3084 1428 2787 \nQ 1159 2491 1159 1978 \nL 1159 0 \nL 581 0 \nL 581 4863 \nL 1159 4863 \nL 1159 2956 \nQ 1366 3272 1645 3428 \nQ 1925 3584 2291 3584 \nQ 2894 3584 3203 3211 \nQ 3513 2838 3513 2113 \nz\n\" transform=\"scale(0.015625)\"/>\n      <path id=\"DejaVuSans-3c\" d=\"M 4684 3150 \nL 1459 2003 \nL 4684 863 \nL 4684 294 \nL 678 1747 \nL 678 2266 \nL 4684 3719 \nL 4684 3150 \nz\n\" transform=\"scale(0.015625)\"/>\n     </defs>\n     <use xlink:href=\"#DejaVuSans-63\"/>\n     <use xlink:href=\"#DejaVuSans-6c\" x=\"54.980469\"/>\n     <use xlink:href=\"#DejaVuSans-61\" x=\"82.763672\"/>\n     <use xlink:href=\"#DejaVuSans-73\" x=\"144.042969\"/>\n     <use xlink:href=\"#DejaVuSans-73\" x=\"196.142578\"/>\n     <use xlink:href=\"#DejaVuSans-5f\" x=\"248.242188\"/>\n     <use xlink:href=\"#DejaVuSans-54\" x=\"298.242188\"/>\n     <use xlink:href=\"#DejaVuSans-68\" x=\"359.326172\"/>\n     <use xlink:href=\"#DejaVuSans-69\" x=\"422.705078\"/>\n     <use xlink:href=\"#DejaVuSans-72\" x=\"450.488281\"/>\n     <use xlink:href=\"#DejaVuSans-64\" x=\"489.851562\"/>\n     <use xlink:href=\"#DejaVuSans-20\" x=\"553.328125\"/>\n     <use xlink:href=\"#DejaVuSans-3c\" x=\"585.115234\"/>\n     <use xlink:href=\"#DejaVuSans-3d\" x=\"668.904297\"/>\n     <use xlink:href=\"#DejaVuSans-20\" x=\"752.693359\"/>\n     <use xlink:href=\"#DejaVuSans-30\" x=\"784.480469\"/>\n     <use xlink:href=\"#DejaVuSans-2e\" x=\"848.103516\"/>\n     <use xlink:href=\"#DejaVuSans-35\" x=\"879.890625\"/>\n    </g>\n    <!-- gini = 0.485 -->\n    <g transform=\"translate(438.754248 109.031355)scale(0.410497 -0.410497)\">\n     <use xlink:href=\"#DejaVuSans-67\"/>\n     <use xlink:href=\"#DejaVuSans-69\" x=\"63.476562\"/>\n     <use xlink:href=\"#DejaVuSans-6e\" x=\"91.259766\"/>\n     <use xlink:href=\"#DejaVuSans-69\" x=\"154.638672\"/>\n     <use xlink:href=\"#DejaVuSans-20\" x=\"182.421875\"/>\n     <use xlink:href=\"#DejaVuSans-3d\" x=\"214.208984\"/>\n     <use xlink:href=\"#DejaVuSans-20\" x=\"297.998047\"/>\n     <use xlink:href=\"#DejaVuSans-30\" x=\"329.785156\"/>\n     <use xlink:href=\"#DejaVuSans-2e\" x=\"393.408203\"/>\n     <use xlink:href=\"#DejaVuSans-34\" x=\"425.195312\"/>\n     <use xlink:href=\"#DejaVuSans-38\" x=\"488.818359\"/>\n     <use xlink:href=\"#DejaVuSans-35\" x=\"552.441406\"/>\n    </g>\n    <!-- samples = 784 -->\n    <g transform=\"translate(410.462059 154.997985)scale(0.410497 -0.410497)\">\n     <use xlink:href=\"#DejaVuSans-73\"/>\n     <use xlink:href=\"#DejaVuSans-61\" x=\"52.099609\"/>\n     <use xlink:href=\"#DejaVuSans-6d\" x=\"113.378906\"/>\n     <use xlink:href=\"#DejaVuSans-70\" x=\"210.791016\"/>\n     <use xlink:href=\"#DejaVuSans-6c\" x=\"274.267578\"/>\n     <use xlink:href=\"#DejaVuSans-65\" x=\"302.050781\"/>\n     <use xlink:href=\"#DejaVuSans-73\" x=\"363.574219\"/>\n     <use xlink:href=\"#DejaVuSans-20\" x=\"415.673828\"/>\n     <use xlink:href=\"#DejaVuSans-3d\" x=\"447.460938\"/>\n     <use xlink:href=\"#DejaVuSans-20\" x=\"531.25\"/>\n     <use xlink:href=\"#DejaVuSans-37\" x=\"563.037109\"/>\n     <use xlink:href=\"#DejaVuSans-38\" x=\"626.660156\"/>\n     <use xlink:href=\"#DejaVuSans-34\" x=\"690.283203\"/>\n    </g>\n    <!-- value = [461, 323] -->\n    <g transform=\"translate(371.474512 200.964614)scale(0.410497 -0.410497)\">\n     <use xlink:href=\"#DejaVuSans-76\"/>\n     <use xlink:href=\"#DejaVuSans-61\" x=\"59.179688\"/>\n     <use xlink:href=\"#DejaVuSans-6c\" x=\"120.458984\"/>\n     <use xlink:href=\"#DejaVuSans-75\" x=\"148.242188\"/>\n     <use xlink:href=\"#DejaVuSans-65\" x=\"211.621094\"/>\n     <use xlink:href=\"#DejaVuSans-20\" x=\"273.144531\"/>\n     <use xlink:href=\"#DejaVuSans-3d\" x=\"304.931641\"/>\n     <use xlink:href=\"#DejaVuSans-20\" x=\"388.720703\"/>\n     <use xlink:href=\"#DejaVuSans-5b\" x=\"420.507812\"/>\n     <use xlink:href=\"#DejaVuSans-34\" x=\"459.521484\"/>\n     <use xlink:href=\"#DejaVuSans-36\" x=\"523.144531\"/>\n     <use xlink:href=\"#DejaVuSans-31\" x=\"586.767578\"/>\n     <use xlink:href=\"#DejaVuSans-2c\" x=\"650.390625\"/>\n     <use xlink:href=\"#DejaVuSans-20\" x=\"682.177734\"/>\n     <use xlink:href=\"#DejaVuSans-33\" x=\"713.964844\"/>\n     <use xlink:href=\"#DejaVuSans-32\" x=\"777.587891\"/>\n     <use xlink:href=\"#DejaVuSans-33\" x=\"841.210938\"/>\n     <use xlink:href=\"#DejaVuSans-5d\" x=\"904.833984\"/>\n    </g>\n    <!-- class = Died -->\n    <g transform=\"translate(436.839666 246.931243)scale(0.410497 -0.410497)\">\n     <use xlink:href=\"#DejaVuSans-63\"/>\n     <use xlink:href=\"#DejaVuSans-6c\" x=\"54.980469\"/>\n     <use xlink:href=\"#DejaVuSans-61\" x=\"82.763672\"/>\n     <use xlink:href=\"#DejaVuSans-73\" x=\"144.042969\"/>\n     <use xlink:href=\"#DejaVuSans-73\" x=\"196.142578\"/>\n     <use xlink:href=\"#DejaVuSans-20\" x=\"248.242188\"/>\n     <use xlink:href=\"#DejaVuSans-3d\" x=\"280.029297\"/>\n     <use xlink:href=\"#DejaVuSans-20\" x=\"363.818359\"/>\n     <use xlink:href=\"#DejaVuSans-44\" x=\"395.605469\"/>\n     <use xlink:href=\"#DejaVuSans-69\" x=\"472.607422\"/>\n     <use xlink:href=\"#DejaVuSans-65\" x=\"500.390625\"/>\n     <use xlink:href=\"#DejaVuSans-64\" x=\"561.914062\"/>\n    </g>\n   </g>\n  </g>\n </g>\n</svg>\n",
      "text/plain": [
       "<Figure size 1440x720 with 1 Axes>"
      ]
     },
     "metadata": {
      "needs_background": "light"
     },
     "output_type": "display_data"
    }
   ],
   "source": [
    "plt.figure(figsize=(20, 10))\n",
    "plot_tree(clf,\n",
    "          filled=True,\n",
    "          class_names=['Died', 'Survived'],\n",
    "          feature_names=['class_Third']);"
   ]
  },
  {
   "cell_type": "markdown",
   "metadata": {},
   "source": [
    "# 8. Árvore de classificação com 2 variáveis flag <a name=\"2_flag\"></a>\n",
    "<div style=\"text-align: right\"\n",
    "     \n",
    "[Voltar ao índice](#Contents)"
   ]
  },
  {
   "cell_type": "markdown",
   "metadata": {},
   "source": [
    "## Homem adulto e 3a classe"
   ]
  },
  {
   "cell_type": "code",
   "execution_count": 87,
   "metadata": {},
   "outputs": [
    {
     "data": {
      "text/plain": [
       "DecisionTreeClassifier(random_state=100)"
      ]
     },
     "execution_count": 87,
     "metadata": {},
     "output_type": "execute_result"
    }
   ],
   "source": [
    "clf = clf.fit(X[['adult_male','class_Third']],y)\n",
    "clf"
   ]
  },
  {
   "cell_type": "code",
   "execution_count": 88,
   "metadata": {
    "scrolled": false
   },
   "outputs": [
    {
     "data": {
      "image/png": "[encoded data removed]",
      "image/svg+xml": "<?xml version=\"1.0\" encoding=\"utf-8\" standalone=\"no\"?>\n<!DOCTYPE svg PUBLIC \"-//W3C//DTD SVG 1.1//EN\"\n  \"http://www.w3.org/Graphics/SVG/1.1/DTD/svg11.dtd\">\n<svg xmlns:xlink=\"http://www.w3.org/1999/xlink\" width=\"1409.4pt\" height=\"558pt\" viewBox=\"0 0 1409.4 558\" xmlns=\"http://www.w3.org/2000/svg\" version=\"1.1\">\n <metadata>\n  <rdf:RDF xmlns:dc=\"http://purl.org/dc/elements/1.1/\" xmlns:cc=\"http://creativecommons.org/ns#\" xmlns:rdf=\"http://www.w3.org/1999/02/22-rdf-syntax-ns#\">\n   <cc:Work>\n    <dc:type rdf:resource=\"http://purl.org/dc/dcmitype/StillImage\"/>\n    <dc:date>2022-10-01T10:26:28.176907</dc:date>\n    <dc:format>image/svg+xml</dc:format>\n    <dc:creator>\n     <cc:Agent>\n      <dc:title>Matplotlib v3.5.1, https://matplotlib.org/</dc:title>\n     </cc:Agent>\n    </dc:creator>\n   </cc:Work>\n  </rdf:RDF>\n </metadata>\n <defs>\n  <style type=\"text/css\">*{stroke-linejoin: round; stroke-linecap: butt}</style>\n </defs>\n <g id=\"figure_1\">\n  <g id=\"patch_1\">\n   <path d=\"M 0 558 \nL 1409.4 558 \nL 1409.4 0 \nL 0 0 \nL 0 558 \nz\n\" style=\"fill: none\"/>\n  </g>\n  <g id=\"axes_1\">\n   <g id=\"patch_2\">\n    <path d=\"M 251.731985 387.297086 \nQ 302.75967 334.272188 354.562607 280.441695 \n\" style=\"fill: none; stroke: #000000; stroke-linecap: round\"/>\n    <path d=\"M 263.266169 383.204785 \nL 251.731985 387.297086 \nL 255.378654 375.614358 \n\" style=\"fill: none; stroke: #000000; stroke-linecap: round\"/>\n   </g>\n   <g id=\"text_1\">\n    <g id=\"patch_3\">\n     <path d=\"M 56.409911 530.355991 \nL 306.740089 530.355991 \nL 306.740089 390.044009 \nL 56.409911 390.044009 \nz\n\" style=\"fill: #44a2e6; stroke: #000000; stroke-linejoin: miter\"/>\n    </g>\n    <!-- gini = 0.096 -->\n    <g transform=\"translate(97.277832 421.784796)scale(0.273664 -0.273664)\">\n     <defs>\n      <path id=\"DejaVuSans-67\" d=\"M 2906 1791 \nQ 2906 2416 2648 2759 \nQ 2391 3103 1925 3103 \nQ 1463 3103 1205 2759 \nQ 947 2416 947 1791 \nQ 947 1169 1205 825 \nQ 1463 481 1925 481 \nQ 2391 481 2648 825 \nQ 2906 1169 2906 1791 \nz\nM 3481 434 \nQ 3481 -459 3084 -895 \nQ 2688 -1331 1869 -1331 \nQ 1566 -1331 1297 -1286 \nQ 1028 -1241 775 -1147 \nL 775 -588 \nQ 1028 -725 1275 -790 \nQ 1522 -856 1778 -856 \nQ 2344 -856 2625 -561 \nQ 2906 -266 2906 331 \nL 2906 616 \nQ 2728 306 2450 153 \nQ 2172 0 1784 0 \nQ 1141 0 747 490 \nQ 353 981 353 1791 \nQ 353 2603 747 3093 \nQ 1141 3584 1784 3584 \nQ 2172 3584 2450 3431 \nQ 2728 3278 2906 2969 \nL 2906 3500 \nL 3481 3500 \nL 3481 434 \nz\n\" transform=\"scale(0.015625)\"/>\n      <path id=\"DejaVuSans-69\" d=\"M 603 3500 \nL 1178 3500 \nL 1178 0 \nL 603 0 \nL 603 3500 \nz\nM 603 4863 \nL 1178 4863 \nL 1178 4134 \nL 603 4134 \nL 603 4863 \nz\n\" transform=\"scale(0.015625)\"/>\n      <path id=\"DejaVuSans-6e\" d=\"M 3513 2113 \nL 3513 0 \nL 2938 0 \nL 2938 2094 \nQ 2938 2591 2744 2837 \nQ 2550 3084 2163 3084 \nQ 1697 3084 1428 2787 \nQ 1159 2491 1159 1978 \nL 1159 0 \nL 581 0 \nL 581 3500 \nL 1159 3500 \nL 1159 2956 \nQ 1366 3272 1645 3428 \nQ 1925 3584 2291 3584 \nQ 2894 3584 3203 3211 \nQ 3513 2838 3513 2113 \nz\n\" transform=\"scale(0.015625)\"/>\n      <path id=\"DejaVuSans-20\" transform=\"scale(0.015625)\"/>\n      <path id=\"DejaVuSans-3d\" d=\"M 678 2906 \nL 4684 2906 \nL 4684 2381 \nL 678 2381 \nL 678 2906 \nz\nM 678 1631 \nL 4684 1631 \nL 4684 1100 \nL 678 1100 \nL 678 1631 \nz\n\" transform=\"scale(0.015625)\"/>\n      <path id=\"DejaVuSans-30\" d=\"M 2034 4250 \nQ 1547 4250 1301 3770 \nQ 1056 3291 1056 2328 \nQ 1056 1369 1301 889 \nQ 1547 409 2034 409 \nQ 2525 409 2770 889 \nQ 3016 1369 3016 2328 \nQ 3016 3291 2770 3770 \nQ 2525 4250 2034 4250 \nz\nM 2034 4750 \nQ 2819 4750 3233 4129 \nQ 3647 3509 3647 2328 \nQ 3647 1150 3233 529 \nQ 2819 -91 2034 -91 \nQ 1250 -91 836 529 \nQ 422 1150 422 2328 \nQ 422 3509 836 4129 \nQ 1250 4750 2034 4750 \nz\n\" transform=\"scale(0.015625)\"/>\n      <path id=\"DejaVuSans-2e\" d=\"M 684 794 \nL 1344 794 \nL 1344 0 \nL 684 0 \nL 684 794 \nz\n\" transform=\"scale(0.015625)\"/>\n      <path id=\"DejaVuSans-39\" d=\"M 703 97 \nL 703 672 \nQ 941 559 1184 500 \nQ 1428 441 1663 441 \nQ 2288 441 2617 861 \nQ 2947 1281 2994 2138 \nQ 2813 1869 2534 1725 \nQ 2256 1581 1919 1581 \nQ 1219 1581 811 2004 \nQ 403 2428 403 3163 \nQ 403 3881 828 4315 \nQ 1253 4750 1959 4750 \nQ 2769 4750 3195 4129 \nQ 3622 3509 3622 2328 \nQ 3622 1225 3098 567 \nQ 2575 -91 1691 -91 \nQ 1453 -91 1209 -44 \nQ 966 3 703 97 \nz\nM 1959 2075 \nQ 2384 2075 2632 2365 \nQ 2881 2656 2881 3163 \nQ 2881 3666 2632 3958 \nQ 2384 4250 1959 4250 \nQ 1534 4250 1286 3958 \nQ 1038 3666 1038 3163 \nQ 1038 2656 1286 2365 \nQ 1534 2075 1959 2075 \nz\n\" transform=\"scale(0.015625)\"/>\n      <path id=\"DejaVuSans-36\" d=\"M 2113 2584 \nQ 1688 2584 1439 2293 \nQ 1191 2003 1191 1497 \nQ 1191 994 1439 701 \nQ 1688 409 2113 409 \nQ 2538 409 2786 701 \nQ 3034 994 3034 1497 \nQ 3034 2003 2786 2293 \nQ 2538 2584 2113 2584 \nz\nM 3366 4563 \nL 3366 3988 \nQ 3128 4100 2886 4159 \nQ 2644 4219 2406 4219 \nQ 1781 4219 1451 3797 \nQ 1122 3375 1075 2522 \nQ 1259 2794 1537 2939 \nQ 1816 3084 2150 3084 \nQ 2853 3084 3261 2657 \nQ 3669 2231 3669 1497 \nQ 3669 778 3244 343 \nQ 2819 -91 2113 -91 \nQ 1303 -91 875 529 \nQ 447 1150 447 2328 \nQ 447 3434 972 4092 \nQ 1497 4750 2381 4750 \nQ 2619 4750 2861 4703 \nQ 3103 4656 3366 4563 \nz\n\" transform=\"scale(0.015625)\"/>\n     </defs>\n     <use xlink:href=\"#DejaVuSans-67\"/>\n     <use xlink:href=\"#DejaVuSans-69\" x=\"63.476562\"/>\n     <use xlink:href=\"#DejaVuSans-6e\" x=\"91.259766\"/>\n     <use xlink:href=\"#DejaVuSans-69\" x=\"154.638672\"/>\n     <use xlink:href=\"#DejaVuSans-20\" x=\"182.421875\"/>\n     <use xlink:href=\"#DejaVuSans-3d\" x=\"214.208984\"/>\n     <use xlink:href=\"#DejaVuSans-20\" x=\"297.998047\"/>\n     <use xlink:href=\"#DejaVuSans-30\" x=\"329.785156\"/>\n     <use xlink:href=\"#DejaVuSans-2e\" x=\"393.408203\"/>\n     <use xlink:href=\"#DejaVuSans-30\" x=\"425.195312\"/>\n     <use xlink:href=\"#DejaVuSans-39\" x=\"488.818359\"/>\n     <use xlink:href=\"#DejaVuSans-36\" x=\"552.441406\"/>\n    </g>\n    <!-- samples = 178 -->\n    <g transform=\"translate(78.416372 452.429216)scale(0.273664 -0.273664)\">\n     <defs>\n      <path id=\"DejaVuSans-73\" d=\"M 2834 3397 \nL 2834 2853 \nQ 2591 2978 2328 3040 \nQ 2066 3103 1784 3103 \nQ 1356 3103 1142 2972 \nQ 928 2841 928 2578 \nQ 928 2378 1081 2264 \nQ 1234 2150 1697 2047 \nL 1894 2003 \nQ 2506 1872 2764 1633 \nQ 3022 1394 3022 966 \nQ 3022 478 2636 193 \nQ 2250 -91 1575 -91 \nQ 1294 -91 989 -36 \nQ 684 19 347 128 \nL 347 722 \nQ 666 556 975 473 \nQ 1284 391 1588 391 \nQ 1994 391 2212 530 \nQ 2431 669 2431 922 \nQ 2431 1156 2273 1281 \nQ 2116 1406 1581 1522 \nL 1381 1569 \nQ 847 1681 609 1914 \nQ 372 2147 372 2553 \nQ 372 3047 722 3315 \nQ 1072 3584 1716 3584 \nQ 2034 3584 2315 3537 \nQ 2597 3491 2834 3397 \nz\n\" transform=\"scale(0.015625)\"/>\n      <path id=\"DejaVuSans-61\" d=\"M 2194 1759 \nQ 1497 1759 1228 1600 \nQ 959 1441 959 1056 \nQ 959 750 1161 570 \nQ 1363 391 1709 391 \nQ 2188 391 2477 730 \nQ 2766 1069 2766 1631 \nL 2766 1759 \nL 2194 1759 \nz\nM 3341 1997 \nL 3341 0 \nL 2766 0 \nL 2766 531 \nQ 2569 213 2275 61 \nQ 1981 -91 1556 -91 \nQ 1019 -91 701 211 \nQ 384 513 384 1019 \nQ 384 1609 779 1909 \nQ 1175 2209 1959 2209 \nL 2766 2209 \nL 2766 2266 \nQ 2766 2663 2505 2880 \nQ 2244 3097 1772 3097 \nQ 1472 3097 1187 3025 \nQ 903 2953 641 2809 \nL 641 3341 \nQ 956 3463 1253 3523 \nQ 1550 3584 1831 3584 \nQ 2591 3584 2966 3190 \nQ 3341 2797 3341 1997 \nz\n\" transform=\"scale(0.015625)\"/>\n      <path id=\"DejaVuSans-6d\" d=\"M 3328 2828 \nQ 3544 3216 3844 3400 \nQ 4144 3584 4550 3584 \nQ 5097 3584 5394 3201 \nQ 5691 2819 5691 2113 \nL 5691 0 \nL 5113 0 \nL 5113 2094 \nQ 5113 2597 4934 2840 \nQ 4756 3084 4391 3084 \nQ 3944 3084 3684 2787 \nQ 3425 2491 3425 1978 \nL 3425 0 \nL 2847 0 \nL 2847 2094 \nQ 2847 2600 2669 2842 \nQ 2491 3084 2119 3084 \nQ 1678 3084 1418 2786 \nQ 1159 2488 1159 1978 \nL 1159 0 \nL 581 0 \nL 581 3500 \nL 1159 3500 \nL 1159 2956 \nQ 1356 3278 1631 3431 \nQ 1906 3584 2284 3584 \nQ 2666 3584 2933 3390 \nQ 3200 3197 3328 2828 \nz\n\" transform=\"scale(0.015625)\"/>\n      <path id=\"DejaVuSans-70\" d=\"M 1159 525 \nL 1159 -1331 \nL 581 -1331 \nL 581 3500 \nL 1159 3500 \nL 1159 2969 \nQ 1341 3281 1617 3432 \nQ 1894 3584 2278 3584 \nQ 2916 3584 3314 3078 \nQ 3713 2572 3713 1747 \nQ 3713 922 3314 415 \nQ 2916 -91 2278 -91 \nQ 1894 -91 1617 61 \nQ 1341 213 1159 525 \nz\nM 3116 1747 \nQ 3116 2381 2855 2742 \nQ 2594 3103 2138 3103 \nQ 1681 3103 1420 2742 \nQ 1159 2381 1159 1747 \nQ 1159 1113 1420 752 \nQ 1681 391 2138 391 \nQ 2594 391 2855 752 \nQ 3116 1113 3116 1747 \nz\n\" transform=\"scale(0.015625)\"/>\n      <path id=\"DejaVuSans-6c\" d=\"M 603 4863 \nL 1178 4863 \nL 1178 0 \nL 603 0 \nL 603 4863 \nz\n\" transform=\"scale(0.015625)\"/>\n      <path id=\"DejaVuSans-65\" d=\"M 3597 1894 \nL 3597 1613 \nL 953 1613 \nQ 991 1019 1311 708 \nQ 1631 397 2203 397 \nQ 2534 397 2845 478 \nQ 3156 559 3463 722 \nL 3463 178 \nQ 3153 47 2828 -22 \nQ 2503 -91 2169 -91 \nQ 1331 -91 842 396 \nQ 353 884 353 1716 \nQ 353 2575 817 3079 \nQ 1281 3584 2069 3584 \nQ 2775 3584 3186 3129 \nQ 3597 2675 3597 1894 \nz\nM 3022 2063 \nQ 3016 2534 2758 2815 \nQ 2500 3097 2075 3097 \nQ 1594 3097 1305 2825 \nQ 1016 2553 972 2059 \nL 3022 2063 \nz\n\" transform=\"scale(0.015625)\"/>\n      <path id=\"DejaVuSans-31\" d=\"M 794 531 \nL 1825 531 \nL 1825 4091 \nL 703 3866 \nL 703 4441 \nL 1819 4666 \nL 2450 4666 \nL 2450 531 \nL 3481 531 \nL 3481 0 \nL 794 0 \nL 794 531 \nz\n\" transform=\"scale(0.015625)\"/>\n      <path id=\"DejaVuSans-37\" d=\"M 525 4666 \nL 3525 4666 \nL 3525 4397 \nL 1831 0 \nL 1172 0 \nL 2766 4134 \nL 525 4134 \nL 525 4666 \nz\n\" transform=\"scale(0.015625)\"/>\n      <path id=\"DejaVuSans-38\" d=\"M 2034 2216 \nQ 1584 2216 1326 1975 \nQ 1069 1734 1069 1313 \nQ 1069 891 1326 650 \nQ 1584 409 2034 409 \nQ 2484 409 2743 651 \nQ 3003 894 3003 1313 \nQ 3003 1734 2745 1975 \nQ 2488 2216 2034 2216 \nz\nM 1403 2484 \nQ 997 2584 770 2862 \nQ 544 3141 544 3541 \nQ 544 4100 942 4425 \nQ 1341 4750 2034 4750 \nQ 2731 4750 3128 4425 \nQ 3525 4100 3525 3541 \nQ 3525 3141 3298 2862 \nQ 3072 2584 2669 2484 \nQ 3125 2378 3379 2068 \nQ 3634 1759 3634 1313 \nQ 3634 634 3220 271 \nQ 2806 -91 2034 -91 \nQ 1263 -91 848 271 \nQ 434 634 434 1313 \nQ 434 1759 690 2068 \nQ 947 2378 1403 2484 \nz\nM 1172 3481 \nQ 1172 3119 1398 2916 \nQ 1625 2713 2034 2713 \nQ 2441 2713 2670 2916 \nQ 2900 3119 2900 3481 \nQ 2900 3844 2670 4047 \nQ 2441 4250 2034 4250 \nQ 1625 4250 1398 4047 \nQ 1172 3844 1172 3481 \nz\n\" transform=\"scale(0.015625)\"/>\n     </defs>\n     <use xlink:href=\"#DejaVuSans-73\"/>\n     <use xlink:href=\"#DejaVuSans-61\" x=\"52.099609\"/>\n     <use xlink:href=\"#DejaVuSans-6d\" x=\"113.378906\"/>\n     <use xlink:href=\"#DejaVuSans-70\" x=\"210.791016\"/>\n     <use xlink:href=\"#DejaVuSans-6c\" x=\"274.267578\"/>\n     <use xlink:href=\"#DejaVuSans-65\" x=\"302.050781\"/>\n     <use xlink:href=\"#DejaVuSans-73\" x=\"363.574219\"/>\n     <use xlink:href=\"#DejaVuSans-20\" x=\"415.673828\"/>\n     <use xlink:href=\"#DejaVuSans-3d\" x=\"447.460938\"/>\n     <use xlink:href=\"#DejaVuSans-20\" x=\"531.25\"/>\n     <use xlink:href=\"#DejaVuSans-31\" x=\"563.037109\"/>\n     <use xlink:href=\"#DejaVuSans-37\" x=\"626.660156\"/>\n     <use xlink:href=\"#DejaVuSans-38\" x=\"690.283203\"/>\n    </g>\n    <!-- value = [9, 169] -->\n    <g transform=\"translate(69.836568 483.073635)scale(0.273664 -0.273664)\">\n     <defs>\n      <path id=\"DejaVuSans-76\" d=\"M 191 3500 \nL 800 3500 \nL 1894 563 \nL 2988 3500 \nL 3597 3500 \nL 2284 0 \nL 1503 0 \nL 191 3500 \nz\n\" transform=\"scale(0.015625)\"/>\n      <path id=\"DejaVuSans-75\" d=\"M 544 1381 \nL 544 3500 \nL 1119 3500 \nL 1119 1403 \nQ 1119 906 1312 657 \nQ 1506 409 1894 409 \nQ 2359 409 2629 706 \nQ 2900 1003 2900 1516 \nL 2900 3500 \nL 3475 3500 \nL 3475 0 \nL 2900 0 \nL 2900 538 \nQ 2691 219 2414 64 \nQ 2138 -91 1772 -91 \nQ 1169 -91 856 284 \nQ 544 659 544 1381 \nz\nM 1991 3584 \nL 1991 3584 \nz\n\" transform=\"scale(0.015625)\"/>\n      <path id=\"DejaVuSans-5b\" d=\"M 550 4863 \nL 1875 4863 \nL 1875 4416 \nL 1125 4416 \nL 1125 -397 \nL 1875 -397 \nL 1875 -844 \nL 550 -844 \nL 550 4863 \nz\n\" transform=\"scale(0.015625)\"/>\n      <path id=\"DejaVuSans-2c\" d=\"M 750 794 \nL 1409 794 \nL 1409 256 \nL 897 -744 \nL 494 -744 \nL 750 256 \nL 750 794 \nz\n\" transform=\"scale(0.015625)\"/>\n      <path id=\"DejaVuSans-5d\" d=\"M 1947 4863 \nL 1947 -844 \nL 622 -844 \nL 622 -397 \nL 1369 -397 \nL 1369 4416 \nL 622 4416 \nL 622 4863 \nL 1947 4863 \nz\n\" transform=\"scale(0.015625)\"/>\n     </defs>\n     <use xlink:href=\"#DejaVuSans-76\"/>\n     <use xlink:href=\"#DejaVuSans-61\" x=\"59.179688\"/>\n     <use xlink:href=\"#DejaVuSans-6c\" x=\"120.458984\"/>\n     <use xlink:href=\"#DejaVuSans-75\" x=\"148.242188\"/>\n     <use xlink:href=\"#DejaVuSans-65\" x=\"211.621094\"/>\n     <use xlink:href=\"#DejaVuSans-20\" x=\"273.144531\"/>\n     <use xlink:href=\"#DejaVuSans-3d\" x=\"304.931641\"/>\n     <use xlink:href=\"#DejaVuSans-20\" x=\"388.720703\"/>\n     <use xlink:href=\"#DejaVuSans-5b\" x=\"420.507812\"/>\n     <use xlink:href=\"#DejaVuSans-39\" x=\"459.521484\"/>\n     <use xlink:href=\"#DejaVuSans-2c\" x=\"523.144531\"/>\n     <use xlink:href=\"#DejaVuSans-20\" x=\"554.931641\"/>\n     <use xlink:href=\"#DejaVuSans-31\" x=\"586.71875\"/>\n     <use xlink:href=\"#DejaVuSans-36\" x=\"650.341797\"/>\n     <use xlink:href=\"#DejaVuSans-39\" x=\"713.964844\"/>\n     <use xlink:href=\"#DejaVuSans-5d\" x=\"777.587891\"/>\n    </g>\n    <!-- class = Survived -->\n    <g transform=\"translate(67.356485 513.718055)scale(0.273664 -0.273664)\">\n     <defs>\n      <path id=\"DejaVuSans-63\" d=\"M 3122 3366 \nL 3122 2828 \nQ 2878 2963 2633 3030 \nQ 2388 3097 2138 3097 \nQ 1578 3097 1268 2742 \nQ 959 2388 959 1747 \nQ 959 1106 1268 751 \nQ 1578 397 2138 397 \nQ 2388 397 2633 464 \nQ 2878 531 3122 666 \nL 3122 134 \nQ 2881 22 2623 -34 \nQ 2366 -91 2075 -91 \nQ 1284 -91 818 406 \nQ 353 903 353 1747 \nQ 353 2603 823 3093 \nQ 1294 3584 2113 3584 \nQ 2378 3584 2631 3529 \nQ 2884 3475 3122 3366 \nz\n\" transform=\"scale(0.015625)\"/>\n      <path id=\"DejaVuSans-53\" d=\"M 3425 4513 \nL 3425 3897 \nQ 3066 4069 2747 4153 \nQ 2428 4238 2131 4238 \nQ 1616 4238 1336 4038 \nQ 1056 3838 1056 3469 \nQ 1056 3159 1242 3001 \nQ 1428 2844 1947 2747 \nL 2328 2669 \nQ 3034 2534 3370 2195 \nQ 3706 1856 3706 1288 \nQ 3706 609 3251 259 \nQ 2797 -91 1919 -91 \nQ 1588 -91 1214 -16 \nQ 841 59 441 206 \nL 441 856 \nQ 825 641 1194 531 \nQ 1563 422 1919 422 \nQ 2459 422 2753 634 \nQ 3047 847 3047 1241 \nQ 3047 1584 2836 1778 \nQ 2625 1972 2144 2069 \nL 1759 2144 \nQ 1053 2284 737 2584 \nQ 422 2884 422 3419 \nQ 422 4038 858 4394 \nQ 1294 4750 2059 4750 \nQ 2388 4750 2728 4690 \nQ 3069 4631 3425 4513 \nz\n\" transform=\"scale(0.015625)\"/>\n      <path id=\"DejaVuSans-72\" d=\"M 2631 2963 \nQ 2534 3019 2420 3045 \nQ 2306 3072 2169 3072 \nQ 1681 3072 1420 2755 \nQ 1159 2438 1159 1844 \nL 1159 0 \nL 581 0 \nL 581 3500 \nL 1159 3500 \nL 1159 2956 \nQ 1341 3275 1631 3429 \nQ 1922 3584 2338 3584 \nQ 2397 3584 2469 3576 \nQ 2541 3569 2628 3553 \nL 2631 2963 \nz\n\" transform=\"scale(0.015625)\"/>\n      <path id=\"DejaVuSans-64\" d=\"M 2906 2969 \nL 2906 4863 \nL 3481 4863 \nL 3481 0 \nL 2906 0 \nL 2906 525 \nQ 2725 213 2448 61 \nQ 2172 -91 1784 -91 \nQ 1150 -91 751 415 \nQ 353 922 353 1747 \nQ 353 2572 751 3078 \nQ 1150 3584 1784 3584 \nQ 2172 3584 2448 3432 \nQ 2725 3281 2906 2969 \nz\nM 947 1747 \nQ 947 1113 1208 752 \nQ 1469 391 1925 391 \nQ 2381 391 2643 752 \nQ 2906 1113 2906 1747 \nQ 2906 2381 2643 2742 \nQ 2381 3103 1925 3103 \nQ 1469 3103 1208 2742 \nQ 947 2381 947 1747 \nz\n\" transform=\"scale(0.015625)\"/>\n     </defs>\n     <use xlink:href=\"#DejaVuSans-63\"/>\n     <use xlink:href=\"#DejaVuSans-6c\" x=\"54.980469\"/>\n     <use xlink:href=\"#DejaVuSans-61\" x=\"82.763672\"/>\n     <use xlink:href=\"#DejaVuSans-73\" x=\"144.042969\"/>\n     <use xlink:href=\"#DejaVuSans-73\" x=\"196.142578\"/>\n     <use xlink:href=\"#DejaVuSans-20\" x=\"248.242188\"/>\n     <use xlink:href=\"#DejaVuSans-3d\" x=\"280.029297\"/>\n     <use xlink:href=\"#DejaVuSans-20\" x=\"363.818359\"/>\n     <use xlink:href=\"#DejaVuSans-53\" x=\"395.605469\"/>\n     <use xlink:href=\"#DejaVuSans-75\" x=\"459.082031\"/>\n     <use xlink:href=\"#DejaVuSans-72\" x=\"522.460938\"/>\n     <use xlink:href=\"#DejaVuSans-76\" x=\"563.574219\"/>\n     <use xlink:href=\"#DejaVuSans-69\" x=\"622.753906\"/>\n     <use xlink:href=\"#DejaVuSans-76\" x=\"650.537109\"/>\n     <use xlink:href=\"#DejaVuSans-65\" x=\"709.716797\"/>\n     <use xlink:href=\"#DejaVuSans-64\" x=\"771.240234\"/>\n    </g>\n   </g>\n   <g id=\"patch_4\">\n    <path d=\"M 460.168015 387.297086 \nQ 409.14033 334.272188 357.337393 280.441695 \n\" style=\"fill: none; stroke: #000000; stroke-linecap: round\"/>\n    <path d=\"M 456.521346 375.614358 \nL 460.168015 387.297086 \nL 448.633831 383.204785 \n\" style=\"fill: none; stroke: #000000; stroke-linecap: round\"/>\n   </g>\n   <g id=\"text_2\">\n    <g id=\"patch_5\">\n     <path d=\"M 407.639994 530.355991 \nL 653.010006 530.355991 \nL 653.010006 390.044009 \nL 407.639994 390.044009 \nz\n\" style=\"fill: #fae6d8; stroke: #000000; stroke-linejoin: miter\"/>\n    </g>\n    <!-- gini = 0.494 -->\n    <g transform=\"translate(446.027832 421.784796)scale(0.273664 -0.273664)\">\n     <defs>\n      <path id=\"DejaVuSans-34\" d=\"M 2419 4116 \nL 825 1625 \nL 2419 1625 \nL 2419 4116 \nz\nM 2253 4666 \nL 3047 4666 \nL 3047 1625 \nL 3713 1625 \nL 3713 1100 \nL 3047 1100 \nL 3047 0 \nL 2419 0 \nL 2419 1100 \nL 313 1100 \nL 313 1709 \nL 2253 4666 \nz\n\" transform=\"scale(0.015625)\"/>\n     </defs>\n     <use xlink:href=\"#DejaVuSans-67\"/>\n     <use xlink:href=\"#DejaVuSans-69\" x=\"63.476562\"/>\n     <use xlink:href=\"#DejaVuSans-6e\" x=\"91.259766\"/>\n     <use xlink:href=\"#DejaVuSans-69\" x=\"154.638672\"/>\n     <use xlink:href=\"#DejaVuSans-20\" x=\"182.421875\"/>\n     <use xlink:href=\"#DejaVuSans-3d\" x=\"214.208984\"/>\n     <use xlink:href=\"#DejaVuSans-20\" x=\"297.998047\"/>\n     <use xlink:href=\"#DejaVuSans-30\" x=\"329.785156\"/>\n     <use xlink:href=\"#DejaVuSans-2e\" x=\"393.408203\"/>\n     <use xlink:href=\"#DejaVuSans-34\" x=\"425.195312\"/>\n     <use xlink:href=\"#DejaVuSans-39\" x=\"488.818359\"/>\n     <use xlink:href=\"#DejaVuSans-34\" x=\"552.441406\"/>\n    </g>\n    <!-- samples = 155 -->\n    <g transform=\"translate(427.166372 452.429216)scale(0.273664 -0.273664)\">\n     <defs>\n      <path id=\"DejaVuSans-35\" d=\"M 691 4666 \nL 3169 4666 \nL 3169 4134 \nL 1269 4134 \nL 1269 2991 \nQ 1406 3038 1543 3061 \nQ 1681 3084 1819 3084 \nQ 2600 3084 3056 2656 \nQ 3513 2228 3513 1497 \nQ 3513 744 3044 326 \nQ 2575 -91 1722 -91 \nQ 1428 -91 1123 -41 \nQ 819 9 494 109 \nL 494 744 \nQ 775 591 1075 516 \nQ 1375 441 1709 441 \nQ 2250 441 2565 725 \nQ 2881 1009 2881 1497 \nQ 2881 1984 2565 2268 \nQ 2250 2553 1709 2553 \nQ 1456 2553 1204 2497 \nQ 953 2441 691 2322 \nL 691 4666 \nz\n\" transform=\"scale(0.015625)\"/>\n     </defs>\n     <use xlink:href=\"#DejaVuSans-73\"/>\n     <use xlink:href=\"#DejaVuSans-61\" x=\"52.099609\"/>\n     <use xlink:href=\"#DejaVuSans-6d\" x=\"113.378906\"/>\n     <use xlink:href=\"#DejaVuSans-70\" x=\"210.791016\"/>\n     <use xlink:href=\"#DejaVuSans-6c\" x=\"274.267578\"/>\n     <use xlink:href=\"#DejaVuSans-65\" x=\"302.050781\"/>\n     <use xlink:href=\"#DejaVuSans-73\" x=\"363.574219\"/>\n     <use xlink:href=\"#DejaVuSans-20\" x=\"415.673828\"/>\n     <use xlink:href=\"#DejaVuSans-3d\" x=\"447.460938\"/>\n     <use xlink:href=\"#DejaVuSans-20\" x=\"531.25\"/>\n     <use xlink:href=\"#DejaVuSans-31\" x=\"563.037109\"/>\n     <use xlink:href=\"#DejaVuSans-35\" x=\"626.660156\"/>\n     <use xlink:href=\"#DejaVuSans-35\" x=\"690.283203\"/>\n    </g>\n    <!-- value = [86, 69] -->\n    <g transform=\"translate(418.586568 483.073635)scale(0.273664 -0.273664)\">\n     <use xlink:href=\"#DejaVuSans-76\"/>\n     <use xlink:href=\"#DejaVuSans-61\" x=\"59.179688\"/>\n     <use xlink:href=\"#DejaVuSans-6c\" x=\"120.458984\"/>\n     <use xlink:href=\"#DejaVuSans-75\" x=\"148.242188\"/>\n     <use xlink:href=\"#DejaVuSans-65\" x=\"211.621094\"/>\n     <use xlink:href=\"#DejaVuSans-20\" x=\"273.144531\"/>\n     <use xlink:href=\"#DejaVuSans-3d\" x=\"304.931641\"/>\n     <use xlink:href=\"#DejaVuSans-20\" x=\"388.720703\"/>\n     <use xlink:href=\"#DejaVuSans-5b\" x=\"420.507812\"/>\n     <use xlink:href=\"#DejaVuSans-38\" x=\"459.521484\"/>\n     <use xlink:href=\"#DejaVuSans-36\" x=\"523.144531\"/>\n     <use xlink:href=\"#DejaVuSans-2c\" x=\"586.767578\"/>\n     <use xlink:href=\"#DejaVuSans-20\" x=\"618.554688\"/>\n     <use xlink:href=\"#DejaVuSans-36\" x=\"650.341797\"/>\n     <use xlink:href=\"#DejaVuSans-39\" x=\"713.964844\"/>\n     <use xlink:href=\"#DejaVuSans-5d\" x=\"777.587891\"/>\n    </g>\n    <!-- class = Died -->\n    <g transform=\"translate(444.751444 513.718055)scale(0.273664 -0.273664)\">\n     <defs>\n      <path id=\"DejaVuSans-44\" d=\"M 1259 4147 \nL 1259 519 \nL 2022 519 \nQ 2988 519 3436 956 \nQ 3884 1394 3884 2338 \nQ 3884 3275 3436 3711 \nQ 2988 4147 2022 4147 \nL 1259 4147 \nz\nM 628 4666 \nL 1925 4666 \nQ 3281 4666 3915 4102 \nQ 4550 3538 4550 2338 \nQ 4550 1131 3912 565 \nQ 3275 0 1925 0 \nL 628 0 \nL 628 4666 \nz\n\" transform=\"scale(0.015625)\"/>\n     </defs>\n     <use xlink:href=\"#DejaVuSans-63\"/>\n     <use xlink:href=\"#DejaVuSans-6c\" x=\"54.980469\"/>\n     <use xlink:href=\"#DejaVuSans-61\" x=\"82.763672\"/>\n     <use xlink:href=\"#DejaVuSans-73\" x=\"144.042969\"/>\n     <use xlink:href=\"#DejaVuSans-73\" x=\"196.142578\"/>\n     <use xlink:href=\"#DejaVuSans-20\" x=\"248.242188\"/>\n     <use xlink:href=\"#DejaVuSans-3d\" x=\"280.029297\"/>\n     <use xlink:href=\"#DejaVuSans-20\" x=\"363.818359\"/>\n     <use xlink:href=\"#DejaVuSans-44\" x=\"395.605469\"/>\n     <use xlink:href=\"#DejaVuSans-69\" x=\"472.607422\"/>\n     <use xlink:href=\"#DejaVuSans-65\" x=\"500.390625\"/>\n     <use xlink:href=\"#DejaVuSans-64\" x=\"561.914062\"/>\n    </g>\n   </g>\n   <g id=\"patch_6\">\n    <path d=\"M 949.231985 387.297086 \nQ 1000.25967 334.272188 1052.062607 280.441695 \n\" style=\"fill: none; stroke: #000000; stroke-linecap: round\"/>\n    <path d=\"M 960.766169 383.204785 \nL 949.231985 387.297086 \nL 952.878654 375.614358 \n\" style=\"fill: none; stroke: #000000; stroke-linecap: round\"/>\n   </g>\n   <g id=\"text_3\">\n    <g id=\"patch_7\">\n     <path d=\"M 747.684048 530.355991 \nL 1010.465952 530.355991 \nL 1010.465952 390.044009 \nL 747.684048 390.044009 \nz\n\" style=\"fill: #eeab7b; stroke: #000000; stroke-linejoin: miter\"/>\n    </g>\n    <!-- gini = 0.374 -->\n    <g transform=\"translate(794.777832 421.784796)scale(0.273664 -0.273664)\">\n     <defs>\n      <path id=\"DejaVuSans-33\" d=\"M 2597 2516 \nQ 3050 2419 3304 2112 \nQ 3559 1806 3559 1356 \nQ 3559 666 3084 287 \nQ 2609 -91 1734 -91 \nQ 1441 -91 1130 -33 \nQ 819 25 488 141 \nL 488 750 \nQ 750 597 1062 519 \nQ 1375 441 1716 441 \nQ 2309 441 2620 675 \nQ 2931 909 2931 1356 \nQ 2931 1769 2642 2001 \nQ 2353 2234 1838 2234 \nL 1294 2234 \nL 1294 2753 \nL 1863 2753 \nQ 2328 2753 2575 2939 \nQ 2822 3125 2822 3475 \nQ 2822 3834 2567 4026 \nQ 2313 4219 1838 4219 \nQ 1578 4219 1281 4162 \nQ 984 4106 628 3988 \nL 628 4550 \nQ 988 4650 1302 4700 \nQ 1616 4750 1894 4750 \nQ 2613 4750 3031 4423 \nQ 3450 4097 3450 3541 \nQ 3450 3153 3228 2886 \nQ 3006 2619 2597 2516 \nz\n\" transform=\"scale(0.015625)\"/>\n     </defs>\n     <use xlink:href=\"#DejaVuSans-67\"/>\n     <use xlink:href=\"#DejaVuSans-69\" x=\"63.476562\"/>\n     <use xlink:href=\"#DejaVuSans-6e\" x=\"91.259766\"/>\n     <use xlink:href=\"#DejaVuSans-69\" x=\"154.638672\"/>\n     <use xlink:href=\"#DejaVuSans-20\" x=\"182.421875\"/>\n     <use xlink:href=\"#DejaVuSans-3d\" x=\"214.208984\"/>\n     <use xlink:href=\"#DejaVuSans-20\" x=\"297.998047\"/>\n     <use xlink:href=\"#DejaVuSans-30\" x=\"329.785156\"/>\n     <use xlink:href=\"#DejaVuSans-2e\" x=\"393.408203\"/>\n     <use xlink:href=\"#DejaVuSans-33\" x=\"425.195312\"/>\n     <use xlink:href=\"#DejaVuSans-37\" x=\"488.818359\"/>\n     <use xlink:href=\"#DejaVuSans-34\" x=\"552.441406\"/>\n    </g>\n    <!-- samples = 201 -->\n    <g transform=\"translate(775.916372 452.429216)scale(0.273664 -0.273664)\">\n     <defs>\n      <path id=\"DejaVuSans-32\" d=\"M 1228 531 \nL 3431 531 \nL 3431 0 \nL 469 0 \nL 469 531 \nQ 828 903 1448 1529 \nQ 2069 2156 2228 2338 \nQ 2531 2678 2651 2914 \nQ 2772 3150 2772 3378 \nQ 2772 3750 2511 3984 \nQ 2250 4219 1831 4219 \nQ 1534 4219 1204 4116 \nQ 875 4013 500 3803 \nL 500 4441 \nQ 881 4594 1212 4672 \nQ 1544 4750 1819 4750 \nQ 2544 4750 2975 4387 \nQ 3406 4025 3406 3419 \nQ 3406 3131 3298 2873 \nQ 3191 2616 2906 2266 \nQ 2828 2175 2409 1742 \nQ 1991 1309 1228 531 \nz\n\" transform=\"scale(0.015625)\"/>\n     </defs>\n     <use xlink:href=\"#DejaVuSans-73\"/>\n     <use xlink:href=\"#DejaVuSans-61\" x=\"52.099609\"/>\n     <use xlink:href=\"#DejaVuSans-6d\" x=\"113.378906\"/>\n     <use xlink:href=\"#DejaVuSans-70\" x=\"210.791016\"/>\n     <use xlink:href=\"#DejaVuSans-6c\" x=\"274.267578\"/>\n     <use xlink:href=\"#DejaVuSans-65\" x=\"302.050781\"/>\n     <use xlink:href=\"#DejaVuSans-73\" x=\"363.574219\"/>\n     <use xlink:href=\"#DejaVuSans-20\" x=\"415.673828\"/>\n     <use xlink:href=\"#DejaVuSans-3d\" x=\"447.460938\"/>\n     <use xlink:href=\"#DejaVuSans-20\" x=\"531.25\"/>\n     <use xlink:href=\"#DejaVuSans-32\" x=\"563.037109\"/>\n     <use xlink:href=\"#DejaVuSans-30\" x=\"626.660156\"/>\n     <use xlink:href=\"#DejaVuSans-31\" x=\"690.283203\"/>\n    </g>\n    <!-- value = [151, 50] -->\n    <g transform=\"translate(758.630621 483.073635)scale(0.273664 -0.273664)\">\n     <use xlink:href=\"#DejaVuSans-76\"/>\n     <use xlink:href=\"#DejaVuSans-61\" x=\"59.179688\"/>\n     <use xlink:href=\"#DejaVuSans-6c\" x=\"120.458984\"/>\n     <use xlink:href=\"#DejaVuSans-75\" x=\"148.242188\"/>\n     <use xlink:href=\"#DejaVuSans-65\" x=\"211.621094\"/>\n     <use xlink:href=\"#DejaVuSans-20\" x=\"273.144531\"/>\n     <use xlink:href=\"#DejaVuSans-3d\" x=\"304.931641\"/>\n     <use xlink:href=\"#DejaVuSans-20\" x=\"388.720703\"/>\n     <use xlink:href=\"#DejaVuSans-5b\" x=\"420.507812\"/>\n     <use xlink:href=\"#DejaVuSans-31\" x=\"459.521484\"/>\n     <use xlink:href=\"#DejaVuSans-35\" x=\"523.144531\"/>\n     <use xlink:href=\"#DejaVuSans-31\" x=\"586.767578\"/>\n     <use xlink:href=\"#DejaVuSans-2c\" x=\"650.390625\"/>\n     <use xlink:href=\"#DejaVuSans-20\" x=\"682.177734\"/>\n     <use xlink:href=\"#DejaVuSans-35\" x=\"713.964844\"/>\n     <use xlink:href=\"#DejaVuSans-30\" x=\"777.587891\"/>\n     <use xlink:href=\"#DejaVuSans-5d\" x=\"841.210938\"/>\n    </g>\n    <!-- class = Died -->\n    <g transform=\"translate(793.501444 513.718055)scale(0.273664 -0.273664)\">\n     <use xlink:href=\"#DejaVuSans-63\"/>\n     <use xlink:href=\"#DejaVuSans-6c\" x=\"54.980469\"/>\n     <use xlink:href=\"#DejaVuSans-61\" x=\"82.763672\"/>\n     <use xlink:href=\"#DejaVuSans-73\" x=\"144.042969\"/>\n     <use xlink:href=\"#DejaVuSans-73\" x=\"196.142578\"/>\n     <use xlink:href=\"#DejaVuSans-20\" x=\"248.242188\"/>\n     <use xlink:href=\"#DejaVuSans-3d\" x=\"280.029297\"/>\n     <use xlink:href=\"#DejaVuSans-20\" x=\"363.818359\"/>\n     <use xlink:href=\"#DejaVuSans-44\" x=\"395.605469\"/>\n     <use xlink:href=\"#DejaVuSans-69\" x=\"472.607422\"/>\n     <use xlink:href=\"#DejaVuSans-65\" x=\"500.390625\"/>\n     <use xlink:href=\"#DejaVuSans-64\" x=\"561.914062\"/>\n    </g>\n   </g>\n   <g id=\"patch_8\">\n    <path d=\"M 1157.668015 387.297086 \nQ 1106.64033 334.272188 1054.837393 280.441695 \n\" style=\"fill: none; stroke: #000000; stroke-linecap: round\"/>\n    <path d=\"M 1154.021346 375.614358 \nL 1157.668015 387.297086 \nL 1146.133831 383.204785 \n\" style=\"fill: none; stroke: #000000; stroke-linecap: round\"/>\n   </g>\n   <g id=\"text_4\">\n    <g id=\"patch_9\">\n     <path d=\"M 1096.434048 530.355991 \nL 1359.215952 530.355991 \nL 1359.215952 390.044009 \nL 1096.434048 390.044009 \nz\n\" style=\"fill: #e99659; stroke: #000000; stroke-linejoin: miter\"/>\n    </g>\n    <!-- gini = 0.241 -->\n    <g transform=\"translate(1143.527832 421.784796)scale(0.273664 -0.273664)\">\n     <use xlink:href=\"#DejaVuSans-67\"/>\n     <use xlink:href=\"#DejaVuSans-69\" x=\"63.476562\"/>\n     <use xlink:href=\"#DejaVuSans-6e\" x=\"91.259766\"/>\n     <use xlink:href=\"#DejaVuSans-69\" x=\"154.638672\"/>\n     <use xlink:href=\"#DejaVuSans-20\" x=\"182.421875\"/>\n     <use xlink:href=\"#DejaVuSans-3d\" x=\"214.208984\"/>\n     <use xlink:href=\"#DejaVuSans-20\" x=\"297.998047\"/>\n     <use xlink:href=\"#DejaVuSans-30\" x=\"329.785156\"/>\n     <use xlink:href=\"#DejaVuSans-2e\" x=\"393.408203\"/>\n     <use xlink:href=\"#DejaVuSans-32\" x=\"425.195312\"/>\n     <use xlink:href=\"#DejaVuSans-34\" x=\"488.818359\"/>\n     <use xlink:href=\"#DejaVuSans-31\" x=\"552.441406\"/>\n    </g>\n    <!-- samples = 250 -->\n    <g transform=\"translate(1124.666372 452.429216)scale(0.273664 -0.273664)\">\n     <use xlink:href=\"#DejaVuSans-73\"/>\n     <use xlink:href=\"#DejaVuSans-61\" x=\"52.099609\"/>\n     <use xlink:href=\"#DejaVuSans-6d\" x=\"113.378906\"/>\n     <use xlink:href=\"#DejaVuSans-70\" x=\"210.791016\"/>\n     <use xlink:href=\"#DejaVuSans-6c\" x=\"274.267578\"/>\n     <use xlink:href=\"#DejaVuSans-65\" x=\"302.050781\"/>\n     <use xlink:href=\"#DejaVuSans-73\" x=\"363.574219\"/>\n     <use xlink:href=\"#DejaVuSans-20\" x=\"415.673828\"/>\n     <use xlink:href=\"#DejaVuSans-3d\" x=\"447.460938\"/>\n     <use xlink:href=\"#DejaVuSans-20\" x=\"531.25\"/>\n     <use xlink:href=\"#DejaVuSans-32\" x=\"563.037109\"/>\n     <use xlink:href=\"#DejaVuSans-35\" x=\"626.660156\"/>\n     <use xlink:href=\"#DejaVuSans-30\" x=\"690.283203\"/>\n    </g>\n    <!-- value = [215, 35] -->\n    <g transform=\"translate(1107.380621 483.073635)scale(0.273664 -0.273664)\">\n     <use xlink:href=\"#DejaVuSans-76\"/>\n     <use xlink:href=\"#DejaVuSans-61\" x=\"59.179688\"/>\n     <use xlink:href=\"#DejaVuSans-6c\" x=\"120.458984\"/>\n     <use xlink:href=\"#DejaVuSans-75\" x=\"148.242188\"/>\n     <use xlink:href=\"#DejaVuSans-65\" x=\"211.621094\"/>\n     <use xlink:href=\"#DejaVuSans-20\" x=\"273.144531\"/>\n     <use xlink:href=\"#DejaVuSans-3d\" x=\"304.931641\"/>\n     <use xlink:href=\"#DejaVuSans-20\" x=\"388.720703\"/>\n     <use xlink:href=\"#DejaVuSans-5b\" x=\"420.507812\"/>\n     <use xlink:href=\"#DejaVuSans-32\" x=\"459.521484\"/>\n     <use xlink:href=\"#DejaVuSans-31\" x=\"523.144531\"/>\n     <use xlink:href=\"#DejaVuSans-35\" x=\"586.767578\"/>\n     <use xlink:href=\"#DejaVuSans-2c\" x=\"650.390625\"/>\n     <use xlink:href=\"#DejaVuSans-20\" x=\"682.177734\"/>\n     <use xlink:href=\"#DejaVuSans-33\" x=\"713.964844\"/>\n     <use xlink:href=\"#DejaVuSans-35\" x=\"777.587891\"/>\n     <use xlink:href=\"#DejaVuSans-5d\" x=\"841.210938\"/>\n    </g>\n    <!-- class = Died -->\n    <g transform=\"translate(1142.251444 513.718055)scale(0.273664 -0.273664)\">\n     <use xlink:href=\"#DejaVuSans-63\"/>\n     <use xlink:href=\"#DejaVuSans-6c\" x=\"54.980469\"/>\n     <use xlink:href=\"#DejaVuSans-61\" x=\"82.763672\"/>\n     <use xlink:href=\"#DejaVuSans-73\" x=\"144.042969\"/>\n     <use xlink:href=\"#DejaVuSans-73\" x=\"196.142578\"/>\n     <use xlink:href=\"#DejaVuSans-20\" x=\"248.242188\"/>\n     <use xlink:href=\"#DejaVuSans-3d\" x=\"280.029297\"/>\n     <use xlink:href=\"#DejaVuSans-20\" x=\"363.818359\"/>\n     <use xlink:href=\"#DejaVuSans-44\" x=\"395.605469\"/>\n     <use xlink:href=\"#DejaVuSans-69\" x=\"472.607422\"/>\n     <use xlink:href=\"#DejaVuSans-65\" x=\"500.390625\"/>\n     <use xlink:href=\"#DejaVuSans-64\" x=\"561.914062\"/>\n    </g>\n   </g>\n   <g id=\"patch_10\">\n    <path d=\"M 499.266867 204.536871 \nQ 600.600708 151.886858 702.926663 98.721373 \n\" style=\"fill: none; stroke: #000000; stroke-linecap: round\"/>\n    <path d=\"M 511.504032 204.346775 \nL 499.266867 204.536871 \nL 506.457089 194.633081 \n\" style=\"fill: none; stroke: #000000; stroke-linecap: round\"/>\n   </g>\n   <g id=\"text_5\">\n    <g id=\"patch_11\">\n     <path d=\"M 215.902275 364.858765 \nL 495.997725 364.858765 \nL 495.997725 192.380106 \nL 215.902275 192.380106 \nz\n\" style=\"fill: #88c4ef; stroke: #000000; stroke-linejoin: miter\"/>\n    </g>\n    <!-- class_Third &lt;= 0.5 -->\n    <g transform=\"translate(226.848848 224.882022)scale(0.273664 -0.273664)\">\n     <defs>\n      <path id=\"DejaVuSans-5f\" d=\"M 3263 -1063 \nL 3263 -1509 \nL -63 -1509 \nL -63 -1063 \nL 3263 -1063 \nz\n\" transform=\"scale(0.015625)\"/>\n      <path id=\"DejaVuSans-54\" d=\"M -19 4666 \nL 3928 4666 \nL 3928 4134 \nL 2272 4134 \nL 2272 0 \nL 1638 0 \nL 1638 4134 \nL -19 4134 \nL -19 4666 \nz\n\" transform=\"scale(0.015625)\"/>\n      <path id=\"DejaVuSans-68\" d=\"M 3513 2113 \nL 3513 0 \nL 2938 0 \nL 2938 2094 \nQ 2938 2591 2744 2837 \nQ 2550 3084 2163 3084 \nQ 1697 3084 1428 2787 \nQ 1159 2491 1159 1978 \nL 1159 0 \nL 581 0 \nL 581 4863 \nL 1159 4863 \nL 1159 2956 \nQ 1366 3272 1645 3428 \nQ 1925 3584 2291 3584 \nQ 2894 3584 3203 3211 \nQ 3513 2838 3513 2113 \nz\n\" transform=\"scale(0.015625)\"/>\n      <path id=\"DejaVuSans-3c\" d=\"M 4684 3150 \nL 1459 2003 \nL 4684 863 \nL 4684 294 \nL 678 1747 \nL 678 2266 \nL 4684 3719 \nL 4684 3150 \nz\n\" transform=\"scale(0.015625)\"/>\n     </defs>\n     <use xlink:href=\"#DejaVuSans-63\"/>\n     <use xlink:href=\"#DejaVuSans-6c\" x=\"54.980469\"/>\n     <use xlink:href=\"#DejaVuSans-61\" x=\"82.763672\"/>\n     <use xlink:href=\"#DejaVuSans-73\" x=\"144.042969\"/>\n     <use xlink:href=\"#DejaVuSans-73\" x=\"196.142578\"/>\n     <use xlink:href=\"#DejaVuSans-5f\" x=\"248.242188\"/>\n     <use xlink:href=\"#DejaVuSans-54\" x=\"298.242188\"/>\n     <use xlink:href=\"#DejaVuSans-68\" x=\"359.326172\"/>\n     <use xlink:href=\"#DejaVuSans-69\" x=\"422.705078\"/>\n     <use xlink:href=\"#DejaVuSans-72\" x=\"450.488281\"/>\n     <use xlink:href=\"#DejaVuSans-64\" x=\"489.851562\"/>\n     <use xlink:href=\"#DejaVuSans-20\" x=\"553.328125\"/>\n     <use xlink:href=\"#DejaVuSans-3c\" x=\"585.115234\"/>\n     <use xlink:href=\"#DejaVuSans-3d\" x=\"668.904297\"/>\n     <use xlink:href=\"#DejaVuSans-20\" x=\"752.693359\"/>\n     <use xlink:href=\"#DejaVuSans-30\" x=\"784.480469\"/>\n     <use xlink:href=\"#DejaVuSans-2e\" x=\"848.103516\"/>\n     <use xlink:href=\"#DejaVuSans-35\" x=\"879.890625\"/>\n    </g>\n    <!-- gini = 0.408 -->\n    <g transform=\"translate(271.652832 256.28757)scale(0.273664 -0.273664)\">\n     <use xlink:href=\"#DejaVuSans-67\"/>\n     <use xlink:href=\"#DejaVuSans-69\" x=\"63.476562\"/>\n     <use xlink:href=\"#DejaVuSans-6e\" x=\"91.259766\"/>\n     <use xlink:href=\"#DejaVuSans-69\" x=\"154.638672\"/>\n     <use xlink:href=\"#DejaVuSans-20\" x=\"182.421875\"/>\n     <use xlink:href=\"#DejaVuSans-3d\" x=\"214.208984\"/>\n     <use xlink:href=\"#DejaVuSans-20\" x=\"297.998047\"/>\n     <use xlink:href=\"#DejaVuSans-30\" x=\"329.785156\"/>\n     <use xlink:href=\"#DejaVuSans-2e\" x=\"393.408203\"/>\n     <use xlink:href=\"#DejaVuSans-34\" x=\"425.195312\"/>\n     <use xlink:href=\"#DejaVuSans-30\" x=\"488.818359\"/>\n     <use xlink:href=\"#DejaVuSans-38\" x=\"552.441406\"/>\n    </g>\n    <!-- samples = 333 -->\n    <g transform=\"translate(252.791372 286.93199)scale(0.273664 -0.273664)\">\n     <use xlink:href=\"#DejaVuSans-73\"/>\n     <use xlink:href=\"#DejaVuSans-61\" x=\"52.099609\"/>\n     <use xlink:href=\"#DejaVuSans-6d\" x=\"113.378906\"/>\n     <use xlink:href=\"#DejaVuSans-70\" x=\"210.791016\"/>\n     <use xlink:href=\"#DejaVuSans-6c\" x=\"274.267578\"/>\n     <use xlink:href=\"#DejaVuSans-65\" x=\"302.050781\"/>\n     <use xlink:href=\"#DejaVuSans-73\" x=\"363.574219\"/>\n     <use xlink:href=\"#DejaVuSans-20\" x=\"415.673828\"/>\n     <use xlink:href=\"#DejaVuSans-3d\" x=\"447.460938\"/>\n     <use xlink:href=\"#DejaVuSans-20\" x=\"531.25\"/>\n     <use xlink:href=\"#DejaVuSans-33\" x=\"563.037109\"/>\n     <use xlink:href=\"#DejaVuSans-33\" x=\"626.660156\"/>\n     <use xlink:href=\"#DejaVuSans-33\" x=\"690.283203\"/>\n    </g>\n    <!-- value = [95, 238] -->\n    <g transform=\"translate(235.505621 317.576409)scale(0.273664 -0.273664)\">\n     <use xlink:href=\"#DejaVuSans-76\"/>\n     <use xlink:href=\"#DejaVuSans-61\" x=\"59.179688\"/>\n     <use xlink:href=\"#DejaVuSans-6c\" x=\"120.458984\"/>\n     <use xlink:href=\"#DejaVuSans-75\" x=\"148.242188\"/>\n     <use xlink:href=\"#DejaVuSans-65\" x=\"211.621094\"/>\n     <use xlink:href=\"#DejaVuSans-20\" x=\"273.144531\"/>\n     <use xlink:href=\"#DejaVuSans-3d\" x=\"304.931641\"/>\n     <use xlink:href=\"#DejaVuSans-20\" x=\"388.720703\"/>\n     <use xlink:href=\"#DejaVuSans-5b\" x=\"420.507812\"/>\n     <use xlink:href=\"#DejaVuSans-39\" x=\"459.521484\"/>\n     <use xlink:href=\"#DejaVuSans-35\" x=\"523.144531\"/>\n     <use xlink:href=\"#DejaVuSans-2c\" x=\"586.767578\"/>\n     <use xlink:href=\"#DejaVuSans-20\" x=\"618.554688\"/>\n     <use xlink:href=\"#DejaVuSans-32\" x=\"650.341797\"/>\n     <use xlink:href=\"#DejaVuSans-33\" x=\"713.964844\"/>\n     <use xlink:href=\"#DejaVuSans-38\" x=\"777.587891\"/>\n     <use xlink:href=\"#DejaVuSans-5d\" x=\"841.210938\"/>\n    </g>\n    <!-- class = Survived -->\n    <g transform=\"translate(241.731485 348.220829)scale(0.273664 -0.273664)\">\n     <use xlink:href=\"#DejaVuSans-63\"/>\n     <use xlink:href=\"#DejaVuSans-6c\" x=\"54.980469\"/>\n     <use xlink:href=\"#DejaVuSans-61\" x=\"82.763672\"/>\n     <use xlink:href=\"#DejaVuSans-73\" x=\"144.042969\"/>\n     <use xlink:href=\"#DejaVuSans-73\" x=\"196.142578\"/>\n     <use xlink:href=\"#DejaVuSans-20\" x=\"248.242188\"/>\n     <use xlink:href=\"#DejaVuSans-3d\" x=\"280.029297\"/>\n     <use xlink:href=\"#DejaVuSans-20\" x=\"363.818359\"/>\n     <use xlink:href=\"#DejaVuSans-53\" x=\"395.605469\"/>\n     <use xlink:href=\"#DejaVuSans-75\" x=\"459.082031\"/>\n     <use xlink:href=\"#DejaVuSans-72\" x=\"522.460938\"/>\n     <use xlink:href=\"#DejaVuSans-76\" x=\"563.574219\"/>\n     <use xlink:href=\"#DejaVuSans-69\" x=\"622.753906\"/>\n     <use xlink:href=\"#DejaVuSans-76\" x=\"650.537109\"/>\n     <use xlink:href=\"#DejaVuSans-65\" x=\"709.716797\"/>\n     <use xlink:href=\"#DejaVuSans-64\" x=\"771.240234\"/>\n    </g>\n   </g>\n   <g id=\"patch_12\">\n    <path d=\"M 910.133133 204.536871 \nQ 808.799292 151.886858 706.473337 98.721373 \n\" style=\"fill: none; stroke: #000000; stroke-linecap: round\"/>\n    <path d=\"M 902.942911 194.633081 \nL 910.133133 204.536871 \nL 897.895968 204.346775 \n\" style=\"fill: none; stroke: #000000; stroke-linecap: round\"/>\n   </g>\n   <g id=\"text_6\">\n    <g id=\"patch_13\">\n     <path d=\"M 913.402275 364.858765 \nL 1193.497725 364.858765 \nL 1193.497725 192.380106 \nL 913.402275 192.380106 \nz\n\" style=\"fill: #eb9e67; stroke: #000000; stroke-linejoin: miter\"/>\n    </g>\n    <!-- class_Third &lt;= 0.5 -->\n    <g transform=\"translate(924.348848 224.882022)scale(0.273664 -0.273664)\">\n     <use xlink:href=\"#DejaVuSans-63\"/>\n     <use xlink:href=\"#DejaVuSans-6c\" x=\"54.980469\"/>\n     <use xlink:href=\"#DejaVuSans-61\" x=\"82.763672\"/>\n     <use xlink:href=\"#DejaVuSans-73\" x=\"144.042969\"/>\n     <use xlink:href=\"#DejaVuSans-73\" x=\"196.142578\"/>\n     <use xlink:href=\"#DejaVuSans-5f\" x=\"248.242188\"/>\n     <use xlink:href=\"#DejaVuSans-54\" x=\"298.242188\"/>\n     <use xlink:href=\"#DejaVuSans-68\" x=\"359.326172\"/>\n     <use xlink:href=\"#DejaVuSans-69\" x=\"422.705078\"/>\n     <use xlink:href=\"#DejaVuSans-72\" x=\"450.488281\"/>\n     <use xlink:href=\"#DejaVuSans-64\" x=\"489.851562\"/>\n     <use xlink:href=\"#DejaVuSans-20\" x=\"553.328125\"/>\n     <use xlink:href=\"#DejaVuSans-3c\" x=\"585.115234\"/>\n     <use xlink:href=\"#DejaVuSans-3d\" x=\"668.904297\"/>\n     <use xlink:href=\"#DejaVuSans-20\" x=\"752.693359\"/>\n     <use xlink:href=\"#DejaVuSans-30\" x=\"784.480469\"/>\n     <use xlink:href=\"#DejaVuSans-2e\" x=\"848.103516\"/>\n     <use xlink:href=\"#DejaVuSans-35\" x=\"879.890625\"/>\n    </g>\n    <!-- gini = 0.306 -->\n    <g transform=\"translate(969.152832 256.28757)scale(0.273664 -0.273664)\">\n     <use xlink:href=\"#DejaVuSans-67\"/>\n     <use xlink:href=\"#DejaVuSans-69\" x=\"63.476562\"/>\n     <use xlink:href=\"#DejaVuSans-6e\" x=\"91.259766\"/>\n     <use xlink:href=\"#DejaVuSans-69\" x=\"154.638672\"/>\n     <use xlink:href=\"#DejaVuSans-20\" x=\"182.421875\"/>\n     <use xlink:href=\"#DejaVuSans-3d\" x=\"214.208984\"/>\n     <use xlink:href=\"#DejaVuSans-20\" x=\"297.998047\"/>\n     <use xlink:href=\"#DejaVuSans-30\" x=\"329.785156\"/>\n     <use xlink:href=\"#DejaVuSans-2e\" x=\"393.408203\"/>\n     <use xlink:href=\"#DejaVuSans-33\" x=\"425.195312\"/>\n     <use xlink:href=\"#DejaVuSans-30\" x=\"488.818359\"/>\n     <use xlink:href=\"#DejaVuSans-36\" x=\"552.441406\"/>\n    </g>\n    <!-- samples = 451 -->\n    <g transform=\"translate(950.291372 286.93199)scale(0.273664 -0.273664)\">\n     <use xlink:href=\"#DejaVuSans-73\"/>\n     <use xlink:href=\"#DejaVuSans-61\" x=\"52.099609\"/>\n     <use xlink:href=\"#DejaVuSans-6d\" x=\"113.378906\"/>\n     <use xlink:href=\"#DejaVuSans-70\" x=\"210.791016\"/>\n     <use xlink:href=\"#DejaVuSans-6c\" x=\"274.267578\"/>\n     <use xlink:href=\"#DejaVuSans-65\" x=\"302.050781\"/>\n     <use xlink:href=\"#DejaVuSans-73\" x=\"363.574219\"/>\n     <use xlink:href=\"#DejaVuSans-20\" x=\"415.673828\"/>\n     <use xlink:href=\"#DejaVuSans-3d\" x=\"447.460938\"/>\n     <use xlink:href=\"#DejaVuSans-20\" x=\"531.25\"/>\n     <use xlink:href=\"#DejaVuSans-34\" x=\"563.037109\"/>\n     <use xlink:href=\"#DejaVuSans-35\" x=\"626.660156\"/>\n     <use xlink:href=\"#DejaVuSans-31\" x=\"690.283203\"/>\n    </g>\n    <!-- value = [366, 85] -->\n    <g transform=\"translate(933.005621 317.576409)scale(0.273664 -0.273664)\">\n     <use xlink:href=\"#DejaVuSans-76\"/>\n     <use xlink:href=\"#DejaVuSans-61\" x=\"59.179688\"/>\n     <use xlink:href=\"#DejaVuSans-6c\" x=\"120.458984\"/>\n     <use xlink:href=\"#DejaVuSans-75\" x=\"148.242188\"/>\n     <use xlink:href=\"#DejaVuSans-65\" x=\"211.621094\"/>\n     <use xlink:href=\"#DejaVuSans-20\" x=\"273.144531\"/>\n     <use xlink:href=\"#DejaVuSans-3d\" x=\"304.931641\"/>\n     <use xlink:href=\"#DejaVuSans-20\" x=\"388.720703\"/>\n     <use xlink:href=\"#DejaVuSans-5b\" x=\"420.507812\"/>\n     <use xlink:href=\"#DejaVuSans-33\" x=\"459.521484\"/>\n     <use xlink:href=\"#DejaVuSans-36\" x=\"523.144531\"/>\n     <use xlink:href=\"#DejaVuSans-36\" x=\"586.767578\"/>\n     <use xlink:href=\"#DejaVuSans-2c\" x=\"650.390625\"/>\n     <use xlink:href=\"#DejaVuSans-20\" x=\"682.177734\"/>\n     <use xlink:href=\"#DejaVuSans-38\" x=\"713.964844\"/>\n     <use xlink:href=\"#DejaVuSans-35\" x=\"777.587891\"/>\n     <use xlink:href=\"#DejaVuSans-5d\" x=\"841.210938\"/>\n    </g>\n    <!-- class = Died -->\n    <g transform=\"translate(967.876444 348.220829)scale(0.273664 -0.273664)\">\n     <use xlink:href=\"#DejaVuSans-63\"/>\n     <use xlink:href=\"#DejaVuSans-6c\" x=\"54.980469\"/>\n     <use xlink:href=\"#DejaVuSans-61\" x=\"82.763672\"/>\n     <use xlink:href=\"#DejaVuSans-73\" x=\"144.042969\"/>\n     <use xlink:href=\"#DejaVuSans-73\" x=\"196.142578\"/>\n     <use xlink:href=\"#DejaVuSans-20\" x=\"248.242188\"/>\n     <use xlink:href=\"#DejaVuSans-3d\" x=\"280.029297\"/>\n     <use xlink:href=\"#DejaVuSans-20\" x=\"363.818359\"/>\n     <use xlink:href=\"#DejaVuSans-44\" x=\"395.605469\"/>\n     <use xlink:href=\"#DejaVuSans-69\" x=\"472.607422\"/>\n     <use xlink:href=\"#DejaVuSans-65\" x=\"500.390625\"/>\n     <use xlink:href=\"#DejaVuSans-64\" x=\"561.914062\"/>\n    </g>\n   </g>\n   <g id=\"patch_14\">\n    <path d=\"M 704.7 97.8 \nQ 704.7 97.8 704.7 97.8 \n\" style=\"fill: none; stroke: #000000; stroke-linecap: round\"/>\n   </g>\n   <g id=\"text_7\">\n    <g id=\"patch_15\">\n     <path d=\"M 564.603101 183.658765 \nL 844.796899 183.658765 \nL 844.796899 11.180106 \nL 564.603101 11.180106 \nz\n\" style=\"fill: #f7d9c4; stroke: #000000; stroke-linejoin: miter\"/>\n    </g>\n    <!-- adult_male &lt;= 0.5 -->\n    <g transform=\"translate(575.624504 43.682022)scale(0.273664 -0.273664)\">\n     <defs>\n      <path id=\"DejaVuSans-74\" d=\"M 1172 4494 \nL 1172 3500 \nL 2356 3500 \nL 2356 3053 \nL 1172 3053 \nL 1172 1153 \nQ 1172 725 1289 603 \nQ 1406 481 1766 481 \nL 2356 481 \nL 2356 0 \nL 1766 0 \nQ 1100 0 847 248 \nQ 594 497 594 1153 \nL 594 3053 \nL 172 3053 \nL 172 3500 \nL 594 3500 \nL 594 4494 \nL 1172 4494 \nz\n\" transform=\"scale(0.015625)\"/>\n     </defs>\n     <use xlink:href=\"#DejaVuSans-61\"/>\n     <use xlink:href=\"#DejaVuSans-64\" x=\"61.279297\"/>\n     <use xlink:href=\"#DejaVuSans-75\" x=\"124.755859\"/>\n     <use xlink:href=\"#DejaVuSans-6c\" x=\"188.134766\"/>\n     <use xlink:href=\"#DejaVuSans-74\" x=\"215.917969\"/>\n     <use xlink:href=\"#DejaVuSans-5f\" x=\"255.126953\"/>\n     <use xlink:href=\"#DejaVuSans-6d\" x=\"305.126953\"/>\n     <use xlink:href=\"#DejaVuSans-61\" x=\"402.539062\"/>\n     <use xlink:href=\"#DejaVuSans-6c\" x=\"463.818359\"/>\n     <use xlink:href=\"#DejaVuSans-65\" x=\"491.601562\"/>\n     <use xlink:href=\"#DejaVuSans-20\" x=\"553.125\"/>\n     <use xlink:href=\"#DejaVuSans-3c\" x=\"584.912109\"/>\n     <use xlink:href=\"#DejaVuSans-3d\" x=\"668.701172\"/>\n     <use xlink:href=\"#DejaVuSans-20\" x=\"752.490234\"/>\n     <use xlink:href=\"#DejaVuSans-30\" x=\"784.277344\"/>\n     <use xlink:href=\"#DejaVuSans-2e\" x=\"847.900391\"/>\n     <use xlink:href=\"#DejaVuSans-35\" x=\"879.6875\"/>\n    </g>\n    <!-- gini = 0.485 -->\n    <g transform=\"translate(620.402832 75.08757)scale(0.273664 -0.273664)\">\n     <use xlink:href=\"#DejaVuSans-67\"/>\n     <use xlink:href=\"#DejaVuSans-69\" x=\"63.476562\"/>\n     <use xlink:href=\"#DejaVuSans-6e\" x=\"91.259766\"/>\n     <use xlink:href=\"#DejaVuSans-69\" x=\"154.638672\"/>\n     <use xlink:href=\"#DejaVuSans-20\" x=\"182.421875\"/>\n     <use xlink:href=\"#DejaVuSans-3d\" x=\"214.208984\"/>\n     <use xlink:href=\"#DejaVuSans-20\" x=\"297.998047\"/>\n     <use xlink:href=\"#DejaVuSans-30\" x=\"329.785156\"/>\n     <use xlink:href=\"#DejaVuSans-2e\" x=\"393.408203\"/>\n     <use xlink:href=\"#DejaVuSans-34\" x=\"425.195312\"/>\n     <use xlink:href=\"#DejaVuSans-38\" x=\"488.818359\"/>\n     <use xlink:href=\"#DejaVuSans-35\" x=\"552.441406\"/>\n    </g>\n    <!-- samples = 784 -->\n    <g transform=\"translate(601.541372 105.73199)scale(0.273664 -0.273664)\">\n     <use xlink:href=\"#DejaVuSans-73\"/>\n     <use xlink:href=\"#DejaVuSans-61\" x=\"52.099609\"/>\n     <use xlink:href=\"#DejaVuSans-6d\" x=\"113.378906\"/>\n     <use xlink:href=\"#DejaVuSans-70\" x=\"210.791016\"/>\n     <use xlink:href=\"#DejaVuSans-6c\" x=\"274.267578\"/>\n     <use xlink:href=\"#DejaVuSans-65\" x=\"302.050781\"/>\n     <use xlink:href=\"#DejaVuSans-73\" x=\"363.574219\"/>\n     <use xlink:href=\"#DejaVuSans-20\" x=\"415.673828\"/>\n     <use xlink:href=\"#DejaVuSans-3d\" x=\"447.460938\"/>\n     <use xlink:href=\"#DejaVuSans-20\" x=\"531.25\"/>\n     <use xlink:href=\"#DejaVuSans-37\" x=\"563.037109\"/>\n     <use xlink:href=\"#DejaVuSans-38\" x=\"626.660156\"/>\n     <use xlink:href=\"#DejaVuSans-34\" x=\"690.283203\"/>\n    </g>\n    <!-- value = [461, 323] -->\n    <g transform=\"translate(575.549674 136.376409)scale(0.273664 -0.273664)\">\n     <use xlink:href=\"#DejaVuSans-76\"/>\n     <use xlink:href=\"#DejaVuSans-61\" x=\"59.179688\"/>\n     <use xlink:href=\"#DejaVuSans-6c\" x=\"120.458984\"/>\n     <use xlink:href=\"#DejaVuSans-75\" x=\"148.242188\"/>\n     <use xlink:href=\"#DejaVuSans-65\" x=\"211.621094\"/>\n     <use xlink:href=\"#DejaVuSans-20\" x=\"273.144531\"/>\n     <use xlink:href=\"#DejaVuSans-3d\" x=\"304.931641\"/>\n     <use xlink:href=\"#DejaVuSans-20\" x=\"388.720703\"/>\n     <use xlink:href=\"#DejaVuSans-5b\" x=\"420.507812\"/>\n     <use xlink:href=\"#DejaVuSans-34\" x=\"459.521484\"/>\n     <use xlink:href=\"#DejaVuSans-36\" x=\"523.144531\"/>\n     <use xlink:href=\"#DejaVuSans-31\" x=\"586.767578\"/>\n     <use xlink:href=\"#DejaVuSans-2c\" x=\"650.390625\"/>\n     <use xlink:href=\"#DejaVuSans-20\" x=\"682.177734\"/>\n     <use xlink:href=\"#DejaVuSans-33\" x=\"713.964844\"/>\n     <use xlink:href=\"#DejaVuSans-32\" x=\"777.587891\"/>\n     <use xlink:href=\"#DejaVuSans-33\" x=\"841.210938\"/>\n     <use xlink:href=\"#DejaVuSans-5d\" x=\"904.833984\"/>\n    </g>\n    <!-- class = Died -->\n    <g transform=\"translate(619.126444 167.020829)scale(0.273664 -0.273664)\">\n     <use xlink:href=\"#DejaVuSans-63\"/>\n     <use xlink:href=\"#DejaVuSans-6c\" x=\"54.980469\"/>\n     <use xlink:href=\"#DejaVuSans-61\" x=\"82.763672\"/>\n     <use xlink:href=\"#DejaVuSans-73\" x=\"144.042969\"/>\n     <use xlink:href=\"#DejaVuSans-73\" x=\"196.142578\"/>\n     <use xlink:href=\"#DejaVuSans-20\" x=\"248.242188\"/>\n     <use xlink:href=\"#DejaVuSans-3d\" x=\"280.029297\"/>\n     <use xlink:href=\"#DejaVuSans-20\" x=\"363.818359\"/>\n     <use xlink:href=\"#DejaVuSans-44\" x=\"395.605469\"/>\n     <use xlink:href=\"#DejaVuSans-69\" x=\"472.607422\"/>\n     <use xlink:href=\"#DejaVuSans-65\" x=\"500.390625\"/>\n     <use xlink:href=\"#DejaVuSans-64\" x=\"561.914062\"/>\n    </g>\n   </g>\n  </g>\n </g>\n</svg>\n",
      "text/plain": [
       "<Figure size 1800x720 with 1 Axes>"
      ]
     },
     "metadata": {
      "needs_background": "light"
     },
     "output_type": "display_data"
    }
   ],
   "source": [
    "plt.figure(figsize=(25, 10))\n",
    "plot_tree(clf,\n",
    "          filled=True,\n",
    "          class_names=['Died', 'Survived'],\n",
    "          feature_names=['adult_male','class_Third']);"
   ]
  }
 ],
 "metadata": {
  "kernelspec": {
   "display_name": "Python 3.9.12 ('base')",
   "language": "python",
   "name": "python3"
  },
  "language_info": {
   "codemirror_mode": {
    "name": "ipython",
    "version": 3
   },
   "file_extension": ".py",
   "mimetype": "text/x-python",
   "name": "python",
   "nbconvert_exporter": "python",
   "pygments_lexer": "ipython3",
   "version": "3.9.12"
  },
  "varInspector": {
   "cols": {
    "lenName": 16,
    "lenType": 16,
    "lenVar": 40
   },
   "kernels_config": {
    "python": {
     "delete_cmd_postfix": "",
     "delete_cmd_prefix": "del ",
     "library": "var_list.py",
     "varRefreshCmd": "print(var_dic_list())"
    },
    "r": {
     "delete_cmd_postfix": ") ",
     "delete_cmd_prefix": "rm(",
     "library": "var_list.r",
     "varRefreshCmd": "cat(var_dic_list()) "
    }
   },
   "types_to_exclude": [
    "module",
    "function",
    "builtin_function_or_method",
    "instance",
    "_Feature"
   ],
   "window_display": false
  },
  "vscode": {
   "interpreter": {
    "hash": "9c479dd88aa7617777b511149bf3b7eaaebd06eabc85c7b8c91f6068d966c0a4"
   }
  }
 },
 "nbformat": 4,
 "nbformat_minor": 4
}
