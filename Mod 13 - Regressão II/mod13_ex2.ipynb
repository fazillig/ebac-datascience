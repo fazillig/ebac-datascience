{
 "cells": [
  {
   "cell_type": "markdown",
   "metadata": {},
   "source": [
    "# EBAC - Regressão II - regressão múltipla\n",
    "\n",
    "## Tarefa I"
   ]
  },
  {
   "cell_type": "markdown",
   "metadata": {},
   "source": [
    "#### Previsão de renda II\n",
    "\n",
    "Vamos continuar trabalhando com a base 'previsao_de_renda.csv', que é a base do seu próximo projeto. Vamos usar os recursos que vimos até aqui nesta base.\n",
    "\n",
    "|variavel|descrição|\n",
    "|-|-|\n",
    "|data_ref                | Data de referência de coleta das variáveis |\n",
    "|index                   | Código de identificação do cliente|\n",
    "|sexo                    | Sexo do cliente|\n",
    "|posse_de_veiculo        | Indica se o cliente possui veículo|\n",
    "|posse_de_imovel         | Indica se o cliente possui imóvel|\n",
    "|qtd_filhos              | Quantidade de filhos do cliente|\n",
    "|tipo_renda              | Tipo de renda do cliente|\n",
    "|educacao                | Grau de instrução do cliente|\n",
    "|estado_civil            | Estado civil do cliente|\n",
    "|tipo_residencia         | Tipo de residência do cliente (própria, alugada etc)|\n",
    "|idade                   | Idade do cliente|\n",
    "|tempo_emprego           | Tempo no emprego atual|\n",
    "|qt_pessoas_residencia   | Quantidade de pessoas que moram na residência|\n",
    "|renda                   | Renda em reais|"
   ]
  },
  {
   "cell_type": "code",
   "execution_count": 117,
   "metadata": {
    "tags": []
   },
   "outputs": [],
   "source": [
    "import pandas as pd\n",
    "import numpy as np\n",
    "\n",
    "import statsmodels.formula.api as smf\n",
    "import statsmodels.api as sm\n",
    "\n",
    "from sklearn.model_selection import train_test_split\n",
    "from sklearn.tree import DecisionTreeRegressor"
   ]
  },
  {
   "cell_type": "code",
   "execution_count": 71,
   "metadata": {
    "tags": []
   },
   "outputs": [],
   "source": [
    "df = pd.read_csv('data/previsao_de_renda.csv')"
   ]
  },
  {
   "cell_type": "code",
   "execution_count": 72,
   "metadata": {
    "tags": []
   },
   "outputs": [
    {
     "name": "stdout",
     "output_type": "stream",
     "text": [
      "<class 'pandas.core.frame.DataFrame'>\n",
      "Int64Index: 12427 entries, 0 to 14999\n",
      "Data columns (total 12 columns):\n",
      " #   Column                 Non-Null Count  Dtype  \n",
      "---  ------                 --------------  -----  \n",
      " 0   sexo                   12427 non-null  object \n",
      " 1   posse_de_veiculo       12427 non-null  int64  \n",
      " 2   posse_de_imovel        12427 non-null  int64  \n",
      " 3   qtd_filhos             12427 non-null  int64  \n",
      " 4   tipo_renda             12427 non-null  object \n",
      " 5   educacao               12427 non-null  object \n",
      " 6   estado_civil           12427 non-null  object \n",
      " 7   tipo_residencia        12427 non-null  object \n",
      " 8   idade                  12427 non-null  int64  \n",
      " 9   tempo_emprego          12427 non-null  float64\n",
      " 10  qt_pessoas_residencia  12427 non-null  float64\n",
      " 11  renda                  12427 non-null  float64\n",
      "dtypes: float64(3), int64(4), object(5)\n",
      "memory usage: 1.2+ MB\n"
     ]
    }
   ],
   "source": [
    "df = df[list(df.columns)[3:]].dropna()\n",
    "df.posse_de_veiculo = df.posse_de_veiculo.replace({True: 1, False: 0})\n",
    "df.posse_de_imovel = df.posse_de_imovel.replace({True: 1, False: 0})\n",
    "df.info()"
   ]
  },
  {
   "cell_type": "markdown",
   "metadata": {},
   "source": [
    "1. Separe a base em treinamento e teste (25% para teste, 75% para treinamento)."
   ]
  },
  {
   "cell_type": "code",
   "execution_count": 73,
   "metadata": {
    "tags": []
   },
   "outputs": [],
   "source": [
    "X = df.drop(columns=['renda'])\n",
    "y = df['renda']\n",
    "\n",
    "X_train, X_test, y_train, y_test = train_test_split(X, y, test_size=0.25)"
   ]
  },
  {
   "cell_type": "markdown",
   "metadata": {},
   "source": [
    "2. Rode uma regularização *ridge* com alpha = [0, 0.001, 0.005, 0.01, 0.05, 0.1] e avalie o $R^2$ na base de testes. Qual o melhor modelo?"
   ]
  },
  {
   "cell_type": "code",
   "execution_count": 74,
   "metadata": {},
   "outputs": [],
   "source": [
    "df_train = pd.concat([X_train, y_train], axis=1)"
   ]
  },
  {
   "cell_type": "code",
   "execution_count": 75,
   "metadata": {
    "tags": []
   },
   "outputs": [
    {
     "name": "stdout",
     "output_type": "stream",
     "text": [
      "Alpha 0\n",
      "R2 Train 0.2571 / R2 Test 0.2532\n",
      "\n",
      "Alpha 0.001\n",
      "R2 Train 0.2571 / R2 Test 0.2532\n",
      "\n",
      "Alpha 0.005\n",
      "R2 Train 0.2571 / R2 Test 0.2532\n",
      "\n",
      "Alpha 0.01\n",
      "R2 Train 0.2571 / R2 Test 0.2532\n",
      "\n",
      "Alpha 0.05\n",
      "R2 Train 0.2571 / R2 Test 0.2532\n",
      "\n",
      "Alpha 0.1\n",
      "R2 Train 0.2571 / R2 Test 0.2532\n",
      "\n"
     ]
    }
   ],
   "source": [
    "alpha = [0, 0.001, 0.005, 0.01, 0.05, 0.1]\n",
    "\n",
    "model = 'renda ~ sexo +\\\n",
    "                 posse_de_veiculo +\\\n",
    "                 posse_de_imovel +\\\n",
    "                 qtd_filhos +\\\n",
    "                 tipo_renda +\\\n",
    "                 educacao +\\\n",
    "                 estado_civil +\\\n",
    "                 tipo_residencia +\\\n",
    "                 idade +\\\n",
    "                 tempo_emprego +\\\n",
    "                 qt_pessoas_residencia'\n",
    "\n",
    "for a in alpha:\n",
    "\n",
    "    md = smf.ols(model, df_train)\n",
    "    md_fitted = md.fit_regularized(method = 'elastic_net', refit = True, L1_wt = 0.01, alpha = a)\n",
    "\n",
    "    df_y_test = pd.concat([y_test, md_fitted.predict(X_test)], axis=1)\n",
    "    r2_test = df_y_test.corr().iloc[1,0]**2\n",
    "    \n",
    "    print(f\"Alpha {a}\")\n",
    "    print(f\"R2 Train {round(md_fitted.rsquared,4)} / R2 Test {round(r2_test,4)}\\n\")"
   ]
  },
  {
   "cell_type": "markdown",
   "metadata": {},
   "source": [
    "3. Faça o mesmo que no passo 2, com uma regressão *LASSO*. Qual método chega a um melhor resultado?"
   ]
  },
  {
   "cell_type": "code",
   "execution_count": 76,
   "metadata": {
    "tags": []
   },
   "outputs": [
    {
     "name": "stdout",
     "output_type": "stream",
     "text": [
      "Alpha 0\n",
      "R2 Train 0.2571 / R2 Test 0.2532\n",
      "\n",
      "Alpha 0.001\n",
      "R2 Train 0.2571 / R2 Test 0.2532\n",
      "\n",
      "Alpha 0.005\n",
      "R2 Train 0.2571 / R2 Test 0.2532\n",
      "\n",
      "Alpha 0.01\n",
      "R2 Train 0.2571 / R2 Test 0.2532\n",
      "\n",
      "Alpha 0.05\n",
      "R2 Train 0.2571 / R2 Test 0.2532\n",
      "\n",
      "Alpha 0.1\n",
      "R2 Train 0.2571 / R2 Test 0.2532\n",
      "\n"
     ]
    }
   ],
   "source": [
    "for a in alpha:\n",
    "\n",
    "    md = smf.ols(model, df_train)\n",
    "    md_fitted = md.fit_regularized(method = 'elastic_net', refit = True, L1_wt = 1, alpha = a)\n",
    "\n",
    "    df_y_test = pd.concat([y_test, md_fitted.predict(X_test)], axis=1)\n",
    "    r2_test = df_y_test.corr().iloc[1,0]**2\n",
    "    \n",
    "    print(f\"Alpha {a}\")\n",
    "    print(f\"R2 Train {round(md_fitted.rsquared,4)} / R2 Test {round(r2_test,4)}\\n\")"
   ]
  },
  {
   "cell_type": "markdown",
   "metadata": {},
   "source": [
    "4. Rode um modelo *stepwise*. Avalie o $R^2$ na vase de testes. Qual o melhor resultado?"
   ]
  },
  {
   "cell_type": "code",
   "execution_count": 77,
   "metadata": {
    "tags": []
   },
   "outputs": [],
   "source": [
    "def stepwise_selection(X, y, \n",
    "                       initial_list=[], \n",
    "                       threshold_in=0.05, \n",
    "                       threshold_out = 0.05, \n",
    "                       verbose=True):\n",
    "    \"\"\" Perform a forward-backward feature selection \n",
    "    based on p-value from statsmodels.api.OLS\n",
    "    Arguments:\n",
    "        X - pandas.DataFrame with candidate features\n",
    "        y - list-like with the target\n",
    "        initial_list - list of features to start with (column names of X)\n",
    "        threshold_in - include a feature if its p-value < threshold_in\n",
    "        threshold_out - exclude a feature if its p-value > threshold_out\n",
    "        verbose - whether to print the sequence of inclusions and exclusions\n",
    "    Returns: list of selected features \n",
    "    Always set threshold_in < threshold_out to avoid infinite looping.\n",
    "    See https://en.wikipedia.org/wiki/Stepwise_regression for the details\n",
    "    \"\"\"\n",
    "    included = list(initial_list)\n",
    "    while True:\n",
    "        changed=False\n",
    "        # forward step\n",
    "        excluded = list(set(X.columns)-set(included))\n",
    "        new_pval = pd.Series(index=excluded, dtype=np.dtype('float64'))\n",
    "        for new_column in excluded:\n",
    "            model = sm.OLS(y, sm.add_constant(pd.DataFrame(X[included+[new_column]]))).fit()\n",
    "            new_pval[new_column] = model.pvalues[new_column]\n",
    "        best_pval = new_pval.min()\n",
    "        if best_pval < threshold_in:\n",
    "            best_feature = new_pval.index[new_pval.argmin()]\n",
    "            included.append(best_feature)\n",
    "            changed=True\n",
    "            if verbose:\n",
    "                 print('Add  {:30} with p-value {:.6}'.format(best_feature, best_pval))\n",
    "\n",
    "        # backward step\n",
    "        print(\"#############\")\n",
    "        print(included)\n",
    "        model = sm.OLS(y, sm.add_constant(pd.DataFrame(X[included]))).fit()\n",
    "        # use all coefs except intercept\n",
    "        pvalues = model.pvalues.iloc[1:]\n",
    "        worst_pval = pvalues.max() # null if pvalues is empty\n",
    "        if worst_pval > threshold_out:\n",
    "            changed=True\n",
    "            worst_feature = pvalues.argmax()\n",
    "            included.remove(worst_feature)\n",
    "            if verbose:\n",
    "                print('Drop {:30} with p-value {:.6}'.format(worst_feature, worst_pval))\n",
    "        if not changed:\n",
    "            break\n",
    "    return included\n"
   ]
  },
  {
   "cell_type": "code",
   "execution_count": 78,
   "metadata": {
    "tags": []
   },
   "outputs": [
    {
     "name": "stdout",
     "output_type": "stream",
     "text": [
      "Add  tempo_emprego                  with p-value 0.0\n",
      "#############\n",
      "['tempo_emprego']\n",
      "Add  sexo_M                         with p-value 0.0\n",
      "#############\n",
      "['tempo_emprego', 'sexo_M']\n",
      "Add  tipo_renda_Empresário          with p-value 1.75299e-07\n",
      "#############\n",
      "['tempo_emprego', 'sexo_M', 'tipo_renda_Empresário']\n",
      "Add  idade                          with p-value 1.9605e-07\n",
      "#############\n",
      "['tempo_emprego', 'sexo_M', 'tipo_renda_Empresário', 'idade']\n",
      "Add  sexo_F                         with p-value 1.43093e-96\n",
      "#############\n",
      "['tempo_emprego', 'sexo_M', 'tipo_renda_Empresário', 'idade', 'sexo_F']\n",
      "Add  educacao_Superior completo     with p-value 3.07164e-06\n",
      "#############\n",
      "['tempo_emprego', 'sexo_M', 'tipo_renda_Empresário', 'idade', 'sexo_F', 'educacao_Superior completo']\n",
      "Add  estado_civil_Casado            with p-value 0.00727196\n",
      "#############\n",
      "['tempo_emprego', 'sexo_M', 'tipo_renda_Empresário', 'idade', 'sexo_F', 'educacao_Superior completo', 'estado_civil_Casado']\n",
      "Add  posse_de_imovel                with p-value 0.0121024\n",
      "#############\n",
      "['tempo_emprego', 'sexo_M', 'tipo_renda_Empresário', 'idade', 'sexo_F', 'educacao_Superior completo', 'estado_civil_Casado', 'posse_de_imovel']\n",
      "#############\n",
      "['tempo_emprego', 'sexo_M', 'tipo_renda_Empresário', 'idade', 'sexo_F', 'educacao_Superior completo', 'estado_civil_Casado', 'posse_de_imovel']\n",
      "resulting features:\n",
      "['tempo_emprego', 'sexo_M', 'tipo_renda_Empresário', 'idade', 'sexo_F', 'educacao_Superior completo', 'estado_civil_Casado', 'posse_de_imovel']\n"
     ]
    }
   ],
   "source": [
    "X_dummy = pd.get_dummies(X)\n",
    "variaveis = stepwise_selection(X_dummy, np.asarray(y))\n",
    "\n",
    "print('resulting features:')\n",
    "print(variaveis)"
   ]
  },
  {
   "cell_type": "code",
   "execution_count": 93,
   "metadata": {
    "tags": []
   },
   "outputs": [],
   "source": [
    "modelo = 'renda ~ tempo_emprego + sexo_M + tipo_renda_Empresário + idade + sexo_F + educacao_Superior_completo + estado_civil_Casado + posse_de_imovel'\n",
    "\n",
    "df_train_dummies = pd.get_dummies(df_train)\n",
    "df_train_dummies.columns = ['posse_de_veiculo', 'posse_de_imovel', 'qtd_filhos', 'idade',\n",
    "       'tempo_emprego', 'qt_pessoas_residencia', 'renda', 'sexo_F', 'sexo_M',\n",
    "       'tipo_renda_Assalariado', 'tipo_renda_Bolsista',\n",
    "       'tipo_renda_Empresário', 'tipo_renda_Pensionista',\n",
    "       'tipo_renda_Servidor público', 'educacao_Primário',\n",
    "       'educacao_Pós graduação', 'educacao_Secundário',\n",
    "       'educacao_Superior_completo', 'educacao_Superior_incompleto',\n",
    "       'estado_civil_Casado', 'estado_civil_Separado', 'estado_civil_Solteiro',\n",
    "       'estado_civil_União', 'estado_civil_Viúvo', 'tipo_residencia_Aluguel',\n",
    "       'tipo_residencia_Casa', 'tipo_residencia_Com os pais',\n",
    "       'tipo_residencia_Comunitário', 'tipo_residencia_Estúdio',\n",
    "       'tipo_residencia_Governamental']"
   ]
  },
  {
   "cell_type": "code",
   "execution_count": 94,
   "metadata": {
    "tags": []
   },
   "outputs": [],
   "source": [
    "md = smf.ols(modelo, df_train_dummies)\n",
    "md_fitted = md.fit_regularized(method = 'elastic_net', refit = True, L1_wt = 1, alpha = 0.01)"
   ]
  },
  {
   "cell_type": "code",
   "execution_count": 111,
   "metadata": {
    "tags": []
   },
   "outputs": [],
   "source": [
    "X_test_dummies = pd.get_dummies(X_test)\n",
    "X_test_dummies.columns = ['posse_de_veiculo', 'posse_de_imovel', 'qtd_filhos', 'idade',\n",
    "       'tempo_emprego', 'qt_pessoas_residencia', 'sexo_F', 'sexo_M',\n",
    "       'tipo_renda_Assalariado', 'tipo_renda_Empresário',\n",
    "       'tipo_renda_Pensionista', 'tipo_renda_Servidor público',\n",
    "       'educacao_Primário', 'educacao_Pós graduação', 'educacao_Secundário',\n",
    "       'educacao_Superior_completo', 'educacao_Superior_incompleto',\n",
    "       'estado_civil_Casado', 'estado_civil_Separado', 'estado_civil_Solteiro',\n",
    "       'estado_civil_União', 'estado_civil_Viúvo', 'tipo_residencia_Aluguel',\n",
    "       'tipo_residencia_Casa', 'tipo_residencia_Com os pais',\n",
    "       'tipo_residencia_Comunitário', 'tipo_residencia_Estúdio',\n",
    "       'tipo_residencia_Governamental']"
   ]
  },
  {
   "cell_type": "code",
   "execution_count": 112,
   "metadata": {
    "tags": []
   },
   "outputs": [
    {
     "name": "stdout",
     "output_type": "stream",
     "text": [
      "R2 Train 0.2564 / R2 Test 0.3092\n",
      "\n"
     ]
    }
   ],
   "source": [
    "df_y_test = pd.concat([y_test, md_fitted.predict(X_test_dummies)], axis=1)\n",
    "r2_test = df_y_test.corr().iloc[1,0]**2\n",
    "\n",
    "print(f\"R2 Train {round(md_fitted.rsquared,4)} / R2 Test {round(r2_test,4)}\\n\")"
   ]
  },
  {
   "cell_type": "markdown",
   "metadata": {},
   "source": [
    "5. Compare os parâmetros e avalie eventuais diferenças. Qual modelo você acha o melhor de todos?"
   ]
  },
  {
   "cell_type": "markdown",
   "metadata": {},
   "source": [
    "<div style=\"background: #EEEEF4; padding: 15px 20px; border-radius: 5px; margin-top: 20px\">\n",
    "    <p style=\"font-size: 11px; color: #666; font-weight: bold\">Resposta</p>\n",
    "    <p>O melhor modelo foi o último, onde o R2 de Teste foi de 0.31</p>\n",
    "</div>"
   ]
  },
  {
   "cell_type": "markdown",
   "metadata": {},
   "source": [
    "6. Partindo dos modelos que você ajustou, tente melhorar o $R^2$ na base de testes. Use a criatividade, veja se consegue inserir alguma transformação ou combinação de variáveis."
   ]
  },
  {
   "cell_type": "code",
   "execution_count": 116,
   "metadata": {
    "tags": []
   },
   "outputs": [
    {
     "name": "stdout",
     "output_type": "stream",
     "text": [
      "R2 Train 0.3515 / R2 Test 0.3773\n",
      "\n"
     ]
    }
   ],
   "source": [
    "modelo = 'np.log(renda) ~ tempo_emprego + sexo_M + tipo_renda_Empresário + idade + sexo_F + educacao_Superior_completo + estado_civil_Casado + posse_de_imovel'\n",
    "md = smf.ols(modelo, df_train_dummies)\n",
    "md_fitted = md.fit_regularized(method = 'elastic_net', refit = True, L1_wt = 1, alpha = 0.01)\n",
    "\n",
    "df_y_test = pd.concat([y_test, np.exp(md_fitted.predict(X_test_dummies))], axis=1)\n",
    "r2_test = df_y_test.corr().iloc[1,0]**2\n",
    "\n",
    "print(f\"R2 Train {round(md_fitted.rsquared,4)} / R2 Test {round(r2_test,4)}\\n\")"
   ]
  },
  {
   "cell_type": "markdown",
   "metadata": {},
   "source": [
    "<div style=\"background: #EEEEF4; padding: 15px 20px; border-radius: 5px; margin-top: 20px\">\n",
    "    <p style=\"font-size: 11px; color: #666; font-weight: bold\">Resposta</p>\n",
    "    <p>Transformando a variável renda com Log conseguimos aumentat o R2 de teste para 0.38</p>\n",
    "</div>"
   ]
  },
  {
   "cell_type": "markdown",
   "metadata": {},
   "source": [
    "7. Ajuste uma árvore de regressão e veja se consegue um $R^2$ melhor com ela."
   ]
  },
  {
   "cell_type": "code",
   "execution_count": 130,
   "metadata": {},
   "outputs": [
    {
     "name": "stdout",
     "output_type": "stream",
     "text": [
      "O R² de Treino da árvore é: 0.6729192757261102\n",
      "O R² de Teste da árvore é: 0.5149422961053773\n"
     ]
    }
   ],
   "source": [
    "X_dummies = pd.get_dummies(X)\n",
    "\n",
    "X_train_dummies, X_test_dummies, y_train, y_test = train_test_split(X_dummies, y, test_size=0.25)\n",
    "\n",
    "tree = DecisionTreeRegressor(max_depth=10)\n",
    "\n",
    "tree.fit(X_train_dummies, y_train)\n",
    "\n",
    "r2_train = tree.score(X_train_dummies, y_train)\n",
    "r2_test = tree.score(X_test_dummies, y_test)\n",
    "\n",
    "print(f\"O R² de Treino da árvore é: {r2_train}\")\n",
    "print(f\"O R² de Teste da árvore é: {r2_test}\")"
   ]
  },
  {
   "cell_type": "code",
   "execution_count": null,
   "metadata": {},
   "outputs": [],
   "source": []
  }
 ],
 "metadata": {
  "kernelspec": {
   "display_name": "Python 3 (ipykernel)",
   "language": "python",
   "name": "python3"
  },
  "language_info": {
   "codemirror_mode": {
    "name": "ipython",
    "version": 3
   },
   "file_extension": ".py",
   "mimetype": "text/x-python",
   "name": "python",
   "nbconvert_exporter": "python",
   "pygments_lexer": "ipython3",
   "version": "3.10.8"
  }
 },
 "nbformat": 4,
 "nbformat_minor": 4
}
