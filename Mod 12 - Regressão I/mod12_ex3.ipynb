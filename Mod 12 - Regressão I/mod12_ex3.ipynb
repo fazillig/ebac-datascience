{
 "cells": [
  {
   "cell_type": "markdown",
   "metadata": {},
   "source": [
    "# Regressão 01 - tarefa 03 - transformações em X e Y"
   ]
  },
  {
   "cell_type": "markdown",
   "metadata": {},
   "source": [
    "Carregue os pacotes necessários e a base de gorjetas."
   ]
  },
  {
   "cell_type": "code",
   "execution_count": 1,
   "metadata": {},
   "outputs": [],
   "source": [
    "import pandas as pd\n",
    "import numpy as np\n",
    "\n",
    "from seaborn import load_dataset\n",
    "import seaborn as sns\n",
    "import matplotlib.pyplot as plt\n",
    "\n",
    "import patsy\n",
    "import statsmodels.api as sm\n",
    "import statsmodels.formula.api as smf"
   ]
  },
  {
   "cell_type": "markdown",
   "metadata": {},
   "source": [
    "### I. Modelo no valor da gorjeta\n",
    "\n",
    "1. Crie a matriz de design (e a matriz y) utilizando o Patsy, para um modelo em ```tip```, explicada por ```sex, smoker, diner e net_bill```."
   ]
  },
  {
   "cell_type": "code",
   "execution_count": 2,
   "metadata": {},
   "outputs": [
    {
     "data": {
      "text/html": [
       "<div>\n",
       "<style scoped>\n",
       "    .dataframe tbody tr th:only-of-type {\n",
       "        vertical-align: middle;\n",
       "    }\n",
       "\n",
       "    .dataframe tbody tr th {\n",
       "        vertical-align: top;\n",
       "    }\n",
       "\n",
       "    .dataframe thead th {\n",
       "        text-align: right;\n",
       "    }\n",
       "</style>\n",
       "<table border=\"1\" class=\"dataframe\">\n",
       "  <thead>\n",
       "    <tr style=\"text-align: right;\">\n",
       "      <th></th>\n",
       "      <th>total_bill</th>\n",
       "      <th>tip</th>\n",
       "      <th>sex</th>\n",
       "      <th>smoker</th>\n",
       "      <th>day</th>\n",
       "      <th>time</th>\n",
       "      <th>size</th>\n",
       "      <th>net_bill</th>\n",
       "      <th>tip_pct</th>\n",
       "    </tr>\n",
       "  </thead>\n",
       "  <tbody>\n",
       "    <tr>\n",
       "      <th>0</th>\n",
       "      <td>16.99</td>\n",
       "      <td>1.01</td>\n",
       "      <td>Female</td>\n",
       "      <td>No</td>\n",
       "      <td>Sun</td>\n",
       "      <td>Dinner</td>\n",
       "      <td>2</td>\n",
       "      <td>15.98</td>\n",
       "      <td>0.063204</td>\n",
       "    </tr>\n",
       "    <tr>\n",
       "      <th>1</th>\n",
       "      <td>10.34</td>\n",
       "      <td>1.66</td>\n",
       "      <td>Male</td>\n",
       "      <td>No</td>\n",
       "      <td>Sun</td>\n",
       "      <td>Dinner</td>\n",
       "      <td>3</td>\n",
       "      <td>8.68</td>\n",
       "      <td>0.191244</td>\n",
       "    </tr>\n",
       "    <tr>\n",
       "      <th>2</th>\n",
       "      <td>21.01</td>\n",
       "      <td>3.50</td>\n",
       "      <td>Male</td>\n",
       "      <td>No</td>\n",
       "      <td>Sun</td>\n",
       "      <td>Dinner</td>\n",
       "      <td>3</td>\n",
       "      <td>17.51</td>\n",
       "      <td>0.199886</td>\n",
       "    </tr>\n",
       "    <tr>\n",
       "      <th>3</th>\n",
       "      <td>23.68</td>\n",
       "      <td>3.31</td>\n",
       "      <td>Male</td>\n",
       "      <td>No</td>\n",
       "      <td>Sun</td>\n",
       "      <td>Dinner</td>\n",
       "      <td>2</td>\n",
       "      <td>20.37</td>\n",
       "      <td>0.162494</td>\n",
       "    </tr>\n",
       "    <tr>\n",
       "      <th>4</th>\n",
       "      <td>24.59</td>\n",
       "      <td>3.61</td>\n",
       "      <td>Female</td>\n",
       "      <td>No</td>\n",
       "      <td>Sun</td>\n",
       "      <td>Dinner</td>\n",
       "      <td>4</td>\n",
       "      <td>20.98</td>\n",
       "      <td>0.172069</td>\n",
       "    </tr>\n",
       "  </tbody>\n",
       "</table>\n",
       "</div>"
      ],
      "text/plain": [
       "   total_bill   tip     sex smoker  day    time  size  net_bill   tip_pct\n",
       "0       16.99  1.01  Female     No  Sun  Dinner     2     15.98  0.063204\n",
       "1       10.34  1.66    Male     No  Sun  Dinner     3      8.68  0.191244\n",
       "2       21.01  3.50    Male     No  Sun  Dinner     3     17.51  0.199886\n",
       "3       23.68  3.31    Male     No  Sun  Dinner     2     20.37  0.162494\n",
       "4       24.59  3.61  Female     No  Sun  Dinner     4     20.98  0.172069"
      ]
     },
     "execution_count": 2,
     "metadata": {},
     "output_type": "execute_result"
    }
   ],
   "source": [
    "df = load_dataset('tips')\n",
    "df['net_bill'] = df['total_bill'] - df['tip']\n",
    "df['tip_pct'] = df['tip'] / df['net_bill']\n",
    "df.head()"
   ]
  },
  {
   "cell_type": "code",
   "execution_count": 3,
   "metadata": {},
   "outputs": [],
   "source": [
    "y, X = patsy.dmatrices('tip ~ sex + smoker + time + net_bill', df)"
   ]
  },
  {
   "cell_type": "code",
   "execution_count": 5,
   "metadata": {},
   "outputs": [
    {
     "data": {
      "text/plain": [
       "DesignMatrix with shape (244, 5)\n",
       "  Intercept  sex[T.Female]  smoker[T.No]  time[T.Dinner]  net_bill\n",
       "          1              1             1               1     15.98\n",
       "          1              0             1               1      8.68\n",
       "          1              0             1               1     17.51\n",
       "          1              0             1               1     20.37\n",
       "          1              1             1               1     20.98\n",
       "          1              0             1               1     20.58\n",
       "          1              0             1               1      6.77\n",
       "          1              0             1               1     23.76\n",
       "          1              0             1               1     13.08\n",
       "          1              0             1               1     11.55\n",
       "          1              0             1               1      8.56\n",
       "          1              1             1               1     30.26\n",
       "          1              0             1               1     13.85\n",
       "          1              0             1               1     15.43\n",
       "          1              1             1               1     11.81\n",
       "          1              0             1               1     17.66\n",
       "          1              1             1               1      8.66\n",
       "          1              0             1               1     12.58\n",
       "          1              1             1               1     13.47\n",
       "          1              0             1               1     17.30\n",
       "          1              0             1               1     13.84\n",
       "          1              1             1               1     17.54\n",
       "          1              1             1               1     13.54\n",
       "          1              0             1               1     31.84\n",
       "          1              0             1               1     16.64\n",
       "          1              0             1               1     15.47\n",
       "          1              0             1               1     11.37\n",
       "          1              0             1               1     10.69\n",
       "          1              0             1               1     17.40\n",
       "          1              1             1               1     16.65\n",
       "  [214 rows omitted]\n",
       "  Terms:\n",
       "    'Intercept' (column 0)\n",
       "    'sex' (column 1)\n",
       "    'smoker' (column 2)\n",
       "    'time' (column 3)\n",
       "    'net_bill' (column 4)\n",
       "  (to view full data, use np.asarray(this_obj))"
      ]
     },
     "metadata": {},
     "output_type": "display_data"
    },
    {
     "data": {
      "text/plain": [
       "DesignMatrix with shape (244, 1)\n",
       "   tip\n",
       "  1.01\n",
       "  1.66\n",
       "  3.50\n",
       "  3.31\n",
       "  3.61\n",
       "  4.71\n",
       "  2.00\n",
       "  3.12\n",
       "  1.96\n",
       "  3.23\n",
       "  1.71\n",
       "  5.00\n",
       "  1.57\n",
       "  3.00\n",
       "  3.02\n",
       "  3.92\n",
       "  1.67\n",
       "  3.71\n",
       "  3.50\n",
       "  3.35\n",
       "  4.08\n",
       "  2.75\n",
       "  2.23\n",
       "  7.58\n",
       "  3.18\n",
       "  2.34\n",
       "  2.00\n",
       "  2.00\n",
       "  4.30\n",
       "  3.00\n",
       "  [214 rows omitted]\n",
       "  Terms:\n",
       "    'tip' (column 0)\n",
       "  (to view full data, use np.asarray(this_obj))"
      ]
     },
     "metadata": {},
     "output_type": "display_data"
    }
   ],
   "source": [
    "display(X)\n",
    "display(y)"
   ]
  },
  {
   "cell_type": "code",
   "execution_count": 6,
   "metadata": {},
   "outputs": [
    {
     "data": {
      "text/html": [
       "<table class=\"simpletable\">\n",
       "<caption>OLS Regression Results</caption>\n",
       "<tr>\n",
       "  <th>Dep. Variable:</th>           <td>tip</td>       <th>  R-squared:         </th> <td>   0.335</td>\n",
       "</tr>\n",
       "<tr>\n",
       "  <th>Model:</th>                   <td>OLS</td>       <th>  Adj. R-squared:    </th> <td>   0.324</td>\n",
       "</tr>\n",
       "<tr>\n",
       "  <th>Method:</th>             <td>Least Squares</td>  <th>  F-statistic:       </th> <td>   30.13</td>\n",
       "</tr>\n",
       "<tr>\n",
       "  <th>Date:</th>             <td>Sun, 29 Jan 2023</td> <th>  Prob (F-statistic):</th> <td>2.64e-20</td>\n",
       "</tr>\n",
       "<tr>\n",
       "  <th>Time:</th>                 <td>14:04:13</td>     <th>  Log-Likelihood:    </th> <td> -375.13</td>\n",
       "</tr>\n",
       "<tr>\n",
       "  <th>No. Observations:</th>      <td>   244</td>      <th>  AIC:               </th> <td>   760.3</td>\n",
       "</tr>\n",
       "<tr>\n",
       "  <th>Df Residuals:</th>          <td>   239</td>      <th>  BIC:               </th> <td>   777.8</td>\n",
       "</tr>\n",
       "<tr>\n",
       "  <th>Df Model:</th>              <td>     4</td>      <th>                     </th>     <td> </td>   \n",
       "</tr>\n",
       "<tr>\n",
       "  <th>Covariance Type:</th>      <td>nonrobust</td>    <th>                     </th>     <td> </td>   \n",
       "</tr>\n",
       "</table>\n",
       "<table class=\"simpletable\">\n",
       "<tr>\n",
       "         <td></td>           <th>coef</th>     <th>std err</th>      <th>t</th>      <th>P>|t|</th>  <th>[0.025</th>    <th>0.975]</th>  \n",
       "</tr>\n",
       "<tr>\n",
       "  <th>Intercept</th>      <td>    1.1999</td> <td>    0.242</td> <td>    4.952</td> <td> 0.000</td> <td>    0.723</td> <td>    1.677</td>\n",
       "</tr>\n",
       "<tr>\n",
       "  <th>sex[T.Female]</th>  <td>   -0.0034</td> <td>    0.156</td> <td>   -0.022</td> <td> 0.982</td> <td>   -0.311</td> <td>    0.305</td>\n",
       "</tr>\n",
       "<tr>\n",
       "  <th>smoker[T.No]</th>   <td>    0.1405</td> <td>    0.151</td> <td>    0.932</td> <td> 0.352</td> <td>   -0.156</td> <td>    0.437</td>\n",
       "</tr>\n",
       "<tr>\n",
       "  <th>time[T.Dinner]</th> <td>    0.0584</td> <td>    0.168</td> <td>    0.347</td> <td> 0.729</td> <td>   -0.273</td> <td>    0.390</td>\n",
       "</tr>\n",
       "<tr>\n",
       "  <th>net_bill</th>       <td>    0.0995</td> <td>    0.009</td> <td>   10.662</td> <td> 0.000</td> <td>    0.081</td> <td>    0.118</td>\n",
       "</tr>\n",
       "</table>\n",
       "<table class=\"simpletable\">\n",
       "<tr>\n",
       "  <th>Omnibus:</th>       <td>36.537</td> <th>  Durbin-Watson:     </th> <td>   2.121</td>\n",
       "</tr>\n",
       "<tr>\n",
       "  <th>Prob(Omnibus):</th> <td> 0.000</td> <th>  Jarque-Bera (JB):  </th> <td>  65.875</td>\n",
       "</tr>\n",
       "<tr>\n",
       "  <th>Skew:</th>          <td> 0.800</td> <th>  Prob(JB):          </th> <td>4.96e-15</td>\n",
       "</tr>\n",
       "<tr>\n",
       "  <th>Kurtosis:</th>      <td> 4.980</td> <th>  Cond. No.          </th> <td>    71.2</td>\n",
       "</tr>\n",
       "</table><br/><br/>Notes:<br/>[1] Standard Errors assume that the covariance matrix of the errors is correctly specified."
      ],
      "text/plain": [
       "<class 'statsmodels.iolib.summary.Summary'>\n",
       "\"\"\"\n",
       "                            OLS Regression Results                            \n",
       "==============================================================================\n",
       "Dep. Variable:                    tip   R-squared:                       0.335\n",
       "Model:                            OLS   Adj. R-squared:                  0.324\n",
       "Method:                 Least Squares   F-statistic:                     30.13\n",
       "Date:                Sun, 29 Jan 2023   Prob (F-statistic):           2.64e-20\n",
       "Time:                        14:04:13   Log-Likelihood:                -375.13\n",
       "No. Observations:                 244   AIC:                             760.3\n",
       "Df Residuals:                     239   BIC:                             777.8\n",
       "Df Model:                           4                                         \n",
       "Covariance Type:            nonrobust                                         \n",
       "==================================================================================\n",
       "                     coef    std err          t      P>|t|      [0.025      0.975]\n",
       "----------------------------------------------------------------------------------\n",
       "Intercept          1.1999      0.242      4.952      0.000       0.723       1.677\n",
       "sex[T.Female]     -0.0034      0.156     -0.022      0.982      -0.311       0.305\n",
       "smoker[T.No]       0.1405      0.151      0.932      0.352      -0.156       0.437\n",
       "time[T.Dinner]     0.0584      0.168      0.347      0.729      -0.273       0.390\n",
       "net_bill           0.0995      0.009     10.662      0.000       0.081       0.118\n",
       "==============================================================================\n",
       "Omnibus:                       36.537   Durbin-Watson:                   2.121\n",
       "Prob(Omnibus):                  0.000   Jarque-Bera (JB):               65.875\n",
       "Skew:                           0.800   Prob(JB):                     4.96e-15\n",
       "Kurtosis:                       4.980   Cond. No.                         71.2\n",
       "==============================================================================\n",
       "\n",
       "Notes:\n",
       "[1] Standard Errors assume that the covariance matrix of the errors is correctly specified.\n",
       "\"\"\""
      ]
     },
     "execution_count": 6,
     "metadata": {},
     "output_type": "execute_result"
    }
   ],
   "source": [
    "modelo = sm.OLS(y, X).fit()\n",
    "modelo.summary()"
   ]
  },
  {
   "cell_type": "markdown",
   "metadata": {},
   "source": [
    "2. Remova as variáveis não significantes.  "
   ]
  },
  {
   "cell_type": "code",
   "execution_count": 7,
   "metadata": {},
   "outputs": [],
   "source": [
    "#Apenas a variável net_bill se mostrou estatisticamente relevante\n",
    "y, X = patsy.dmatrices('tip ~ net_bill', df)"
   ]
  },
  {
   "cell_type": "code",
   "execution_count": 8,
   "metadata": {},
   "outputs": [
    {
     "data": {
      "text/html": [
       "<table class=\"simpletable\">\n",
       "<caption>OLS Regression Results</caption>\n",
       "<tr>\n",
       "  <th>Dep. Variable:</th>           <td>tip</td>       <th>  R-squared:         </th> <td>   0.333</td>\n",
       "</tr>\n",
       "<tr>\n",
       "  <th>Model:</th>                   <td>OLS</td>       <th>  Adj. R-squared:    </th> <td>   0.330</td>\n",
       "</tr>\n",
       "<tr>\n",
       "  <th>Method:</th>             <td>Least Squares</td>  <th>  F-statistic:       </th> <td>   120.6</td>\n",
       "</tr>\n",
       "<tr>\n",
       "  <th>Date:</th>             <td>Sun, 29 Jan 2023</td> <th>  Prob (F-statistic):</th> <td>5.02e-23</td>\n",
       "</tr>\n",
       "<tr>\n",
       "  <th>Time:</th>                 <td>14:14:19</td>     <th>  Log-Likelihood:    </th> <td> -375.63</td>\n",
       "</tr>\n",
       "<tr>\n",
       "  <th>No. Observations:</th>      <td>   244</td>      <th>  AIC:               </th> <td>   755.3</td>\n",
       "</tr>\n",
       "<tr>\n",
       "  <th>Df Residuals:</th>          <td>   242</td>      <th>  BIC:               </th> <td>   762.3</td>\n",
       "</tr>\n",
       "<tr>\n",
       "  <th>Df Model:</th>              <td>     1</td>      <th>                     </th>     <td> </td>   \n",
       "</tr>\n",
       "<tr>\n",
       "  <th>Covariance Type:</th>      <td>nonrobust</td>    <th>                     </th>     <td> </td>   \n",
       "</tr>\n",
       "</table>\n",
       "<table class=\"simpletable\">\n",
       "<tr>\n",
       "      <td></td>         <th>coef</th>     <th>std err</th>      <th>t</th>      <th>P>|t|</th>  <th>[0.025</th>    <th>0.975]</th>  \n",
       "</tr>\n",
       "<tr>\n",
       "  <th>Intercept</th> <td>    1.3307</td> <td>    0.168</td> <td>    7.907</td> <td> 0.000</td> <td>    0.999</td> <td>    1.662</td>\n",
       "</tr>\n",
       "<tr>\n",
       "  <th>net_bill</th>  <td>    0.0993</td> <td>    0.009</td> <td>   10.980</td> <td> 0.000</td> <td>    0.082</td> <td>    0.117</td>\n",
       "</tr>\n",
       "</table>\n",
       "<table class=\"simpletable\">\n",
       "<tr>\n",
       "  <th>Omnibus:</th>       <td>33.873</td> <th>  Durbin-Watson:     </th> <td>   2.123</td>\n",
       "</tr>\n",
       "<tr>\n",
       "  <th>Prob(Omnibus):</th> <td> 0.000</td> <th>  Jarque-Bera (JB):  </th> <td>  59.942</td>\n",
       "</tr>\n",
       "<tr>\n",
       "  <th>Skew:</th>          <td> 0.754</td> <th>  Prob(JB):          </th> <td>9.63e-14</td>\n",
       "</tr>\n",
       "<tr>\n",
       "  <th>Kurtosis:</th>      <td> 4.903</td> <th>  Cond. No.          </th> <td>    43.3</td>\n",
       "</tr>\n",
       "</table><br/><br/>Notes:<br/>[1] Standard Errors assume that the covariance matrix of the errors is correctly specified."
      ],
      "text/plain": [
       "<class 'statsmodels.iolib.summary.Summary'>\n",
       "\"\"\"\n",
       "                            OLS Regression Results                            \n",
       "==============================================================================\n",
       "Dep. Variable:                    tip   R-squared:                       0.333\n",
       "Model:                            OLS   Adj. R-squared:                  0.330\n",
       "Method:                 Least Squares   F-statistic:                     120.6\n",
       "Date:                Sun, 29 Jan 2023   Prob (F-statistic):           5.02e-23\n",
       "Time:                        14:14:19   Log-Likelihood:                -375.63\n",
       "No. Observations:                 244   AIC:                             755.3\n",
       "Df Residuals:                     242   BIC:                             762.3\n",
       "Df Model:                           1                                         \n",
       "Covariance Type:            nonrobust                                         \n",
       "==============================================================================\n",
       "                 coef    std err          t      P>|t|      [0.025      0.975]\n",
       "------------------------------------------------------------------------------\n",
       "Intercept      1.3307      0.168      7.907      0.000       0.999       1.662\n",
       "net_bill       0.0993      0.009     10.980      0.000       0.082       0.117\n",
       "==============================================================================\n",
       "Omnibus:                       33.873   Durbin-Watson:                   2.123\n",
       "Prob(Omnibus):                  0.000   Jarque-Bera (JB):               59.942\n",
       "Skew:                           0.754   Prob(JB):                     9.63e-14\n",
       "Kurtosis:                       4.903   Cond. No.                         43.3\n",
       "==============================================================================\n",
       "\n",
       "Notes:\n",
       "[1] Standard Errors assume that the covariance matrix of the errors is correctly specified.\n",
       "\"\"\""
      ]
     },
     "execution_count": 8,
     "metadata": {},
     "output_type": "execute_result"
    }
   ],
   "source": [
    "modelo = sm.OLS(y, X).fit()\n",
    "modelo.summary()"
   ]
  },
  {
   "cell_type": "markdown",
   "metadata": {},
   "source": [
    "3. observe o gráfico de resíduos em função de ```net_bill``` "
   ]
  },
  {
   "cell_type": "code",
   "execution_count": 10,
   "metadata": {},
   "outputs": [
    {
     "data": {
      "text/plain": [
       "<matplotlib.lines.Line2D at 0x160a0bb20>"
      ]
     },
     "execution_count": 10,
     "metadata": {},
     "output_type": "execute_result"
    },
    {
     "data": {
      "image/png": "[encoded data removed]",
      "text/plain": [
       "<Figure size 640x480 with 1 Axes>"
      ]
     },
     "metadata": {},
     "output_type": "display_data"
    }
   ],
   "source": [
    "sns.scatterplot(x='net_bill', y=modelo.resid, data=df)\n",
    "plt.axhline(y=0, color='r', linestyle='--')"
   ]
  },
  {
   "cell_type": "markdown",
   "metadata": {},
   "source": [
    "4. teste transformar ```net_bill``` no log e um polinômio. Escolha o melhor modelo."
   ]
  },
  {
   "cell_type": "code",
   "execution_count": 13,
   "metadata": {},
   "outputs": [
    {
     "data": {
      "text/html": [
       "<table class=\"simpletable\">\n",
       "<caption>OLS Regression Results</caption>\n",
       "<tr>\n",
       "  <th>Dep. Variable:</th>           <td>tip</td>       <th>  R-squared:         </th> <td>   0.334</td>\n",
       "</tr>\n",
       "<tr>\n",
       "  <th>Model:</th>                   <td>OLS</td>       <th>  Adj. R-squared:    </th> <td>   0.329</td>\n",
       "</tr>\n",
       "<tr>\n",
       "  <th>Method:</th>             <td>Least Squares</td>  <th>  F-statistic:       </th> <td>   60.55</td>\n",
       "</tr>\n",
       "<tr>\n",
       "  <th>Date:</th>             <td>Sun, 29 Jan 2023</td> <th>  Prob (F-statistic):</th> <td>4.96e-22</td>\n",
       "</tr>\n",
       "<tr>\n",
       "  <th>Time:</th>                 <td>19:48:42</td>     <th>  Log-Likelihood:    </th> <td> -375.28</td>\n",
       "</tr>\n",
       "<tr>\n",
       "  <th>No. Observations:</th>      <td>   244</td>      <th>  AIC:               </th> <td>   756.6</td>\n",
       "</tr>\n",
       "<tr>\n",
       "  <th>Df Residuals:</th>          <td>   241</td>      <th>  BIC:               </th> <td>   767.1</td>\n",
       "</tr>\n",
       "<tr>\n",
       "  <th>Df Model:</th>              <td>     2</td>      <th>                     </th>     <td> </td>   \n",
       "</tr>\n",
       "<tr>\n",
       "  <th>Covariance Type:</th>      <td>nonrobust</td>    <th>                     </th>     <td> </td>   \n",
       "</tr>\n",
       "</table>\n",
       "<table class=\"simpletable\">\n",
       "<tr>\n",
       "            <td></td>               <th>coef</th>     <th>std err</th>      <th>t</th>      <th>P>|t|</th>  <th>[0.025</th>    <th>0.975]</th>  \n",
       "</tr>\n",
       "<tr>\n",
       "  <th>Intercept</th>             <td>    1.0743</td> <td>    0.353</td> <td>    3.039</td> <td> 0.003</td> <td>    0.378</td> <td>    1.770</td>\n",
       "</tr>\n",
       "<tr>\n",
       "  <th>net_bill</th>              <td>    0.1288</td> <td>    0.037</td> <td>    3.493</td> <td> 0.001</td> <td>    0.056</td> <td>    0.202</td>\n",
       "</tr>\n",
       "<tr>\n",
       "  <th>np.power(net_bill, 2)</th> <td>   -0.0007</td> <td>    0.001</td> <td>   -0.825</td> <td> 0.410</td> <td>   -0.002</td> <td>    0.001</td>\n",
       "</tr>\n",
       "</table>\n",
       "<table class=\"simpletable\">\n",
       "<tr>\n",
       "  <th>Omnibus:</th>       <td>39.745</td> <th>  Durbin-Watson:     </th> <td>   2.097</td>\n",
       "</tr>\n",
       "<tr>\n",
       "  <th>Prob(Omnibus):</th> <td> 0.000</td> <th>  Jarque-Bera (JB):  </th> <td>  77.849</td>\n",
       "</tr>\n",
       "<tr>\n",
       "  <th>Skew:</th>          <td> 0.830</td> <th>  Prob(JB):          </th> <td>1.25e-17</td>\n",
       "</tr>\n",
       "<tr>\n",
       "  <th>Kurtosis:</th>      <td> 5.214</td> <th>  Cond. No.          </th> <td>2.42e+03</td>\n",
       "</tr>\n",
       "</table><br/><br/>Notes:<br/>[1] Standard Errors assume that the covariance matrix of the errors is correctly specified.<br/>[2] The condition number is large, 2.42e+03. This might indicate that there are<br/>strong multicollinearity or other numerical problems."
      ],
      "text/plain": [
       "<class 'statsmodels.iolib.summary.Summary'>\n",
       "\"\"\"\n",
       "                            OLS Regression Results                            \n",
       "==============================================================================\n",
       "Dep. Variable:                    tip   R-squared:                       0.334\n",
       "Model:                            OLS   Adj. R-squared:                  0.329\n",
       "Method:                 Least Squares   F-statistic:                     60.55\n",
       "Date:                Sun, 29 Jan 2023   Prob (F-statistic):           4.96e-22\n",
       "Time:                        19:48:42   Log-Likelihood:                -375.28\n",
       "No. Observations:                 244   AIC:                             756.6\n",
       "Df Residuals:                     241   BIC:                             767.1\n",
       "Df Model:                           2                                         \n",
       "Covariance Type:            nonrobust                                         \n",
       "=========================================================================================\n",
       "                            coef    std err          t      P>|t|      [0.025      0.975]\n",
       "-----------------------------------------------------------------------------------------\n",
       "Intercept                 1.0743      0.353      3.039      0.003       0.378       1.770\n",
       "net_bill                  0.1288      0.037      3.493      0.001       0.056       0.202\n",
       "np.power(net_bill, 2)    -0.0007      0.001     -0.825      0.410      -0.002       0.001\n",
       "==============================================================================\n",
       "Omnibus:                       39.745   Durbin-Watson:                   2.097\n",
       "Prob(Omnibus):                  0.000   Jarque-Bera (JB):               77.849\n",
       "Skew:                           0.830   Prob(JB):                     1.25e-17\n",
       "Kurtosis:                       5.214   Cond. No.                     2.42e+03\n",
       "==============================================================================\n",
       "\n",
       "Notes:\n",
       "[1] Standard Errors assume that the covariance matrix of the errors is correctly specified.\n",
       "[2] The condition number is large, 2.42e+03. This might indicate that there are\n",
       "strong multicollinearity or other numerical problems.\n",
       "\"\"\""
      ]
     },
     "metadata": {},
     "output_type": "display_data"
    },
    {
     "data": {
      "text/plain": [
       "<matplotlib.lines.Line2D at 0x161024070>"
      ]
     },
     "execution_count": 13,
     "metadata": {},
     "output_type": "execute_result"
    },
    {
     "data": {
      "image/png": "[encoded data removed]",
      "text/plain": [
       "<Figure size 640x480 with 1 Axes>"
      ]
     },
     "metadata": {},
     "output_type": "display_data"
    }
   ],
   "source": [
    "modelo = smf.ols('tip ~ net_bill + np.power(net_bill,2)', data=df).fit()\n",
    "display(modelo.summary())\n",
    "\n",
    "sns.scatterplot(x=df['net_bill']+np.power(df['net_bill'],2), y=modelo.resid)\n",
    "plt.axhline(y=0, color='r', linestyle='--')"
   ]
  },
  {
   "cell_type": "code",
   "execution_count": 14,
   "metadata": {},
   "outputs": [
    {
     "data": {
      "text/html": [
       "<table class=\"simpletable\">\n",
       "<caption>OLS Regression Results</caption>\n",
       "<tr>\n",
       "  <th>Dep. Variable:</th>           <td>tip</td>       <th>  R-squared:         </th> <td>   0.294</td>\n",
       "</tr>\n",
       "<tr>\n",
       "  <th>Model:</th>                   <td>OLS</td>       <th>  Adj. R-squared:    </th> <td>   0.292</td>\n",
       "</tr>\n",
       "<tr>\n",
       "  <th>Method:</th>             <td>Least Squares</td>  <th>  F-statistic:       </th> <td>   101.0</td>\n",
       "</tr>\n",
       "<tr>\n",
       "  <th>Date:</th>             <td>Sun, 29 Jan 2023</td> <th>  Prob (F-statistic):</th> <td>4.40e-20</td>\n",
       "</tr>\n",
       "<tr>\n",
       "  <th>Time:</th>                 <td>19:49:32</td>     <th>  Log-Likelihood:    </th> <td> -382.40</td>\n",
       "</tr>\n",
       "<tr>\n",
       "  <th>No. Observations:</th>      <td>   244</td>      <th>  AIC:               </th> <td>   768.8</td>\n",
       "</tr>\n",
       "<tr>\n",
       "  <th>Df Residuals:</th>          <td>   242</td>      <th>  BIC:               </th> <td>   775.8</td>\n",
       "</tr>\n",
       "<tr>\n",
       "  <th>Df Model:</th>              <td>     1</td>      <th>                     </th>     <td> </td>   \n",
       "</tr>\n",
       "<tr>\n",
       "  <th>Covariance Type:</th>      <td>nonrobust</td>    <th>                     </th>     <td> </td>   \n",
       "</tr>\n",
       "</table>\n",
       "<table class=\"simpletable\">\n",
       "<tr>\n",
       "          <td></td>            <th>coef</th>     <th>std err</th>      <th>t</th>      <th>P>|t|</th>  <th>[0.025</th>    <th>0.975]</th>  \n",
       "</tr>\n",
       "<tr>\n",
       "  <th>Intercept</th>        <td>   -1.2575</td> <td>    0.430</td> <td>   -2.924</td> <td> 0.004</td> <td>   -2.104</td> <td>   -0.410</td>\n",
       "</tr>\n",
       "<tr>\n",
       "  <th>np.log(net_bill)</th> <td>    1.5695</td> <td>    0.156</td> <td>   10.049</td> <td> 0.000</td> <td>    1.262</td> <td>    1.877</td>\n",
       "</tr>\n",
       "</table>\n",
       "<table class=\"simpletable\">\n",
       "<tr>\n",
       "  <th>Omnibus:</th>       <td>73.945</td> <th>  Durbin-Watson:     </th> <td>   2.045</td>\n",
       "</tr>\n",
       "<tr>\n",
       "  <th>Prob(Omnibus):</th> <td> 0.000</td> <th>  Jarque-Bera (JB):  </th> <td> 221.148</td>\n",
       "</tr>\n",
       "<tr>\n",
       "  <th>Skew:</th>          <td> 1.303</td> <th>  Prob(JB):          </th> <td>9.51e-49</td>\n",
       "</tr>\n",
       "<tr>\n",
       "  <th>Kurtosis:</th>      <td> 6.868</td> <th>  Cond. No.          </th> <td>    17.9</td>\n",
       "</tr>\n",
       "</table><br/><br/>Notes:<br/>[1] Standard Errors assume that the covariance matrix of the errors is correctly specified."
      ],
      "text/plain": [
       "<class 'statsmodels.iolib.summary.Summary'>\n",
       "\"\"\"\n",
       "                            OLS Regression Results                            \n",
       "==============================================================================\n",
       "Dep. Variable:                    tip   R-squared:                       0.294\n",
       "Model:                            OLS   Adj. R-squared:                  0.292\n",
       "Method:                 Least Squares   F-statistic:                     101.0\n",
       "Date:                Sun, 29 Jan 2023   Prob (F-statistic):           4.40e-20\n",
       "Time:                        19:49:32   Log-Likelihood:                -382.40\n",
       "No. Observations:                 244   AIC:                             768.8\n",
       "Df Residuals:                     242   BIC:                             775.8\n",
       "Df Model:                           1                                         \n",
       "Covariance Type:            nonrobust                                         \n",
       "====================================================================================\n",
       "                       coef    std err          t      P>|t|      [0.025      0.975]\n",
       "------------------------------------------------------------------------------------\n",
       "Intercept           -1.2575      0.430     -2.924      0.004      -2.104      -0.410\n",
       "np.log(net_bill)     1.5695      0.156     10.049      0.000       1.262       1.877\n",
       "==============================================================================\n",
       "Omnibus:                       73.945   Durbin-Watson:                   2.045\n",
       "Prob(Omnibus):                  0.000   Jarque-Bera (JB):              221.148\n",
       "Skew:                           1.303   Prob(JB):                     9.51e-49\n",
       "Kurtosis:                       6.868   Cond. No.                         17.9\n",
       "==============================================================================\n",
       "\n",
       "Notes:\n",
       "[1] Standard Errors assume that the covariance matrix of the errors is correctly specified.\n",
       "\"\"\""
      ]
     },
     "metadata": {},
     "output_type": "display_data"
    },
    {
     "data": {
      "text/plain": [
       "<matplotlib.lines.Line2D at 0x160a7d630>"
      ]
     },
     "execution_count": 14,
     "metadata": {},
     "output_type": "execute_result"
    },
    {
     "data": {
      "image/png": "[encoded data removed]",
      "text/plain": [
       "<Figure size 640x480 with 1 Axes>"
      ]
     },
     "metadata": {},
     "output_type": "display_data"
    }
   ],
   "source": [
    "modelo = smf.ols('tip ~ np.log(net_bill)', data=df).fit()\n",
    "display(modelo.summary())\n",
    "\n",
    "sns.scatterplot(x=np.log(df['net_bill']), y=modelo.resid)\n",
    "plt.axhline(y=0, color='r', linestyle='--')"
   ]
  },
  {
   "cell_type": "markdown",
   "metadata": {},
   "source": [
    "### II. Modelo no valor do percentual da gorjeta\n",
    "\n",
    "1. Crie a matriz de design (e a matriz y) utilizando o Patsy, para um modelo no log de ```tip```, explicado por ```sex, smoker, diner e net_bill```."
   ]
  },
  {
   "cell_type": "code",
   "execution_count": 15,
   "metadata": {},
   "outputs": [],
   "source": [
    "y, X = patsy.dmatrices('np.log(tip) ~ sex + smoker + time + net_bill', df)"
   ]
  },
  {
   "cell_type": "markdown",
   "metadata": {},
   "source": [
    "2. Remova as variáveis não significantes."
   ]
  },
  {
   "cell_type": "code",
   "execution_count": 16,
   "metadata": {},
   "outputs": [
    {
     "data": {
      "text/html": [
       "<table class=\"simpletable\">\n",
       "<caption>OLS Regression Results</caption>\n",
       "<tr>\n",
       "  <th>Dep. Variable:</th>       <td>np.log(tip)</td>   <th>  R-squared:         </th> <td>   0.313</td>\n",
       "</tr>\n",
       "<tr>\n",
       "  <th>Model:</th>                   <td>OLS</td>       <th>  Adj. R-squared:    </th> <td>   0.302</td>\n",
       "</tr>\n",
       "<tr>\n",
       "  <th>Method:</th>             <td>Least Squares</td>  <th>  F-statistic:       </th> <td>   27.25</td>\n",
       "</tr>\n",
       "<tr>\n",
       "  <th>Date:</th>             <td>Sun, 29 Jan 2023</td> <th>  Prob (F-statistic):</th> <td>1.21e-18</td>\n",
       "</tr>\n",
       "<tr>\n",
       "  <th>Time:</th>                 <td>19:54:24</td>     <th>  Log-Likelihood:    </th> <td> -97.419</td>\n",
       "</tr>\n",
       "<tr>\n",
       "  <th>No. Observations:</th>      <td>   244</td>      <th>  AIC:               </th> <td>   204.8</td>\n",
       "</tr>\n",
       "<tr>\n",
       "  <th>Df Residuals:</th>          <td>   239</td>      <th>  BIC:               </th> <td>   222.3</td>\n",
       "</tr>\n",
       "<tr>\n",
       "  <th>Df Model:</th>              <td>     4</td>      <th>                     </th>     <td> </td>   \n",
       "</tr>\n",
       "<tr>\n",
       "  <th>Covariance Type:</th>      <td>nonrobust</td>    <th>                     </th>     <td> </td>   \n",
       "</tr>\n",
       "</table>\n",
       "<table class=\"simpletable\">\n",
       "<tr>\n",
       "         <td></td>           <th>coef</th>     <th>std err</th>      <th>t</th>      <th>P>|t|</th>  <th>[0.025</th>    <th>0.975]</th>  \n",
       "</tr>\n",
       "<tr>\n",
       "  <th>Intercept</th>      <td>    0.4504</td> <td>    0.078</td> <td>    5.801</td> <td> 0.000</td> <td>    0.297</td> <td>    0.603</td>\n",
       "</tr>\n",
       "<tr>\n",
       "  <th>sex[T.Female]</th>  <td>    0.0048</td> <td>    0.050</td> <td>    0.097</td> <td> 0.923</td> <td>   -0.094</td> <td>    0.104</td>\n",
       "</tr>\n",
       "<tr>\n",
       "  <th>smoker[T.No]</th>   <td>    0.0436</td> <td>    0.048</td> <td>    0.903</td> <td> 0.367</td> <td>   -0.052</td> <td>    0.139</td>\n",
       "</tr>\n",
       "<tr>\n",
       "  <th>time[T.Dinner]</th> <td>    0.0191</td> <td>    0.054</td> <td>    0.355</td> <td> 0.723</td> <td>   -0.087</td> <td>    0.125</td>\n",
       "</tr>\n",
       "<tr>\n",
       "  <th>net_bill</th>       <td>    0.0304</td> <td>    0.003</td> <td>   10.152</td> <td> 0.000</td> <td>    0.024</td> <td>    0.036</td>\n",
       "</tr>\n",
       "</table>\n",
       "<table class=\"simpletable\">\n",
       "<tr>\n",
       "  <th>Omnibus:</th>       <td> 2.577</td> <th>  Durbin-Watson:     </th> <td>   2.044</td>\n",
       "</tr>\n",
       "<tr>\n",
       "  <th>Prob(Omnibus):</th> <td> 0.276</td> <th>  Jarque-Bera (JB):  </th> <td>   2.235</td>\n",
       "</tr>\n",
       "<tr>\n",
       "  <th>Skew:</th>          <td>-0.181</td> <th>  Prob(JB):          </th> <td>   0.327</td>\n",
       "</tr>\n",
       "<tr>\n",
       "  <th>Kurtosis:</th>      <td> 3.298</td> <th>  Cond. No.          </th> <td>    71.2</td>\n",
       "</tr>\n",
       "</table><br/><br/>Notes:<br/>[1] Standard Errors assume that the covariance matrix of the errors is correctly specified."
      ],
      "text/plain": [
       "<class 'statsmodels.iolib.summary.Summary'>\n",
       "\"\"\"\n",
       "                            OLS Regression Results                            \n",
       "==============================================================================\n",
       "Dep. Variable:            np.log(tip)   R-squared:                       0.313\n",
       "Model:                            OLS   Adj. R-squared:                  0.302\n",
       "Method:                 Least Squares   F-statistic:                     27.25\n",
       "Date:                Sun, 29 Jan 2023   Prob (F-statistic):           1.21e-18\n",
       "Time:                        19:54:24   Log-Likelihood:                -97.419\n",
       "No. Observations:                 244   AIC:                             204.8\n",
       "Df Residuals:                     239   BIC:                             222.3\n",
       "Df Model:                           4                                         \n",
       "Covariance Type:            nonrobust                                         \n",
       "==================================================================================\n",
       "                     coef    std err          t      P>|t|      [0.025      0.975]\n",
       "----------------------------------------------------------------------------------\n",
       "Intercept          0.4504      0.078      5.801      0.000       0.297       0.603\n",
       "sex[T.Female]      0.0048      0.050      0.097      0.923      -0.094       0.104\n",
       "smoker[T.No]       0.0436      0.048      0.903      0.367      -0.052       0.139\n",
       "time[T.Dinner]     0.0191      0.054      0.355      0.723      -0.087       0.125\n",
       "net_bill           0.0304      0.003     10.152      0.000       0.024       0.036\n",
       "==============================================================================\n",
       "Omnibus:                        2.577   Durbin-Watson:                   2.044\n",
       "Prob(Omnibus):                  0.276   Jarque-Bera (JB):                2.235\n",
       "Skew:                          -0.181   Prob(JB):                        0.327\n",
       "Kurtosis:                       3.298   Cond. No.                         71.2\n",
       "==============================================================================\n",
       "\n",
       "Notes:\n",
       "[1] Standard Errors assume that the covariance matrix of the errors is correctly specified.\n",
       "\"\"\""
      ]
     },
     "execution_count": 16,
     "metadata": {},
     "output_type": "execute_result"
    }
   ],
   "source": [
    "modelo = sm.OLS(y, X).fit()\n",
    "modelo.summary()"
   ]
  },
  {
   "cell_type": "code",
   "execution_count": 18,
   "metadata": {},
   "outputs": [
    {
     "data": {
      "text/html": [
       "<table class=\"simpletable\">\n",
       "<caption>OLS Regression Results</caption>\n",
       "<tr>\n",
       "  <th>Dep. Variable:</th>       <td>np.log(tip)</td>   <th>  R-squared:         </th> <td>   0.311</td>\n",
       "</tr>\n",
       "<tr>\n",
       "  <th>Model:</th>                   <td>OLS</td>       <th>  Adj. R-squared:    </th> <td>   0.308</td>\n",
       "</tr>\n",
       "<tr>\n",
       "  <th>Method:</th>             <td>Least Squares</td>  <th>  F-statistic:       </th> <td>   109.0</td>\n",
       "</tr>\n",
       "<tr>\n",
       "  <th>Date:</th>             <td>Sun, 29 Jan 2023</td> <th>  Prob (F-statistic):</th> <td>2.60e-21</td>\n",
       "</tr>\n",
       "<tr>\n",
       "  <th>Time:</th>                 <td>19:56:02</td>     <th>  Log-Likelihood:    </th> <td> -97.886</td>\n",
       "</tr>\n",
       "<tr>\n",
       "  <th>No. Observations:</th>      <td>   244</td>      <th>  AIC:               </th> <td>   199.8</td>\n",
       "</tr>\n",
       "<tr>\n",
       "  <th>Df Residuals:</th>          <td>   242</td>      <th>  BIC:               </th> <td>   206.8</td>\n",
       "</tr>\n",
       "<tr>\n",
       "  <th>Df Model:</th>              <td>     1</td>      <th>                     </th>     <td> </td>   \n",
       "</tr>\n",
       "<tr>\n",
       "  <th>Covariance Type:</th>      <td>nonrobust</td>    <th>                     </th>     <td> </td>   \n",
       "</tr>\n",
       "</table>\n",
       "<table class=\"simpletable\">\n",
       "<tr>\n",
       "      <td></td>         <th>coef</th>     <th>std err</th>      <th>t</th>      <th>P>|t|</th>  <th>[0.025</th>    <th>0.975]</th>  \n",
       "</tr>\n",
       "<tr>\n",
       "  <th>Intercept</th> <td>    0.4945</td> <td>    0.054</td> <td>    9.172</td> <td> 0.000</td> <td>    0.388</td> <td>    0.601</td>\n",
       "</tr>\n",
       "<tr>\n",
       "  <th>net_bill</th>  <td>    0.0303</td> <td>    0.003</td> <td>   10.442</td> <td> 0.000</td> <td>    0.025</td> <td>    0.036</td>\n",
       "</tr>\n",
       "</table>\n",
       "<table class=\"simpletable\">\n",
       "<tr>\n",
       "  <th>Omnibus:</th>       <td> 2.865</td> <th>  Durbin-Watson:     </th> <td>   2.043</td>\n",
       "</tr>\n",
       "<tr>\n",
       "  <th>Prob(Omnibus):</th> <td> 0.239</td> <th>  Jarque-Bera (JB):  </th> <td>   2.502</td>\n",
       "</tr>\n",
       "<tr>\n",
       "  <th>Skew:</th>          <td>-0.215</td> <th>  Prob(JB):          </th> <td>   0.286</td>\n",
       "</tr>\n",
       "<tr>\n",
       "  <th>Kurtosis:</th>      <td> 3.248</td> <th>  Cond. No.          </th> <td>    43.3</td>\n",
       "</tr>\n",
       "</table><br/><br/>Notes:<br/>[1] Standard Errors assume that the covariance matrix of the errors is correctly specified."
      ],
      "text/plain": [
       "<class 'statsmodels.iolib.summary.Summary'>\n",
       "\"\"\"\n",
       "                            OLS Regression Results                            \n",
       "==============================================================================\n",
       "Dep. Variable:            np.log(tip)   R-squared:                       0.311\n",
       "Model:                            OLS   Adj. R-squared:                  0.308\n",
       "Method:                 Least Squares   F-statistic:                     109.0\n",
       "Date:                Sun, 29 Jan 2023   Prob (F-statistic):           2.60e-21\n",
       "Time:                        19:56:02   Log-Likelihood:                -97.886\n",
       "No. Observations:                 244   AIC:                             199.8\n",
       "Df Residuals:                     242   BIC:                             206.8\n",
       "Df Model:                           1                                         \n",
       "Covariance Type:            nonrobust                                         \n",
       "==============================================================================\n",
       "                 coef    std err          t      P>|t|      [0.025      0.975]\n",
       "------------------------------------------------------------------------------\n",
       "Intercept      0.4945      0.054      9.172      0.000       0.388       0.601\n",
       "net_bill       0.0303      0.003     10.442      0.000       0.025       0.036\n",
       "==============================================================================\n",
       "Omnibus:                        2.865   Durbin-Watson:                   2.043\n",
       "Prob(Omnibus):                  0.239   Jarque-Bera (JB):                2.502\n",
       "Skew:                          -0.215   Prob(JB):                        0.286\n",
       "Kurtosis:                       3.248   Cond. No.                         43.3\n",
       "==============================================================================\n",
       "\n",
       "Notes:\n",
       "[1] Standard Errors assume that the covariance matrix of the errors is correctly specified.\n",
       "\"\"\""
      ]
     },
     "execution_count": 18,
     "metadata": {},
     "output_type": "execute_result"
    }
   ],
   "source": [
    "modelo = smf.ols('np.log(tip) ~ net_bill', df).fit()\n",
    "modelo.summary()"
   ]
  },
  {
   "cell_type": "markdown",
   "metadata": {},
   "source": [
    "3. Observe o gráfico de resíduos em função de ```net_bill```"
   ]
  },
  {
   "cell_type": "code",
   "execution_count": 19,
   "metadata": {},
   "outputs": [
    {
     "data": {
      "text/plain": [
       "<matplotlib.lines.Line2D at 0x1615787c0>"
      ]
     },
     "execution_count": 19,
     "metadata": {},
     "output_type": "execute_result"
    },
    {
     "data": {
      "image/png": "[encoded data removed]",
      "text/plain": [
       "<Figure size 640x480 with 1 Axes>"
      ]
     },
     "metadata": {},
     "output_type": "display_data"
    }
   ],
   "source": [
    "sns.scatterplot(x=df['net_bill'], y=modelo.resid)\n",
    "plt.axhline(y=0, color='r', linestyle='--')"
   ]
  },
  {
   "cell_type": "markdown",
   "metadata": {},
   "source": [
    "4. Teste transformar ```net_bill``` no log e um polinômio. Escolha o melhor modelo."
   ]
  },
  {
   "cell_type": "code",
   "execution_count": 22,
   "metadata": {},
   "outputs": [
    {
     "data": {
      "text/html": [
       "<table class=\"simpletable\">\n",
       "<caption>OLS Regression Results</caption>\n",
       "<tr>\n",
       "  <th>Dep. Variable:</th>       <td>np.log(tip)</td>   <th>  R-squared:         </th> <td>   0.338</td>\n",
       "</tr>\n",
       "<tr>\n",
       "  <th>Model:</th>                   <td>OLS</td>       <th>  Adj. R-squared:    </th> <td>   0.332</td>\n",
       "</tr>\n",
       "<tr>\n",
       "  <th>Method:</th>             <td>Least Squares</td>  <th>  F-statistic:       </th> <td>   61.39</td>\n",
       "</tr>\n",
       "<tr>\n",
       "  <th>Date:</th>             <td>Sun, 29 Jan 2023</td> <th>  Prob (F-statistic):</th> <td>2.82e-22</td>\n",
       "</tr>\n",
       "<tr>\n",
       "  <th>Time:</th>                 <td>19:58:25</td>     <th>  Log-Likelihood:    </th> <td> -93.026</td>\n",
       "</tr>\n",
       "<tr>\n",
       "  <th>No. Observations:</th>      <td>   244</td>      <th>  AIC:               </th> <td>   192.1</td>\n",
       "</tr>\n",
       "<tr>\n",
       "  <th>Df Residuals:</th>          <td>   241</td>      <th>  BIC:               </th> <td>   202.5</td>\n",
       "</tr>\n",
       "<tr>\n",
       "  <th>Df Model:</th>              <td>     2</td>      <th>                     </th>     <td> </td>   \n",
       "</tr>\n",
       "<tr>\n",
       "  <th>Covariance Type:</th>      <td>nonrobust</td>    <th>                     </th>     <td> </td>   \n",
       "</tr>\n",
       "</table>\n",
       "<table class=\"simpletable\">\n",
       "<tr>\n",
       "            <td></td>               <th>coef</th>     <th>std err</th>      <th>t</th>      <th>P>|t|</th>  <th>[0.025</th>    <th>0.975]</th>  \n",
       "</tr>\n",
       "<tr>\n",
       "  <th>Intercept</th>             <td>    0.1887</td> <td>    0.111</td> <td>    1.698</td> <td> 0.091</td> <td>   -0.030</td> <td>    0.408</td>\n",
       "</tr>\n",
       "<tr>\n",
       "  <th>net_bill</th>              <td>    0.0655</td> <td>    0.012</td> <td>    5.642</td> <td> 0.000</td> <td>    0.043</td> <td>    0.088</td>\n",
       "</tr>\n",
       "<tr>\n",
       "  <th>np.power(net_bill, 2)</th> <td>   -0.0008</td> <td>    0.000</td> <td>   -3.129</td> <td> 0.002</td> <td>   -0.001</td> <td>   -0.000</td>\n",
       "</tr>\n",
       "</table>\n",
       "<table class=\"simpletable\">\n",
       "<tr>\n",
       "  <th>Omnibus:</th>       <td> 5.692</td> <th>  Durbin-Watson:     </th> <td>   1.954</td>\n",
       "</tr>\n",
       "<tr>\n",
       "  <th>Prob(Omnibus):</th> <td> 0.058</td> <th>  Jarque-Bera (JB):  </th> <td>   7.934</td>\n",
       "</tr>\n",
       "<tr>\n",
       "  <th>Skew:</th>          <td>-0.100</td> <th>  Prob(JB):          </th> <td>  0.0189</td>\n",
       "</tr>\n",
       "<tr>\n",
       "  <th>Kurtosis:</th>      <td> 3.860</td> <th>  Cond. No.          </th> <td>2.42e+03</td>\n",
       "</tr>\n",
       "</table><br/><br/>Notes:<br/>[1] Standard Errors assume that the covariance matrix of the errors is correctly specified.<br/>[2] The condition number is large, 2.42e+03. This might indicate that there are<br/>strong multicollinearity or other numerical problems."
      ],
      "text/plain": [
       "<class 'statsmodels.iolib.summary.Summary'>\n",
       "\"\"\"\n",
       "                            OLS Regression Results                            \n",
       "==============================================================================\n",
       "Dep. Variable:            np.log(tip)   R-squared:                       0.338\n",
       "Model:                            OLS   Adj. R-squared:                  0.332\n",
       "Method:                 Least Squares   F-statistic:                     61.39\n",
       "Date:                Sun, 29 Jan 2023   Prob (F-statistic):           2.82e-22\n",
       "Time:                        19:58:25   Log-Likelihood:                -93.026\n",
       "No. Observations:                 244   AIC:                             192.1\n",
       "Df Residuals:                     241   BIC:                             202.5\n",
       "Df Model:                           2                                         \n",
       "Covariance Type:            nonrobust                                         \n",
       "=========================================================================================\n",
       "                            coef    std err          t      P>|t|      [0.025      0.975]\n",
       "-----------------------------------------------------------------------------------------\n",
       "Intercept                 0.1887      0.111      1.698      0.091      -0.030       0.408\n",
       "net_bill                  0.0655      0.012      5.642      0.000       0.043       0.088\n",
       "np.power(net_bill, 2)    -0.0008      0.000     -3.129      0.002      -0.001      -0.000\n",
       "==============================================================================\n",
       "Omnibus:                        5.692   Durbin-Watson:                   1.954\n",
       "Prob(Omnibus):                  0.058   Jarque-Bera (JB):                7.934\n",
       "Skew:                          -0.100   Prob(JB):                       0.0189\n",
       "Kurtosis:                       3.860   Cond. No.                     2.42e+03\n",
       "==============================================================================\n",
       "\n",
       "Notes:\n",
       "[1] Standard Errors assume that the covariance matrix of the errors is correctly specified.\n",
       "[2] The condition number is large, 2.42e+03. This might indicate that there are\n",
       "strong multicollinearity or other numerical problems.\n",
       "\"\"\""
      ]
     },
     "metadata": {},
     "output_type": "display_data"
    },
    {
     "data": {
      "text/plain": [
       "<matplotlib.lines.Line2D at 0x1616b8130>"
      ]
     },
     "execution_count": 22,
     "metadata": {},
     "output_type": "execute_result"
    },
    {
     "data": {
      "image/png": "[encoded data removed]",
      "text/plain": [
       "<Figure size 640x480 with 1 Axes>"
      ]
     },
     "metadata": {},
     "output_type": "display_data"
    }
   ],
   "source": [
    "modelo_pol = smf.ols('np.log(tip) ~ net_bill + np.power(net_bill,2)', data=df).fit()\n",
    "display(modelo_pol.summary())\n",
    "\n",
    "sns.scatterplot(x=df['net_bill']+np.power(df['net_bill'],2), y=modelo_pol.resid)\n",
    "plt.axhline(y=0, color='r', linestyle='--')"
   ]
  },
  {
   "cell_type": "code",
   "execution_count": 24,
   "metadata": {},
   "outputs": [
    {
     "data": {
      "text/html": [
       "<table class=\"simpletable\">\n",
       "<caption>OLS Regression Results</caption>\n",
       "<tr>\n",
       "  <th>Dep. Variable:</th>       <td>np.log(tip)</td>   <th>  R-squared:         </th> <td>   0.319</td>\n",
       "</tr>\n",
       "<tr>\n",
       "  <th>Model:</th>                   <td>OLS</td>       <th>  Adj. R-squared:    </th> <td>   0.316</td>\n",
       "</tr>\n",
       "<tr>\n",
       "  <th>Method:</th>             <td>Least Squares</td>  <th>  F-statistic:       </th> <td>   113.5</td>\n",
       "</tr>\n",
       "<tr>\n",
       "  <th>Date:</th>             <td>Sun, 29 Jan 2023</td> <th>  Prob (F-statistic):</th> <td>5.62e-22</td>\n",
       "</tr>\n",
       "<tr>\n",
       "  <th>Time:</th>                 <td>19:59:13</td>     <th>  Log-Likelihood:    </th> <td> -96.357</td>\n",
       "</tr>\n",
       "<tr>\n",
       "  <th>No. Observations:</th>      <td>   244</td>      <th>  AIC:               </th> <td>   196.7</td>\n",
       "</tr>\n",
       "<tr>\n",
       "  <th>Df Residuals:</th>          <td>   242</td>      <th>  BIC:               </th> <td>   203.7</td>\n",
       "</tr>\n",
       "<tr>\n",
       "  <th>Df Model:</th>              <td>     1</td>      <th>                     </th>     <td> </td>   \n",
       "</tr>\n",
       "<tr>\n",
       "  <th>Covariance Type:</th>      <td>nonrobust</td>    <th>                     </th>     <td> </td>   \n",
       "</tr>\n",
       "</table>\n",
       "<table class=\"simpletable\">\n",
       "<tr>\n",
       "          <td></td>            <th>coef</th>     <th>std err</th>      <th>t</th>      <th>P>|t|</th>  <th>[0.025</th>    <th>0.975]</th>  \n",
       "</tr>\n",
       "<tr>\n",
       "  <th>Intercept</th>        <td>   -0.3942</td> <td>    0.133</td> <td>   -2.961</td> <td> 0.003</td> <td>   -0.657</td> <td>   -0.132</td>\n",
       "</tr>\n",
       "<tr>\n",
       "  <th>np.log(net_bill)</th> <td>    0.5151</td> <td>    0.048</td> <td>   10.652</td> <td> 0.000</td> <td>    0.420</td> <td>    0.610</td>\n",
       "</tr>\n",
       "</table>\n",
       "<table class=\"simpletable\">\n",
       "<tr>\n",
       "  <th>Omnibus:</th>       <td>12.633</td> <th>  Durbin-Watson:     </th> <td>   1.976</td>\n",
       "</tr>\n",
       "<tr>\n",
       "  <th>Prob(Omnibus):</th> <td> 0.002</td> <th>  Jarque-Bera (JB):  </th> <td>  28.054</td>\n",
       "</tr>\n",
       "<tr>\n",
       "  <th>Skew:</th>          <td> 0.141</td> <th>  Prob(JB):          </th> <td>8.10e-07</td>\n",
       "</tr>\n",
       "<tr>\n",
       "  <th>Kurtosis:</th>      <td> 4.637</td> <th>  Cond. No.          </th> <td>    17.9</td>\n",
       "</tr>\n",
       "</table><br/><br/>Notes:<br/>[1] Standard Errors assume that the covariance matrix of the errors is correctly specified."
      ],
      "text/plain": [
       "<class 'statsmodels.iolib.summary.Summary'>\n",
       "\"\"\"\n",
       "                            OLS Regression Results                            \n",
       "==============================================================================\n",
       "Dep. Variable:            np.log(tip)   R-squared:                       0.319\n",
       "Model:                            OLS   Adj. R-squared:                  0.316\n",
       "Method:                 Least Squares   F-statistic:                     113.5\n",
       "Date:                Sun, 29 Jan 2023   Prob (F-statistic):           5.62e-22\n",
       "Time:                        19:59:13   Log-Likelihood:                -96.357\n",
       "No. Observations:                 244   AIC:                             196.7\n",
       "Df Residuals:                     242   BIC:                             203.7\n",
       "Df Model:                           1                                         \n",
       "Covariance Type:            nonrobust                                         \n",
       "====================================================================================\n",
       "                       coef    std err          t      P>|t|      [0.025      0.975]\n",
       "------------------------------------------------------------------------------------\n",
       "Intercept           -0.3942      0.133     -2.961      0.003      -0.657      -0.132\n",
       "np.log(net_bill)     0.5151      0.048     10.652      0.000       0.420       0.610\n",
       "==============================================================================\n",
       "Omnibus:                       12.633   Durbin-Watson:                   1.976\n",
       "Prob(Omnibus):                  0.002   Jarque-Bera (JB):               28.054\n",
       "Skew:                           0.141   Prob(JB):                     8.10e-07\n",
       "Kurtosis:                       4.637   Cond. No.                         17.9\n",
       "==============================================================================\n",
       "\n",
       "Notes:\n",
       "[1] Standard Errors assume that the covariance matrix of the errors is correctly specified.\n",
       "\"\"\""
      ]
     },
     "metadata": {},
     "output_type": "display_data"
    },
    {
     "data": {
      "text/plain": [
       "<matplotlib.lines.Line2D at 0x1614eec50>"
      ]
     },
     "execution_count": 24,
     "metadata": {},
     "output_type": "execute_result"
    },
    {
     "data": {
      "image/png": "[encoded data removed]",
      "text/plain": [
       "<Figure size 640x480 with 1 Axes>"
      ]
     },
     "metadata": {},
     "output_type": "display_data"
    }
   ],
   "source": [
    "modelo_log = smf.ols('np.log(tip) ~ np.log(net_bill)', data=df).fit()\n",
    "display(modelo_log.summary())\n",
    "\n",
    "sns.scatterplot(x=np.log(df['net_bill']), y=modelo_log.resid)\n",
    "plt.axhline(y=0, color='r', linestyle='--')"
   ]
  },
  {
   "cell_type": "markdown",
   "metadata": {},
   "source": [
    "5. Do modelo final deste item, calcule o $R^2$ na escala de ```tip``` (sem o log). Compare com o modelo do item 1. Qual tem melhor coeficiente de determinação?"
   ]
  },
  {
   "cell_type": "code",
   "execution_count": 29,
   "metadata": {},
   "outputs": [
    {
     "data": {
      "text/plain": [
       "0.32837743855275564"
      ]
     },
     "execution_count": 29,
     "metadata": {},
     "output_type": "execute_result"
    }
   ],
   "source": [
    "df['pred'] = np.exp(modelo_log.fittedvalues)\n",
    "\n",
    "df[['pred', 'tip']].corr().iloc[1,0]**2"
   ]
  },
  {
   "cell_type": "markdown",
   "metadata": {},
   "source": [
    "<div style=\"background: #EEEEF4; padding: 15px 20px; border-radius: 5px; margin-top: 20px\">\n",
    "    <p style=\"font-size: 11px; color: #666; font-weight: bold\">Resposta</p>\n",
    "    <p>O melhor modelo foi o do item I, onde o R2 foi de 0.333</p>\n",
    "</div>"
   ]
  },
  {
   "cell_type": "markdown",
   "metadata": {},
   "source": [
    "### III. Previsão de renda\n",
    "\n",
    "Vamos trabalhar a base que você vai usar no projeto do final deste ciclo.\n",
    "\n",
    "Carregue a base ```previsao_de_renda.csv```.\n",
    "\n",
    "|variavel|descrição|\n",
    "|-|-|\n",
    "|data_ref                | Data de referência de coleta das variáveis |\n",
    "|index                   | Código de identificação do cliente|\n",
    "|sexo                    | Sexo do cliente|\n",
    "|posse_de_veiculo        | Indica se o cliente possui veículo|\n",
    "|posse_de_imovel         | Indica se o cliente possui imóvel|\n",
    "|qtd_filhos              | Quantidade de filhos do cliente|\n",
    "|tipo_renda              | Tipo de renda do cliente|\n",
    "|educacao                | Grau de instrução do cliente|\n",
    "|estado_civil            | Estado civil do cliente|\n",
    "|tipo_residencia         | Tipo de residência do cliente (própria, alugada etc)|\n",
    "|idade                   | Idade do cliente|\n",
    "|tempo_emprego           | Tempo no emprego atual|\n",
    "|qt_pessoas_residencia   | Quantidade de pessoas que moram na residência|\n",
    "|renda                   | Renda em reais|\n",
    "\n",
    "1. Ajuste um modelo de regressão linear simples para explicar ```renda``` como variável resposta, por ```tempo_emprego``` como variável explicativa. Observe que há muitas observações nessa tabela. Utilize os recursos que achar necessário."
   ]
  },
  {
   "cell_type": "code",
   "execution_count": 48,
   "metadata": {},
   "outputs": [],
   "source": [
    "df_renda = pd.read_csv('data/previsao_de_renda.csv')\n",
    "df_renda = df_renda[df_renda['renda'] <= 20000]"
   ]
  },
  {
   "cell_type": "code",
   "execution_count": 49,
   "metadata": {},
   "outputs": [
    {
     "data": {
      "text/html": [
       "<table class=\"simpletable\">\n",
       "<caption>OLS Regression Results</caption>\n",
       "<tr>\n",
       "  <th>Dep. Variable:</th>          <td>renda</td>      <th>  R-squared:         </th>  <td>   0.120</td>  \n",
       "</tr>\n",
       "<tr>\n",
       "  <th>Model:</th>                   <td>OLS</td>       <th>  Adj. R-squared:    </th>  <td>   0.120</td>  \n",
       "</tr>\n",
       "<tr>\n",
       "  <th>Method:</th>             <td>Least Squares</td>  <th>  F-statistic:       </th>  <td>   1677.</td>  \n",
       "</tr>\n",
       "<tr>\n",
       "  <th>Date:</th>             <td>Sun, 29 Jan 2023</td> <th>  Prob (F-statistic):</th>   <td>  0.00</td>   \n",
       "</tr>\n",
       "<tr>\n",
       "  <th>Time:</th>                 <td>20:12:21</td>     <th>  Log-Likelihood:    </th> <td>-1.1665e+05</td>\n",
       "</tr>\n",
       "<tr>\n",
       "  <th>No. Observations:</th>      <td> 12258</td>      <th>  AIC:               </th>  <td>2.333e+05</td> \n",
       "</tr>\n",
       "<tr>\n",
       "  <th>Df Residuals:</th>          <td> 12256</td>      <th>  BIC:               </th>  <td>2.333e+05</td> \n",
       "</tr>\n",
       "<tr>\n",
       "  <th>Df Model:</th>              <td>     1</td>      <th>                     </th>      <td> </td>     \n",
       "</tr>\n",
       "<tr>\n",
       "  <th>Covariance Type:</th>      <td>nonrobust</td>    <th>                     </th>      <td> </td>     \n",
       "</tr>\n",
       "</table>\n",
       "<table class=\"simpletable\">\n",
       "<tr>\n",
       "        <td></td>           <th>coef</th>     <th>std err</th>      <th>t</th>      <th>P>|t|</th>  <th>[0.025</th>    <th>0.975]</th>  \n",
       "</tr>\n",
       "<tr>\n",
       "  <th>Intercept</th>     <td> 3022.6188</td> <td>   45.535</td> <td>   66.380</td> <td> 0.000</td> <td> 2933.363</td> <td> 3111.875</td>\n",
       "</tr>\n",
       "<tr>\n",
       "  <th>tempo_emprego</th> <td>  187.2767</td> <td>    4.573</td> <td>   40.954</td> <td> 0.000</td> <td>  178.313</td> <td>  196.240</td>\n",
       "</tr>\n",
       "</table>\n",
       "<table class=\"simpletable\">\n",
       "<tr>\n",
       "  <th>Omnibus:</th>       <td>3724.531</td> <th>  Durbin-Watson:     </th> <td>   2.010</td> \n",
       "</tr>\n",
       "<tr>\n",
       "  <th>Prob(Omnibus):</th>  <td> 0.000</td>  <th>  Jarque-Bera (JB):  </th> <td>10540.038</td>\n",
       "</tr>\n",
       "<tr>\n",
       "  <th>Skew:</th>           <td> 1.614</td>  <th>  Prob(JB):          </th> <td>    0.00</td> \n",
       "</tr>\n",
       "<tr>\n",
       "  <th>Kurtosis:</th>       <td> 6.196</td>  <th>  Cond. No.          </th> <td>    15.4</td> \n",
       "</tr>\n",
       "</table><br/><br/>Notes:<br/>[1] Standard Errors assume that the covariance matrix of the errors is correctly specified."
      ],
      "text/plain": [
       "<class 'statsmodels.iolib.summary.Summary'>\n",
       "\"\"\"\n",
       "                            OLS Regression Results                            \n",
       "==============================================================================\n",
       "Dep. Variable:                  renda   R-squared:                       0.120\n",
       "Model:                            OLS   Adj. R-squared:                  0.120\n",
       "Method:                 Least Squares   F-statistic:                     1677.\n",
       "Date:                Sun, 29 Jan 2023   Prob (F-statistic):               0.00\n",
       "Time:                        20:12:21   Log-Likelihood:            -1.1665e+05\n",
       "No. Observations:               12258   AIC:                         2.333e+05\n",
       "Df Residuals:                   12256   BIC:                         2.333e+05\n",
       "Df Model:                           1                                         \n",
       "Covariance Type:            nonrobust                                         \n",
       "=================================================================================\n",
       "                    coef    std err          t      P>|t|      [0.025      0.975]\n",
       "---------------------------------------------------------------------------------\n",
       "Intercept      3022.6188     45.535     66.380      0.000    2933.363    3111.875\n",
       "tempo_emprego   187.2767      4.573     40.954      0.000     178.313     196.240\n",
       "==============================================================================\n",
       "Omnibus:                     3724.531   Durbin-Watson:                   2.010\n",
       "Prob(Omnibus):                  0.000   Jarque-Bera (JB):            10540.038\n",
       "Skew:                           1.614   Prob(JB):                         0.00\n",
       "Kurtosis:                       6.196   Cond. No.                         15.4\n",
       "==============================================================================\n",
       "\n",
       "Notes:\n",
       "[1] Standard Errors assume that the covariance matrix of the errors is correctly specified.\n",
       "\"\"\""
      ]
     },
     "execution_count": 49,
     "metadata": {},
     "output_type": "execute_result"
    }
   ],
   "source": [
    "modelo = smf.ols('renda ~ tempo_emprego', df_renda).fit()\n",
    "modelo.summary()"
   ]
  },
  {
   "cell_type": "markdown",
   "metadata": {},
   "source": [
    "2. Faça uma análise de resíduos. Com os recursos vistos neste módulo, como você melhoraria esta regressão?"
   ]
  },
  {
   "cell_type": "code",
   "execution_count": 50,
   "metadata": {},
   "outputs": [
    {
     "data": {
      "text/plain": [
       "<matplotlib.lines.Line2D at 0x162412fe0>"
      ]
     },
     "execution_count": 50,
     "metadata": {},
     "output_type": "execute_result"
    },
    {
     "data": {
      "image/png": "[encoded data removed]",
      "text/plain": [
       "<Figure size 640x480 with 1 Axes>"
      ]
     },
     "metadata": {},
     "output_type": "display_data"
    }
   ],
   "source": [
    "sns.scatterplot(x='renda', y=modelo_log.resid, data=df_renda)\n",
    "plt.axhline(y=0, color='r', linestyle='--')"
   ]
  },
  {
   "cell_type": "markdown",
   "metadata": {},
   "source": [
    "3. Ajuste um modelo de regressão linear múltipla para explicar ```renda``` (ou uma transformação de ```renda```) de acordo com as demais variáveis."
   ]
  },
  {
   "cell_type": "code",
   "execution_count": 45,
   "metadata": {},
   "outputs": [
    {
     "data": {
      "text/html": [
       "<table class=\"simpletable\">\n",
       "<caption>OLS Regression Results</caption>\n",
       "<tr>\n",
       "  <th>Dep. Variable:</th>          <td>renda</td>      <th>  R-squared:         </th>  <td>   0.069</td>  \n",
       "</tr>\n",
       "<tr>\n",
       "  <th>Model:</th>                   <td>OLS</td>       <th>  Adj. R-squared:    </th>  <td>   0.067</td>  \n",
       "</tr>\n",
       "<tr>\n",
       "  <th>Method:</th>             <td>Least Squares</td>  <th>  F-statistic:       </th>  <td>   44.11</td>  \n",
       "</tr>\n",
       "<tr>\n",
       "  <th>Date:</th>             <td>Sun, 29 Jan 2023</td> <th>  Prob (F-statistic):</th>  <td>3.23e-192</td> \n",
       "</tr>\n",
       "<tr>\n",
       "  <th>Time:</th>                 <td>20:11:57</td>     <th>  Log-Likelihood:    </th> <td>-1.2434e+05</td>\n",
       "</tr>\n",
       "<tr>\n",
       "  <th>No. Observations:</th>      <td> 13703</td>      <th>  AIC:               </th>  <td>2.487e+05</td> \n",
       "</tr>\n",
       "<tr>\n",
       "  <th>Df Residuals:</th>          <td> 13679</td>      <th>  BIC:               </th>  <td>2.489e+05</td> \n",
       "</tr>\n",
       "<tr>\n",
       "  <th>Df Model:</th>              <td>    23</td>      <th>                     </th>      <td> </td>     \n",
       "</tr>\n",
       "<tr>\n",
       "  <th>Covariance Type:</th>      <td>nonrobust</td>    <th>                     </th>      <td> </td>     \n",
       "</tr>\n",
       "</table>\n",
       "<table class=\"simpletable\">\n",
       "<tr>\n",
       "                  <td></td>                    <th>coef</th>     <th>std err</th>      <th>t</th>      <th>P>|t|</th>  <th>[0.025</th>    <th>0.975]</th>  \n",
       "</tr>\n",
       "<tr>\n",
       "  <th>Intercept</th>                        <td>  549.1209</td> <td>  756.487</td> <td>    0.726</td> <td> 0.468</td> <td> -933.698</td> <td> 2031.940</td>\n",
       "</tr>\n",
       "<tr>\n",
       "  <th>sexo[T.M]</th>                        <td> 1019.6129</td> <td>   43.512</td> <td>   23.433</td> <td> 0.000</td> <td>  934.323</td> <td> 1104.902</td>\n",
       "</tr>\n",
       "<tr>\n",
       "  <th>posse_de_veiculo[T.True]</th>         <td>  -48.8130</td> <td>   40.853</td> <td>   -1.195</td> <td> 0.232</td> <td> -128.891</td> <td>   31.265</td>\n",
       "</tr>\n",
       "<tr>\n",
       "  <th>posse_de_imovel[T.True]</th>          <td>  160.9953</td> <td>   39.639</td> <td>    4.062</td> <td> 0.000</td> <td>   83.297</td> <td>  238.693</td>\n",
       "</tr>\n",
       "<tr>\n",
       "  <th>tipo_renda[T.Bolsista]</th>           <td>  876.6695</td> <td> 1057.860</td> <td>    0.829</td> <td> 0.407</td> <td>-1196.881</td> <td> 2950.220</td>\n",
       "</tr>\n",
       "<tr>\n",
       "  <th>tipo_renda[T.Empresário]</th>         <td>  360.6878</td> <td>   46.486</td> <td>    7.759</td> <td> 0.000</td> <td>  269.570</td> <td>  451.806</td>\n",
       "</tr>\n",
       "<tr>\n",
       "  <th>tipo_renda[T.Pensionista]</th>        <td> -711.1862</td> <td>   63.925</td> <td>  -11.125</td> <td> 0.000</td> <td> -836.489</td> <td> -585.884</td>\n",
       "</tr>\n",
       "<tr>\n",
       "  <th>tipo_renda[T.Servidor público]</th>   <td>  467.3087</td> <td>   67.936</td> <td>    6.879</td> <td> 0.000</td> <td>  334.145</td> <td>  600.473</td>\n",
       "</tr>\n",
       "<tr>\n",
       "  <th>educacao[T.Pós graduação]</th>        <td>  761.1906</td> <td>  568.359</td> <td>    1.339</td> <td> 0.181</td> <td> -352.872</td> <td> 1875.253</td>\n",
       "</tr>\n",
       "<tr>\n",
       "  <th>educacao[T.Secundário]</th>           <td>  316.8311</td> <td>  157.752</td> <td>    2.008</td> <td> 0.045</td> <td>    7.615</td> <td>  626.047</td>\n",
       "</tr>\n",
       "<tr>\n",
       "  <th>educacao[T.Superior completo]</th>    <td>  529.5902</td> <td>  159.558</td> <td>    3.319</td> <td> 0.001</td> <td>  216.835</td> <td>  842.345</td>\n",
       "</tr>\n",
       "<tr>\n",
       "  <th>educacao[T.Superior incompleto]</th>  <td>  227.7525</td> <td>  181.355</td> <td>    1.256</td> <td> 0.209</td> <td> -127.729</td> <td>  583.234</td>\n",
       "</tr>\n",
       "<tr>\n",
       "  <th>estado_civil[T.Separado]</th>         <td>  211.9277</td> <td>  367.092</td> <td>    0.577</td> <td> 0.564</td> <td> -507.623</td> <td>  931.478</td>\n",
       "</tr>\n",
       "<tr>\n",
       "  <th>estado_civil[T.Solteiro]</th>         <td>  372.6077</td> <td>  359.332</td> <td>    1.037</td> <td> 0.300</td> <td> -331.732</td> <td> 1076.947</td>\n",
       "</tr>\n",
       "<tr>\n",
       "  <th>estado_civil[T.União]</th>            <td> -164.4395</td> <td>   68.802</td> <td>   -2.390</td> <td> 0.017</td> <td> -299.302</td> <td>  -29.577</td>\n",
       "</tr>\n",
       "<tr>\n",
       "  <th>estado_civil[T.Viúvo]</th>            <td>  244.8954</td> <td>  369.706</td> <td>    0.662</td> <td> 0.508</td> <td> -479.779</td> <td>  969.570</td>\n",
       "</tr>\n",
       "<tr>\n",
       "  <th>tipo_residencia[T.Casa]</th>          <td>  268.2115</td> <td>  165.439</td> <td>    1.621</td> <td> 0.105</td> <td>  -56.072</td> <td>  592.495</td>\n",
       "</tr>\n",
       "<tr>\n",
       "  <th>tipo_residencia[T.Com os pais]</th>   <td>    5.3075</td> <td>  185.661</td> <td>    0.029</td> <td> 0.977</td> <td> -358.614</td> <td>  369.229</td>\n",
       "</tr>\n",
       "<tr>\n",
       "  <th>tipo_residencia[T.Comunitário]</th>   <td>  304.8689</td> <td>  320.890</td> <td>    0.950</td> <td> 0.342</td> <td> -324.120</td> <td>  933.858</td>\n",
       "</tr>\n",
       "<tr>\n",
       "  <th>tipo_residencia[T.Estúdio]</th>       <td>   14.1418</td> <td>  273.561</td> <td>    0.052</td> <td> 0.959</td> <td> -522.076</td> <td>  550.359</td>\n",
       "</tr>\n",
       "<tr>\n",
       "  <th>tipo_residencia[T.Governamental]</th> <td>  246.9222</td> <td>  193.979</td> <td>    1.273</td> <td> 0.203</td> <td> -133.304</td> <td>  627.149</td>\n",
       "</tr>\n",
       "<tr>\n",
       "  <th>qtd_filhos</th>                       <td> -337.7201</td> <td>  359.156</td> <td>   -0.940</td> <td> 0.347</td> <td>-1041.714</td> <td>  366.274</td>\n",
       "</tr>\n",
       "<tr>\n",
       "  <th>idade</th>                            <td>   28.4998</td> <td>    2.299</td> <td>   12.398</td> <td> 0.000</td> <td>   23.994</td> <td>   33.006</td>\n",
       "</tr>\n",
       "<tr>\n",
       "  <th>qt_pessoas_residencia</th>            <td>  370.9921</td> <td>  358.277</td> <td>    1.035</td> <td> 0.300</td> <td> -331.279</td> <td> 1073.263</td>\n",
       "</tr>\n",
       "</table>\n",
       "<table class=\"simpletable\">\n",
       "<tr>\n",
       "  <th>Omnibus:</th>       <td>1352.489</td> <th>  Durbin-Watson:     </th> <td>   2.019</td>\n",
       "</tr>\n",
       "<tr>\n",
       "  <th>Prob(Omnibus):</th>  <td> 0.000</td>  <th>  Jarque-Bera (JB):  </th> <td>1787.323</td>\n",
       "</tr>\n",
       "<tr>\n",
       "  <th>Skew:</th>           <td> 0.876</td>  <th>  Prob(JB):          </th> <td>    0.00</td>\n",
       "</tr>\n",
       "<tr>\n",
       "  <th>Kurtosis:</th>       <td> 3.249</td>  <th>  Cond. No.          </th> <td>2.73e+03</td>\n",
       "</tr>\n",
       "</table><br/><br/>Notes:<br/>[1] Standard Errors assume that the covariance matrix of the errors is correctly specified.<br/>[2] The condition number is large, 2.73e+03. This might indicate that there are<br/>strong multicollinearity or other numerical problems."
      ],
      "text/plain": [
       "<class 'statsmodels.iolib.summary.Summary'>\n",
       "\"\"\"\n",
       "                            OLS Regression Results                            \n",
       "==============================================================================\n",
       "Dep. Variable:                  renda   R-squared:                       0.069\n",
       "Model:                            OLS   Adj. R-squared:                  0.067\n",
       "Method:                 Least Squares   F-statistic:                     44.11\n",
       "Date:                Sun, 29 Jan 2023   Prob (F-statistic):          3.23e-192\n",
       "Time:                        20:11:57   Log-Likelihood:            -1.2434e+05\n",
       "No. Observations:               13703   AIC:                         2.487e+05\n",
       "Df Residuals:                   13679   BIC:                         2.489e+05\n",
       "Df Model:                          23                                         \n",
       "Covariance Type:            nonrobust                                         \n",
       "====================================================================================================\n",
       "                                       coef    std err          t      P>|t|      [0.025      0.975]\n",
       "----------------------------------------------------------------------------------------------------\n",
       "Intercept                          549.1209    756.487      0.726      0.468    -933.698    2031.940\n",
       "sexo[T.M]                         1019.6129     43.512     23.433      0.000     934.323    1104.902\n",
       "posse_de_veiculo[T.True]           -48.8130     40.853     -1.195      0.232    -128.891      31.265\n",
       "posse_de_imovel[T.True]            160.9953     39.639      4.062      0.000      83.297     238.693\n",
       "tipo_renda[T.Bolsista]             876.6695   1057.860      0.829      0.407   -1196.881    2950.220\n",
       "tipo_renda[T.Empresário]           360.6878     46.486      7.759      0.000     269.570     451.806\n",
       "tipo_renda[T.Pensionista]         -711.1862     63.925    -11.125      0.000    -836.489    -585.884\n",
       "tipo_renda[T.Servidor público]     467.3087     67.936      6.879      0.000     334.145     600.473\n",
       "educacao[T.Pós graduação]          761.1906    568.359      1.339      0.181    -352.872    1875.253\n",
       "educacao[T.Secundário]             316.8311    157.752      2.008      0.045       7.615     626.047\n",
       "educacao[T.Superior completo]      529.5902    159.558      3.319      0.001     216.835     842.345\n",
       "educacao[T.Superior incompleto]    227.7525    181.355      1.256      0.209    -127.729     583.234\n",
       "estado_civil[T.Separado]           211.9277    367.092      0.577      0.564    -507.623     931.478\n",
       "estado_civil[T.Solteiro]           372.6077    359.332      1.037      0.300    -331.732    1076.947\n",
       "estado_civil[T.União]             -164.4395     68.802     -2.390      0.017    -299.302     -29.577\n",
       "estado_civil[T.Viúvo]              244.8954    369.706      0.662      0.508    -479.779     969.570\n",
       "tipo_residencia[T.Casa]            268.2115    165.439      1.621      0.105     -56.072     592.495\n",
       "tipo_residencia[T.Com os pais]       5.3075    185.661      0.029      0.977    -358.614     369.229\n",
       "tipo_residencia[T.Comunitário]     304.8689    320.890      0.950      0.342    -324.120     933.858\n",
       "tipo_residencia[T.Estúdio]          14.1418    273.561      0.052      0.959    -522.076     550.359\n",
       "tipo_residencia[T.Governamental]   246.9222    193.979      1.273      0.203    -133.304     627.149\n",
       "qtd_filhos                        -337.7201    359.156     -0.940      0.347   -1041.714     366.274\n",
       "idade                               28.4998      2.299     12.398      0.000      23.994      33.006\n",
       "qt_pessoas_residencia              370.9921    358.277      1.035      0.300    -331.279    1073.263\n",
       "==============================================================================\n",
       "Omnibus:                     1352.489   Durbin-Watson:                   2.019\n",
       "Prob(Omnibus):                  0.000   Jarque-Bera (JB):             1787.323\n",
       "Skew:                           0.876   Prob(JB):                         0.00\n",
       "Kurtosis:                       3.249   Cond. No.                     2.73e+03\n",
       "==============================================================================\n",
       "\n",
       "Notes:\n",
       "[1] Standard Errors assume that the covariance matrix of the errors is correctly specified.\n",
       "[2] The condition number is large, 2.73e+03. This might indicate that there are\n",
       "strong multicollinearity or other numerical problems.\n",
       "\"\"\""
      ]
     },
     "execution_count": 45,
     "metadata": {},
     "output_type": "execute_result"
    }
   ],
   "source": [
    "modelo = smf.ols('renda ~ sexo + posse_de_veiculo + posse_de_imovel + qtd_filhos + tipo_renda + educacao + estado_civil + tipo_residencia + idade + qt_pessoas_residencia', df_renda).fit()\n",
    "modelo.summary()"
   ]
  },
  {
   "cell_type": "markdown",
   "metadata": {},
   "source": [
    "4. Remova as variáveis não significantes e ajuste novamente o modelo. Interprete os parâmetros"
   ]
  },
  {
   "cell_type": "code",
   "execution_count": 56,
   "metadata": {},
   "outputs": [
    {
     "data": {
      "text/html": [
       "<table class=\"simpletable\">\n",
       "<caption>OLS Regression Results</caption>\n",
       "<tr>\n",
       "  <th>Dep. Variable:</th>          <td>renda</td>      <th>  R-squared:         </th>  <td>   0.132</td>  \n",
       "</tr>\n",
       "<tr>\n",
       "  <th>Model:</th>                   <td>OLS</td>       <th>  Adj. R-squared:    </th>  <td>   0.131</td>  \n",
       "</tr>\n",
       "<tr>\n",
       "  <th>Method:</th>             <td>Least Squares</td>  <th>  F-statistic:       </th>  <td>   169.7</td>  \n",
       "</tr>\n",
       "<tr>\n",
       "  <th>Date:</th>             <td>Sun, 29 Jan 2023</td> <th>  Prob (F-statistic):</th>   <td>  0.00</td>   \n",
       "</tr>\n",
       "<tr>\n",
       "  <th>Time:</th>                 <td>20:13:22</td>     <th>  Log-Likelihood:    </th> <td>-1.1657e+05</td>\n",
       "</tr>\n",
       "<tr>\n",
       "  <th>No. Observations:</th>      <td> 12258</td>      <th>  AIC:               </th>  <td>2.332e+05</td> \n",
       "</tr>\n",
       "<tr>\n",
       "  <th>Df Residuals:</th>          <td> 12246</td>      <th>  BIC:               </th>  <td>2.333e+05</td> \n",
       "</tr>\n",
       "<tr>\n",
       "  <th>Df Model:</th>              <td>    11</td>      <th>                     </th>      <td> </td>     \n",
       "</tr>\n",
       "<tr>\n",
       "  <th>Covariance Type:</th>      <td>nonrobust</td>    <th>                     </th>      <td> </td>     \n",
       "</tr>\n",
       "</table>\n",
       "<table class=\"simpletable\">\n",
       "<tr>\n",
       "                 <td></td>                    <th>coef</th>     <th>std err</th>      <th>t</th>      <th>P>|t|</th>  <th>[0.025</th>    <th>0.975]</th>  \n",
       "</tr>\n",
       "<tr>\n",
       "  <th>Intercept</th>                       <td> 2553.6874</td> <td>  351.052</td> <td>    7.274</td> <td> 0.000</td> <td> 1865.570</td> <td> 3241.805</td>\n",
       "</tr>\n",
       "<tr>\n",
       "  <th>posse_de_imovel[T.True]</th>         <td>  367.0057</td> <td>   62.267</td> <td>    5.894</td> <td> 0.000</td> <td>  244.953</td> <td>  489.058</td>\n",
       "</tr>\n",
       "<tr>\n",
       "  <th>tipo_renda[T.Bolsista]</th>          <td> -714.0135</td> <td> 1634.442</td> <td>   -0.437</td> <td> 0.662</td> <td>-3917.777</td> <td> 2489.750</td>\n",
       "</tr>\n",
       "<tr>\n",
       "  <th>tipo_renda[T.Empresário]</th>        <td>  568.4076</td> <td>   68.777</td> <td>    8.265</td> <td> 0.000</td> <td>  433.594</td> <td>  703.221</td>\n",
       "</tr>\n",
       "<tr>\n",
       "  <th>tipo_renda[T.Pensionista]</th>       <td> 1981.4664</td> <td> 1089.801</td> <td>    1.818</td> <td> 0.069</td> <td> -154.716</td> <td> 4117.649</td>\n",
       "</tr>\n",
       "<tr>\n",
       "  <th>tipo_renda[T.Servidor público]</th>  <td>  169.5862</td> <td>   99.778</td> <td>    1.700</td> <td> 0.089</td> <td>  -25.993</td> <td>  365.166</td>\n",
       "</tr>\n",
       "<tr>\n",
       "  <th>educacao[T.Pós graduação]</th>       <td> 1749.7953</td> <td>  818.615</td> <td>    2.138</td> <td> 0.033</td> <td>  145.181</td> <td> 3354.410</td>\n",
       "</tr>\n",
       "<tr>\n",
       "  <th>educacao[T.Secundário]</th>          <td> -425.9144</td> <td>  331.098</td> <td>   -1.286</td> <td> 0.198</td> <td>-1074.918</td> <td>  223.089</td>\n",
       "</tr>\n",
       "<tr>\n",
       "  <th>educacao[T.Superior completo]</th>   <td>  -66.4528</td> <td>  332.287</td> <td>   -0.200</td> <td> 0.841</td> <td> -717.788</td> <td>  584.882</td>\n",
       "</tr>\n",
       "<tr>\n",
       "  <th>educacao[T.Superior incompleto]</th> <td> -440.1096</td> <td>  356.254</td> <td>   -1.235</td> <td> 0.217</td> <td>-1138.423</td> <td>  258.204</td>\n",
       "</tr>\n",
       "<tr>\n",
       "  <th>idade</th>                           <td>    8.6017</td> <td>    3.387</td> <td>    2.539</td> <td> 0.011</td> <td>    1.962</td> <td>   15.241</td>\n",
       "</tr>\n",
       "<tr>\n",
       "  <th>tempo_emprego</th>                   <td>  187.0951</td> <td>    4.831</td> <td>   38.726</td> <td> 0.000</td> <td>  177.625</td> <td>  196.565</td>\n",
       "</tr>\n",
       "</table>\n",
       "<table class=\"simpletable\">\n",
       "<tr>\n",
       "  <th>Omnibus:</th>       <td>3707.121</td> <th>  Durbin-Watson:     </th> <td>   2.016</td> \n",
       "</tr>\n",
       "<tr>\n",
       "  <th>Prob(Omnibus):</th>  <td> 0.000</td>  <th>  Jarque-Bera (JB):  </th> <td>10516.840</td>\n",
       "</tr>\n",
       "<tr>\n",
       "  <th>Skew:</th>           <td> 1.605</td>  <th>  Prob(JB):          </th> <td>    0.00</td> \n",
       "</tr>\n",
       "<tr>\n",
       "  <th>Kurtosis:</th>       <td> 6.208</td>  <th>  Cond. No.          </th> <td>2.35e+03</td> \n",
       "</tr>\n",
       "</table><br/><br/>Notes:<br/>[1] Standard Errors assume that the covariance matrix of the errors is correctly specified.<br/>[2] The condition number is large, 2.35e+03. This might indicate that there are<br/>strong multicollinearity or other numerical problems."
      ],
      "text/plain": [
       "<class 'statsmodels.iolib.summary.Summary'>\n",
       "\"\"\"\n",
       "                            OLS Regression Results                            \n",
       "==============================================================================\n",
       "Dep. Variable:                  renda   R-squared:                       0.132\n",
       "Model:                            OLS   Adj. R-squared:                  0.131\n",
       "Method:                 Least Squares   F-statistic:                     169.7\n",
       "Date:                Sun, 29 Jan 2023   Prob (F-statistic):               0.00\n",
       "Time:                        20:13:22   Log-Likelihood:            -1.1657e+05\n",
       "No. Observations:               12258   AIC:                         2.332e+05\n",
       "Df Residuals:                   12246   BIC:                         2.333e+05\n",
       "Df Model:                          11                                         \n",
       "Covariance Type:            nonrobust                                         \n",
       "===================================================================================================\n",
       "                                      coef    std err          t      P>|t|      [0.025      0.975]\n",
       "---------------------------------------------------------------------------------------------------\n",
       "Intercept                        2553.6874    351.052      7.274      0.000    1865.570    3241.805\n",
       "posse_de_imovel[T.True]           367.0057     62.267      5.894      0.000     244.953     489.058\n",
       "tipo_renda[T.Bolsista]           -714.0135   1634.442     -0.437      0.662   -3917.777    2489.750\n",
       "tipo_renda[T.Empresário]          568.4076     68.777      8.265      0.000     433.594     703.221\n",
       "tipo_renda[T.Pensionista]        1981.4664   1089.801      1.818      0.069    -154.716    4117.649\n",
       "tipo_renda[T.Servidor público]    169.5862     99.778      1.700      0.089     -25.993     365.166\n",
       "educacao[T.Pós graduação]        1749.7953    818.615      2.138      0.033     145.181    3354.410\n",
       "educacao[T.Secundário]           -425.9144    331.098     -1.286      0.198   -1074.918     223.089\n",
       "educacao[T.Superior completo]     -66.4528    332.287     -0.200      0.841    -717.788     584.882\n",
       "educacao[T.Superior incompleto]  -440.1096    356.254     -1.235      0.217   -1138.423     258.204\n",
       "idade                               8.6017      3.387      2.539      0.011       1.962      15.241\n",
       "tempo_emprego                     187.0951      4.831     38.726      0.000     177.625     196.565\n",
       "==============================================================================\n",
       "Omnibus:                     3707.121   Durbin-Watson:                   2.016\n",
       "Prob(Omnibus):                  0.000   Jarque-Bera (JB):            10516.840\n",
       "Skew:                           1.605   Prob(JB):                         0.00\n",
       "Kurtosis:                       6.208   Cond. No.                     2.35e+03\n",
       "==============================================================================\n",
       "\n",
       "Notes:\n",
       "[1] Standard Errors assume that the covariance matrix of the errors is correctly specified.\n",
       "[2] The condition number is large, 2.35e+03. This might indicate that there are\n",
       "strong multicollinearity or other numerical problems.\n",
       "\"\"\""
      ]
     },
     "execution_count": 56,
     "metadata": {},
     "output_type": "execute_result"
    }
   ],
   "source": [
    "modelo = smf.ols('renda ~ posse_de_imovel + tipo_renda + educacao + idade + tempo_emprego', df_renda).fit()\n",
    "modelo.summary()"
   ]
  },
  {
   "cell_type": "markdown",
   "metadata": {},
   "source": [
    "5. Faça uma análise de resíduos. Avalie a qualidade do ajuste."
   ]
  },
  {
   "cell_type": "code",
   "execution_count": 57,
   "metadata": {},
   "outputs": [
    {
     "data": {
      "text/plain": [
       "<matplotlib.lines.Line2D at 0x162583e80>"
      ]
     },
     "execution_count": 57,
     "metadata": {},
     "output_type": "execute_result"
    },
    {
     "data": {
      "image/png": "[encoded data removed]",
      "text/plain": [
       "<Figure size 640x480 with 1 Axes>"
      ]
     },
     "metadata": {},
     "output_type": "display_data"
    }
   ],
   "source": [
    "sns.scatterplot(x='renda', y=modelo_log.resid, data=df_renda)\n",
    "plt.axhline(y=0, color='r', linestyle='--')"
   ]
  },
  {
   "cell_type": "code",
   "execution_count": null,
   "metadata": {},
   "outputs": [],
   "source": []
  }
 ],
 "metadata": {
  "kernelspec": {
   "display_name": "Python 3 (ipykernel)",
   "language": "python",
   "name": "python3"
  },
  "language_info": {
   "codemirror_mode": {
    "name": "ipython",
    "version": 3
   },
   "file_extension": ".py",
   "mimetype": "text/x-python",
   "name": "python",
   "nbconvert_exporter": "python",
   "pygments_lexer": "ipython3",
   "version": "3.10.8"
  }
 },
 "nbformat": 4,
 "nbformat_minor": 4
}
