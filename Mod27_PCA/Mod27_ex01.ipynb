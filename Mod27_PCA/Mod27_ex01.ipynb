{
 "cells": [
  {
   "cell_type": "markdown",
   "metadata": {},
   "source": [
    "![Cabec%CC%A7alho_notebook.png](cabecalho_notebook.png)"
   ]
  },
  {
   "cell_type": "markdown",
   "metadata": {},
   "source": [
    "# PCA - Tarefa 01: *HAR* com PCA\n",
    "\n",
    "Vamos trabalhar com a base da demonstração feita em aula, mas vamos explorar um pouco melhor como é o desempenho da árvore variando o número de componentes principais."
   ]
  },
  {
   "cell_type": "code",
   "execution_count": 15,
   "metadata": {},
   "outputs": [],
   "source": [
    "import pandas as pd\n",
    "\n",
    "from sklearn.tree import DecisionTreeClassifier\n",
    "\n",
    "from sklearn.decomposition import PCA\n",
    "from sklearn.metrics import accuracy_score\n",
    "\n",
    "from sklearn.model_selection import train_test_split\n",
    "from sklearn.model_selection import cross_val_score\n",
    "from sklearn.model_selection import GridSearchCV\n",
    "\n",
    "import timeit\n",
    "\n",
    "filename_features = \"data/UCI HAR Dataset/features.txt\"\n",
    "filename_labels = \"data/UCI HAR Dataset/activity_labels.txt\"\n",
    "\n",
    "filename_subtrain = \"data/UCI HAR Dataset/train/subject_train.txt\"\n",
    "filename_xtrain = \"data/UCI HAR Dataset/train/X_train.txt\"\n",
    "filename_ytrain = \"data/UCI HAR Dataset/train/y_train.txt\"\n",
    "\n",
    "filename_subtest = \"data/UCI HAR Dataset/test/subject_test.txt\"\n",
    "ffilename_xtest = \"data/UCI HAR Dataset/test/X_test.txt\"\n",
    "filename_ytest = \"data/UCI HAR Dataset/test/y_test.txt\"\n",
    "\n",
    "features = pd.read_csv(filename_features, header=None, names=['nome_var'], sep=\"#\").squeeze(\"columns\")\n",
    "labels = pd.read_csv(filename_labels, delim_whitespace=True, header=None, names=['cod_label', 'label'])\n",
    "\n",
    "subject_train = pd.read_csv(filename_subtrain, header=None, names=['subject_id']).squeeze(\"columns\")\n",
    "X_train = pd.read_csv(filename_xtrain, delim_whitespace=True, header=None, names=features.tolist())\n",
    "y_train = pd.read_csv(filename_ytrain, header=None, names=['cod_label'])\n",
    "\n",
    "subject_test = pd.read_csv(filename_subtest, header=None, names=['subject_id']).squeeze(\"columns\")\n",
    "X_test = pd.read_csv(ffilename_xtest, delim_whitespace=True, header=None, names=features.tolist())\n",
    "y_test = pd.read_csv(filename_ytest, header=None, names=['cod_label'])"
   ]
  },
  {
   "cell_type": "code",
   "execution_count": 5,
   "metadata": {},
   "outputs": [],
   "source": [
    "X_train, X_valid, y_train, y_valid = train_test_split(X_train, y_train)"
   ]
  },
  {
   "cell_type": "markdown",
   "metadata": {},
   "source": [
    "## Árvore de decisão\n",
    "\n",
    "Rode uma árvore de decisão com todas as variáveis, utilizando o ```ccp_alpha=0.001```. Avalie a acurácia nas bases de treinamento e teste. Avalie o tempo de processamento."
   ]
  },
  {
   "cell_type": "code",
   "execution_count": 7,
   "metadata": {},
   "outputs": [
    {
     "name": "stdout",
     "output_type": "stream",
     "text": [
      "Acurácia da árvore na base de treino:    98.0\n",
      "Acurácia da árvore na base de validação: 84.9\n",
      "Acurácia da árvore na base de teste:     84.9\n",
      "CPU times: user 3.12 s, sys: 74 µs, total: 3.12 s\n",
      "Wall time: 3.12 s\n"
     ]
    }
   ],
   "source": [
    "%%time\n",
    "\n",
    "clf = DecisionTreeClassifier(random_state=42, ccp_alpha=0.001).fit(X_train, y_train)\n",
    "\n",
    "acc_train = clf.score(X_train, y_train)\n",
    "acc_valid = clf.score(X_valid, y_valid)\n",
    "acc_teste = clf.score(X_test, y_test)\n",
    "\n",
    "print(f'Acurácia da árvore na base de treino:    {acc_train*100:.1f}')\n",
    "print(f'Acurácia da árvore na base de validação: {acc_teste*100:.1f}')\n",
    "print(f'Acurácia da árvore na base de teste:     {acc_teste*100:.1f}')"
   ]
  },
  {
   "cell_type": "markdown",
   "metadata": {},
   "source": [
    "## Árvore com PCA\n",
    "\n",
    "Faça uma análise de componemtes principais das variáveis originais. Utilize apenas uma componente. Faça uma árvore de decisão com esta componente como variável explicativa.\n",
    "\n",
    "- Avalie a acurácia nas bases de treinamento e teste\n",
    "- Avalie o tempo de processamento"
   ]
  },
  {
   "cell_type": "code",
   "execution_count": 14,
   "metadata": {},
   "outputs": [
    {
     "name": "stdout",
     "output_type": "stream",
     "text": [
      "Acurácia da árvore na base de treino:    50.1\n",
      "Acurácia da árvore na base de validação: 46.1\n",
      "Acurácia da árvore na base de teste:     46.1\n",
      "CPU times: user 1.25 s, sys: 7.5 ms, total: 1.26 s\n",
      "Wall time: 325 ms\n"
     ]
    }
   ],
   "source": [
    "%%time\n",
    "\n",
    "n = 1\n",
    "\n",
    "prcomp = PCA(n_components=n).fit(X_train)\n",
    "\n",
    "colunas = ['cp'+str(x+1) for x in list(range(n))]\n",
    "pc_treino = pd.DataFrame(prcomp.transform(X_train), columns = colunas)\n",
    "pc_valida = pd.DataFrame(prcomp.transform(X_valid), columns = colunas)\n",
    "pc_teste  = pd.DataFrame(prcomp.transform(X_test), columns = colunas)\n",
    "\n",
    "\n",
    "clf = DecisionTreeClassifier(random_state=42, ccp_alpha=0.001).fit(pc_treino, y_train)\n",
    "\n",
    "acc_train = clf.score(pc_treino, y_train)\n",
    "acc_valid = clf.score(pc_valida, y_valid)\n",
    "acc_teste = clf.score(pc_teste, y_test)\n",
    "\n",
    "print(f'Acurácia da árvore na base de treino:    {acc_train*100:.1f}')\n",
    "print(f'Acurácia da árvore na base de validação: {acc_teste*100:.1f}')\n",
    "print(f'Acurácia da árvore na base de teste:     {acc_teste*100:.1f}')"
   ]
  },
  {
   "cell_type": "markdown",
   "metadata": {},
   "source": [
    "## Testando o número de componentes\n",
    "\n",
    "Com base no código acima, teste a árvore de classificação com pelo menos as seguintes possibilidades de quantidades de componentes: ```[1, 2, 5, 10, 50]```. Avalie para cada uma delas:\n",
    "\n",
    "- Acurácia nas bases de treino e teste\n",
    "- Tempo de processamento\n"
   ]
  },
  {
   "cell_type": "code",
   "execution_count": 20,
   "metadata": {},
   "outputs": [
    {
     "name": "stdout",
     "output_type": "stream",
     "text": [
      "N PCA: 1 | Tempo: 0.04s\n",
      "Acurácia da árvore na base de treino:    50.0\n",
      "Acurácia da árvore na base de validação: 45.7\n",
      "Acurácia da árvore na base de teste:     45.7\n",
      "\n",
      "======\n",
      "\n",
      "N PCA: 2 | Tempo: 0.03s\n",
      "Acurácia da árvore na base de treino:    61.3\n",
      "Acurácia da árvore na base de validação: 58.5\n",
      "Acurácia da árvore na base de teste:     58.5\n",
      "\n",
      "======\n",
      "\n",
      "N PCA: 5 | Tempo: 0.04s\n",
      "Acurácia da árvore na base de treino:    84.6\n",
      "Acurácia da árvore na base de validação: 78.9\n",
      "Acurácia da árvore na base de teste:     78.9\n",
      "\n",
      "======\n",
      "\n",
      "N PCA: 10 | Tempo: 0.09s\n",
      "Acurácia da árvore na base de treino:    89.3\n",
      "Acurácia da árvore na base de validação: 82.4\n",
      "Acurácia da árvore na base de teste:     82.4\n",
      "\n",
      "======\n",
      "\n",
      "N PCA: 50 | Tempo: 0.47s\n",
      "Acurácia da árvore na base de treino:    91.9\n",
      "Acurácia da árvore na base de validação: 82.3\n",
      "Acurácia da árvore na base de teste:     82.3\n",
      "\n",
      "======\n",
      "\n"
     ]
    }
   ],
   "source": [
    "prcomp = PCA().fit(X_train)\n",
    "\n",
    "pc_treino = prcomp.transform(X_train)\n",
    "pc_valida = prcomp.transform(X_valid)\n",
    "pc_teste  = prcomp.transform(X_test)\n",
    "\n",
    "ns = [1, 2, 5, 10, 50]\n",
    "\n",
    "for n in ns:\n",
    "    start = timeit.default_timer()\n",
    "    colunas = ['cp'+str(x+1) for x in list(range(n))]\n",
    "    df_treino = pd.DataFrame(pc_treino[:,:n], columns = colunas)\n",
    "    df_valida = pd.DataFrame(pc_valida[:,:n], columns = colunas)\n",
    "    df_teste  = pd.DataFrame(pc_teste[:,:n], columns = colunas)\n",
    "\n",
    "    clf = DecisionTreeClassifier(random_state=42, ccp_alpha=0.001).fit(df_treino, y_train)\n",
    "    stop = timeit.default_timer()\n",
    "\n",
    "    acc_train = clf.score(df_treino, y_train)\n",
    "    acc_valid = clf.score(df_valida, y_valid)\n",
    "    acc_teste = clf.score(df_teste, y_test)\n",
    "\n",
    "\n",
    "    print(f\"N PCA: {n} | \", end=\"\")\n",
    "    print(f\"Tempo: {stop - start:.2f}s\")\n",
    "    print(f'Acurácia da árvore na base de treino:    {acc_train*100:.1f}')\n",
    "    print(f'Acurácia da árvore na base de validação: {acc_teste*100:.1f}')\n",
    "    print(f'Acurácia da árvore na base de teste:     {acc_teste*100:.1f}')\n",
    "    print(\"\\n======\\n\")\n",
    "\n"
   ]
  },
  {
   "cell_type": "markdown",
   "metadata": {},
   "source": [
    "## Conclua\n",
    "\n",
    "- O que aconteceu com a acurácia?\n",
    "- O que aconteceu com o tempo de processamento?"
   ]
  },
  {
   "cell_type": "markdown",
   "metadata": {},
   "source": [
    "A acurácia vai subindo da mesma forma que o tempo"
   ]
  },
  {
   "cell_type": "code",
   "execution_count": null,
   "metadata": {},
   "outputs": [],
   "source": []
  }
 ],
 "metadata": {
  "kernelspec": {
   "display_name": "Python 3 (ipykernel)",
   "language": "python",
   "name": "python3"
  },
  "language_info": {
   "codemirror_mode": {
    "name": "ipython",
    "version": 3
   },
   "file_extension": ".py",
   "mimetype": "text/x-python",
   "name": "python",
   "nbconvert_exporter": "python",
   "pygments_lexer": "ipython3",
   "version": "3.10.8"
  },
  "toc": {
   "base_numbering": 1,
   "nav_menu": {},
   "number_sections": true,
   "sideBar": true,
   "skip_h1_title": true,
   "title_cell": "Índice",
   "title_sidebar": "Conteúdo",
   "toc_cell": false,
   "toc_position": {},
   "toc_section_display": true,
   "toc_window_display": false
  },
  "varInspector": {
   "cols": {
    "lenName": 16,
    "lenType": 16,
    "lenVar": 40
   },
   "kernels_config": {
    "python": {
     "delete_cmd_postfix": "",
     "delete_cmd_prefix": "del ",
     "library": "var_list.py",
     "varRefreshCmd": "print(var_dic_list())"
    },
    "r": {
     "delete_cmd_postfix": ") ",
     "delete_cmd_prefix": "rm(",
     "library": "var_list.r",
     "varRefreshCmd": "cat(var_dic_list()) "
    }
   },
   "types_to_exclude": [
    "module",
    "function",
    "builtin_function_or_method",
    "instance",
    "_Feature"
   ],
   "window_display": false
  }
 },
 "nbformat": 4,
 "nbformat_minor": 4
}
