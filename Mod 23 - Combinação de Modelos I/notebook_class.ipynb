{
 "cells": [
  {
   "cell_type": "code",
   "execution_count": 1,
   "metadata": {
    "tags": []
   },
   "outputs": [],
   "source": [
    "import patsy\n",
    "import pandas as pd\n",
    "import seaborn as sns\n",
    "import matplotlib.pyplot as plt\n",
    "\n",
    "from datetime import datetime\n",
    "\n",
    "from scipy.stats import ks_2samp\n",
    "from sklearn.metrics import accuracy_score, roc_auc_score\n",
    "from sklearn.model_selection import train_test_split\n",
    "\n",
    "from sklearn.ensemble import RandomForestClassifier\n"
   ]
  },
  {
   "cell_type": "code",
   "execution_count": 2,
   "metadata": {
    "tags": []
   },
   "outputs": [
    {
     "data": {
      "text/html": [
       "<div>\n",
       "<style scoped>\n",
       "    .dataframe tbody tr th:only-of-type {\n",
       "        vertical-align: middle;\n",
       "    }\n",
       "\n",
       "    .dataframe tbody tr th {\n",
       "        vertical-align: top;\n",
       "    }\n",
       "\n",
       "    .dataframe thead th {\n",
       "        text-align: right;\n",
       "    }\n",
       "</style>\n",
       "<table border=\"1\" class=\"dataframe\">\n",
       "  <thead>\n",
       "    <tr style=\"text-align: right;\">\n",
       "      <th></th>\n",
       "      <th>data_ref</th>\n",
       "      <th>id_cliente</th>\n",
       "      <th>sexo</th>\n",
       "      <th>posse_de_veiculo</th>\n",
       "      <th>posse_de_imovel</th>\n",
       "      <th>qtd_filhos</th>\n",
       "      <th>tipo_renda</th>\n",
       "      <th>educacao</th>\n",
       "      <th>estado_civil</th>\n",
       "      <th>tipo_residencia</th>\n",
       "      <th>idade</th>\n",
       "      <th>tempo_emprego</th>\n",
       "      <th>qt_pessoas_residencia</th>\n",
       "      <th>renda</th>\n",
       "      <th>mau</th>\n",
       "    </tr>\n",
       "  </thead>\n",
       "  <tbody>\n",
       "    <tr>\n",
       "      <th>0</th>\n",
       "      <td>2015-01-01</td>\n",
       "      <td>1</td>\n",
       "      <td>F</td>\n",
       "      <td>True</td>\n",
       "      <td>True</td>\n",
       "      <td>0</td>\n",
       "      <td>Assalariado</td>\n",
       "      <td>Secundário</td>\n",
       "      <td>Casado</td>\n",
       "      <td>Casa</td>\n",
       "      <td>49</td>\n",
       "      <td>8.605479</td>\n",
       "      <td>2.0</td>\n",
       "      <td>1916.54</td>\n",
       "      <td>0</td>\n",
       "    </tr>\n",
       "    <tr>\n",
       "      <th>1</th>\n",
       "      <td>2015-01-01</td>\n",
       "      <td>2</td>\n",
       "      <td>M</td>\n",
       "      <td>True</td>\n",
       "      <td>False</td>\n",
       "      <td>0</td>\n",
       "      <td>Empresário</td>\n",
       "      <td>Secundário</td>\n",
       "      <td>União</td>\n",
       "      <td>Casa</td>\n",
       "      <td>60</td>\n",
       "      <td>6.953425</td>\n",
       "      <td>2.0</td>\n",
       "      <td>2967.25</td>\n",
       "      <td>0</td>\n",
       "    </tr>\n",
       "    <tr>\n",
       "      <th>2</th>\n",
       "      <td>2015-01-01</td>\n",
       "      <td>3</td>\n",
       "      <td>F</td>\n",
       "      <td>True</td>\n",
       "      <td>False</td>\n",
       "      <td>0</td>\n",
       "      <td>Empresário</td>\n",
       "      <td>Secundário</td>\n",
       "      <td>Casado</td>\n",
       "      <td>Casa</td>\n",
       "      <td>28</td>\n",
       "      <td>0.682192</td>\n",
       "      <td>2.0</td>\n",
       "      <td>340.96</td>\n",
       "      <td>0</td>\n",
       "    </tr>\n",
       "    <tr>\n",
       "      <th>3</th>\n",
       "      <td>2015-01-01</td>\n",
       "      <td>4</td>\n",
       "      <td>F</td>\n",
       "      <td>False</td>\n",
       "      <td>True</td>\n",
       "      <td>0</td>\n",
       "      <td>Assalariado</td>\n",
       "      <td>Superior completo</td>\n",
       "      <td>Casado</td>\n",
       "      <td>Casa</td>\n",
       "      <td>60</td>\n",
       "      <td>1.879452</td>\n",
       "      <td>2.0</td>\n",
       "      <td>4903.16</td>\n",
       "      <td>0</td>\n",
       "    </tr>\n",
       "    <tr>\n",
       "      <th>4</th>\n",
       "      <td>2015-01-01</td>\n",
       "      <td>5</td>\n",
       "      <td>F</td>\n",
       "      <td>False</td>\n",
       "      <td>False</td>\n",
       "      <td>0</td>\n",
       "      <td>Empresário</td>\n",
       "      <td>Secundário</td>\n",
       "      <td>Casado</td>\n",
       "      <td>Casa</td>\n",
       "      <td>47</td>\n",
       "      <td>8.438356</td>\n",
       "      <td>2.0</td>\n",
       "      <td>3012.60</td>\n",
       "      <td>0</td>\n",
       "    </tr>\n",
       "  </tbody>\n",
       "</table>\n",
       "</div>"
      ],
      "text/plain": [
       "    data_ref  id_cliente sexo  posse_de_veiculo  posse_de_imovel  qtd_filhos  \\\n",
       "0 2015-01-01           1    F              True             True           0   \n",
       "1 2015-01-01           2    M              True            False           0   \n",
       "2 2015-01-01           3    F              True            False           0   \n",
       "3 2015-01-01           4    F             False             True           0   \n",
       "4 2015-01-01           5    F             False            False           0   \n",
       "\n",
       "    tipo_renda           educacao estado_civil tipo_residencia  idade  \\\n",
       "0  Assalariado         Secundário       Casado            Casa     49   \n",
       "1   Empresário         Secundário        União            Casa     60   \n",
       "2   Empresário         Secundário       Casado            Casa     28   \n",
       "3  Assalariado  Superior completo       Casado            Casa     60   \n",
       "4   Empresário         Secundário       Casado            Casa     47   \n",
       "\n",
       "   tempo_emprego  qt_pessoas_residencia    renda  mau  \n",
       "0       8.605479                    2.0  1916.54    0  \n",
       "1       6.953425                    2.0  2967.25    0  \n",
       "2       0.682192                    2.0   340.96    0  \n",
       "3       1.879452                    2.0  4903.16    0  \n",
       "4       8.438356                    2.0  3012.60    0  "
      ]
     },
     "execution_count": 2,
     "metadata": {},
     "output_type": "execute_result"
    }
   ],
   "source": [
    "df = pd.read_csv('data/credit_scoring.csv', parse_dates = ['data_ref'])\n",
    "\n",
    "df['tempo_emprego'].fillna(-1, inplace=True)\n",
    "df.head()"
   ]
  },
  {
   "cell_type": "markdown",
   "metadata": {},
   "source": [
    "#### Bases de desenvolvimento, validação e *out-of-time*\n",
    "\n",
    "Vamos separar as bases que utilizaremos para desenvolver o modelo (train), *tunar* o modelo (test) e avaliar a performance (val)."
   ]
  },
  {
   "cell_type": "code",
   "execution_count": 3,
   "metadata": {
    "tags": []
   },
   "outputs": [
    {
     "name": "stdout",
     "output_type": "stream",
     "text": [
      "Quantidade de linhas no treino:     42000\n",
      "Quantidade de linhas no teste:      18000\n",
      "Quantidade de linhas na validação:  15000\n"
     ]
    }
   ],
   "source": [
    "# Selecionar meses de 2016 para validação\n",
    "df_val = df[df['data_ref'] >= datetime(2016,1,1)].copy()\n",
    "\n",
    "# Selecionar meses de 2015 para treinamento e teste\n",
    "df = df[df['data_ref'] < datetime(2016,1,1)]\n",
    "\n",
    "df_train, df_test = train_test_split(df, test_size=0.3, random_state=12)\n",
    "\n",
    "df_train = df_train.reset_index(drop=True)\n",
    "df_test = df_test.reset_index(drop=True)\n",
    "df_val = df_val.reset_index(drop=True)\n",
    "\n",
    "print('Quantidade de linhas no treino:    ',df_train.shape[0])\n",
    "print('Quantidade de linhas no teste:     ',df_test.shape[0])\n",
    "print('Quantidade de linhas na validação: ',df_val.shape[0])"
   ]
  },
  {
   "cell_type": "code",
   "execution_count": 4,
   "metadata": {
    "tags": []
   },
   "outputs": [],
   "source": [
    "equacao = '''mau ~ sexo + posse_de_veiculo + posse_de_imovel + qtd_filhos + tipo_renda + educacao \n",
    "            + estado_civil + tipo_residencia + idade + qt_pessoas_residencia'''\n",
    "           \n",
    "y_train, X_train = patsy.dmatrices(equacao, data=df_train)\n",
    "y_test, X_test = patsy.dmatrices(equacao, data=df_test)\n",
    "y_val, X_val = patsy.dmatrices(equacao, data=df_val)\n"
   ]
  },
  {
   "cell_type": "markdown",
   "metadata": {},
   "source": [
    "## Métricas para problemas de classificação\n",
    "\n",
    "Vamos avaliar o desempenho do random forest nas base de treinamento, teste e validação. Vamos avaliar a partir das seguintes métricas KS, Gini, AUC e Acurácia."
   ]
  },
  {
   "cell_type": "markdown",
   "metadata": {},
   "source": [
    "#### Função para calcular o desempenho\n",
    "\n",
    "Para facilitar essas comparações, vamos construir uma função para calcular todos esses indicadores. É interessante colocar valores padrão para os parâmetros da função, assim, vamos poder indicar somente a base de dados para rodar a função com os valores padrão dela."
   ]
  },
  {
   "cell_type": "code",
   "execution_count": 17,
   "metadata": {
    "tags": []
   },
   "outputs": [],
   "source": [
    "def calcula_gini_auc(RESP, PD):\n",
    "    #AUC\n",
    "    auc = roc_auc_score(RESP, PD)\n",
    "    \n",
    "    #Gini\n",
    "    gini = 2*auc -1\n",
    "    return gini, auc\n",
    "\n",
    "\n",
    "def print_metricas(dados, \n",
    "                  PD = 'PD', \n",
    "                  CLASSE_PRED = 'classe_predita', \n",
    "                  RESP = 'mau'):\n",
    "    \n",
    "    #Acuracia\n",
    "    acc = accuracy_score(dados[RESP], dados[CLASSE_PRED])\n",
    "\n",
    "    #AUC\n",
    "    gini, auc = calcula_gini_auc(dados[RESP], dados[PD])\n",
    "    \n",
    "    #KS\n",
    "    ks = ks_2samp(dados.loc[dados[RESP] == 1, PD], \n",
    "                  dados.loc[dados[RESP] != 1, PD]).statistic\n",
    "\n",
    "    print('KS:       {0:.2f}%'.format(ks*100))\n",
    "    print('AUC:      {0:.2f}%'.format(auc*100))\n",
    "    print('GINI:     {0:.2f}%'.format(gini*100))\n",
    "    print('Acurácia: {0:.2f}%\\n'.format(acc*100))\n",
    "    \n",
    "    return None"
   ]
  },
  {
   "cell_type": "markdown",
   "metadata": {},
   "source": [
    "## Random Forest no scikitlearn"
   ]
  },
  {
   "cell_type": "code",
   "execution_count": 18,
   "metadata": {
    "tags": []
   },
   "outputs": [
    {
     "name": "stdout",
     "output_type": "stream",
     "text": [
      "Train\n",
      "KS:       21.96%\n",
      "AUC:      65.60%\n",
      "GINI:     31.21%\n",
      "Acurácia: 93.03%\n",
      "\n",
      "Test\n",
      "KS:       15.81%\n",
      "AUC:      60.41%\n",
      "GINI:     20.83%\n",
      "Acurácia: 93.16%\n",
      "\n",
      "Val\n",
      "KS:       16.31%\n",
      "AUC:      60.44%\n",
      "GINI:     20.87%\n",
      "Acurácia: 92.88%\n",
      "\n",
      "CPU times: user 13.5 s, sys: 183 ms, total: 13.7 s\n",
      "Wall time: 13.7 s\n"
     ]
    }
   ],
   "source": [
    "%%time\n",
    "\n",
    "clf = RandomForestClassifier(n_estimators=600, \n",
    "                             max_depth=13,\n",
    "                             min_samples_leaf=41)\n",
    "\n",
    "clf.fit(X_train,y_train.ravel())\n",
    "\n",
    "df_train['classe_predita'] = clf.predict(X_train)\n",
    "df_train['PD'] = clf.predict_proba(X_train)[:,1]\n",
    "\n",
    "df_test['classe_predita'] = clf.predict(X_test)\n",
    "df_test['PD'] = clf.predict_proba(X_test)[:,1]\n",
    "\n",
    "df_val['classe_predita'] = clf.predict(X_val)\n",
    "df_val['PD'] = clf.predict_proba(X_val)[:,1]\n",
    "\n",
    "print('Train')\n",
    "print_metricas(dados = df_train)\n",
    "print('Test')\n",
    "print_metricas(dados = df_test)\n",
    "print('Val')\n",
    "print_metricas(dados = df_val)"
   ]
  },
  {
   "cell_type": "markdown",
   "metadata": {},
   "source": [
    "# 2. Hiperparâmetros\n",
    "\n",
    "Hiperparâmetros são parâmetros que controlam como o algoritmo é otimizado. O número de árvores por exemplo é um hiperparâmetro da *random forest*.\n",
    "\n",
    "Qual é o melhor conjunto de hiperparâmetros para o *random forest*? Esta é a pergunta de ouro :) Mas felizmente há um método estruturado para se buscar esses hiperparâmetros, esse método é conhecido como *grid search* (ou busca em grade).\n",
    "\n",
    "Vamos exemplificar essa busca de modo simplificado abaixo, buscando parâmetros um a um, em seguida variando mais de um ao longo de uma *grade* como o nome do método sugere."
   ]
  },
  {
   "cell_type": "markdown",
   "metadata": {},
   "source": [
    "## Gridsearch 1 - variando o número de árvores\n",
    "\n",
    "Vamos estabelecer parâmetros fixos de ```max_depth``` e ```min_samples_leaf```, e variar o número de árvores, e avaliar a cada rodada o desempenho do modelo."
   ]
  },
  {
   "cell_type": "code",
   "execution_count": 19,
   "metadata": {
    "tags": []
   },
   "outputs": [
    {
     "data": {
      "text/plain": [
       "[100, 250, 400, 550, 700, 850, 1000]"
      ]
     },
     "execution_count": 19,
     "metadata": {},
     "output_type": "execute_result"
    }
   ],
   "source": [
    "grid = list(range(100, 1001, 150))\n",
    "grid"
   ]
  },
  {
   "cell_type": "code",
   "execution_count": 20,
   "metadata": {
    "tags": []
   },
   "outputs": [
    {
     "name": "stdout",
     "output_type": "stream",
     "text": [
      "100\n",
      "250\n",
      "400\n",
      "550\n",
      "700\n",
      "850\n",
      "1000\n"
     ]
    }
   ],
   "source": [
    "for num_arvores in grid:\n",
    "    print(num_arvores)"
   ]
  },
  {
   "cell_type": "code",
   "execution_count": 21,
   "metadata": {
    "tags": []
   },
   "outputs": [],
   "source": [
    "def calcula_gini(RESP, PD):\n",
    "    #AUC\n",
    "    auc = roc_auc_score(RESP, PD)\n",
    "    \n",
    "    #Gini\n",
    "    gini = 2*auc -1\n",
    "    return gini"
   ]
  },
  {
   "cell_type": "code",
   "execution_count": 22,
   "metadata": {
    "tags": []
   },
   "outputs": [
    {
     "name": "stdout",
     "output_type": "stream",
     "text": [
      "CPU times: user 59 s, sys: 941 ms, total: 59.9 s\n",
      "Wall time: 60 s\n"
     ]
    }
   ],
   "source": [
    "%%time\n",
    "lista_gini_test=[]\n",
    "lista_gini_train=[]\n",
    "\n",
    "grid = list(range(100, 1001, 150))\n",
    "\n",
    "for num_arvores in grid:\n",
    "    clf = RandomForestClassifier(n_estimators=num_arvores,\n",
    "                                 max_depth=10,\n",
    "                                 min_samples_leaf=5)\n",
    "    \n",
    "    clf.fit(X_train,y_train.ravel())\n",
    "    \n",
    "    gini_test  = calcula_gini(y_test, clf.predict_proba(X_test)[:,1])\n",
    "    gini_train = calcula_gini(y_train, clf.predict_proba(X_train)[:,1])\n",
    "    \n",
    "    lista_gini_test.append(gini_test)\n",
    "    lista_gini_train.append(gini_train)\n"
   ]
  },
  {
   "cell_type": "code",
   "execution_count": 26,
   "metadata": {
    "tags": []
   },
   "outputs": [
    {
     "name": "stdout",
     "output_type": "stream",
     "text": [
      "Train\n",
      "100     0.356340\n",
      "250     0.361507\n",
      "400     0.360794\n",
      "550     0.360238\n",
      "700     0.361359\n",
      "850     0.361152\n",
      "1000    0.361636\n",
      "dtype: float64\n",
      "\n",
      "\n",
      "Test\n",
      "100     0.204255\n",
      "250     0.208051\n",
      "400     0.204850\n",
      "550     0.207373\n",
      "700     0.206766\n",
      "850     0.207260\n",
      "1000    0.206888\n",
      "dtype: float64\n"
     ]
    }
   ],
   "source": [
    "zip_gini_train = zip(list(range(100, 1001, 150)), lista_gini_train)\n",
    "zip_gini_test = zip(list(range(100, 1001, 150)), lista_gini_test)\n",
    "\n",
    "dict_gini_train = dict(zip_gini_train)\n",
    "dict_gini_test = dict(zip_gini_test)\n",
    "\n",
    "\n",
    "series_gini_train = pd.Series(dict_gini_train)\n",
    "series_gini_test = pd.Series(dict_gini_test)\n",
    "print(f\"Train\\n{series_gini_train}\\n\\n\")\n",
    "print(f\"Test\\n{series_gini_test}\")"
   ]
  },
  {
   "cell_type": "code",
   "execution_count": 27,
   "metadata": {
    "tags": []
   },
   "outputs": [
    {
     "data": {
      "image/png": "[encoded data removed]",
      "text/plain": [
       "<Figure size 640x480 with 1 Axes>"
      ]
     },
     "metadata": {},
     "output_type": "display_data"
    }
   ],
   "source": [
    "#Plot comparando o gini no treino e no teste\n",
    "fig, ax = plt.subplots()\n",
    "\n",
    "ax.plot(series_gini_train, '-b', label='Treino')\n",
    "ax.plot(series_gini_test,  '--r', label='Teste')\n",
    "\n",
    "leg = ax.legend()\n"
   ]
  },
  {
   "cell_type": "code",
   "execution_count": 28,
   "metadata": {
    "tags": []
   },
   "outputs": [
    {
     "name": "stdout",
     "output_type": "stream",
     "text": [
      "[1, 21, 41, 61, 81, 101, 121, 141, 161, 181, 201, 221, 241, 261, 281, 301, 321, 341, 361, 381, 401, 421, 441, 461, 481, 501, 521, 541, 561, 581, 601, 621, 641, 661, 681, 701, 721, 741, 761, 781, 801, 821, 841, 861, 881, 901, 921, 941, 961, 981]\n"
     ]
    }
   ],
   "source": [
    "grid = list(range(1, 1000, 20))\n",
    "print(grid)"
   ]
  },
  {
   "cell_type": "code",
   "execution_count": 29,
   "metadata": {
    "tags": []
   },
   "outputs": [
    {
     "data": {
      "text/plain": [
       "50"
      ]
     },
     "execution_count": 29,
     "metadata": {},
     "output_type": "execute_result"
    }
   ],
   "source": [
    "len(grid)"
   ]
  },
  {
   "cell_type": "code",
   "execution_count": 30,
   "metadata": {
    "tags": []
   },
   "outputs": [
    {
     "name": "stdout",
     "output_type": "stream",
     "text": [
      "[1, 21, 41, 61, 81, 101, 121, 141, 161, 181, 201, 221, 241, 261, 281, 301, 321, 341, 361, 381, 401, 421, 441, 461, 481, 501, 521, 541, 561, 581, 601, 621, 641, 661, 681, 701, 721, 741, 761, 781, 801, 821, 841, 861, 881, 901, 921, 941, 961, 981]\n",
      "CPU times: user 6min 46s, sys: 26.1 s, total: 7min 12s\n",
      "Wall time: 1min 30s\n"
     ]
    }
   ],
   "source": [
    "%%time\n",
    "\n",
    "lista_gini_test=[]\n",
    "lista_gini_train=[]\n",
    "\n",
    "grid = list(range(1, 1000, 20))\n",
    "print(grid)\n",
    "\n",
    "for num_arvores in grid:\n",
    "    clf = RandomForestClassifier(n_estimators=num_arvores,\n",
    "                                 max_depth=10,\n",
    "                                 min_samples_leaf=5,\n",
    "                                 n_jobs=-1)\n",
    "    \n",
    "    clf.fit(X_train, y_train.ravel())\n",
    "    \n",
    "    gini_test  = calcula_gini(y_test, clf.predict_proba(X_test)[:,1])\n",
    "    gini_train = calcula_gini(y_train, clf.predict_proba(X_train)[:,1])\n",
    "    \n",
    "    lista_gini_test.append(gini_test)\n",
    "    lista_gini_train.append(gini_train)"
   ]
  },
  {
   "cell_type": "code",
   "execution_count": 32,
   "metadata": {
    "tags": []
   },
   "outputs": [
    {
     "data": {
      "image/png": "[encoded data removed]",
      "text/plain": [
       "<Figure size 640x480 with 1 Axes>"
      ]
     },
     "metadata": {},
     "output_type": "display_data"
    }
   ],
   "source": [
    "fig, ax = plt.subplots()\n",
    "ax.plot(lista_gini_train, '-b', label='Treino')\n",
    "ax.plot(lista_gini_test, '--r', label='Teste')\n",
    "\n",
    "leg = ax.legend()\n",
    "ticks = ax.set_xticks(range(0, len(grid), 10))\n",
    "labels = ax.set_xticklabels(labels=grid[::10], rotation=30, fontsize='small');"
   ]
  },
  {
   "cell_type": "markdown",
   "metadata": {},
   "source": [
    "## Função GridSearchCV"
   ]
  },
  {
   "cell_type": "code",
   "execution_count": 41,
   "metadata": {
    "tags": []
   },
   "outputs": [
    {
     "data": {
      "text/plain": [
       "[1, 6, 11, 16, 21, 26, 31, 36, 41, 46]"
      ]
     },
     "execution_count": 41,
     "metadata": {},
     "output_type": "execute_result"
    }
   ],
   "source": [
    "list(range(1, 50, 5))"
   ]
  },
  {
   "cell_type": "code",
   "execution_count": 39,
   "metadata": {
    "tags": []
   },
   "outputs": [],
   "source": [
    "from sklearn.model_selection import GridSearchCV\n"
   ]
  },
  {
   "cell_type": "code",
   "execution_count": 45,
   "metadata": {
    "scrolled": true,
    "tags": []
   },
   "outputs": [
    {
     "name": "stdout",
     "output_type": "stream",
     "text": [
      "Fitting 5 folds for each of 10 candidates, totalling 50 fits\n",
      "[CV 1/5] END max_depth=10, min_samples_leaf=5, n_estimators=20;, score=0.930 total time=   0.2s\n",
      "[CV 2/5] END max_depth=10, min_samples_leaf=5, n_estimators=20;, score=0.930 total time=   0.2s\n",
      "[CV 3/5] END max_depth=10, min_samples_leaf=5, n_estimators=20;, score=0.930 total time=   0.2s\n",
      "[CV 4/5] END max_depth=10, min_samples_leaf=5, n_estimators=20;, score=0.930 total time=   0.2s\n",
      "[CV 5/5] END max_depth=10, min_samples_leaf=5, n_estimators=20;, score=0.930 total time=   0.2s\n",
      "[CV 1/5] END max_depth=10, min_samples_leaf=5, n_estimators=70;, score=0.930 total time=   0.7s\n",
      "[CV 2/5] END max_depth=10, min_samples_leaf=5, n_estimators=70;, score=0.930 total time=   0.7s\n",
      "[CV 3/5] END max_depth=10, min_samples_leaf=5, n_estimators=70;, score=0.930 total time=   0.7s\n",
      "[CV 4/5] END max_depth=10, min_samples_leaf=5, n_estimators=70;, score=0.930 total time=   0.7s\n",
      "[CV 5/5] END max_depth=10, min_samples_leaf=5, n_estimators=70;, score=0.930 total time=   0.7s\n",
      "[CV 1/5] END max_depth=10, min_samples_leaf=5, n_estimators=120;, score=0.930 total time=   1.2s\n",
      "[CV 2/5] END max_depth=10, min_samples_leaf=5, n_estimators=120;, score=0.930 total time=   1.2s\n",
      "[CV 3/5] END max_depth=10, min_samples_leaf=5, n_estimators=120;, score=0.930 total time=   1.2s\n",
      "[CV 4/5] END max_depth=10, min_samples_leaf=5, n_estimators=120;, score=0.930 total time=   1.2s\n",
      "[CV 5/5] END max_depth=10, min_samples_leaf=5, n_estimators=120;, score=0.930 total time=   1.2s\n",
      "[CV 1/5] END max_depth=10, min_samples_leaf=5, n_estimators=170;, score=0.930 total time=   1.7s\n",
      "[CV 2/5] END max_depth=10, min_samples_leaf=5, n_estimators=170;, score=0.930 total time=   1.7s\n",
      "[CV 3/5] END max_depth=10, min_samples_leaf=5, n_estimators=170;, score=0.930 total time=   1.7s\n",
      "[CV 4/5] END max_depth=10, min_samples_leaf=5, n_estimators=170;, score=0.930 total time=   1.7s\n",
      "[CV 5/5] END max_depth=10, min_samples_leaf=5, n_estimators=170;, score=0.930 total time=   1.7s\n",
      "[CV 1/5] END max_depth=10, min_samples_leaf=5, n_estimators=220;, score=0.930 total time=   2.2s\n",
      "[CV 2/5] END max_depth=10, min_samples_leaf=5, n_estimators=220;, score=0.930 total time=   2.2s\n",
      "[CV 3/5] END max_depth=10, min_samples_leaf=5, n_estimators=220;, score=0.930 total time=   2.2s\n",
      "[CV 4/5] END max_depth=10, min_samples_leaf=5, n_estimators=220;, score=0.930 total time=   2.2s\n",
      "[CV 5/5] END max_depth=10, min_samples_leaf=5, n_estimators=220;, score=0.930 total time=   2.1s\n",
      "[CV 1/5] END max_depth=10, min_samples_leaf=5, n_estimators=270;, score=0.930 total time=   2.7s\n",
      "[CV 2/5] END max_depth=10, min_samples_leaf=5, n_estimators=270;, score=0.930 total time=   2.7s\n",
      "[CV 3/5] END max_depth=10, min_samples_leaf=5, n_estimators=270;, score=0.930 total time=   2.7s\n",
      "[CV 4/5] END max_depth=10, min_samples_leaf=5, n_estimators=270;, score=0.930 total time=   2.7s\n",
      "[CV 5/5] END max_depth=10, min_samples_leaf=5, n_estimators=270;, score=0.930 total time=   2.7s\n",
      "[CV 1/5] END max_depth=10, min_samples_leaf=5, n_estimators=320;, score=0.930 total time=   3.2s\n",
      "[CV 2/5] END max_depth=10, min_samples_leaf=5, n_estimators=320;, score=0.930 total time=   3.2s\n",
      "[CV 3/5] END max_depth=10, min_samples_leaf=5, n_estimators=320;, score=0.930 total time=   3.2s\n",
      "[CV 4/5] END max_depth=10, min_samples_leaf=5, n_estimators=320;, score=0.930 total time=   3.2s\n",
      "[CV 5/5] END max_depth=10, min_samples_leaf=5, n_estimators=320;, score=0.930 total time=   3.1s\n",
      "[CV 1/5] END max_depth=10, min_samples_leaf=5, n_estimators=370;, score=0.930 total time=   3.7s\n",
      "[CV 2/5] END max_depth=10, min_samples_leaf=5, n_estimators=370;, score=0.930 total time=   3.7s\n",
      "[CV 3/5] END max_depth=10, min_samples_leaf=5, n_estimators=370;, score=0.930 total time=   3.7s\n",
      "[CV 4/5] END max_depth=10, min_samples_leaf=5, n_estimators=370;, score=0.930 total time=   3.7s\n",
      "[CV 5/5] END max_depth=10, min_samples_leaf=5, n_estimators=370;, score=0.930 total time=   3.8s\n",
      "[CV 1/5] END max_depth=10, min_samples_leaf=5, n_estimators=420;, score=0.930 total time=   4.2s\n",
      "[CV 2/5] END max_depth=10, min_samples_leaf=5, n_estimators=420;, score=0.930 total time=   4.2s\n",
      "[CV 3/5] END max_depth=10, min_samples_leaf=5, n_estimators=420;, score=0.930 total time=   4.1s\n",
      "[CV 4/5] END max_depth=10, min_samples_leaf=5, n_estimators=420;, score=0.930 total time=   4.2s\n",
      "[CV 5/5] END max_depth=10, min_samples_leaf=5, n_estimators=420;, score=0.930 total time=   4.1s\n",
      "[CV 1/5] END max_depth=10, min_samples_leaf=5, n_estimators=470;, score=0.930 total time=   4.7s\n",
      "[CV 2/5] END max_depth=10, min_samples_leaf=5, n_estimators=470;, score=0.930 total time=   4.6s\n",
      "[CV 3/5] END max_depth=10, min_samples_leaf=5, n_estimators=470;, score=0.930 total time=   4.7s\n",
      "[CV 4/5] END max_depth=10, min_samples_leaf=5, n_estimators=470;, score=0.930 total time=   4.7s\n",
      "[CV 5/5] END max_depth=10, min_samples_leaf=5, n_estimators=470;, score=0.930 total time=   4.6s\n",
      "CPU times: user 1min 59s, sys: 2.14 s, total: 2min 2s\n",
      "Wall time: 2min 2s\n"
     ]
    },
    {
     "data": {
      "text/html": [
       "<style>#sk-container-id-2 {color: black;background-color: white;}#sk-container-id-2 pre{padding: 0;}#sk-container-id-2 div.sk-toggleable {background-color: white;}#sk-container-id-2 label.sk-toggleable__label {cursor: pointer;display: block;width: 100%;margin-bottom: 0;padding: 0.3em;box-sizing: border-box;text-align: center;}#sk-container-id-2 label.sk-toggleable__label-arrow:before {content: \"▸\";float: left;margin-right: 0.25em;color: #696969;}#sk-container-id-2 label.sk-toggleable__label-arrow:hover:before {color: black;}#sk-container-id-2 div.sk-estimator:hover label.sk-toggleable__label-arrow:before {color: black;}#sk-container-id-2 div.sk-toggleable__content {max-height: 0;max-width: 0;overflow: hidden;text-align: left;background-color: #f0f8ff;}#sk-container-id-2 div.sk-toggleable__content pre {margin: 0.2em;color: black;border-radius: 0.25em;background-color: #f0f8ff;}#sk-container-id-2 input.sk-toggleable__control:checked~div.sk-toggleable__content {max-height: 200px;max-width: 100%;overflow: auto;}#sk-container-id-2 input.sk-toggleable__control:checked~label.sk-toggleable__label-arrow:before {content: \"▾\";}#sk-container-id-2 div.sk-estimator input.sk-toggleable__control:checked~label.sk-toggleable__label {background-color: #d4ebff;}#sk-container-id-2 div.sk-label input.sk-toggleable__control:checked~label.sk-toggleable__label {background-color: #d4ebff;}#sk-container-id-2 input.sk-hidden--visually {border: 0;clip: rect(1px 1px 1px 1px);clip: rect(1px, 1px, 1px, 1px);height: 1px;margin: -1px;overflow: hidden;padding: 0;position: absolute;width: 1px;}#sk-container-id-2 div.sk-estimator {font-family: monospace;background-color: #f0f8ff;border: 1px dotted black;border-radius: 0.25em;box-sizing: border-box;margin-bottom: 0.5em;}#sk-container-id-2 div.sk-estimator:hover {background-color: #d4ebff;}#sk-container-id-2 div.sk-parallel-item::after {content: \"\";width: 100%;border-bottom: 1px solid gray;flex-grow: 1;}#sk-container-id-2 div.sk-label:hover label.sk-toggleable__label {background-color: #d4ebff;}#sk-container-id-2 div.sk-serial::before {content: \"\";position: absolute;border-left: 1px solid gray;box-sizing: border-box;top: 0;bottom: 0;left: 50%;z-index: 0;}#sk-container-id-2 div.sk-serial {display: flex;flex-direction: column;align-items: center;background-color: white;padding-right: 0.2em;padding-left: 0.2em;position: relative;}#sk-container-id-2 div.sk-item {position: relative;z-index: 1;}#sk-container-id-2 div.sk-parallel {display: flex;align-items: stretch;justify-content: center;background-color: white;position: relative;}#sk-container-id-2 div.sk-item::before, #sk-container-id-2 div.sk-parallel-item::before {content: \"\";position: absolute;border-left: 1px solid gray;box-sizing: border-box;top: 0;bottom: 0;left: 50%;z-index: -1;}#sk-container-id-2 div.sk-parallel-item {display: flex;flex-direction: column;z-index: 1;position: relative;background-color: white;}#sk-container-id-2 div.sk-parallel-item:first-child::after {align-self: flex-end;width: 50%;}#sk-container-id-2 div.sk-parallel-item:last-child::after {align-self: flex-start;width: 50%;}#sk-container-id-2 div.sk-parallel-item:only-child::after {width: 0;}#sk-container-id-2 div.sk-dashed-wrapped {border: 1px dashed gray;margin: 0 0.4em 0.5em 0.4em;box-sizing: border-box;padding-bottom: 0.4em;background-color: white;}#sk-container-id-2 div.sk-label label {font-family: monospace;font-weight: bold;display: inline-block;line-height: 1.2em;}#sk-container-id-2 div.sk-label-container {text-align: center;}#sk-container-id-2 div.sk-container {/* jupyter's `normalize.less` sets `[hidden] { display: none; }` but bootstrap.min.css set `[hidden] { display: none !important; }` so we also need the `!important` here to be able to override the default hidden behavior on the sphinx rendered scikit-learn.org. See: https://github.com/scikit-learn/scikit-learn/issues/21755 */display: inline-block !important;position: relative;}#sk-container-id-2 div.sk-text-repr-fallback {display: none;}</style><div id=\"sk-container-id-2\" class=\"sk-top-container\"><div class=\"sk-text-repr-fallback\"><pre>GridSearchCV(cv=5, estimator=RandomForestClassifier(),\n",
       "             param_grid={&#x27;max_depth&#x27;: [10], &#x27;min_samples_leaf&#x27;: [5],\n",
       "                         &#x27;n_estimators&#x27;: [20, 70, 120, 170, 220, 270, 320, 370,\n",
       "                                          420, 470]},\n",
       "             scoring=&#x27;accuracy&#x27;, verbose=5)</pre><b>In a Jupyter environment, please rerun this cell to show the HTML representation or trust the notebook. <br />On GitHub, the HTML representation is unable to render, please try loading this page with nbviewer.org.</b></div><div class=\"sk-container\" hidden><div class=\"sk-item sk-dashed-wrapped\"><div class=\"sk-label-container\"><div class=\"sk-label sk-toggleable\"><input class=\"sk-toggleable__control sk-hidden--visually\" id=\"sk-estimator-id-4\" type=\"checkbox\" ><label for=\"sk-estimator-id-4\" class=\"sk-toggleable__label sk-toggleable__label-arrow\">GridSearchCV</label><div class=\"sk-toggleable__content\"><pre>GridSearchCV(cv=5, estimator=RandomForestClassifier(),\n",
       "             param_grid={&#x27;max_depth&#x27;: [10], &#x27;min_samples_leaf&#x27;: [5],\n",
       "                         &#x27;n_estimators&#x27;: [20, 70, 120, 170, 220, 270, 320, 370,\n",
       "                                          420, 470]},\n",
       "             scoring=&#x27;accuracy&#x27;, verbose=5)</pre></div></div></div><div class=\"sk-parallel\"><div class=\"sk-parallel-item\"><div class=\"sk-item\"><div class=\"sk-label-container\"><div class=\"sk-label sk-toggleable\"><input class=\"sk-toggleable__control sk-hidden--visually\" id=\"sk-estimator-id-5\" type=\"checkbox\" ><label for=\"sk-estimator-id-5\" class=\"sk-toggleable__label sk-toggleable__label-arrow\">estimator: RandomForestClassifier</label><div class=\"sk-toggleable__content\"><pre>RandomForestClassifier()</pre></div></div></div><div class=\"sk-serial\"><div class=\"sk-item\"><div class=\"sk-estimator sk-toggleable\"><input class=\"sk-toggleable__control sk-hidden--visually\" id=\"sk-estimator-id-6\" type=\"checkbox\" ><label for=\"sk-estimator-id-6\" class=\"sk-toggleable__label sk-toggleable__label-arrow\">RandomForestClassifier</label><div class=\"sk-toggleable__content\"><pre>RandomForestClassifier()</pre></div></div></div></div></div></div></div></div></div></div>"
      ],
      "text/plain": [
       "GridSearchCV(cv=5, estimator=RandomForestClassifier(),\n",
       "             param_grid={'max_depth': [10], 'min_samples_leaf': [5],\n",
       "                         'n_estimators': [20, 70, 120, 170, 220, 270, 320, 370,\n",
       "                                          420, 470]},\n",
       "             scoring='accuracy', verbose=5)"
      ]
     },
     "execution_count": 45,
     "metadata": {},
     "output_type": "execute_result"
    }
   ],
   "source": [
    "%%time\n",
    "from sklearn.model_selection import GridSearchCV\n",
    "\n",
    "rf = RandomForestClassifier()\n",
    "\n",
    "params = {\n",
    "    'max_depth' : [10],\n",
    "    'min_samples_leaf': [5],\n",
    "    'n_estimators': list(range(20, 500, 50))\n",
    "}\n",
    "\n",
    "grid_rf = GridSearchCV(estimator = rf,\n",
    "                        param_grid = params,\n",
    "                        scoring = 'accuracy', \n",
    "                        cv = 5,\n",
    "                        verbose=5)\n",
    "\n",
    "grid_rf.fit(X_train, y_train.ravel())"
   ]
  },
  {
   "cell_type": "code",
   "execution_count": 46,
   "metadata": {},
   "outputs": [
    {
     "data": {
      "text/plain": [
       "{'mean_fit_time': array([0.19037552, 0.64883623, 1.1082551 , 1.58679523, 2.05379496,\n",
       "        2.5204411 , 2.97962437, 3.46774082, 3.881811  , 4.35381093]),\n",
       " 'std_fit_time': array([0.00205875, 0.00762642, 0.01001651, 0.01497941, 0.0343558 ,\n",
       "        0.02650527, 0.02877748, 0.05807727, 0.02166031, 0.0248327 ]),\n",
       " 'mean_score_time': array([0.01507664, 0.04762983, 0.0780334 , 0.11279902, 0.14891968,\n",
       "        0.17800822, 0.21004062, 0.24843068, 0.27079844, 0.3065135 ]),\n",
       " 'std_score_time': array([0.00126606, 0.00262152, 0.00129993, 0.00345036, 0.0084777 ,\n",
       "        0.00274958, 0.00439343, 0.00759248, 0.00177963, 0.00347197]),\n",
       " 'param_max_depth': masked_array(data=[10, 10, 10, 10, 10, 10, 10, 10, 10, 10],\n",
       "              mask=[False, False, False, False, False, False, False, False,\n",
       "                    False, False],\n",
       "        fill_value='?',\n",
       "             dtype=object),\n",
       " 'param_min_samples_leaf': masked_array(data=[5, 5, 5, 5, 5, 5, 5, 5, 5, 5],\n",
       "              mask=[False, False, False, False, False, False, False, False,\n",
       "                    False, False],\n",
       "        fill_value='?',\n",
       "             dtype=object),\n",
       " 'param_n_estimators': masked_array(data=[20, 70, 120, 170, 220, 270, 320, 370, 420, 470],\n",
       "              mask=[False, False, False, False, False, False, False, False,\n",
       "                    False, False],\n",
       "        fill_value='?',\n",
       "             dtype=object),\n",
       " 'params': [{'max_depth': 10, 'min_samples_leaf': 5, 'n_estimators': 20},\n",
       "  {'max_depth': 10, 'min_samples_leaf': 5, 'n_estimators': 70},\n",
       "  {'max_depth': 10, 'min_samples_leaf': 5, 'n_estimators': 120},\n",
       "  {'max_depth': 10, 'min_samples_leaf': 5, 'n_estimators': 170},\n",
       "  {'max_depth': 10, 'min_samples_leaf': 5, 'n_estimators': 220},\n",
       "  {'max_depth': 10, 'min_samples_leaf': 5, 'n_estimators': 270},\n",
       "  {'max_depth': 10, 'min_samples_leaf': 5, 'n_estimators': 320},\n",
       "  {'max_depth': 10, 'min_samples_leaf': 5, 'n_estimators': 370},\n",
       "  {'max_depth': 10, 'min_samples_leaf': 5, 'n_estimators': 420},\n",
       "  {'max_depth': 10, 'min_samples_leaf': 5, 'n_estimators': 470}],\n",
       " 'split0_test_score': array([0.93035714, 0.93035714, 0.93035714, 0.93035714, 0.93035714,\n",
       "        0.93035714, 0.93035714, 0.93035714, 0.93035714, 0.93035714]),\n",
       " 'split1_test_score': array([0.93035714, 0.93035714, 0.93035714, 0.93035714, 0.93035714,\n",
       "        0.93035714, 0.93035714, 0.93035714, 0.93035714, 0.93035714]),\n",
       " 'split2_test_score': array([0.93035714, 0.93035714, 0.93035714, 0.93035714, 0.93035714,\n",
       "        0.93035714, 0.93035714, 0.93035714, 0.93035714, 0.93035714]),\n",
       " 'split3_test_score': array([0.9302381, 0.9302381, 0.9302381, 0.9302381, 0.9302381, 0.9302381,\n",
       "        0.9302381, 0.9302381, 0.9302381, 0.9302381]),\n",
       " 'split4_test_score': array([0.9302381, 0.9302381, 0.9302381, 0.9302381, 0.9302381, 0.9302381,\n",
       "        0.9302381, 0.9302381, 0.9302381, 0.9302381]),\n",
       " 'mean_test_score': array([0.93030952, 0.93030952, 0.93030952, 0.93030952, 0.93030952,\n",
       "        0.93030952, 0.93030952, 0.93030952, 0.93030952, 0.93030952]),\n",
       " 'std_test_score': array([5.83211844e-05, 5.83211844e-05, 5.83211844e-05, 5.83211844e-05,\n",
       "        5.83211844e-05, 5.83211844e-05, 5.83211844e-05, 5.83211844e-05,\n",
       "        5.83211844e-05, 5.83211844e-05]),\n",
       " 'rank_test_score': array([1, 1, 1, 1, 1, 1, 1, 1, 1, 1], dtype=int32)}"
      ]
     },
     "execution_count": 46,
     "metadata": {},
     "output_type": "execute_result"
    }
   ],
   "source": [
    "grid_rf.cv_results_"
   ]
  },
  {
   "cell_type": "code",
   "execution_count": 47,
   "metadata": {
    "tags": []
   },
   "outputs": [
    {
     "data": {
      "text/plain": [
       "[{'max_depth': 10, 'min_samples_leaf': 5, 'n_estimators': 20},\n",
       " {'max_depth': 10, 'min_samples_leaf': 5, 'n_estimators': 70},\n",
       " {'max_depth': 10, 'min_samples_leaf': 5, 'n_estimators': 120},\n",
       " {'max_depth': 10, 'min_samples_leaf': 5, 'n_estimators': 170},\n",
       " {'max_depth': 10, 'min_samples_leaf': 5, 'n_estimators': 220},\n",
       " {'max_depth': 10, 'min_samples_leaf': 5, 'n_estimators': 270},\n",
       " {'max_depth': 10, 'min_samples_leaf': 5, 'n_estimators': 320},\n",
       " {'max_depth': 10, 'min_samples_leaf': 5, 'n_estimators': 370},\n",
       " {'max_depth': 10, 'min_samples_leaf': 5, 'n_estimators': 420},\n",
       " {'max_depth': 10, 'min_samples_leaf': 5, 'n_estimators': 470}]"
      ]
     },
     "execution_count": 47,
     "metadata": {},
     "output_type": "execute_result"
    }
   ],
   "source": [
    "grid_rf.cv_results_['params']"
   ]
  },
  {
   "cell_type": "code",
   "execution_count": 48,
   "metadata": {
    "tags": []
   },
   "outputs": [
    {
     "name": "stdout",
     "output_type": "stream",
     "text": [
      "RandomForestClassifier(max_depth=10, min_samples_leaf=5, n_estimators=20)\n"
     ]
    }
   ],
   "source": [
    "print(grid_rf.best_estimator_)\n"
   ]
  },
  {
   "cell_type": "code",
   "execution_count": 49,
   "metadata": {
    "tags": []
   },
   "outputs": [
    {
     "name": "stdout",
     "output_type": "stream",
     "text": [
      "RandomForestClassifier(max_depth=10, min_samples_leaf=5, n_estimators=20)\n",
      "0.9316111111111111\n",
      "0.9316111111111111\n"
     ]
    }
   ],
   "source": [
    "# print os melhores parametros\n",
    "print(grid_rf.best_estimator_)\n",
    "\n",
    "# \n",
    "print(grid_rf.best_estimator_.score(X_test, y_test))\n",
    "print(grid_rf.score(X_test, y_test))\n",
    "\n"
   ]
  },
  {
   "cell_type": "markdown",
   "metadata": {},
   "source": [
    "## Randomizedsearch 2 - Variando mínimo de observações por folha\n",
    "\n",
    "Agora vamos variar apenas ```min_samples_leaf```."
   ]
  },
  {
   "cell_type": "code",
   "execution_count": 54,
   "metadata": {
    "scrolled": true,
    "tags": []
   },
   "outputs": [
    {
     "name": "stdout",
     "output_type": "stream",
     "text": [
      "Fitting 3 folds for each of 5 candidates, totalling 15 fits\n",
      "[CV 1/3] END max_depth=10, min_samples_leaf=602, n_estimators=800;, score=0.930 total time=   4.6s\n",
      "[CV 2/3] END max_depth=10, min_samples_leaf=602, n_estimators=800;, score=0.930 total time=   4.5s\n",
      "[CV 3/3] END max_depth=10, min_samples_leaf=602, n_estimators=800;, score=0.930 total time=   4.7s\n",
      "[CV 1/3] END max_depth=10, min_samples_leaf=1702, n_estimators=800;, score=0.930 total time=   3.6s\n",
      "[CV 2/3] END max_depth=10, min_samples_leaf=1702, n_estimators=800;, score=0.930 total time=   3.7s\n",
      "[CV 3/3] END max_depth=10, min_samples_leaf=1702, n_estimators=800;, score=0.930 total time=   3.7s\n",
      "[CV 1/3] END max_depth=10, min_samples_leaf=3602, n_estimators=800;, score=0.930 total time=   3.1s\n",
      "[CV 2/3] END max_depth=10, min_samples_leaf=3602, n_estimators=800;, score=0.930 total time=   3.1s\n",
      "[CV 3/3] END max_depth=10, min_samples_leaf=3602, n_estimators=800;, score=0.930 total time=   3.1s\n",
      "[CV 1/3] END max_depth=10, min_samples_leaf=2202, n_estimators=800;, score=0.930 total time=   3.5s\n",
      "[CV 2/3] END max_depth=10, min_samples_leaf=2202, n_estimators=800;, score=0.930 total time=   3.5s\n",
      "[CV 3/3] END max_depth=10, min_samples_leaf=2202, n_estimators=800;, score=0.930 total time=   3.5s\n",
      "[CV 1/3] END max_depth=10, min_samples_leaf=3402, n_estimators=800;, score=0.930 total time=   3.1s\n",
      "[CV 2/3] END max_depth=10, min_samples_leaf=3402, n_estimators=800;, score=0.930 total time=   3.2s\n",
      "[CV 3/3] END max_depth=10, min_samples_leaf=3402, n_estimators=800;, score=0.930 total time=   3.2s\n",
      "CPU times: user 59.1 s, sys: 1.59 s, total: 1min\n",
      "Wall time: 1min\n"
     ]
    },
    {
     "data": {
      "text/html": [
       "<style>#sk-container-id-3 {color: black;background-color: white;}#sk-container-id-3 pre{padding: 0;}#sk-container-id-3 div.sk-toggleable {background-color: white;}#sk-container-id-3 label.sk-toggleable__label {cursor: pointer;display: block;width: 100%;margin-bottom: 0;padding: 0.3em;box-sizing: border-box;text-align: center;}#sk-container-id-3 label.sk-toggleable__label-arrow:before {content: \"▸\";float: left;margin-right: 0.25em;color: #696969;}#sk-container-id-3 label.sk-toggleable__label-arrow:hover:before {color: black;}#sk-container-id-3 div.sk-estimator:hover label.sk-toggleable__label-arrow:before {color: black;}#sk-container-id-3 div.sk-toggleable__content {max-height: 0;max-width: 0;overflow: hidden;text-align: left;background-color: #f0f8ff;}#sk-container-id-3 div.sk-toggleable__content pre {margin: 0.2em;color: black;border-radius: 0.25em;background-color: #f0f8ff;}#sk-container-id-3 input.sk-toggleable__control:checked~div.sk-toggleable__content {max-height: 200px;max-width: 100%;overflow: auto;}#sk-container-id-3 input.sk-toggleable__control:checked~label.sk-toggleable__label-arrow:before {content: \"▾\";}#sk-container-id-3 div.sk-estimator input.sk-toggleable__control:checked~label.sk-toggleable__label {background-color: #d4ebff;}#sk-container-id-3 div.sk-label input.sk-toggleable__control:checked~label.sk-toggleable__label {background-color: #d4ebff;}#sk-container-id-3 input.sk-hidden--visually {border: 0;clip: rect(1px 1px 1px 1px);clip: rect(1px, 1px, 1px, 1px);height: 1px;margin: -1px;overflow: hidden;padding: 0;position: absolute;width: 1px;}#sk-container-id-3 div.sk-estimator {font-family: monospace;background-color: #f0f8ff;border: 1px dotted black;border-radius: 0.25em;box-sizing: border-box;margin-bottom: 0.5em;}#sk-container-id-3 div.sk-estimator:hover {background-color: #d4ebff;}#sk-container-id-3 div.sk-parallel-item::after {content: \"\";width: 100%;border-bottom: 1px solid gray;flex-grow: 1;}#sk-container-id-3 div.sk-label:hover label.sk-toggleable__label {background-color: #d4ebff;}#sk-container-id-3 div.sk-serial::before {content: \"\";position: absolute;border-left: 1px solid gray;box-sizing: border-box;top: 0;bottom: 0;left: 50%;z-index: 0;}#sk-container-id-3 div.sk-serial {display: flex;flex-direction: column;align-items: center;background-color: white;padding-right: 0.2em;padding-left: 0.2em;position: relative;}#sk-container-id-3 div.sk-item {position: relative;z-index: 1;}#sk-container-id-3 div.sk-parallel {display: flex;align-items: stretch;justify-content: center;background-color: white;position: relative;}#sk-container-id-3 div.sk-item::before, #sk-container-id-3 div.sk-parallel-item::before {content: \"\";position: absolute;border-left: 1px solid gray;box-sizing: border-box;top: 0;bottom: 0;left: 50%;z-index: -1;}#sk-container-id-3 div.sk-parallel-item {display: flex;flex-direction: column;z-index: 1;position: relative;background-color: white;}#sk-container-id-3 div.sk-parallel-item:first-child::after {align-self: flex-end;width: 50%;}#sk-container-id-3 div.sk-parallel-item:last-child::after {align-self: flex-start;width: 50%;}#sk-container-id-3 div.sk-parallel-item:only-child::after {width: 0;}#sk-container-id-3 div.sk-dashed-wrapped {border: 1px dashed gray;margin: 0 0.4em 0.5em 0.4em;box-sizing: border-box;padding-bottom: 0.4em;background-color: white;}#sk-container-id-3 div.sk-label label {font-family: monospace;font-weight: bold;display: inline-block;line-height: 1.2em;}#sk-container-id-3 div.sk-label-container {text-align: center;}#sk-container-id-3 div.sk-container {/* jupyter's `normalize.less` sets `[hidden] { display: none; }` but bootstrap.min.css set `[hidden] { display: none !important; }` so we also need the `!important` here to be able to override the default hidden behavior on the sphinx rendered scikit-learn.org. See: https://github.com/scikit-learn/scikit-learn/issues/21755 */display: inline-block !important;position: relative;}#sk-container-id-3 div.sk-text-repr-fallback {display: none;}</style><div id=\"sk-container-id-3\" class=\"sk-top-container\"><div class=\"sk-text-repr-fallback\"><pre>RandomizedSearchCV(cv=3, estimator=RandomForestClassifier(), n_iter=5,\n",
       "                   param_distributions={&#x27;max_depth&#x27;: [10],\n",
       "                                        &#x27;min_samples_leaf&#x27;: [2, 102, 202, 302,\n",
       "                                                             402, 502, 602, 702,\n",
       "                                                             802, 902, 1002,\n",
       "                                                             1102, 1202, 1302,\n",
       "                                                             1402, 1502, 1602,\n",
       "                                                             1702, 1802, 1902,\n",
       "                                                             2002, 2102, 2202,\n",
       "                                                             2302, 2402, 2502,\n",
       "                                                             2602, 2702, 2802,\n",
       "                                                             2902, ...],\n",
       "                                        &#x27;n_estimators&#x27;: [800]},\n",
       "                   scoring=&#x27;accuracy&#x27;, verbose=5)</pre><b>In a Jupyter environment, please rerun this cell to show the HTML representation or trust the notebook. <br />On GitHub, the HTML representation is unable to render, please try loading this page with nbviewer.org.</b></div><div class=\"sk-container\" hidden><div class=\"sk-item sk-dashed-wrapped\"><div class=\"sk-label-container\"><div class=\"sk-label sk-toggleable\"><input class=\"sk-toggleable__control sk-hidden--visually\" id=\"sk-estimator-id-7\" type=\"checkbox\" ><label for=\"sk-estimator-id-7\" class=\"sk-toggleable__label sk-toggleable__label-arrow\">RandomizedSearchCV</label><div class=\"sk-toggleable__content\"><pre>RandomizedSearchCV(cv=3, estimator=RandomForestClassifier(), n_iter=5,\n",
       "                   param_distributions={&#x27;max_depth&#x27;: [10],\n",
       "                                        &#x27;min_samples_leaf&#x27;: [2, 102, 202, 302,\n",
       "                                                             402, 502, 602, 702,\n",
       "                                                             802, 902, 1002,\n",
       "                                                             1102, 1202, 1302,\n",
       "                                                             1402, 1502, 1602,\n",
       "                                                             1702, 1802, 1902,\n",
       "                                                             2002, 2102, 2202,\n",
       "                                                             2302, 2402, 2502,\n",
       "                                                             2602, 2702, 2802,\n",
       "                                                             2902, ...],\n",
       "                                        &#x27;n_estimators&#x27;: [800]},\n",
       "                   scoring=&#x27;accuracy&#x27;, verbose=5)</pre></div></div></div><div class=\"sk-parallel\"><div class=\"sk-parallel-item\"><div class=\"sk-item\"><div class=\"sk-label-container\"><div class=\"sk-label sk-toggleable\"><input class=\"sk-toggleable__control sk-hidden--visually\" id=\"sk-estimator-id-8\" type=\"checkbox\" ><label for=\"sk-estimator-id-8\" class=\"sk-toggleable__label sk-toggleable__label-arrow\">estimator: RandomForestClassifier</label><div class=\"sk-toggleable__content\"><pre>RandomForestClassifier()</pre></div></div></div><div class=\"sk-serial\"><div class=\"sk-item\"><div class=\"sk-estimator sk-toggleable\"><input class=\"sk-toggleable__control sk-hidden--visually\" id=\"sk-estimator-id-9\" type=\"checkbox\" ><label for=\"sk-estimator-id-9\" class=\"sk-toggleable__label sk-toggleable__label-arrow\">RandomForestClassifier</label><div class=\"sk-toggleable__content\"><pre>RandomForestClassifier()</pre></div></div></div></div></div></div></div></div></div></div>"
      ],
      "text/plain": [
       "RandomizedSearchCV(cv=3, estimator=RandomForestClassifier(), n_iter=5,\n",
       "                   param_distributions={'max_depth': [10],\n",
       "                                        'min_samples_leaf': [2, 102, 202, 302,\n",
       "                                                             402, 502, 602, 702,\n",
       "                                                             802, 902, 1002,\n",
       "                                                             1102, 1202, 1302,\n",
       "                                                             1402, 1502, 1602,\n",
       "                                                             1702, 1802, 1902,\n",
       "                                                             2002, 2102, 2202,\n",
       "                                                             2302, 2402, 2502,\n",
       "                                                             2602, 2702, 2802,\n",
       "                                                             2902, ...],\n",
       "                                        'n_estimators': [800]},\n",
       "                   scoring='accuracy', verbose=5)"
      ]
     },
     "execution_count": 54,
     "metadata": {},
     "output_type": "execute_result"
    }
   ],
   "source": [
    "%%time\n",
    "from sklearn.model_selection import RandomizedSearchCV\n",
    "\n",
    "rf = RandomForestClassifier()\n",
    "\n",
    "params = {\n",
    "    'max_depth' : [10],\n",
    "    'min_samples_leaf': list(range(2,5000,100)),\n",
    "    'n_estimators': [800]\n",
    "}\n",
    "\n",
    "grid_rf = RandomizedSearchCV(n_iter = 5,\n",
    "                             estimator = rf,\n",
    "                             param_distributions = params,\n",
    "                             scoring = 'accuracy', \n",
    "                             cv = 3,\n",
    "                             verbose=5)\n",
    "\n",
    "grid_rf.fit(X_train, y_train.ravel())"
   ]
  },
  {
   "cell_type": "code",
   "execution_count": 55,
   "metadata": {
    "tags": []
   },
   "outputs": [
    {
     "data": {
      "text/plain": [
       "[{'n_estimators': 800, 'min_samples_leaf': 602, 'max_depth': 10},\n",
       " {'n_estimators': 800, 'min_samples_leaf': 1702, 'max_depth': 10},\n",
       " {'n_estimators': 800, 'min_samples_leaf': 3602, 'max_depth': 10},\n",
       " {'n_estimators': 800, 'min_samples_leaf': 2202, 'max_depth': 10},\n",
       " {'n_estimators': 800, 'min_samples_leaf': 3402, 'max_depth': 10}]"
      ]
     },
     "execution_count": 55,
     "metadata": {},
     "output_type": "execute_result"
    }
   ],
   "source": [
    "grid_rf.cv_results_['params']"
   ]
  },
  {
   "cell_type": "code",
   "execution_count": 56,
   "metadata": {
    "tags": []
   },
   "outputs": [
    {
     "data": {
      "text/plain": [
       "array([0.93030952, 0.93030952, 0.93030952, 0.93030952, 0.93030952])"
      ]
     },
     "execution_count": 56,
     "metadata": {},
     "output_type": "execute_result"
    }
   ],
   "source": [
    "grid_rf.cv_results_['mean_test_score']"
   ]
  },
  {
   "cell_type": "code",
   "execution_count": 57,
   "metadata": {
    "tags": []
   },
   "outputs": [
    {
     "name": "stdout",
     "output_type": "stream",
     "text": [
      "0.9316111111111111\n"
     ]
    }
   ],
   "source": [
    "print(grid_rf.score(X_test, y_test))\n"
   ]
  },
  {
   "cell_type": "markdown",
   "metadata": {},
   "source": [
    "## Função RandomizedSearchCV"
   ]
  },
  {
   "cell_type": "code",
   "execution_count": 58,
   "metadata": {
    "tags": []
   },
   "outputs": [
    {
     "data": {
      "text/plain": [
       "{'max_depth': [10],\n",
       " 'min_samples_leaf': [5],\n",
       " 'n_estimators': [100, 200, 300, 400, 500, 600, 700, 800, 900, 1000]}"
      ]
     },
     "execution_count": 58,
     "metadata": {},
     "output_type": "execute_result"
    }
   ],
   "source": [
    "params = {\n",
    "    'max_depth' : [10],\n",
    "    'min_samples_leaf': [5],\n",
    "    'n_estimators': list(range(100, 1001, 100))\n",
    "}\n",
    "params"
   ]
  },
  {
   "cell_type": "code",
   "execution_count": 59,
   "metadata": {
    "scrolled": true,
    "tags": []
   },
   "outputs": [
    {
     "name": "stdout",
     "output_type": "stream",
     "text": [
      "Fitting 3 folds for each of 7 candidates, totalling 21 fits\n",
      "[CV 1/3] END max_depth=10, min_samples_leaf=5, n_estimators=100;, score=0.930 total time=   0.9s\n",
      "[CV 2/3] END max_depth=10, min_samples_leaf=5, n_estimators=100;, score=0.930 total time=   0.9s\n",
      "[CV 3/3] END max_depth=10, min_samples_leaf=5, n_estimators=100;, score=0.930 total time=   0.9s\n",
      "[CV 1/3] END max_depth=10, min_samples_leaf=5, n_estimators=800;, score=0.930 total time=   7.0s\n",
      "[CV 2/3] END max_depth=10, min_samples_leaf=5, n_estimators=800;, score=0.930 total time=   7.2s\n",
      "[CV 3/3] END max_depth=10, min_samples_leaf=5, n_estimators=800;, score=0.930 total time=   6.9s\n",
      "[CV 1/3] END max_depth=10, min_samples_leaf=5, n_estimators=500;, score=0.930 total time=   4.3s\n",
      "[CV 2/3] END max_depth=10, min_samples_leaf=5, n_estimators=500;, score=0.930 total time=   4.3s\n",
      "[CV 3/3] END max_depth=10, min_samples_leaf=5, n_estimators=500;, score=0.930 total time=   4.4s\n",
      "[CV 1/3] END max_depth=10, min_samples_leaf=5, n_estimators=200;, score=0.930 total time=   1.7s\n",
      "[CV 2/3] END max_depth=10, min_samples_leaf=5, n_estimators=200;, score=0.930 total time=   1.8s\n",
      "[CV 3/3] END max_depth=10, min_samples_leaf=5, n_estimators=200;, score=0.930 total time=   1.7s\n",
      "[CV 1/3] END max_depth=10, min_samples_leaf=5, n_estimators=1000;, score=0.930 total time=   8.5s\n",
      "[CV 2/3] END max_depth=10, min_samples_leaf=5, n_estimators=1000;, score=0.930 total time=   8.4s\n",
      "[CV 3/3] END max_depth=10, min_samples_leaf=5, n_estimators=1000;, score=0.930 total time=   8.4s\n",
      "[CV 1/3] END max_depth=10, min_samples_leaf=5, n_estimators=300;, score=0.930 total time=   2.5s\n",
      "[CV 2/3] END max_depth=10, min_samples_leaf=5, n_estimators=300;, score=0.930 total time=   2.6s\n",
      "[CV 3/3] END max_depth=10, min_samples_leaf=5, n_estimators=300;, score=0.930 total time=   2.5s\n",
      "[CV 1/3] END max_depth=10, min_samples_leaf=5, n_estimators=600;, score=0.930 total time=   5.1s\n",
      "[CV 2/3] END max_depth=10, min_samples_leaf=5, n_estimators=600;, score=0.930 total time=   5.1s\n",
      "[CV 3/3] END max_depth=10, min_samples_leaf=5, n_estimators=600;, score=0.930 total time=   5.1s\n",
      "CPU times: user 1min 29s, sys: 1.6 s, total: 1min 31s\n",
      "Wall time: 1min 31s\n"
     ]
    },
    {
     "data": {
      "text/html": [
       "<style>#sk-container-id-4 {color: black;background-color: white;}#sk-container-id-4 pre{padding: 0;}#sk-container-id-4 div.sk-toggleable {background-color: white;}#sk-container-id-4 label.sk-toggleable__label {cursor: pointer;display: block;width: 100%;margin-bottom: 0;padding: 0.3em;box-sizing: border-box;text-align: center;}#sk-container-id-4 label.sk-toggleable__label-arrow:before {content: \"▸\";float: left;margin-right: 0.25em;color: #696969;}#sk-container-id-4 label.sk-toggleable__label-arrow:hover:before {color: black;}#sk-container-id-4 div.sk-estimator:hover label.sk-toggleable__label-arrow:before {color: black;}#sk-container-id-4 div.sk-toggleable__content {max-height: 0;max-width: 0;overflow: hidden;text-align: left;background-color: #f0f8ff;}#sk-container-id-4 div.sk-toggleable__content pre {margin: 0.2em;color: black;border-radius: 0.25em;background-color: #f0f8ff;}#sk-container-id-4 input.sk-toggleable__control:checked~div.sk-toggleable__content {max-height: 200px;max-width: 100%;overflow: auto;}#sk-container-id-4 input.sk-toggleable__control:checked~label.sk-toggleable__label-arrow:before {content: \"▾\";}#sk-container-id-4 div.sk-estimator input.sk-toggleable__control:checked~label.sk-toggleable__label {background-color: #d4ebff;}#sk-container-id-4 div.sk-label input.sk-toggleable__control:checked~label.sk-toggleable__label {background-color: #d4ebff;}#sk-container-id-4 input.sk-hidden--visually {border: 0;clip: rect(1px 1px 1px 1px);clip: rect(1px, 1px, 1px, 1px);height: 1px;margin: -1px;overflow: hidden;padding: 0;position: absolute;width: 1px;}#sk-container-id-4 div.sk-estimator {font-family: monospace;background-color: #f0f8ff;border: 1px dotted black;border-radius: 0.25em;box-sizing: border-box;margin-bottom: 0.5em;}#sk-container-id-4 div.sk-estimator:hover {background-color: #d4ebff;}#sk-container-id-4 div.sk-parallel-item::after {content: \"\";width: 100%;border-bottom: 1px solid gray;flex-grow: 1;}#sk-container-id-4 div.sk-label:hover label.sk-toggleable__label {background-color: #d4ebff;}#sk-container-id-4 div.sk-serial::before {content: \"\";position: absolute;border-left: 1px solid gray;box-sizing: border-box;top: 0;bottom: 0;left: 50%;z-index: 0;}#sk-container-id-4 div.sk-serial {display: flex;flex-direction: column;align-items: center;background-color: white;padding-right: 0.2em;padding-left: 0.2em;position: relative;}#sk-container-id-4 div.sk-item {position: relative;z-index: 1;}#sk-container-id-4 div.sk-parallel {display: flex;align-items: stretch;justify-content: center;background-color: white;position: relative;}#sk-container-id-4 div.sk-item::before, #sk-container-id-4 div.sk-parallel-item::before {content: \"\";position: absolute;border-left: 1px solid gray;box-sizing: border-box;top: 0;bottom: 0;left: 50%;z-index: -1;}#sk-container-id-4 div.sk-parallel-item {display: flex;flex-direction: column;z-index: 1;position: relative;background-color: white;}#sk-container-id-4 div.sk-parallel-item:first-child::after {align-self: flex-end;width: 50%;}#sk-container-id-4 div.sk-parallel-item:last-child::after {align-self: flex-start;width: 50%;}#sk-container-id-4 div.sk-parallel-item:only-child::after {width: 0;}#sk-container-id-4 div.sk-dashed-wrapped {border: 1px dashed gray;margin: 0 0.4em 0.5em 0.4em;box-sizing: border-box;padding-bottom: 0.4em;background-color: white;}#sk-container-id-4 div.sk-label label {font-family: monospace;font-weight: bold;display: inline-block;line-height: 1.2em;}#sk-container-id-4 div.sk-label-container {text-align: center;}#sk-container-id-4 div.sk-container {/* jupyter's `normalize.less` sets `[hidden] { display: none; }` but bootstrap.min.css set `[hidden] { display: none !important; }` so we also need the `!important` here to be able to override the default hidden behavior on the sphinx rendered scikit-learn.org. See: https://github.com/scikit-learn/scikit-learn/issues/21755 */display: inline-block !important;position: relative;}#sk-container-id-4 div.sk-text-repr-fallback {display: none;}</style><div id=\"sk-container-id-4\" class=\"sk-top-container\"><div class=\"sk-text-repr-fallback\"><pre>RandomizedSearchCV(cv=3, estimator=RandomForestClassifier(), n_iter=7,\n",
       "                   param_distributions={&#x27;max_depth&#x27;: [10],\n",
       "                                        &#x27;min_samples_leaf&#x27;: [5],\n",
       "                                        &#x27;n_estimators&#x27;: [100, 200, 300, 400,\n",
       "                                                         500, 600, 700, 800,\n",
       "                                                         900, 1000]},\n",
       "                   scoring=&#x27;accuracy&#x27;, verbose=5)</pre><b>In a Jupyter environment, please rerun this cell to show the HTML representation or trust the notebook. <br />On GitHub, the HTML representation is unable to render, please try loading this page with nbviewer.org.</b></div><div class=\"sk-container\" hidden><div class=\"sk-item sk-dashed-wrapped\"><div class=\"sk-label-container\"><div class=\"sk-label sk-toggleable\"><input class=\"sk-toggleable__control sk-hidden--visually\" id=\"sk-estimator-id-10\" type=\"checkbox\" ><label for=\"sk-estimator-id-10\" class=\"sk-toggleable__label sk-toggleable__label-arrow\">RandomizedSearchCV</label><div class=\"sk-toggleable__content\"><pre>RandomizedSearchCV(cv=3, estimator=RandomForestClassifier(), n_iter=7,\n",
       "                   param_distributions={&#x27;max_depth&#x27;: [10],\n",
       "                                        &#x27;min_samples_leaf&#x27;: [5],\n",
       "                                        &#x27;n_estimators&#x27;: [100, 200, 300, 400,\n",
       "                                                         500, 600, 700, 800,\n",
       "                                                         900, 1000]},\n",
       "                   scoring=&#x27;accuracy&#x27;, verbose=5)</pre></div></div></div><div class=\"sk-parallel\"><div class=\"sk-parallel-item\"><div class=\"sk-item\"><div class=\"sk-label-container\"><div class=\"sk-label sk-toggleable\"><input class=\"sk-toggleable__control sk-hidden--visually\" id=\"sk-estimator-id-11\" type=\"checkbox\" ><label for=\"sk-estimator-id-11\" class=\"sk-toggleable__label sk-toggleable__label-arrow\">estimator: RandomForestClassifier</label><div class=\"sk-toggleable__content\"><pre>RandomForestClassifier()</pre></div></div></div><div class=\"sk-serial\"><div class=\"sk-item\"><div class=\"sk-estimator sk-toggleable\"><input class=\"sk-toggleable__control sk-hidden--visually\" id=\"sk-estimator-id-12\" type=\"checkbox\" ><label for=\"sk-estimator-id-12\" class=\"sk-toggleable__label sk-toggleable__label-arrow\">RandomForestClassifier</label><div class=\"sk-toggleable__content\"><pre>RandomForestClassifier()</pre></div></div></div></div></div></div></div></div></div></div>"
      ],
      "text/plain": [
       "RandomizedSearchCV(cv=3, estimator=RandomForestClassifier(), n_iter=7,\n",
       "                   param_distributions={'max_depth': [10],\n",
       "                                        'min_samples_leaf': [5],\n",
       "                                        'n_estimators': [100, 200, 300, 400,\n",
       "                                                         500, 600, 700, 800,\n",
       "                                                         900, 1000]},\n",
       "                   scoring='accuracy', verbose=5)"
      ]
     },
     "execution_count": 59,
     "metadata": {},
     "output_type": "execute_result"
    }
   ],
   "source": [
    "%%time\n",
    "from sklearn.model_selection import RandomizedSearchCV\n",
    "\n",
    "rf = RandomForestClassifier()\n",
    "\n",
    "params = {\n",
    "    'max_depth' : [10],\n",
    "    'min_samples_leaf': [5],\n",
    "    'n_estimators': list(range(100, 1001, 100))\n",
    "}\n",
    "\n",
    "grid_rf = RandomizedSearchCV(n_iter = 7,\n",
    "                             estimator = rf,\n",
    "                             param_distributions = params,\n",
    "                             scoring = 'accuracy', \n",
    "                             cv = 3,\n",
    "                             verbose=5)\n",
    "\n",
    "grid_rf.fit(X_train, y_train.ravel())"
   ]
  },
  {
   "cell_type": "code",
   "execution_count": 60,
   "metadata": {
    "tags": []
   },
   "outputs": [
    {
     "name": "stdout",
     "output_type": "stream",
     "text": [
      "RandomForestClassifier(max_depth=10, min_samples_leaf=5)\n",
      "0.9316111111111111\n"
     ]
    }
   ],
   "source": [
    "# extract best estimator\n",
    "print(grid_rf.best_estimator_)\n",
    "\n",
    "# to test the bestfit\n",
    "print(grid_rf.score(X_test, y_test))\n",
    "\n"
   ]
  },
  {
   "cell_type": "code",
   "execution_count": null,
   "metadata": {},
   "outputs": [],
   "source": []
  },
  {
   "cell_type": "code",
   "execution_count": null,
   "metadata": {},
   "outputs": [],
   "source": []
  },
  {
   "cell_type": "markdown",
   "metadata": {},
   "source": [
    "## Gridsearch usando `for` para variar o número mínimo de observações na folha"
   ]
  },
  {
   "cell_type": "code",
   "execution_count": 61,
   "metadata": {
    "tags": []
   },
   "outputs": [
    {
     "name": "stdout",
     "output_type": "stream",
     "text": [
      "[2, 102, 202, 302, 402, 502, 602, 702, 802, 902, 1002, 1102, 1202, 1302, 1402, 1502, 1602, 1702, 1802, 1902, 2002, 2102, 2202, 2302, 2402, 2502, 2602, 2702, 2802, 2902, 3002, 3102, 3202, 3302, 3402, 3502, 3602, 3702, 3802, 3902, 4002, 4102, 4202, 4302, 4402, 4502, 4602, 4702, 4802, 4902]\n",
      "CPU times: user 15.4 s, sys: 1.8 s, total: 17.2 s\n",
      "Wall time: 5.51 s\n"
     ]
    }
   ],
   "source": [
    "%%time\n",
    "\n",
    "lista_gini_test=[]\n",
    "lista_gini_train=[]\n",
    "\n",
    "grid = list(range(2,5000,100))\n",
    "print(grid)\n",
    "\n",
    "for n_min_obs in grid:\n",
    "    clf = RandomForestClassifier(n_estimators=30,\n",
    "                                 max_depth=10,\n",
    "                                 min_samples_leaf=n_min_obs,\n",
    "                                 n_jobs=-1)\n",
    "    \n",
    "    clf.fit(X_train, y_train.ravel())\n",
    "    \n",
    "    gini_test  = calcula_gini(y_test, clf.predict_proba(X_test)[:,1])\n",
    "    gini_train = calcula_gini(y_train, clf.predict_proba(X_train)[:,1])\n",
    "    \n",
    "    lista_gini_test.append(gini_test)\n",
    "    lista_gini_train.append(gini_train)\n",
    "\n",
    "dict_gini_train = dict(zip(list(range(2,5000,100)), lista_gini_train))\n",
    "dict_gini_test = dict(zip(list(range(2,5000,100)), lista_gini_test))\n",
    "\n",
    "series_gini_train = pd.Series(dict_gini_train)\n",
    "series_gini_test = pd.Series(dict_gini_test)\n"
   ]
  },
  {
   "cell_type": "code",
   "execution_count": 62,
   "metadata": {
    "tags": []
   },
   "outputs": [
    {
     "data": {
      "image/png": "[encoded data removed]",
      "text/plain": [
       "<Figure size 640x480 with 1 Axes>"
      ]
     },
     "metadata": {},
     "output_type": "display_data"
    }
   ],
   "source": [
    "#Plot comparando o gini no treino e no teste\n",
    "fig, ax = plt.subplots()\n",
    "\n",
    "ax.plot(series_gini_train, '-b', label='Treino')\n",
    "ax.plot(series_gini_test,  '--r', label='Teste')\n",
    "\n",
    "leg = ax.legend()\n",
    "ax.set_title(\"Random Forest - Gini vs N mínimo por folha\")\n",
    "ax.set_xlabel(\"Número mínimo de observações por folha\")\n",
    "ax.set_ylabel(\"Gini\");"
   ]
  },
  {
   "cell_type": "markdown",
   "metadata": {},
   "source": [
    "## Gridsearch 3 (usando `for`)  - variando a profundidade da árvore\n",
    "\n",
    "Agora vamos fixar ```n_estimators``` e ```min_samples_leaf``` e variar ```max_depth```."
   ]
  },
  {
   "cell_type": "code",
   "execution_count": 63,
   "metadata": {
    "tags": []
   },
   "outputs": [
    {
     "name": "stdout",
     "output_type": "stream",
     "text": [
      "[1, 2, 3, 4, 5, 6, 7, 8, 9, 10, 11, 12, 13, 14, 15, 16, 17, 18, 19, 20, 21, 22, 23, 24, 25, 26, 27, 28, 29, 30, 31, 32, 33, 34, 35, 36, 37, 38, 39, 40, 41, 42, 43, 44, 45, 46, 47, 48, 49]\n",
      "CPU times: user 36 s, sys: 1.62 s, total: 37.6 s\n",
      "Wall time: 8 s\n"
     ]
    }
   ],
   "source": [
    "%%time\n",
    "\n",
    "lista_gini_test=[]\n",
    "lista_gini_train=[]\n",
    "\n",
    "grid = list(range(1,50))\n",
    "print(grid)\n",
    "\n",
    "for profundidade in grid:\n",
    "    clf = RandomForestClassifier(n_estimators=30,\n",
    "                                 max_depth=profundidade,\n",
    "                                 min_samples_leaf=1,\n",
    "                                n_jobs=-1)\n",
    "    \n",
    "    clf.fit(X_train, y_train.ravel())\n",
    "    \n",
    "    gini_test  = calcula_gini(y_test, clf.predict_proba(X_test)[:,1])\n",
    "    gini_train = calcula_gini(y_train, clf.predict_proba(X_train)[:,1])\n",
    "    \n",
    "    lista_gini_test.append(gini_test)\n",
    "    lista_gini_train.append(gini_train)\n",
    "\n",
    "dict_gini_train = dict(zip(grid, lista_gini_train))\n",
    "dict_gini_test = dict(zip(grid, lista_gini_test))\n",
    "\n",
    "series_gini_train = pd.Series(dict_gini_train)\n",
    "series_gini_test = pd.Series(dict_gini_test)\n"
   ]
  },
  {
   "cell_type": "code",
   "execution_count": 64,
   "metadata": {
    "tags": []
   },
   "outputs": [
    {
     "data": {
      "text/plain": [
       "Text(0, 0.5, 'Gini')"
      ]
     },
     "execution_count": 64,
     "metadata": {},
     "output_type": "execute_result"
    },
    {
     "data": {
      "image/png": "[encoded data removed]",
      "text/plain": [
       "<Figure size 640x480 with 1 Axes>"
      ]
     },
     "metadata": {},
     "output_type": "display_data"
    }
   ],
   "source": [
    "#Plot comparando o gini no treino e no teste\n",
    "fig, ax = plt.subplots()\n",
    "\n",
    "ax.plot(series_gini_train, '-b', label='Treino')\n",
    "ax.plot(series_gini_test,  '--r', label='Teste')\n",
    "\n",
    "leg = ax.legend()\n",
    "ax.set_title(\"Random Forest - Gini vs Profundidade máxima\")\n",
    "ax.set_xlabel(\"Profundidade máxima\")\n",
    "ax.set_ylabel(\"Gini\")"
   ]
  },
  {
   "cell_type": "markdown",
   "metadata": {},
   "source": [
    "## Gridsearch 4 - alterar profundidade e número de observações por folha"
   ]
  },
  {
   "cell_type": "code",
   "execution_count": 65,
   "metadata": {
    "tags": []
   },
   "outputs": [
    {
     "name": "stdout",
     "output_type": "stream",
     "text": [
      "CPU times: user 2min 10s, sys: 8.83 s, total: 2min 19s\n",
      "Wall time: 35.5 s\n"
     ]
    }
   ],
   "source": [
    "%%time\n",
    "\n",
    "lista_gini_test = []\n",
    "lista_gini_train = []\n",
    "lista_obs_folha = []\n",
    "lista_profundidade = []\n",
    "\n",
    "grid_profund = list(range(3, 20, 2))\n",
    "grid_obs_folha = list(range(1, 30, 1))\n",
    "\n",
    "for profundidade in grid_profund:\n",
    "    for obs_folha in grid_obs_folha:\n",
    "        clf = RandomForestClassifier(n_estimators=30,\n",
    "                                     max_depth=profundidade,\n",
    "                                     min_samples_leaf=obs_folha,\n",
    "                                     n_jobs=-1)\n",
    "\n",
    "        clf.fit(X_train, y_train.ravel())\n",
    "\n",
    "        gini_test = calcula_gini(y_test, clf.predict_proba(X_test)[:, 1])\n",
    "        gini_train = calcula_gini(y_train, clf.predict_proba(X_train)[:, 1])\n",
    "\n",
    "        lista_gini_test.append(gini_test)\n",
    "        lista_gini_train.append(gini_train)\n",
    "        lista_obs_folha.append(obs_folha)\n",
    "        lista_profundidade.append(profundidade)\n",
    "\n",
    "grid_dic = {'obs_folha': lista_obs_folha, \n",
    "            'profund_max': lista_profundidade,\n",
    "            'gini_dev': lista_gini_train,\n",
    "            'gini_test': lista_gini_test}\n",
    "\n",
    "grid = pd.DataFrame(grid_dic)"
   ]
  },
  {
   "cell_type": "code",
   "execution_count": 66,
   "metadata": {
    "scrolled": true,
    "tags": []
   },
   "outputs": [
    {
     "data": {
      "text/html": [
       "<div>\n",
       "<style scoped>\n",
       "    .dataframe tbody tr th:only-of-type {\n",
       "        vertical-align: middle;\n",
       "    }\n",
       "\n",
       "    .dataframe tbody tr th {\n",
       "        vertical-align: top;\n",
       "    }\n",
       "\n",
       "    .dataframe thead th {\n",
       "        text-align: right;\n",
       "    }\n",
       "</style>\n",
       "<table border=\"1\" class=\"dataframe\">\n",
       "  <thead>\n",
       "    <tr style=\"text-align: right;\">\n",
       "      <th></th>\n",
       "      <th>obs_folha</th>\n",
       "      <th>profund_max</th>\n",
       "      <th>gini_dev</th>\n",
       "      <th>gini_test</th>\n",
       "    </tr>\n",
       "  </thead>\n",
       "  <tbody>\n",
       "    <tr>\n",
       "      <th>0</th>\n",
       "      <td>1</td>\n",
       "      <td>3</td>\n",
       "      <td>0.196907</td>\n",
       "      <td>0.196675</td>\n",
       "    </tr>\n",
       "    <tr>\n",
       "      <th>1</th>\n",
       "      <td>2</td>\n",
       "      <td>3</td>\n",
       "      <td>0.189810</td>\n",
       "      <td>0.191872</td>\n",
       "    </tr>\n",
       "    <tr>\n",
       "      <th>2</th>\n",
       "      <td>3</td>\n",
       "      <td>3</td>\n",
       "      <td>0.191211</td>\n",
       "      <td>0.195783</td>\n",
       "    </tr>\n",
       "    <tr>\n",
       "      <th>3</th>\n",
       "      <td>4</td>\n",
       "      <td>3</td>\n",
       "      <td>0.198229</td>\n",
       "      <td>0.196487</td>\n",
       "    </tr>\n",
       "    <tr>\n",
       "      <th>4</th>\n",
       "      <td>5</td>\n",
       "      <td>3</td>\n",
       "      <td>0.198810</td>\n",
       "      <td>0.196711</td>\n",
       "    </tr>\n",
       "    <tr>\n",
       "      <th>...</th>\n",
       "      <td>...</td>\n",
       "      <td>...</td>\n",
       "      <td>...</td>\n",
       "      <td>...</td>\n",
       "    </tr>\n",
       "    <tr>\n",
       "      <th>256</th>\n",
       "      <td>25</td>\n",
       "      <td>19</td>\n",
       "      <td>0.374773</td>\n",
       "      <td>0.198726</td>\n",
       "    </tr>\n",
       "    <tr>\n",
       "      <th>257</th>\n",
       "      <td>26</td>\n",
       "      <td>19</td>\n",
       "      <td>0.364212</td>\n",
       "      <td>0.204199</td>\n",
       "    </tr>\n",
       "    <tr>\n",
       "      <th>258</th>\n",
       "      <td>27</td>\n",
       "      <td>19</td>\n",
       "      <td>0.360367</td>\n",
       "      <td>0.206233</td>\n",
       "    </tr>\n",
       "    <tr>\n",
       "      <th>259</th>\n",
       "      <td>28</td>\n",
       "      <td>19</td>\n",
       "      <td>0.356796</td>\n",
       "      <td>0.202069</td>\n",
       "    </tr>\n",
       "    <tr>\n",
       "      <th>260</th>\n",
       "      <td>29</td>\n",
       "      <td>19</td>\n",
       "      <td>0.349898</td>\n",
       "      <td>0.197277</td>\n",
       "    </tr>\n",
       "  </tbody>\n",
       "</table>\n",
       "<p>261 rows × 4 columns</p>\n",
       "</div>"
      ],
      "text/plain": [
       "     obs_folha  profund_max  gini_dev  gini_test\n",
       "0            1            3  0.196907   0.196675\n",
       "1            2            3  0.189810   0.191872\n",
       "2            3            3  0.191211   0.195783\n",
       "3            4            3  0.198229   0.196487\n",
       "4            5            3  0.198810   0.196711\n",
       "..         ...          ...       ...        ...\n",
       "256         25           19  0.374773   0.198726\n",
       "257         26           19  0.364212   0.204199\n",
       "258         27           19  0.360367   0.206233\n",
       "259         28           19  0.356796   0.202069\n",
       "260         29           19  0.349898   0.197277\n",
       "\n",
       "[261 rows x 4 columns]"
      ]
     },
     "execution_count": 66,
     "metadata": {},
     "output_type": "execute_result"
    }
   ],
   "source": [
    "grid"
   ]
  },
  {
   "cell_type": "code",
   "execution_count": 67,
   "metadata": {
    "scrolled": true,
    "tags": []
   },
   "outputs": [
    {
     "data": {
      "image/png": "[encoded data removed]",
      "text/plain": [
       "<Figure size 640x480 with 2 Axes>"
      ]
     },
     "metadata": {},
     "output_type": "display_data"
    }
   ],
   "source": [
    "sns.heatmap(grid.pivot_table(index='profund_max',\n",
    "                             columns='obs_folha',\n",
    "                             values='gini_test',\n",
    "                             aggfunc='mean'));"
   ]
  },
  {
   "cell_type": "code",
   "execution_count": 70,
   "metadata": {
    "tags": []
   },
   "outputs": [
    {
     "data": {
      "text/html": [
       "<div>\n",
       "<style scoped>\n",
       "    .dataframe tbody tr th:only-of-type {\n",
       "        vertical-align: middle;\n",
       "    }\n",
       "\n",
       "    .dataframe tbody tr th {\n",
       "        vertical-align: top;\n",
       "    }\n",
       "\n",
       "    .dataframe thead th {\n",
       "        text-align: right;\n",
       "    }\n",
       "</style>\n",
       "<table border=\"1\" class=\"dataframe\">\n",
       "  <thead>\n",
       "    <tr style=\"text-align: right;\">\n",
       "      <th></th>\n",
       "      <th>obs_folha</th>\n",
       "      <th>profund_max</th>\n",
       "      <th>gini_dev</th>\n",
       "      <th>gini_test</th>\n",
       "    </tr>\n",
       "  </thead>\n",
       "  <tbody>\n",
       "    <tr>\n",
       "      <th>231</th>\n",
       "      <td>29</td>\n",
       "      <td>17</td>\n",
       "      <td>0.352547</td>\n",
       "      <td>0.214722</td>\n",
       "    </tr>\n",
       "  </tbody>\n",
       "</table>\n",
       "</div>"
      ],
      "text/plain": [
       "     obs_folha  profund_max  gini_dev  gini_test\n",
       "231         29           17  0.352547   0.214722"
      ]
     },
     "execution_count": 70,
     "metadata": {},
     "output_type": "execute_result"
    }
   ],
   "source": [
    "grid[(grid['obs_folha'] == 29) & (grid['profund_max'] == 17)]"
   ]
  },
  {
   "cell_type": "code",
   "execution_count": 71,
   "metadata": {
    "tags": []
   },
   "outputs": [
    {
     "data": {
      "text/plain": [
       "0.21472181924026268"
      ]
     },
     "execution_count": 71,
     "metadata": {},
     "output_type": "execute_result"
    }
   ],
   "source": [
    "grid['gini_test'].max()"
   ]
  },
  {
   "cell_type": "code",
   "execution_count": null,
   "metadata": {},
   "outputs": [],
   "source": []
  }
 ],
 "metadata": {
  "kernelspec": {
   "display_name": "Python 3 (ipykernel)",
   "language": "python",
   "name": "python3"
  },
  "language_info": {
   "codemirror_mode": {
    "name": "ipython",
    "version": 3
   },
   "file_extension": ".py",
   "mimetype": "text/x-python",
   "name": "python",
   "nbconvert_exporter": "python",
   "pygments_lexer": "ipython3",
   "version": "3.10.8"
  },
  "varInspector": {
   "cols": {
    "lenName": 16,
    "lenType": 16,
    "lenVar": 40
   },
   "kernels_config": {
    "python": {
     "delete_cmd_postfix": "",
     "delete_cmd_prefix": "del ",
     "library": "var_list.py",
     "varRefreshCmd": "print(var_dic_list())"
    },
    "r": {
     "delete_cmd_postfix": ") ",
     "delete_cmd_prefix": "rm(",
     "library": "var_list.r",
     "varRefreshCmd": "cat(var_dic_list()) "
    }
   },
   "types_to_exclude": [
    "module",
    "function",
    "builtin_function_or_method",
    "instance",
    "_Feature"
   ],
   "window_display": false
  }
 },
 "nbformat": 4,
 "nbformat_minor": 4
}
