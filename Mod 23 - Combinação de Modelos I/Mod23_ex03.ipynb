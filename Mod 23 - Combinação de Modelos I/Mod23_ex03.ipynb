{
 "cells": [
  {
   "cell_type": "markdown",
   "id": "8c21a673-bec7-4ced-a4df-5ce579b3a39d",
   "metadata": {},
   "source": [
    "# Tarefa 3"
   ]
  },
  {
   "cell_type": "markdown",
   "id": "f2bdd47a-0e79-4f3f-9c5c-fc1c714d27c2",
   "metadata": {},
   "source": [
    "### Quais são os hyperparâmetros do Random Forest (Scikit Learn)"
   ]
  },
  {
   "cell_type": "markdown",
   "id": "7974d14e-75f7-4150-9056-7e1777ea0d88",
   "metadata": {},
   "source": [
    "<div style=\"background: #EEEEF4; padding: 15px 20px; border-radius: 5px; margin-top: 20px\">\n",
    "    <p style=\"font-size: 11px; color: #666; font-weight: bold\">Resposta</p>\n",
    "    <ul>\n",
    "        <li><b>n_estimators</b>: número de árvores na floresta. Quanto maior o número, mais preciso é o modelo, mas também aumenta o tempo de treinamento e pode levar ao overfitting.</li>\n",
    "\n",
    "<li><b>criterion</b>: função de avaliação da qualidade da divisão. O valor padrão é 'gini', que mede a pureza dos grupos, mas também é possível usar 'entropy', que mede a informação ganha por cada divisão.</li>\n",
    "\n",
    "<li><b>max_depth</b>: profundidade máxima da árvore. Quanto mais profunda a árvore, mais complexo é o modelo e maior é o risco de overfitting.</li>\n",
    "\n",
    "<li><b>min_samples_split</b>: número mínimo de amostras necessárias para realizar uma divisão em um nó interno. Um valor baixo pode levar a overfitting, enquanto um valor alto pode levar a underfit.</li>\n",
    "\n",
    "<li><b>min_samples_leaf</b>: número mínimo de amostras necessárias em um nó folha. Um valor baixo pode levar a overfitting, enquanto um valor alto pode levar a underfit.</li>\n",
    "\n",
    "<li><b>max_features</b>: número máximo de features a serem considerados. Um valor alto pode levar a overfitting, enquanto um valor baixo pode levar a underfit.</li>\n",
    "        \n",
    "<li><b>bootstrap</b>: indica se deve ser usado bootstrap para amostragem dos dados de treinamento. O valor padrão é True, o que significa que é usado amostragem com reposição.</li>\n",
    "\n",
    "<li><b>oob_score</b>: indica se deve ser calculado o score out-of-bag (oob) para avaliação do modelo. O score oob é uma estimativa da performance do modelo em dados não vistos, utilizando as amostras que não foram selecionadas para treinamento de cada árvore.</li>\n",
    "    </ul>\n",
    "</div>"
   ]
  }
 ],
 "metadata": {
  "kernelspec": {
   "display_name": "Python 3 (ipykernel)",
   "language": "python",
   "name": "python3"
  },
  "language_info": {
   "codemirror_mode": {
    "name": "ipython",
    "version": 3
   },
   "file_extension": ".py",
   "mimetype": "text/x-python",
   "name": "python",
   "nbconvert_exporter": "python",
   "pygments_lexer": "ipython3",
   "version": "3.10.8"
  }
 },
 "nbformat": 4,
 "nbformat_minor": 5
}
