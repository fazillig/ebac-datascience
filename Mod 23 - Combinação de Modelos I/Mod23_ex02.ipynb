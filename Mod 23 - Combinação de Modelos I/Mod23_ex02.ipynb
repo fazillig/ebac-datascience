{
 "cells": [
  {
   "cell_type": "markdown",
   "id": "8c21a673-bec7-4ced-a4df-5ce579b3a39d",
   "metadata": {},
   "source": [
    "# Tarefa 2"
   ]
  },
  {
   "cell_type": "markdown",
   "id": "f2bdd47a-0e79-4f3f-9c5c-fc1c714d27c2",
   "metadata": {},
   "source": [
    "### 1. Monte um passo a passo para o algoritmo Random Forest"
   ]
  },
  {
   "cell_type": "markdown",
   "id": "7974d14e-75f7-4150-9056-7e1777ea0d88",
   "metadata": {},
   "source": [
    "<div style=\"background: #EEEEF4; padding: 15px 20px; border-radius: 5px; margin-top: 20px\">\n",
    "    <p style=\"font-size: 11px; color: #666; font-weight: bold\">Resposta</p>\n",
    "    <ol>\n",
    "        <li>Definimos o número de árvores que serão usadas no modelo</li>\n",
    "        <li>Para cada uma das árvores do modelo, é necessário treinar a partir do conjunto de treinamento. Esse conjunto de treinamento é feito a partir de amostras aleatórias com um determinado número de Features selecionadas também de forma aleatória</li>\n",
    "        <li>Depois que todas as árvores foram treinadas, elas são usadas para fazer previsões para novos exemplos. Para problemas de classificação, o modelo escolhe a classe que a maioria das árvores votou. Para problemas de regressão, o modelo calcula a média das previsões de todas as árvores.</li>\n",
    "    </ol>\n",
    "</div>"
   ]
  },
  {
   "cell_type": "markdown",
   "id": "38b20d20-f368-490e-a0d0-2f8ab51a910a",
   "metadata": {},
   "source": [
    "### 2. O que é uma Random Forest"
   ]
  },
  {
   "cell_type": "markdown",
   "id": "53dbdb3a-adf8-4bce-9fe8-150c547e0868",
   "metadata": {},
   "source": [
    "<div style=\"background: #EEEEF4; padding: 15px 20px; border-radius: 5px; margin-top: 20px\">\n",
    "    <p style=\"font-size: 11px; color: #666; font-weight: bold\">Resposta</p>\n",
    "    <p>Random Forest é um algoritmo de aprendizado de máquina que combina várias árvores de decisão para criar um modelo robusto e preciso para classificação ou regressão. Cada árvore é treinada em uma amostra aleatória dos dados e a saída é escolhida por meio de uma votação ou média das saídas das árvores individuais.</p>\n",
    "</div>"
   ]
  },
  {
   "cell_type": "markdown",
   "id": "50536f45-7134-4365-81cf-223587801dfb",
   "metadata": {},
   "source": [
    "## 3. Qual a diferença entre Bagging e Random Forest"
   ]
  },
  {
   "cell_type": "markdown",
   "id": "a9dca674-c96a-470c-80d9-9a0712140edd",
   "metadata": {},
   "source": [
    "<div style=\"background: #EEEEF4; padding: 15px 20px; border-radius: 5px; margin-top: 20px\">\n",
    "    <p style=\"font-size: 11px; color: #666; font-weight: bold\">Resposta</p>\n",
    "    <p>Bagging e Random Forest são técnicas de aprendizado de máquina que utilizam o conceito de conjunto de modelos para melhorar o desempenho do modelo final. O Bagging utiliza várias cópias independentes do mesmo modelo de aprendizado de máquina (como árvores de decisão), cada uma treinada em diferentes subconjuntos aleatórios dos dados originais.</p>\n",
    "    <p>Já o Random Forest utiliza várias árvores de decisão, sendo cada uma treinada em diferentes subconjuntos aleatórios dos dados originais e também em diferentes subconjuntos aleatórios das features (colunas).</p>\n",
    "</div>"
   ]
  }
 ],
 "metadata": {
  "kernelspec": {
   "display_name": "Python 3 (ipykernel)",
   "language": "python",
   "name": "python3"
  },
  "language_info": {
   "codemirror_mode": {
    "name": "ipython",
    "version": 3
   },
   "file_extension": ".py",
   "mimetype": "text/x-python",
   "name": "python",
   "nbconvert_exporter": "python",
   "pygments_lexer": "ipython3",
   "version": "3.10.8"
  }
 },
 "nbformat": 4,
 "nbformat_minor": 5
}
