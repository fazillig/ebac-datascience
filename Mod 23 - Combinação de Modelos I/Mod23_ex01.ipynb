{
 "cells": [
  {
   "cell_type": "markdown",
   "id": "8c21a673-bec7-4ced-a4df-5ce579b3a39d",
   "metadata": {},
   "source": [
    "# Tarefa 1"
   ]
  },
  {
   "cell_type": "markdown",
   "id": "f2bdd47a-0e79-4f3f-9c5c-fc1c714d27c2",
   "metadata": {},
   "source": [
    "### 1. Explique com as suas palavras o que é Bagging"
   ]
  },
  {
   "cell_type": "markdown",
   "id": "7974d14e-75f7-4150-9056-7e1777ea0d88",
   "metadata": {},
   "source": [
    "<div style=\"background: #EEEEF4; padding: 15px 20px; border-radius: 5px; margin-top: 20px\">\n",
    "    <p style=\"font-size: 11px; color: #666; font-weight: bold\">Resposta</p>\n",
    "    <p>Ensemble é uma abordagem em Machine Learning que combina vários modelos de aprendizado de máquina para melhorar a precisão das previsões. Existem diversas técnicas de ensemble disponíveis, e uma delas é o Bagging.</p>\n",
    "    <p>No Bagging, são criadas várias amostras aleatórias com reposição a partir do conjunto de dados de treinamento. Cada amostra é utilizada para treinar um modelo individual e, em seguida, as previsões de todos os modelos são agregadas para produzir a predição final.</p>\n",
    "</div>"
   ]
  },
  {
   "cell_type": "markdown",
   "id": "38b20d20-f368-490e-a0d0-2f8ab51a910a",
   "metadata": {},
   "source": [
    "### 2. Monte um passo a passo do processo de Bagging"
   ]
  },
  {
   "cell_type": "markdown",
   "id": "53dbdb3a-adf8-4bce-9fe8-150c547e0868",
   "metadata": {},
   "source": [
    "<div style=\"background: #EEEEF4; padding: 15px 20px; border-radius: 5px; margin-top: 20px\">\n",
    "    <p style=\"font-size: 11px; color: #666; font-weight: bold\">Resposta</p>\n",
    "    <ol>\n",
    "        <li>Definimos o número de modelos que serão treinados e o tamanho das amostras aleatórias que serão criadas</li>\n",
    "        <li>Criamos N amostras aleatórias do conjunto de dados de treinamento, cada uma com tamanho igual ao tamanho definido anteriormente</li>\n",
    "        <li>Treinamos um modelo de aprendizado de máquina base em cada uma das N amostras aleatórias criadas na etapa anterior</li>\n",
    "        <li>Usamos cada um dos N modelos para fazer previsões no conjunto de dados de teste</li>\n",
    "        <li>Agregamos as previsões de todos os N modelos para produzir uma previsão final. A agregação pode ser feita por voto majoritário (para problemas de classificação) ou por média (para problemas de regressão).</li>\n",
    "    </ol>\n",
    "</div>"
   ]
  },
  {
   "cell_type": "markdown",
   "id": "50536f45-7134-4365-81cf-223587801dfb",
   "metadata": {},
   "source": [
    "### 3. Implemente um código que simule esse processo de Bagging"
   ]
  },
  {
   "cell_type": "code",
   "execution_count": 82,
   "id": "e6aef2c0-64b8-40f8-81d6-182e358773e4",
   "metadata": {
    "tags": []
   },
   "outputs": [],
   "source": [
    "import pandas as pd\n",
    "from sklearn.datasets import load_iris\n",
    "from sklearn.model_selection import train_test_split\n",
    "from sklearn.metrics import accuracy_score\n",
    "from sklearn.utils import resample\n",
    "\n",
    "from sklearn.tree import DecisionTreeClassifier"
   ]
  },
  {
   "cell_type": "code",
   "execution_count": 16,
   "id": "639ac022-d49b-4d3e-bbd1-af4287fb0ca4",
   "metadata": {
    "tags": []
   },
   "outputs": [],
   "source": [
    "#Carregando o Dataset Iris\n",
    "iris = load_iris()\n",
    "X = pd.DataFrame(iris.data, columns=iris.feature_names)\n",
    "y = pd.Series(iris.target)"
   ]
  },
  {
   "cell_type": "code",
   "execution_count": 18,
   "id": "4825b4c5-37b3-4080-8e2c-d82aa14d6d0b",
   "metadata": {
    "tags": []
   },
   "outputs": [],
   "source": [
    "#Dividindo em Treino e Test\n",
    "X_train, X_test, y_train, y_test = train_test_split(X, y, random_state=0)"
   ]
  },
  {
   "cell_type": "code",
   "execution_count": 142,
   "id": "eb8d17aa-3c41-4cfd-8bf3-4f0f1adecfac",
   "metadata": {
    "tags": []
   },
   "outputs": [],
   "source": [
    "class Bagging():\n",
    "    \n",
    "    def __init__(self, n_models = 10, n_sample = 50, max_depth=5, random_state=42):\n",
    "        self.n_models = n_models\n",
    "        self.n_sample = n_sample\n",
    "        self.max_depth= max_depth\n",
    "        self.random_state= random_state\n",
    "        self.models_ = []\n",
    "    \n",
    "    def fit(self, X, y):\n",
    "        self.models_ = []\n",
    "        for i in range(self.n_models):\n",
    "            X_sample, y_sample = resample(X, y, n_samples=self.n_sample, random_state=i)\n",
    "            temp_clf = DecisionTreeClassifier(max_depth = self.max_depth, random_state = self.random_state).fit(X_sample, y_sample)\n",
    "            self.models_.append(temp_clf)\n",
    "    \n",
    "    def predict(self, X):\n",
    "        predicts = [model.predict(X) for model in self.models_]\n",
    "        return pd.DataFrame(predicts, columns=X.index).mode().loc[0,:]"
   ]
  },
  {
   "cell_type": "code",
   "execution_count": 143,
   "id": "346088e7-3697-46c2-af5f-67cbd8c0590e",
   "metadata": {
    "tags": []
   },
   "outputs": [
    {
     "name": "stdout",
     "output_type": "stream",
     "text": [
      "Train: 0.9910714285714286\n",
      "Test: 0.9736842105263158\n"
     ]
    }
   ],
   "source": [
    "bg = Bagging(n_models = 20, n_sample = 50)\n",
    "bg.fit(X_train, y_train)\n",
    "print(f\"Train: {accuracy_score(y_train, bg.predict(X_train))}\")\n",
    "print(f\"Test: {accuracy_score(y_test, bg.predict(X_test))}\")"
   ]
  },
  {
   "cell_type": "code",
   "execution_count": 144,
   "id": "063badc8-7ac7-45be-ab46-6fc2a333e21a",
   "metadata": {
    "tags": []
   },
   "outputs": [
    {
     "name": "stdout",
     "output_type": "stream",
     "text": [
      "Train: 1.0\n",
      "Test: 0.9736842105263158\n"
     ]
    }
   ],
   "source": [
    "clf = DecisionTreeClassifier()\n",
    "clf.fit(X_train, y_train)\n",
    "\n",
    "print(f\"Train: {accuracy_score(y_train, clf.predict(X_train))}\")\n",
    "print(f\"Test: {accuracy_score(y_test, clf.predict(X_test))}\")"
   ]
  },
  {
   "cell_type": "code",
   "execution_count": null,
   "id": "cd97ad2a-d811-4cab-ab35-b9f90e6a3f6a",
   "metadata": {},
   "outputs": [],
   "source": []
  }
 ],
 "metadata": {
  "kernelspec": {
   "display_name": "Python 3 (ipykernel)",
   "language": "python",
   "name": "python3"
  },
  "language_info": {
   "codemirror_mode": {
    "name": "ipython",
    "version": 3
   },
   "file_extension": ".py",
   "mimetype": "text/x-python",
   "name": "python",
   "nbconvert_exporter": "python",
   "pygments_lexer": "ipython3",
   "version": "3.10.8"
  }
 },
 "nbformat": 4,
 "nbformat_minor": 5
}
