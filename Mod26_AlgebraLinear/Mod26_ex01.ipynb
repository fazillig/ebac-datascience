{
 "cells": [
  {
   "cell_type": "markdown",
   "metadata": {},
   "source": [
    "# Tarefa - Álgebra Linear\n",
    "\n",
    "A célula abaixo gera dados de notas de duas provas, p1 e p2, conforme em aula, mas com mais alunos."
   ]
  },
  {
   "cell_type": "code",
   "execution_count": 21,
   "metadata": {},
   "outputs": [
    {
     "data": {
      "text/html": [
       "<div>\n",
       "<style scoped>\n",
       "    .dataframe tbody tr th:only-of-type {\n",
       "        vertical-align: middle;\n",
       "    }\n",
       "\n",
       "    .dataframe tbody tr th {\n",
       "        vertical-align: top;\n",
       "    }\n",
       "\n",
       "    .dataframe thead th {\n",
       "        text-align: right;\n",
       "    }\n",
       "</style>\n",
       "<table border=\"1\" class=\"dataframe\">\n",
       "  <thead>\n",
       "    <tr style=\"text-align: right;\">\n",
       "      <th></th>\n",
       "      <th>p1</th>\n",
       "      <th>p2</th>\n",
       "    </tr>\n",
       "  </thead>\n",
       "  <tbody>\n",
       "    <tr>\n",
       "      <th>0</th>\n",
       "      <td>6.964692</td>\n",
       "      <td>7.943428</td>\n",
       "    </tr>\n",
       "    <tr>\n",
       "      <th>1</th>\n",
       "      <td>2.861393</td>\n",
       "      <td>5.099537</td>\n",
       "    </tr>\n",
       "    <tr>\n",
       "      <th>2</th>\n",
       "      <td>2.268515</td>\n",
       "      <td>0.974429</td>\n",
       "    </tr>\n",
       "    <tr>\n",
       "      <th>3</th>\n",
       "      <td>5.513148</td>\n",
       "      <td>4.474359</td>\n",
       "    </tr>\n",
       "    <tr>\n",
       "      <th>4</th>\n",
       "      <td>7.194690</td>\n",
       "      <td>8.938402</td>\n",
       "    </tr>\n",
       "  </tbody>\n",
       "</table>\n",
       "</div>"
      ],
      "text/plain": [
       "         p1        p2\n",
       "0  6.964692  7.943428\n",
       "1  2.861393  5.099537\n",
       "2  2.268515  0.974429\n",
       "3  5.513148  4.474359\n",
       "4  7.194690  8.938402"
      ]
     },
     "execution_count": 21,
     "metadata": {},
     "output_type": "execute_result"
    }
   ],
   "source": [
    "import pandas as pd\n",
    "import seaborn as sns\n",
    "import numpy as np\n",
    "import matplotlib.pyplot as plt\n",
    "\n",
    "%matplotlib inline\n",
    "\n",
    "# Gerando os dados\n",
    "np.random.seed(123)\n",
    "\n",
    "p1 = np.random.random(50) *10\n",
    "p1[p1>10] = 10\n",
    "p1[p1<0] = 0\n",
    "\n",
    "p2 = p1 + np.random.normal(0,1,50)\n",
    "p2[p2>10] = 10\n",
    "p2[p2<0] = 0\n",
    "\n",
    "df = pd.DataFrame({'p1': p1, 'p2': p2})\n",
    "df.head()"
   ]
  },
  {
   "cell_type": "markdown",
   "metadata": {},
   "source": [
    "## 1. Reduzindo correlações\n",
    "\n",
    "a) Já vimos que expressar os dados através da média e diferença é uma transformação linear. Obtenha a média e a diferença através de uma multiplicação matricial, conforme visto em aula."
   ]
  },
  {
   "cell_type": "code",
   "execution_count": 31,
   "metadata": {},
   "outputs": [
    {
     "data": {
      "text/html": [
       "<div>\n",
       "<style scoped>\n",
       "    .dataframe tbody tr th:only-of-type {\n",
       "        vertical-align: middle;\n",
       "    }\n",
       "\n",
       "    .dataframe tbody tr th {\n",
       "        vertical-align: top;\n",
       "    }\n",
       "\n",
       "    .dataframe thead th {\n",
       "        text-align: right;\n",
       "    }\n",
       "</style>\n",
       "<table border=\"1\" class=\"dataframe\">\n",
       "  <thead>\n",
       "    <tr style=\"text-align: right;\">\n",
       "      <th></th>\n",
       "      <th>p1</th>\n",
       "      <th>p2</th>\n",
       "      <th>media</th>\n",
       "      <th>diff</th>\n",
       "      <th>media_transf</th>\n",
       "      <th>diff_transf</th>\n",
       "    </tr>\n",
       "  </thead>\n",
       "  <tbody>\n",
       "    <tr>\n",
       "      <th>0</th>\n",
       "      <td>6.964692</td>\n",
       "      <td>7.943428</td>\n",
       "      <td>7.454060</td>\n",
       "      <td>0.978736</td>\n",
       "      <td>7.454060</td>\n",
       "      <td>0.978736</td>\n",
       "    </tr>\n",
       "    <tr>\n",
       "      <th>1</th>\n",
       "      <td>2.861393</td>\n",
       "      <td>5.099537</td>\n",
       "      <td>3.980465</td>\n",
       "      <td>2.238143</td>\n",
       "      <td>3.980465</td>\n",
       "      <td>2.238143</td>\n",
       "    </tr>\n",
       "    <tr>\n",
       "      <th>2</th>\n",
       "      <td>2.268515</td>\n",
       "      <td>0.974429</td>\n",
       "      <td>1.621472</td>\n",
       "      <td>-1.294085</td>\n",
       "      <td>1.621472</td>\n",
       "      <td>-1.294085</td>\n",
       "    </tr>\n",
       "    <tr>\n",
       "      <th>3</th>\n",
       "      <td>5.513148</td>\n",
       "      <td>4.474359</td>\n",
       "      <td>4.993754</td>\n",
       "      <td>-1.038788</td>\n",
       "      <td>4.993754</td>\n",
       "      <td>-1.038788</td>\n",
       "    </tr>\n",
       "    <tr>\n",
       "      <th>4</th>\n",
       "      <td>7.194690</td>\n",
       "      <td>8.938402</td>\n",
       "      <td>8.066546</td>\n",
       "      <td>1.743712</td>\n",
       "      <td>8.066546</td>\n",
       "      <td>1.743712</td>\n",
       "    </tr>\n",
       "  </tbody>\n",
       "</table>\n",
       "</div>"
      ],
      "text/plain": [
       "         p1        p2     media      diff  media_transf  diff_transf\n",
       "0  6.964692  7.943428  7.454060  0.978736      7.454060     0.978736\n",
       "1  2.861393  5.099537  3.980465  2.238143      3.980465     2.238143\n",
       "2  2.268515  0.974429  1.621472 -1.294085      1.621472    -1.294085\n",
       "3  5.513148  4.474359  4.993754 -1.038788      4.993754    -1.038788\n",
       "4  7.194690  8.938402  8.066546  1.743712      8.066546     1.743712"
      ]
     },
     "execution_count": 31,
     "metadata": {},
     "output_type": "execute_result"
    }
   ],
   "source": [
    "df['media'] = (df['p1'] + df['p2'])/2\n",
    "df['diff'] = df['p2'] - df['p1']\n",
    "\n",
    "T_matrix = np.array([[ .5, .5], [ -1, 1]])\n",
    "mult_matrix = np.matmul(T_matrix, df[['p1', 'p2']].to_numpy().transpose())\n",
    "df_transform = pd.DataFrame(mult_matrix.T, columns=['media_transf', 'diff_transf'])\n",
    "df = pd.concat([df, df_transform], axis=1)\n",
    "\n",
    "df.head()"
   ]
  },
  {
   "cell_type": "markdown",
   "metadata": {},
   "source": [
    "b) Calcule a correlação entre os dados da **p1** e **p2**"
   ]
  },
  {
   "cell_type": "code",
   "execution_count": 35,
   "metadata": {},
   "outputs": [
    {
     "data": {
      "text/plain": [
       "<AxesSubplot:>"
      ]
     },
     "execution_count": 35,
     "metadata": {},
     "output_type": "execute_result"
    },
    {
     "data": {
      "image/png": "[encoded data removed]",
      "text/plain": [
       "<Figure size 640x480 with 2 Axes>"
      ]
     },
     "metadata": {},
     "output_type": "display_data"
    }
   ],
   "source": [
    "sns.heatmap(df[['p1', 'p2']].corr(), annot=True)"
   ]
  },
  {
   "cell_type": "markdown",
   "metadata": {},
   "source": [
    "c) Calcule a correlação entre os dados transformados (média e diferença)"
   ]
  },
  {
   "cell_type": "code",
   "execution_count": 38,
   "metadata": {},
   "outputs": [
    {
     "data": {
      "text/plain": [
       "<AxesSubplot:>"
      ]
     },
     "execution_count": 38,
     "metadata": {},
     "output_type": "execute_result"
    },
    {
     "data": {
      "image/png": "[encoded data removed]",
      "text/plain": [
       "<Figure size 640x480 with 2 Axes>"
      ]
     },
     "metadata": {},
     "output_type": "display_data"
    }
   ],
   "source": [
    "sns.heatmap(df[['media_transf', 'diff_transf']].corr(), annot=True)"
   ]
  },
  {
   "cell_type": "markdown",
   "metadata": {},
   "source": [
    "## 2. Soma e diferença\n",
    "\n",
    "Realize agora uma transformação semelhante, mas que ao invés da média, dê a soma da **p1** e **p2**. Construa o gráfico e conclua que diferenças visuais você observa."
   ]
  },
  {
   "cell_type": "code",
   "execution_count": 39,
   "metadata": {},
   "outputs": [
    {
     "data": {
      "text/html": [
       "<div>\n",
       "<style scoped>\n",
       "    .dataframe tbody tr th:only-of-type {\n",
       "        vertical-align: middle;\n",
       "    }\n",
       "\n",
       "    .dataframe tbody tr th {\n",
       "        vertical-align: top;\n",
       "    }\n",
       "\n",
       "    .dataframe thead th {\n",
       "        text-align: right;\n",
       "    }\n",
       "</style>\n",
       "<table border=\"1\" class=\"dataframe\">\n",
       "  <thead>\n",
       "    <tr style=\"text-align: right;\">\n",
       "      <th></th>\n",
       "      <th>p1</th>\n",
       "      <th>p2</th>\n",
       "      <th>media</th>\n",
       "      <th>diff</th>\n",
       "      <th>media_transf</th>\n",
       "      <th>diff_transf</th>\n",
       "      <th>sum</th>\n",
       "      <th>sum_transf</th>\n",
       "    </tr>\n",
       "  </thead>\n",
       "  <tbody>\n",
       "    <tr>\n",
       "      <th>0</th>\n",
       "      <td>6.964692</td>\n",
       "      <td>7.943428</td>\n",
       "      <td>7.454060</td>\n",
       "      <td>0.978736</td>\n",
       "      <td>7.454060</td>\n",
       "      <td>0.978736</td>\n",
       "      <td>14.908120</td>\n",
       "      <td>14.908120</td>\n",
       "    </tr>\n",
       "    <tr>\n",
       "      <th>1</th>\n",
       "      <td>2.861393</td>\n",
       "      <td>5.099537</td>\n",
       "      <td>3.980465</td>\n",
       "      <td>2.238143</td>\n",
       "      <td>3.980465</td>\n",
       "      <td>2.238143</td>\n",
       "      <td>7.960930</td>\n",
       "      <td>7.960930</td>\n",
       "    </tr>\n",
       "    <tr>\n",
       "      <th>2</th>\n",
       "      <td>2.268515</td>\n",
       "      <td>0.974429</td>\n",
       "      <td>1.621472</td>\n",
       "      <td>-1.294085</td>\n",
       "      <td>1.621472</td>\n",
       "      <td>-1.294085</td>\n",
       "      <td>3.242944</td>\n",
       "      <td>3.242944</td>\n",
       "    </tr>\n",
       "    <tr>\n",
       "      <th>3</th>\n",
       "      <td>5.513148</td>\n",
       "      <td>4.474359</td>\n",
       "      <td>4.993754</td>\n",
       "      <td>-1.038788</td>\n",
       "      <td>4.993754</td>\n",
       "      <td>-1.038788</td>\n",
       "      <td>9.987507</td>\n",
       "      <td>9.987507</td>\n",
       "    </tr>\n",
       "    <tr>\n",
       "      <th>4</th>\n",
       "      <td>7.194690</td>\n",
       "      <td>8.938402</td>\n",
       "      <td>8.066546</td>\n",
       "      <td>1.743712</td>\n",
       "      <td>8.066546</td>\n",
       "      <td>1.743712</td>\n",
       "      <td>16.133092</td>\n",
       "      <td>16.133092</td>\n",
       "    </tr>\n",
       "  </tbody>\n",
       "</table>\n",
       "</div>"
      ],
      "text/plain": [
       "         p1        p2     media      diff  media_transf  diff_transf  \\\n",
       "0  6.964692  7.943428  7.454060  0.978736      7.454060     0.978736   \n",
       "1  2.861393  5.099537  3.980465  2.238143      3.980465     2.238143   \n",
       "2  2.268515  0.974429  1.621472 -1.294085      1.621472    -1.294085   \n",
       "3  5.513148  4.474359  4.993754 -1.038788      4.993754    -1.038788   \n",
       "4  7.194690  8.938402  8.066546  1.743712      8.066546     1.743712   \n",
       "\n",
       "         sum  sum_transf  \n",
       "0  14.908120   14.908120  \n",
       "1   7.960930    7.960930  \n",
       "2   3.242944    3.242944  \n",
       "3   9.987507    9.987507  \n",
       "4  16.133092   16.133092  "
      ]
     },
     "execution_count": 39,
     "metadata": {},
     "output_type": "execute_result"
    }
   ],
   "source": [
    "df['sum'] = df['p1'] + df['p2']\n",
    "\n",
    "T_matrix = np.array([[1, 1]])\n",
    "mult_matrix = np.matmul(T_matrix, df[['p1', 'p2']].to_numpy().transpose())\n",
    "df_transform = pd.DataFrame(mult_matrix.T, columns=['sum_transf'])\n",
    "df = pd.concat([df, df_transform], axis=1)\n",
    "\n",
    "df.head()"
   ]
  },
  {
   "cell_type": "code",
   "execution_count": 44,
   "metadata": {},
   "outputs": [],
   "source": [
    "def translin(m):\n",
    "    fig = plt.figure(figsize=(10, 10))\n",
    "    ax = fig.add_subplot(1,1,1)\n",
    "\n",
    "    xmin = -2\n",
    "    xmax = df.p1.max()*1.1\n",
    "    ymin = -2\n",
    "    ymax = (df.p2.max()+df.p1.max())*1.1\n",
    "\n",
    "    ax.axis('equal')\n",
    "    ax.set_aspect('equal', 'box')\n",
    "    ax.set(xlim=(xmin, xmax), ylim=(ymin, ymax))\n",
    "\n",
    "    lista_xticks = list(range(int(xmin), int(xmax)+1))\n",
    "    ticksx = ax.set_xticks(lista_xticks)\n",
    "    labelsx = ax.set_xticklabels(lista_xticks, fontsize='large')\n",
    "\n",
    "    lista_yticks = list(range(int(ymin), int(ymax)+1))\n",
    "    ticksy = ax.set_yticks(lista_yticks)\n",
    "    labelsy = ax.set_yticklabels(lista_yticks, fontsize='large')\n",
    "    \n",
    "    #Transformação linear\n",
    "    df_rot = np.matmul(m, df[['p1', 'p2']].to_numpy().transpose())\n",
    "\n",
    "    ax.axvline(0, linewidth=.5, linestyle='--')\n",
    "    ax.axhline(0, linewidth=.5, linestyle='--')\n",
    "\n",
    "    ax.arrow(0, 0, m[0,0], m[0,1]\n",
    "             , head_width=0.25\n",
    "             , head_length=0.1\n",
    "             , fc='g', ec='g', \n",
    "             length_includes_head=True)\n",
    "\n",
    "    ax.arrow(0, 0, m[1,0], m[1,1]\n",
    "             , head_width=0.25\n",
    "             , head_length=0.1\n",
    "             , fc='r', ec='r', \n",
    "             length_includes_head=True)\n",
    "\n",
    "    plt.scatter(x = df.p1, y=df.p2, label = 'originais')\n",
    "    plt.scatter(df_rot[0,:], df_rot[1,:], label='rotação')\n",
    "\n",
    "    ax.legend(loc='upper left')"
   ]
  },
  {
   "cell_type": "code",
   "execution_count": 45,
   "metadata": {},
   "outputs": [
    {
     "data": {
      "image/png": "[encoded data removed]",
      "text/plain": [
       "<Figure size 1000x1000 with 1 Axes>"
      ]
     },
     "metadata": {},
     "output_type": "display_data"
    }
   ],
   "source": [
    "t = np.array([[ 0, 0],\n",
    "              [ 1, 1]])\n",
    "translin(t)"
   ]
  },
  {
   "cell_type": "code",
   "execution_count": null,
   "metadata": {},
   "outputs": [],
   "source": []
  }
 ],
 "metadata": {
  "kernelspec": {
   "display_name": "Python 3 (ipykernel)",
   "language": "python",
   "name": "python3"
  },
  "language_info": {
   "codemirror_mode": {
    "name": "ipython",
    "version": 3
   },
   "file_extension": ".py",
   "mimetype": "text/x-python",
   "name": "python",
   "nbconvert_exporter": "python",
   "pygments_lexer": "ipython3",
   "version": "3.9.13"
  },
  "toc": {
   "base_numbering": 1,
   "nav_menu": {},
   "number_sections": false,
   "sideBar": true,
   "skip_h1_title": false,
   "title_cell": "Índice",
   "title_sidebar": "Conteúdo",
   "toc_cell": false,
   "toc_position": {
    "height": "calc(100% - 180px)",
    "left": "10px",
    "top": "150px",
    "width": "257.6px"
   },
   "toc_section_display": true,
   "toc_window_display": false
  },
  "varInspector": {
   "cols": {
    "lenName": 16,
    "lenType": 16,
    "lenVar": 40
   },
   "kernels_config": {
    "python": {
     "delete_cmd_postfix": "",
     "delete_cmd_prefix": "del ",
     "library": "var_list.py",
     "varRefreshCmd": "print(var_dic_list())"
    },
    "r": {
     "delete_cmd_postfix": ") ",
     "delete_cmd_prefix": "rm(",
     "library": "var_list.r",
     "varRefreshCmd": "cat(var_dic_list()) "
    }
   },
   "types_to_exclude": [
    "module",
    "function",
    "builtin_function_or_method",
    "instance",
    "_Feature"
   ],
   "window_display": false
  }
 },
 "nbformat": 4,
 "nbformat_minor": 4
}
